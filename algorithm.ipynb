{
 "cells": [
  {
   "cell_type": "code",
   "execution_count": null,
   "id": "491bec19",
   "metadata": {},
   "outputs": [
    {
     "name": "stdout",
     "output_type": "stream",
     "text": [
      "[1, 2, 3, 4]\n"
     ]
    }
   ],
   "source": [
    "# 버블 정렬 코드\n",
    "arr = [2, 4, 1, 3]  # 정렬하고자 하는 리스트의 길이가 4니까?\n",
    "\n",
    "for i in range(len(arr)-1, 0, -1):  # 총 3회 시행, \n",
    "    for j in range(i): # 각 시행 횟수 안에서, 3 2 1 번씩 비교 할것 \n",
    "        if arr[j] > arr[j+1]: # 내가 오른쪽 녀석보다 크다면?\n",
    "            arr[j], arr[j+1] = arr[j+1], arr[j]  # 자리를 바꾼다!\n",
    "\n",
    "print(arr)"
   ]
  },
  {
   "cell_type": "code",
   "execution_count": 2,
   "id": "7dc2efd0",
   "metadata": {},
   "outputs": [
    {
     "name": "stdout",
     "output_type": "stream",
     "text": [
      "False\n"
     ]
    }
   ],
   "source": [
    "# 2 투 포인터 알고리즘 활용\n",
    "word = input('단어를 입력하세요: ')\n",
    "\n",
    "left = 0 # 시작 인덱스\n",
    "right = len(word)-1 # 마지막 인덱스\n",
    "\n",
    "is_palindrome = True\n",
    "while left < right:  # 왼쪽과 오른쪽이 유지될때까지 돌아라!\n",
    "    if word[left] == word[right]:  # 같은 경우라면 아직은 회문 조건을 만족함\n",
    "        left += 1  # 왼쪽 포인터를 한칸 오른쪽으로 증가시키고\n",
    "        right -= 1  # 오른쪽 포인터를 한 칸 왼쪽으로 감소\n",
    "        continue\n",
    "    else:  # 다른 경우라면 그 즉시 안된다고 표시하고 break\n",
    "        is_palindrome = False\n",
    "        break\n",
    "\n",
    "print(is_palindrome)"
   ]
  },
  {
   "cell_type": "code",
   "execution_count": 21,
   "id": "71fd834d",
   "metadata": {},
   "outputs": [
    {
     "name": "stdout",
     "output_type": "stream",
     "text": [
      "(2, 5)\n"
     ]
    }
   ],
   "source": [
    "nums = [1, 3, 2, 2, 1, 2, 3, 1, 1, 2, 3, 2]\n",
    "\n",
    "cnt = {}\n",
    "\n",
    "for num in nums:\n",
    "    cnt[num] = cnt.get(num, 0) + 1\n",
    "\n",
    "answer = sorted(cnt.items(), key=lambda x: -x[1])\n",
    "    \n",
    "print(answer[0])\n",
    "\n"
   ]
  },
  {
   "cell_type": "code",
   "execution_count": 20,
   "id": "51682e81",
   "metadata": {},
   "outputs": [
    {
     "name": "stdout",
     "output_type": "stream",
     "text": [
      "[2, 1, 3]\n"
     ]
    }
   ],
   "source": [
    "nums = [1, 3, 2, 2, 1, 2, 3, 1, 1, 2, 3, 2]\n",
    "\n",
    "cnt = {}\n",
    "\n",
    "for num in nums:\n",
    "    cnt[num] = cnt.get(num, 0) + 1\n",
    "\n",
    "votes = sorted(cnt.items(), key=lambda x: -x[1])\n",
    "answer = [v[0] for v in votes]\n",
    "    \n",
    "print(answer)\n",
    "\n"
   ]
  },
  {
   "cell_type": "code",
   "execution_count": 27,
   "id": "cbf4dfbc",
   "metadata": {},
   "outputs": [
    {
     "data": {
      "text/plain": [
       "1"
      ]
     },
     "execution_count": 27,
     "metadata": {},
     "output_type": "execute_result"
    }
   ],
   "source": [
    "def solution(numbers):\n",
    "\n",
    "    cnt = {}\n",
    "\n",
    "    for num in numbers:\n",
    "        cnt[num] = cnt.get(num, 0) + 1\n",
    "\n",
    "    for answer, c in cnt.items():\n",
    "        if c == 1:\n",
    "            return answer\n",
    "\n",
    "solution([77,1,77])"
   ]
  }
 ],
 "metadata": {
  "kernelspec": {
   "display_name": "Python 3",
   "language": "python",
   "name": "python3"
  },
  "language_info": {
   "codemirror_mode": {
    "name": "ipython",
    "version": 3
   },
   "file_extension": ".py",
   "mimetype": "text/x-python",
   "name": "python",
   "nbconvert_exporter": "python",
   "pygments_lexer": "ipython3",
   "version": "3.13.2"
  }
 },
 "nbformat": 4,
 "nbformat_minor": 5
}
