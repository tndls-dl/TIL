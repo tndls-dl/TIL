{
 "cells": [
  {
   "cell_type": "code",
   "execution_count": null,
   "id": "491bec19",
   "metadata": {},
   "outputs": [
    {
     "name": "stdout",
     "output_type": "stream",
     "text": [
      "[1, 2, 3, 4]\n"
     ]
    }
   ],
   "source": [
    "# 버블 정렬 코드\n",
    "arr = [2, 4, 1, 3]  # 정렬하고자 하는 리스트의 길이가 4니까?\n",
    "\n",
    "for i in range(len(arr)-1, 0, -1):  # 총 3회 시행, \n",
    "    for j in range(i): # 각 시행 횟수 안에서, 3 2 1 번씩 비교 할것 \n",
    "        if arr[j] > arr[j+1]: # 내가 오른쪽 녀석보다 크다면?\n",
    "            arr[j], arr[j+1] = arr[j+1], arr[j]  # 자리를 바꾼다!\n",
    "\n",
    "print(arr)"
   ]
  },
  {
   "cell_type": "code",
   "execution_count": 2,
   "id": "7dc2efd0",
   "metadata": {},
   "outputs": [
    {
     "name": "stdout",
     "output_type": "stream",
     "text": [
      "False\n"
     ]
    }
   ],
   "source": [
    "# 2 투 포인터 알고리즘 활용\n",
    "word = input('단어를 입력하세요: ')\n",
    "\n",
    "left = 0 # 시작 인덱스\n",
    "right = len(word)-1 # 마지막 인덱스\n",
    "\n",
    "is_palindrome = True\n",
    "while left < right:  # 왼쪽과 오른쪽이 유지될때까지 돌아라!\n",
    "    if word[left] == word[right]:  # 같은 경우라면 아직은 회문 조건을 만족함\n",
    "        left += 1  # 왼쪽 포인터를 한칸 오른쪽으로 증가시키고\n",
    "        right -= 1  # 오른쪽 포인터를 한 칸 왼쪽으로 감소\n",
    "        continue\n",
    "    else:  # 다른 경우라면 그 즉시 안된다고 표시하고 break\n",
    "        is_palindrome = False\n",
    "        break\n",
    "\n",
    "print(is_palindrome)"
   ]
  },
  {
   "cell_type": "code",
   "execution_count": 21,
   "id": "71fd834d",
   "metadata": {},
   "outputs": [
    {
     "name": "stdout",
     "output_type": "stream",
     "text": [
      "(2, 5)\n"
     ]
    }
   ],
   "source": [
    "nums = [1, 3, 2, 2, 1, 2, 3, 1, 1, 2, 3, 2]\n",
    "\n",
    "cnt = {}\n",
    "\n",
    "for num in nums:\n",
    "    cnt[num] = cnt.get(num, 0) + 1\n",
    "\n",
    "answer = sorted(cnt.items(), key=lambda x: -x[1])\n",
    "    \n",
    "print(answer[0])\n",
    "\n"
   ]
  },
  {
   "cell_type": "code",
   "execution_count": 20,
   "id": "51682e81",
   "metadata": {},
   "outputs": [
    {
     "name": "stdout",
     "output_type": "stream",
     "text": [
      "[2, 1, 3]\n"
     ]
    }
   ],
   "source": [
    "nums = [1, 3, 2, 2, 1, 2, 3, 1, 1, 2, 3, 2]\n",
    "\n",
    "cnt = {}\n",
    "\n",
    "for num in nums:\n",
    "    cnt[num] = cnt.get(num, 0) + 1\n",
    "\n",
    "votes = sorted(cnt.items(), key=lambda x: -x[1])\n",
    "answer = [v[0] for v in votes]\n",
    "    \n",
    "print(answer)\n",
    "\n"
   ]
  },
  {
   "cell_type": "code",
   "execution_count": 27,
   "id": "cbf4dfbc",
   "metadata": {},
   "outputs": [
    {
     "data": {
      "text/plain": [
       "1"
      ]
     },
     "execution_count": 27,
     "metadata": {},
     "output_type": "execute_result"
    }
   ],
   "source": [
    "def solution(numbers):\n",
    "\n",
    "    cnt = {}\n",
    "\n",
    "    for num in numbers:\n",
    "        cnt[num] = cnt.get(num, 0) + 1\n",
    "\n",
    "    for answer, c in cnt.items():\n",
    "        if c == 1:\n",
    "            return answer\n",
    "\n",
    "solution([77,1,77])"
   ]
  },
  {
   "cell_type": "code",
   "execution_count": 2,
   "id": "2f955adb",
   "metadata": {},
   "outputs": [
    {
     "name": "stdout",
     "output_type": "stream",
     "text": [
      "21\n"
     ]
    }
   ],
   "source": [
    "N, K = map(int, input().split())\n",
    "\n",
    "temperatures = list(map(int, input().split()))\n",
    "\n",
    "current_sum = sum(temperatures[0:K])\n",
    "max_sum = current_sum\n",
    "\n",
    "for i in range(K, N):\n",
    "    current_sum = current_sum - temperatures[i-K] + temperatures[i]\n",
    "    max_sum = max(max_sum, current_sum)\n",
    "\n",
    "print(max_sum)"
   ]
  },
  {
   "cell_type": "code",
   "execution_count": 3,
   "id": "9dd7e425",
   "metadata": {},
   "outputs": [
    {
     "name": "stdout",
     "output_type": "stream",
     "text": [
      "12\n",
      "9\n",
      "1\n"
     ]
    }
   ],
   "source": [
    "N, M = map(int, input().split())\n",
    "\n",
    "A = list(map(int, input().split()))\n",
    "\n",
    "prefix_sum = [0] * (N + 1) \n",
    "\n",
    "current_sum = 0\n",
    "\n",
    "for k in range(N):\n",
    "    current_sum += A[k]\n",
    "    prefix_sum[k+1] = current_sum\n",
    "    \n",
    "for _ in range(M):\n",
    "    i, j = map(int, input().split())\n",
    "    interval_sum = prefix_sum[j] - prefix_sum[i-1]\n",
    "    \n",
    "    print(interval_sum)"
   ]
  },
  {
   "cell_type": "code",
   "execution_count": 4,
   "id": "8a33f2f0",
   "metadata": {},
   "outputs": [
    {
     "name": "stdout",
     "output_type": "stream",
     "text": [
      "3\n"
     ]
    }
   ],
   "source": [
    "nums = [1, 2, 3, 4, 2, 5, 3, 1, 1, 2]\n",
    "\n",
    "cnt = 0                         # 경우의 수를 세어줄 변수\n",
    "\n",
    "for i in range(10):\n",
    "    tmp = 0                     # i번째 수부터 합을 계산할 변수\n",
    "    for j in range(i, 10):\n",
    "        tmp += nums[j]\n",
    "        if tmp == 5:            # 찾았으면 cnt+=1\n",
    "            cnt += 1\n",
    "        elif tmp > 5:           # 5보다 커지면 더이상 탐색할 필요 없음\n",
    "            break\n",
    "\n",
    "print(cnt)"
   ]
  },
  {
   "cell_type": "code",
   "execution_count": null,
   "id": "6a4766a5",
   "metadata": {},
   "outputs": [
    {
     "name": "stdout",
     "output_type": "stream",
     "text": [
      "3\n"
     ]
    }
   ],
   "source": [
    "document = input()\n",
    "word = input()\n",
    "\n",
    "i = 0\n",
    "cnt = 0\n",
    "\n",
    "while i <= len(document) - len(word):\n",
    "    current_slice = document[i : i + len(word)]\n",
    "    \n",
    "    if current_slice == word:\n",
    "        cnt += 1\n",
    "        i += len(word)\n",
    "\n",
    "    else:\n",
    "        i += 1\n",
    "\n",
    "print(cnt)"
   ]
  },
  {
   "cell_type": "code",
   "execution_count": 1,
   "id": "5d717313",
   "metadata": {},
   "outputs": [
    {
     "name": "stdout",
     "output_type": "stream",
     "text": [
      "2 8 4 6 "
     ]
    }
   ],
   "source": [
    "# 중간 지점에서 4방향 탐색하기\n",
    "\n",
    "M = [[1, 2, 3], [4, 5, 6], [7, 8, 9]]\n",
    "r = c = 1\n",
    "\n",
    "dr = [-1, 1, 0, 0]              # 상, 하, 좌, 우\n",
    "dc = [0, 0, -1, 1]\n",
    "\n",
    "for i in range(4):              # 4방향 탐색\n",
    "    nr = r + dr[i]              # 새로운 행 좌표 찍기\n",
    "    nc = c + dc[i]              # 새로운 열 좌표 찍기\n",
    "    print(M[nr][nc], end=' ')   # 2 8 4 6"
   ]
  },
  {
   "cell_type": "code",
   "execution_count": null,
   "id": "d7205ba4",
   "metadata": {},
   "outputs": [
    {
     "name": "stdout",
     "output_type": "stream",
     "text": [
      "6 8 "
     ]
    }
   ],
   "source": [
    "# 모서리에서 탐색하기\n",
    "\n",
    "M = [[1, 2, 3], [4, 5, 6], [7, 8, 9]]\n",
    "r = c = 2                               # 오른쪽 아래(2, 2)에서 시작\n",
    "\n",
    "dr = [-1, 1, 0, 0]                      # 상, 하, 좌, 우\n",
    "dc = [0, 0, -1, 1]\n",
    "\n",
    "for i in range(4):                      # 4방향 탐색\n",
    "    nr = r + dr[i]                      # 새로운 행 좌표 찍기\n",
    "    nc = c + dc[i]                      # 새로운 열 좌표 찍기\n",
    "\n",
    "    if 0 <= nr < 3 and 0 <= nc < 3:     # 인덱스 유효성 검사\n",
    "        print(M[nr][nc], end=' ')       # 6, 8"
   ]
  },
  {
   "cell_type": "code",
   "execution_count": 3,
   "id": "b90d1e57",
   "metadata": {},
   "outputs": [],
   "source": [
    "# (1, 2) (3, 2) (2, 1) (2, 3)\n",
    "\n",
    "# -> (3, 2)랑 (2, 3)은 인덱스 유효성 검사에서 탈락\n",
    "# -> 6 (1, 2), 8 (2, 1)만 OK"
   ]
  },
  {
   "cell_type": "code",
   "execution_count": null,
   "id": "eb53ab3b",
   "metadata": {},
   "outputs": [
    {
     "data": {
      "text/plain": [
       "[2, 2]"
      ]
     },
     "execution_count": 5,
     "metadata": {},
     "output_type": "execute_result"
    }
   ],
   "source": [
    "# 실습용 로봇\n",
    "# 컴퓨터공학과에서는 실습용 로봇을 이용해서 로봇 프로그래밍을 학습합니다. 실습용 로봇은 입력된 명령에 따라 x좌표와 y좌표로 표현되는 2차원 좌표 평면 위를 이동합니다. 하나의 명령은 하나의 문자로 주어지며 각 명령어에 따라 로봇이 수행하는 일은 다음과 같이 네 종류입니다.\n",
    "\n",
    "# 'R': 로봇이 오른쪽으로 90도 회전합니다.\n",
    "# 'L': 로봇이 왼쪽으로 90도 회전합니다.\n",
    "# 'G': 로봇이 한 칸 전진합니다.\n",
    "# 'B': 로봇이 한 칸 후진합니다.\n",
    "\n",
    "\n",
    "# 오른쪽으로 90도 회전 -> 방향 인덱스는 변화 : 오른쪽이니까 +1 / 위치 변화는 없음\n",
    "# 왼쪽으로 90도 회전 ->  방향 인덱스는 변화 : 왼쪽이니까 -1 / 위치 변화는 없음\n",
    "# 한 칸 전진 -> 현재 방향으로 이동 -> \n",
    "# 한 칸 후진 -> 현재 반대 방향으로 이동\n",
    "\n",
    "def solution(command):\n",
    "    x = y = d = 0  # 초기 좌표와 방향\n",
    "    dx = [0, 1, 0, -1]  # 상 우 하 좌\n",
    "    dy = [1, 0, -1, 0]\n",
    "\n",
    "    for move in command:\n",
    "        if move == \"R\":\n",
    "            d += 1\n",
    "        elif move == \"L\":\n",
    "            d -= 1\n",
    "        elif move == \"G\":\n",
    "            x += dx[d % 4]\n",
    "            y += dy[d % 4]\n",
    "        elif move == \"B\":\n",
    "            x -= dx[d % 4]\n",
    "            y -= dy[d % 4]\n",
    "\n",
    "    return [x, y]\n",
    "\n",
    "solution(\"GRGLGRG\")"
   ]
  },
  {
   "cell_type": "code",
   "execution_count": null,
   "id": "c522054d",
   "metadata": {},
   "outputs": [
    {
     "data": {
      "text/plain": [
       "[[1, 2, 3, 4, 5],\n",
       " [16, 17, 18, 19, 6],\n",
       " [15, 24, 25, 20, 7],\n",
       " [14, 23, 22, 21, 8],\n",
       " [13, 12, 11, 10, 9]]"
      ]
     },
     "execution_count": 6,
     "metadata": {},
     "output_type": "execute_result"
    }
   ],
   "source": [
    "# 달팽이 순회\n",
    "\n",
    "# 자연수 n이 주어졌을 때, n x n 크기의 이차원 배열에 1부터 n^2까지의 숫자를 달팽이 순회로 채운 결과를 반환하는 solution 함수를 작성하시오.\n",
    "\n",
    "# 달팽이 순회는 아래의 과정을 따릅니다.\n",
    "# 1. 이차원 배열의 첫 번째 행, 첫 번째 열(가장 왼쪽 위)에서 출발합니다. 숫자는 1부터 시작하며, 처음 진행 방향은 오른쪽입니다.\n",
    "# 2. 현재 위치한 칸에 숫자를 채우고, 진행 방향으로 한 칸 이동합니다.\n",
    "# 3. 이동한 칸이 이차원 배열의 범위를 벗어나거나 이미 다른 숫자로 채워졌다면, 원래 칸으로 돌아와 진행 방향을 시계방향으로 90도 회전한 후 한 칸 이동합니다.\n",
    "# 4. 이차원 배열의 모든 칸에 숫자를 채울 때까지, 2번과 3번 과정을 반복합니다.\n",
    "\n",
    "\n",
    "def solution(n):\n",
    "    dr = [0, 1, 0, -1]  # 우 하 좌 상\n",
    "    dc = [1, 0, -1, 0]\n",
    "\n",
    "    snail = [[0] * n for _ in range(n)]\n",
    "    r, c, d = 0, 0, 0\n",
    "\n",
    "    # 1부터 N**2까지 차례로 순회하며 할당합니다.\n",
    "    for num in range(1, n ** 2 + 1):\n",
    "        # 해당 좌표에 해당 숫자를 할당합니다.\n",
    "        snail[r][c] = num\n",
    "\n",
    "        # 기본적으로 기존 방향을 유지하며 다음 좌표를 설정합니다.\n",
    "        nr, nc = r + dr[d], c + dc[d]\n",
    "\n",
    "        # 다음 좌표가 범위를 벗어나는 경우 또는 다음 좌표에 이미 숫자가 할당된 경우 방향을 전환합니다.\n",
    "        if nr < 0 or nr >= n or nc < 0 or nc >= n or snail[nr][nc] != 0:\n",
    "            # 아래와 같이 방향 전환 좌표를 설정하면 3 => 0으로의 방향 전환이 가능합니다.\n",
    "            d = (d + 1) % 4\n",
    "            nr, nc = r + dr[d], c + dc[d]\n",
    "\n",
    "        # 위에서 계산한 다음 좌표를 현재 좌표로 최신화한 후 다음 반복으로 넘어갑니다.\n",
    "        r, c = nr, nc\n",
    "\n",
    "    return snail\n",
    "\n",
    "solution(5)"
   ]
  },
  {
   "cell_type": "code",
   "execution_count": null,
   "id": "d02a7d5d",
   "metadata": {},
   "outputs": [],
   "source": [
    "# 숫자 1 (0, 0) 에서 시작, 처음 진행 방향은 오른쪽\n",
    "# n = 5인 경우라고 한다면, n**2 = 25까지 달팽이 순회\n",
    "# 1부터 n**2까지의 범위로 반복\n",
    "# 범위를 벗어나는 경우 또는 이미 다른 숫자로 채워져 있는 경우 방향 전환 -> 시계방향으로 90도 회전한 후 한 칸 이동\n",
    "\n",
    "\n",
    "dr = [0, 1, 0, -1]\n",
    "dc = [1, 0, -1, 0]\n",
    "\n",
    "for _ in range(5):\n",
    "    snail = [0] * 5\n",
    "\n",
    "r, c, d = 0, 0, 0\n",
    "\n",
    "for num in range(1, n**2 + 1):  # n**2 도 포함되어야 하니까 \n",
    "    snail[r][c] = num\n",
    "\n",
    "\n"
   ]
  },
  {
   "cell_type": "markdown",
   "id": "268375e6",
   "metadata": {},
   "source": [
    "### 신고 결과 받기 (https://school.programmers.co.kr/learn/courses/30/lessons/92334)\n",
    "#### 문제 설명\n",
    "신입사원 무지는 게시판 불량 이용자를 신고하고 처리 결과를 메일로 발송하는 시스템을 개발하려 합니다. 무지가 개발하려는 시스템은 다음과 같습니다.\n",
    "\n",
    "- 각 유저는 한 번에 한 명의 유저를 신고할 수 있습니다.\n",
    "    - 신고 횟수에 제한은 없습니다. 서로 다른 유저를 계속해서 신고할 수 있습니다.\n",
    "    - 한 유저를 여러 번 신고할 수도 있지만, 동일한 유저에 대한 신고 횟수는 1회로 처리됩니다.\n",
    "- k번 이상 신고된 유저는 게시판 이용이 정지되며, 해당 유저를 신고한 모든 유저에게 정지 사실을 메일로 발송합니다.\n",
    "    - 유저가 신고한 모든 내용을 취합하여 마지막에 한꺼번에 게시판 이용 정지를 시키면서 정지 메일을 발송합니다.\n",
    "\n",
    "\n",
    "다음은 전체 유저 목록이 [\"muzi\", \"frodo\", \"apeach\", \"neo\"]이고, k = 2(즉, 2번 이상 신고당하면 이용 정지)인 경우의 예시입니다.\n",
    "\n",
    "유저 ID\t유저가 신고한 ID\t설명\n",
    "\"muzi\"\t\"frodo\"\t\"muzi\"가 \"frodo\"를 신고했습니다.\n",
    "\"apeach\"\t\"frodo\"\t\"apeach\"가 \"frodo\"를 신고했습니다.\n",
    "\"frodo\"\t\"neo\"\t\"frodo\"가 \"neo\"를 신고했습니다.\n",
    "\"muzi\"\t\"neo\"\t\"muzi\"가 \"neo\"를 신고했습니다.\n",
    "\"apeach\"\t\"muzi\"\t\"apeach\"가 \"muzi\"를 신고했습니다.\n",
    "\n",
    "\n",
    "각 유저별로 신고당한 횟수는 다음과 같습니다.\n",
    "\n",
    "유저 ID\t신고당한 횟수\n",
    "\"muzi\"\t1\n",
    "\"frodo\"\t2\n",
    "\"apeach\"\t0\n",
    "\"neo\"\t2\n",
    "\n",
    "\n",
    "위 예시에서는 2번 이상 신고당한 \"frodo\"와 \"neo\"의 게시판 이용이 정지됩니다. 이때, 각 유저별로 신고한 아이디와 정지된 아이디를 정리하면 다음과 같습니다.\n",
    "\n",
    "유저 ID\t유저가 신고한 ID\t정지된 ID\n",
    "\"muzi\"\t[\"frodo\", \"neo\"]\t[\"frodo\", \"neo\"]\n",
    "\"frodo\"\t[\"neo\"]\t[\"neo\"]\n",
    "\"apeach\"\t[\"muzi\", \"frodo\"]\t[\"frodo\"]\n",
    "\"neo\"\t없음\t없음\n",
    "\n",
    "\n",
    "따라서 \"muzi\"는 처리 결과 메일을 2회, \"frodo\"와 \"apeach\"는 각각 처리 결과 메일을 1회 받게 됩니다.\n",
    "\n",
    "이용자의 ID가 담긴 문자열 배열 id_list, 각 이용자가 신고한 이용자의 ID 정보가 담긴 문자열 배열 report, 정지 기준이 되는 신고 횟수 k가 매개변수로 주어질 때, 각 유저별로 처리 결과 메일을 받은 횟수를 배열에 담아 return 하도록 solution 함수를 완성해주세요.\n",
    "\n",
    "#### 제한사항\n",
    "- 2 ≤ id_list의 길이 ≤ 1,000\n",
    "    - 1 ≤ id_list의 원소 길이 ≤ 10\n",
    "    - id_list의 원소는 이용자의 id를 나타내는 문자열이며 알파벳 소문자로만 이루어져 있습니다.\n",
    "    - id_list에는 같은 아이디가 중복해서 들어있지 않습니다.\n",
    "- 1 ≤ report의 길이 ≤ 200,000\n",
    "    - 3 ≤ report의 원소 길이 ≤ 21\n",
    "    - report의 원소는 \"이용자id 신고한id\"형태의 문자열입니다.\n",
    "    - 예를 들어 \"muzi frodo\"의 경우 \"muzi\"가 \"frodo\"를 신고했다는 의미입니다.\n",
    "    - id는 알파벳 소문자로만 이루어져 있습니다.\n",
    "    - 이용자id와 신고한id는 공백(스페이스)하나로 구분되어 있습니다.\n",
    "    - 자기 자신을 신고하는 경우는 없습니다.\n",
    "- 1 ≤ k ≤ 200, k는 자연수입니다.\n",
    "- return 하는 배열은 id_list에 담긴 id 순서대로 각 유저가 받은 결과 메일 수를 담으면 됩니다.\n"
   ]
  },
  {
   "cell_type": "code",
   "execution_count": 2,
   "id": "0027f32f",
   "metadata": {},
   "outputs": [
    {
     "name": "stdout",
     "output_type": "stream",
     "text": [
      "[2, 1, 1, 0]\n"
     ]
    }
   ],
   "source": [
    "# id_list : 이용자의 id가 담긴 문자열 배열\n",
    "# report : 각 이용자가 신고한 이용자의 ID 정보가 담긴 문자열 배열 ex. muzi frodo -> muzi가 frodo 신고\n",
    "# K : 정지 기준이 되는 신고 횟수\n",
    "def solution(id_list, report, k):\n",
    "\n",
    "    # 유저 이름 -> 인덱스로 변환\n",
    "    user_idx = {}\n",
    "    for idx, user in enumerate(id_list):\n",
    "        user_idx[user] = idx\n",
    "\n",
    "    # 총 유저의 수\n",
    "    n = len(id_list)\n",
    "\n",
    "    # 신고 관계를 받을 2차원 행렬\n",
    "    user_relation = [[0] * n for _ in range(n)]\n",
    "\n",
    "    # 신고 결과를 2차원 행렬에 기록\n",
    "    # 중복 신고 제거\n",
    "    report = list(set(report))\n",
    "\n",
    "    # for reporter, reported in report: -> 문자열은 iterable이기 때문에 다 쪼개져서 읽혀서 불가\n",
    "    for r in report:\n",
    "        reporter, reported = r.split()\n",
    "        reporter_idx = user_idx[reporter]\n",
    "        reported_idx = user_idx[reported]\n",
    "        user_relation[reporter_idx][reported_idx] = 1\n",
    "\n",
    "    # 피신고자 횟수를 카운트\n",
    "    # 각각의 열에 대해 열순회\n",
    "    answer = [0] * n\n",
    "    for c in range(n):\n",
    "        reported_cnt = 0\n",
    "        for r in range(n):\n",
    "            reported_cnt += user_relation[r][c]\n",
    "\n",
    "            # 신고당한 횟수가 k번 이상이라면\n",
    "            if reported_cnt >= k:\n",
    "                # 그 사람을 신고한 유저에게 메일 발송\n",
    "                for r in range(n):\n",
    "                    answer[r] += user_relation[r][c]\n",
    "                # 사용자별 신고횟수가 필요한 것이므로\n",
    "                break\n",
    "\n",
    "    return answer\n",
    "\n",
    "id_list = [\"muzi\", \"frodo\", \"apeach\", \"neo\"]\n",
    "report = [\"muzi frodo\",\"apeach frodo\",\"frodo neo\",\"muzi neo\",\"apeach muzi\"]\n",
    "k = 2\n",
    "\n",
    "print(solution(id_list, report, k))"
   ]
  },
  {
   "cell_type": "markdown",
   "id": "f7beb2da",
   "metadata": {},
   "source": [
    "### 그래프 탐색 (https://dailyalgo.kr/ko/problems/28)\n",
    "\n",
    "#### 문제 설명\n",
    "정점의 개수 n, 양방향 간선 정보가 담긴 edges가 매개 변수로 주어질 때 1번 정점을 포함해 1번 정점에서부터 도달할 수 있는 모든 정점의 개수를 반환하는 solution 함수를 작성하시오.\n",
    "\n",
    "예를 들어, 아래와 같이 6개의 정점과 5개의 간선으로 이루어진 그래프가 있다고 가정합니다.\n",
    "\n",
    "1번 정점을 출발 정점으로 하여 그래프를 탐색하면, 1번을 포함하여 2, 3, 4, 5번 정점에 방문할 수 있으므로 5를 반환합니다.\n",
    "\n",
    "#### 제한 사항\n",
    "- 정점의 개수 n은 2 이상 10,000 이하의 자연수입니다.\n",
    "- 양방향 간선 정보 edges의 원소는 특정 간선의 양 끝 정점의 정점 번호 x, y로 이루어집니다.\n",
    "    - edges는 최대 1,000,000개의 간선 정보를 가집니다.\n",
    "    - x, y는 1 이상 n 이하의 자연수입니다.\n"
   ]
  },
  {
   "cell_type": "code",
   "execution_count": 3,
   "id": "66f94b51",
   "metadata": {},
   "outputs": [],
   "source": [
    "from collections import deque\n",
    "\n",
    "def solution(n, edges):\n",
    "    # 1. 그래프 구현\n",
    "    graph = [[] for _ in range(n + 1)]\n",
    "    for v1, v2 in edges:\n",
    "        graph[v1].append(v2)\n",
    "        graph[v2].append(v1)\n",
    "\n",
    "    # 2. 방문 배열\n",
    "    visited = [False] * (n + 1)\n",
    "\n",
    "    # 3. 방문\n",
    "    visited[1] = True\n",
    "    queue = deque([1])\n",
    "\n",
    "    while queue:\n",
    "        current = queue.popleft()\n",
    "\n",
    "        # current에서 갈 수 있고\n",
    "        for nxt_node in graph[current]:\n",
    "            # 아직 방문하지 않았다면 방문 예정지에 추가\n",
    "            if not visited[nxt_node]:\n",
    "                # 미리 방문 체크\n",
    "                visited[nxt_node] = True\n",
    "                queue.append(nxt_node)\n",
    "\n",
    "    return sum(visited)"
   ]
  },
  {
   "cell_type": "markdown",
   "id": "711b681f",
   "metadata": {},
   "source": [
    "### 게임 맵 최단거리 (https://school.programmers.co.kr/learn/courses/30/lessons/1844)\n",
    "\n",
    "#### 문제 설명\n",
    "ROR 게임은 두 팀으로 나누어서 진행하며, 상대 팀 진영을 먼저 파괴하면 이기는 게임입니다. 따라서, 각 팀은 상대 팀 진영에 최대한 빨리 도착하는 것이 유리합니다.\n",
    "\n",
    "게임 맵의 상태 maps가 매개변수로 주어질 때, 캐릭터가 상대 팀 진영에 도착하기 위해서 지나가야 하는 칸의 개수의 최솟값을 return 하도록 solution 함수를 완성해주세요. 단, 상대 팀 진영에 도착할 수 없을 때는 -1을 return 해주세요.\n",
    "\n",
    "#### 제한사항\n",
    "- maps는 n x m 크기의 게임 맵의 상태가 들어있는 2차원 배열로, n과 m은 각각 1 이상 100 이하의 자연수입니다.\n",
    "    - n과 m은 서로 같을 수도, 다를 수도 있지만, n과 m이 모두 1인 경우는 입력으로 주어지지 않습니다.\n",
    "- maps는 0과 1로만 이루어져 있으며, 0은 벽이 있는 자리, 1은 벽이 없는 자리를 나타냅니다.\n",
    "- 처음에 캐릭터는 게임 맵의 좌측 상단인 (1, 1) 위치에 있으며, 상대방 진영은 게임 맵의 우측 하단인 (n, m) 위치에 있습니다.\n"
   ]
  },
  {
   "cell_type": "code",
   "execution_count": 4,
   "id": "f8a93a26",
   "metadata": {},
   "outputs": [],
   "source": [
    "from collections import deque\n",
    "\n",
    "def solution(maps):\n",
    "    n, m = len(maps), len(maps[0])\n",
    "    # 상하좌우\n",
    "    directions = [(-1, 0), (1, 0), (0, -1), (0, 1)]\n",
    "\n",
    "    queue = deque()\n",
    "    # 시작점을 넣고 시작\n",
    "    queue.append((0, 0))\n",
    "\n",
    "    while queue:\n",
    "        r, c = queue.popleft()\n",
    "        for dr, dc in directions:\n",
    "            nr, nc = r + dr, c + dc\n",
    "            if 0 <= nr < n and 0 <= nc < m and maps[nr][nc] == 1:\n",
    "                maps[nr][nc] = maps[r][c] + 1 # 미리 방문 체크\n",
    "                queue.append((nr, nc))\n",
    "\n",
    "    # 도착지점의 값이 1이라면 도착하지 못함\n",
    "    return maps[n-1][m-1] if maps[n-1][m-1] != 1 else -1"
   ]
  },
  {
   "cell_type": "markdown",
   "id": "4c3d3df3",
   "metadata": {},
   "source": [
    "### 보물 지도 (https://school.programmers.co.kr/learn/courses/15009/lessons/121690)\n",
    "\n",
    "#### 문제 설명\n",
    "진수는 보물이 묻힌 장소와 함정이 표시된 보물 지도를 이용해 보물을 찾으려 합니다. 보물지도는 가로 길이가 n, 세로 길이가 m인 직사각형 모양입니다.\n",
    "\n",
    "맨 왼쪽 아래 칸의 좌표를 (1, 1)으로, 맨 오른쪽 위 칸의 좌표를 (n, m)으로 나타냈을 때, 보물은 (n, m) 좌표에 묻혀있습니다. 또한, 일부 칸에는 함정이 있으며, 해당 칸으로는 지나갈 수 없습니다.\n",
    "\n",
    "진수는 처음에 (1, 1) 좌표에서 출발해 보물이 있는 칸으로 이동하려 합니다. 이동할 때는 [상,하,좌,우]로 인접한 네 칸 중 한 칸으로 걸어서 이동합니다. 한 칸을 걸어서 이동하는 데 걸리는 시간은 1입니다.\n",
    "\n",
    "진수는 보물이 위치한 칸으로 수월하게 이동하기 위해 신비로운 신발을 하나 준비했습니다. 이 신발을 신고 뛰면 한 번에 두 칸을 이동할 수 있으며, 함정이 있는 칸도 넘을 수 있습니다. 하지만, 이 신발은 한 번밖에 사용할 수 없습니다. 신비로운 신발을 사용하여 뛰어서 두 칸을 이동하는 시간도 1입니다.\n",
    "\n",
    "이때 진수가 출발점에서 보물이 위치한 칸으로 이동하는데 필요한 최소 시간을 구해야 합니다.\n",
    "\n",
    "\n",
    "진수의 보물지도가 표현하는 지역의 가로 길이를 나타내는 정수 n, 세로 길이를 나타내는 정수 m, 함정의 위치를 나타내는 2차원 정수 배열 hole이 주어졌을 때, 진수가 보물이 있는 칸으로 이동하는데 필요한 최소 시간을 return 하는 solution 함수를 완성해주세요. 단, 보물이 있는 칸으로 이동할 수 없다면, -1을 return 해야 합니다.\n",
    "\n",
    "#### 제한사항\n",
    "- 1 ≤ n, m ≤ 1,000\n",
    "    - 단, n * m이 3 이상인 경우만 입력으로 주어집니다.\n",
    "- 1 ≤ hole의 길이 ≤ n * m - 2\n",
    "    - hole[i]는 [a, b]의 형태이며, (a, b) 칸에 함정이 존재한다는 의미이며, 1 ≤ a ≤ n, 1 ≤ b ≤ m을 만족합니다.\n",
    "    - 같은 함정에 대한 정보가 중복해서 들어있지 않습니다.\n",
    "- (1, 1) 칸과 (n, m) 칸은 항상 함정이 없습니다."
   ]
  },
  {
   "cell_type": "code",
   "execution_count": 5,
   "id": "5fed3922",
   "metadata": {},
   "outputs": [
    {
     "name": "stdout",
     "output_type": "stream",
     "text": [
      "5\n"
     ]
    }
   ],
   "source": [
    "# 지나갈 수 있는 곳 1, hole 0\n",
    "from collections import deque\n",
    "def solution(n, m, hole):\n",
    "    maps = [[1] * m for _ in range(n)]\n",
    "    for r, c in hole:\n",
    "        maps[r-1][c-1] = 0\n",
    "\n",
    "    directions = [(-1, 0), (1, 0), (0, -1), (0, 1)]\n",
    "\n",
    "    # 0 신발 미사용, 1 신발 사용\n",
    "    dist = [[[0] * 2 for _ in range(m)] for _ in range(n)]\n",
    "\n",
    "    queue = deque()\n",
    "    queue.append((0, 0, 0)) # (r, c, 신발사용여부)\n",
    "    dist[0][0][0] = 0\n",
    "\n",
    "    while queue:\n",
    "        r, c, used = queue.popleft()\n",
    "\n",
    "        # 일반 이동\n",
    "        for dr, dc in directions:\n",
    "            nr, nc = r + dr, c + dc\n",
    "            if 0 <= nr < n and 0 <= nc < m:\n",
    "                if maps[nr][nc] == 1 and dist[nr][nc][used] == 0:\n",
    "                    dist[nr][nc][used] = dist[r][c][used] + 1\n",
    "                    queue.append((nr, nc, used))\n",
    "\n",
    "        # 신발 사용하는 경우\n",
    "        # 아직 신발을 미사용인 상태이고\n",
    "        if used == 0:\n",
    "            for dr, dc in directions:\n",
    "                nr, nc = r + dr * 2, c + dc * 2\n",
    "                if 0 <= nr < n and 0 <= nc < m:\n",
    "                    # 새로운 곳은 갈 수 있고 + 아직 신발 상태로 방문 안함\n",
    "                    if maps[nr][nc] == 1 and dist[nr][nc][1] == 0:\n",
    "                        dist[nr][nc][1] = dist[r][c][used] + 1\n",
    "                        queue.append((nr, nc, 1))\n",
    "\n",
    "    dist1, dist2 = dist[n-1][m-1][0], dist[n-1][m-1][1]\n",
    "\n",
    "    if dist1 == 0 and dist2 == 0:\n",
    "        return -1\n",
    "    elif dist1 == 0:\n",
    "        return dist2\n",
    "    elif dist2 == 0:\n",
    "        return dist1\n",
    "    else:\n",
    "        return min(dist1, dist2)\n",
    "\n",
    "n = 4\n",
    "m = 4\n",
    "hole = [[2, 3], [3, 3]]\n",
    "\n",
    "print(solution(n, m, hole))"
   ]
  }
 ],
 "metadata": {
  "kernelspec": {
   "display_name": "Python 3",
   "language": "python",
   "name": "python3"
  },
  "language_info": {
   "codemirror_mode": {
    "name": "ipython",
    "version": 3
   },
   "file_extension": ".py",
   "mimetype": "text/x-python",
   "name": "python",
   "nbconvert_exporter": "python",
   "pygments_lexer": "ipython3",
   "version": "3.13.2"
  }
 },
 "nbformat": 4,
 "nbformat_minor": 5
}
