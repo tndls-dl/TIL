{
 "cells": [
  {
   "cell_type": "code",
   "execution_count": null,
   "id": "491bec19",
   "metadata": {},
   "outputs": [
    {
     "name": "stdout",
     "output_type": "stream",
     "text": [
      "[1, 2, 3, 4]\n"
     ]
    }
   ],
   "source": [
    "# 버블 정렬 코드\n",
    "arr = [2, 4, 1, 3]  # 정렬하고자 하는 리스트의 길이가 4니까?\n",
    "\n",
    "for i in range(len(arr)-1, 0, -1):  # 총 3회 시행, \n",
    "    for j in range(i): # 각 시행 횟수 안에서, 3 2 1 번씩 비교 할것 \n",
    "        if arr[j] > arr[j+1]: # 내가 오른쪽 녀석보다 크다면?\n",
    "            arr[j], arr[j+1] = arr[j+1], arr[j]  # 자리를 바꾼다!\n",
    "\n",
    "print(arr)"
   ]
  },
  {
   "cell_type": "code",
   "execution_count": 2,
   "id": "7dc2efd0",
   "metadata": {},
   "outputs": [
    {
     "name": "stdout",
     "output_type": "stream",
     "text": [
      "False\n"
     ]
    }
   ],
   "source": [
    "# 2 투 포인터 알고리즘 활용\n",
    "word = input('단어를 입력하세요: ')\n",
    "\n",
    "left = 0 # 시작 인덱스\n",
    "right = len(word)-1 # 마지막 인덱스\n",
    "\n",
    "is_palindrome = True\n",
    "while left < right:  # 왼쪽과 오른쪽이 유지될때까지 돌아라!\n",
    "    if word[left] == word[right]:  # 같은 경우라면 아직은 회문 조건을 만족함\n",
    "        left += 1  # 왼쪽 포인터를 한칸 오른쪽으로 증가시키고\n",
    "        right -= 1  # 오른쪽 포인터를 한 칸 왼쪽으로 감소\n",
    "        continue\n",
    "    else:  # 다른 경우라면 그 즉시 안된다고 표시하고 break\n",
    "        is_palindrome = False\n",
    "        break\n",
    "\n",
    "print(is_palindrome)"
   ]
  },
  {
   "cell_type": "code",
   "execution_count": 21,
   "id": "71fd834d",
   "metadata": {},
   "outputs": [
    {
     "name": "stdout",
     "output_type": "stream",
     "text": [
      "(2, 5)\n"
     ]
    }
   ],
   "source": [
    "nums = [1, 3, 2, 2, 1, 2, 3, 1, 1, 2, 3, 2]\n",
    "\n",
    "cnt = {}\n",
    "\n",
    "for num in nums:\n",
    "    cnt[num] = cnt.get(num, 0) + 1\n",
    "\n",
    "answer = sorted(cnt.items(), key=lambda x: -x[1])\n",
    "    \n",
    "print(answer[0])\n",
    "\n"
   ]
  },
  {
   "cell_type": "code",
   "execution_count": 20,
   "id": "51682e81",
   "metadata": {},
   "outputs": [
    {
     "name": "stdout",
     "output_type": "stream",
     "text": [
      "[2, 1, 3]\n"
     ]
    }
   ],
   "source": [
    "nums = [1, 3, 2, 2, 1, 2, 3, 1, 1, 2, 3, 2]\n",
    "\n",
    "cnt = {}\n",
    "\n",
    "for num in nums:\n",
    "    cnt[num] = cnt.get(num, 0) + 1\n",
    "\n",
    "votes = sorted(cnt.items(), key=lambda x: -x[1])\n",
    "answer = [v[0] for v in votes]\n",
    "    \n",
    "print(answer)\n",
    "\n"
   ]
  },
  {
   "cell_type": "code",
   "execution_count": 27,
   "id": "cbf4dfbc",
   "metadata": {},
   "outputs": [
    {
     "data": {
      "text/plain": [
       "1"
      ]
     },
     "execution_count": 27,
     "metadata": {},
     "output_type": "execute_result"
    }
   ],
   "source": [
    "def solution(numbers):\n",
    "\n",
    "    cnt = {}\n",
    "\n",
    "    for num in numbers:\n",
    "        cnt[num] = cnt.get(num, 0) + 1\n",
    "\n",
    "    for answer, c in cnt.items():\n",
    "        if c == 1:\n",
    "            return answer\n",
    "\n",
    "solution([77,1,77])"
   ]
  },
  {
   "cell_type": "code",
   "execution_count": 2,
   "id": "2f955adb",
   "metadata": {},
   "outputs": [
    {
     "name": "stdout",
     "output_type": "stream",
     "text": [
      "21\n"
     ]
    }
   ],
   "source": [
    "N, K = map(int, input().split())\n",
    "\n",
    "temperatures = list(map(int, input().split()))\n",
    "\n",
    "current_sum = sum(temperatures[0:K])\n",
    "max_sum = current_sum\n",
    "\n",
    "for i in range(K, N):\n",
    "    current_sum = current_sum - temperatures[i-K] + temperatures[i]\n",
    "    max_sum = max(max_sum, current_sum)\n",
    "\n",
    "print(max_sum)"
   ]
  },
  {
   "cell_type": "code",
   "execution_count": 3,
   "id": "9dd7e425",
   "metadata": {},
   "outputs": [
    {
     "name": "stdout",
     "output_type": "stream",
     "text": [
      "12\n",
      "9\n",
      "1\n"
     ]
    }
   ],
   "source": [
    "N, M = map(int, input().split())\n",
    "\n",
    "A = list(map(int, input().split()))\n",
    "\n",
    "prefix_sum = [0] * (N + 1) \n",
    "\n",
    "current_sum = 0\n",
    "\n",
    "for k in range(N):\n",
    "    current_sum += A[k]\n",
    "    prefix_sum[k+1] = current_sum\n",
    "    \n",
    "for _ in range(M):\n",
    "    i, j = map(int, input().split())\n",
    "    interval_sum = prefix_sum[j] - prefix_sum[i-1]\n",
    "    \n",
    "    print(interval_sum)"
   ]
  },
  {
   "cell_type": "code",
   "execution_count": 4,
   "id": "8a33f2f0",
   "metadata": {},
   "outputs": [
    {
     "name": "stdout",
     "output_type": "stream",
     "text": [
      "3\n"
     ]
    }
   ],
   "source": [
    "nums = [1, 2, 3, 4, 2, 5, 3, 1, 1, 2]\n",
    "\n",
    "cnt = 0                         # 경우의 수를 세어줄 변수\n",
    "\n",
    "for i in range(10):\n",
    "    tmp = 0                     # i번째 수부터 합을 계산할 변수\n",
    "    for j in range(i, 10):\n",
    "        tmp += nums[j]\n",
    "        if tmp == 5:            # 찾았으면 cnt+=1\n",
    "            cnt += 1\n",
    "        elif tmp > 5:           # 5보다 커지면 더이상 탐색할 필요 없음\n",
    "            break\n",
    "\n",
    "print(cnt)"
   ]
  },
  {
   "cell_type": "code",
   "execution_count": null,
   "id": "6a4766a5",
   "metadata": {},
   "outputs": [
    {
     "name": "stdout",
     "output_type": "stream",
     "text": [
      "3\n"
     ]
    }
   ],
   "source": [
    "document = input()\n",
    "word = input()\n",
    "\n",
    "i = 0\n",
    "cnt = 0\n",
    "\n",
    "while i <= len(document) - len(word):\n",
    "    current_slice = document[i : i + len(word)]\n",
    "    \n",
    "    if current_slice == word:\n",
    "        cnt += 1\n",
    "        i += len(word)\n",
    "\n",
    "    else:\n",
    "        i += 1\n",
    "\n",
    "print(cnt)"
   ]
  },
  {
   "cell_type": "code",
   "execution_count": 1,
   "id": "5d717313",
   "metadata": {},
   "outputs": [
    {
     "name": "stdout",
     "output_type": "stream",
     "text": [
      "2 8 4 6 "
     ]
    }
   ],
   "source": [
    "# 중간 지점에서 4방향 탐색하기\n",
    "\n",
    "M = [[1, 2, 3], [4, 5, 6], [7, 8, 9]]\n",
    "r = c = 1\n",
    "\n",
    "dr = [-1, 1, 0, 0]              # 상, 하, 좌, 우\n",
    "dc = [0, 0, -1, 1]\n",
    "\n",
    "for i in range(4):              # 4방향 탐색\n",
    "    nr = r + dr[i]              # 새로운 행 좌표 찍기\n",
    "    nc = c + dc[i]              # 새로운 열 좌표 찍기\n",
    "    print(M[nr][nc], end=' ')   # 2 8 4 6"
   ]
  },
  {
   "cell_type": "code",
   "execution_count": null,
   "id": "d7205ba4",
   "metadata": {},
   "outputs": [
    {
     "name": "stdout",
     "output_type": "stream",
     "text": [
      "6 8 "
     ]
    }
   ],
   "source": [
    "# 모서리에서 탐색하기\n",
    "\n",
    "M = [[1, 2, 3], [4, 5, 6], [7, 8, 9]]\n",
    "r = c = 2                               # 오른쪽 아래(2, 2)에서 시작\n",
    "\n",
    "dr = [-1, 1, 0, 0]                      # 상, 하, 좌, 우\n",
    "dc = [0, 0, -1, 1]\n",
    "\n",
    "for i in range(4):                      # 4방향 탐색\n",
    "    nr = r + dr[i]                      # 새로운 행 좌표 찍기\n",
    "    nc = c + dc[i]                      # 새로운 열 좌표 찍기\n",
    "\n",
    "    if 0 <= nr < 3 and 0 <= nc < 3:     # 인덱스 유효성 검사\n",
    "        print(M[nr][nc], end=' ')       # 6, 8"
   ]
  },
  {
   "cell_type": "code",
   "execution_count": 3,
   "id": "b90d1e57",
   "metadata": {},
   "outputs": [],
   "source": [
    "# (1, 2) (3, 2) (2, 1) (2, 3)\n",
    "\n",
    "# -> (3, 2)랑 (2, 3)은 인덱스 유효성 검사에서 탈락\n",
    "# -> 6 (1, 2), 8 (2, 1)만 OK"
   ]
  },
  {
   "cell_type": "code",
   "execution_count": null,
   "id": "eb53ab3b",
   "metadata": {},
   "outputs": [
    {
     "data": {
      "text/plain": [
       "[2, 2]"
      ]
     },
     "execution_count": 5,
     "metadata": {},
     "output_type": "execute_result"
    }
   ],
   "source": [
    "# 실습용 로봇\n",
    "# 컴퓨터공학과에서는 실습용 로봇을 이용해서 로봇 프로그래밍을 학습합니다. 실습용 로봇은 입력된 명령에 따라 x좌표와 y좌표로 표현되는 2차원 좌표 평면 위를 이동합니다. 하나의 명령은 하나의 문자로 주어지며 각 명령어에 따라 로봇이 수행하는 일은 다음과 같이 네 종류입니다.\n",
    "\n",
    "# 'R': 로봇이 오른쪽으로 90도 회전합니다.\n",
    "# 'L': 로봇이 왼쪽으로 90도 회전합니다.\n",
    "# 'G': 로봇이 한 칸 전진합니다.\n",
    "# 'B': 로봇이 한 칸 후진합니다.\n",
    "\n",
    "\n",
    "# 오른쪽으로 90도 회전 -> 방향 인덱스는 변화 : 오른쪽이니까 +1 / 위치 변화는 없음\n",
    "# 왼쪽으로 90도 회전 ->  방향 인덱스는 변화 : 왼쪽이니까 -1 / 위치 변화는 없음\n",
    "# 한 칸 전진 -> 현재 방향으로 이동 -> \n",
    "# 한 칸 후진 -> 현재 반대 방향으로 이동\n",
    "\n",
    "def solution(command):\n",
    "    x = y = d = 0  # 초기 좌표와 방향\n",
    "    dx = [0, 1, 0, -1]  # 상 우 하 좌\n",
    "    dy = [1, 0, -1, 0]\n",
    "\n",
    "    for move in command:\n",
    "        if move == \"R\":\n",
    "            d += 1\n",
    "        elif move == \"L\":\n",
    "            d -= 1\n",
    "        elif move == \"G\":\n",
    "            x += dx[d % 4]\n",
    "            y += dy[d % 4]\n",
    "        elif move == \"B\":\n",
    "            x -= dx[d % 4]\n",
    "            y -= dy[d % 4]\n",
    "\n",
    "    return [x, y]\n",
    "\n",
    "solution(\"GRGLGRG\")"
   ]
  },
  {
   "cell_type": "code",
   "execution_count": null,
   "id": "c522054d",
   "metadata": {},
   "outputs": [
    {
     "data": {
      "text/plain": [
       "[[1, 2, 3, 4, 5],\n",
       " [16, 17, 18, 19, 6],\n",
       " [15, 24, 25, 20, 7],\n",
       " [14, 23, 22, 21, 8],\n",
       " [13, 12, 11, 10, 9]]"
      ]
     },
     "execution_count": 6,
     "metadata": {},
     "output_type": "execute_result"
    }
   ],
   "source": [
    "# 달팽이 순회\n",
    "\n",
    "# 자연수 n이 주어졌을 때, n x n 크기의 이차원 배열에 1부터 n^2까지의 숫자를 달팽이 순회로 채운 결과를 반환하는 solution 함수를 작성하시오.\n",
    "\n",
    "# 달팽이 순회는 아래의 과정을 따릅니다.\n",
    "# 1. 이차원 배열의 첫 번째 행, 첫 번째 열(가장 왼쪽 위)에서 출발합니다. 숫자는 1부터 시작하며, 처음 진행 방향은 오른쪽입니다.\n",
    "# 2. 현재 위치한 칸에 숫자를 채우고, 진행 방향으로 한 칸 이동합니다.\n",
    "# 3. 이동한 칸이 이차원 배열의 범위를 벗어나거나 이미 다른 숫자로 채워졌다면, 원래 칸으로 돌아와 진행 방향을 시계방향으로 90도 회전한 후 한 칸 이동합니다.\n",
    "# 4. 이차원 배열의 모든 칸에 숫자를 채울 때까지, 2번과 3번 과정을 반복합니다.\n",
    "\n",
    "\n",
    "def solution(n):\n",
    "    dr = [0, 1, 0, -1]  # 우 하 좌 상\n",
    "    dc = [1, 0, -1, 0]\n",
    "\n",
    "    snail = [[0] * n for _ in range(n)]\n",
    "    r, c, d = 0, 0, 0\n",
    "\n",
    "    # 1부터 N**2까지 차례로 순회하며 할당합니다.\n",
    "    for num in range(1, n ** 2 + 1):\n",
    "        # 해당 좌표에 해당 숫자를 할당합니다.\n",
    "        snail[r][c] = num\n",
    "\n",
    "        # 기본적으로 기존 방향을 유지하며 다음 좌표를 설정합니다.\n",
    "        nr, nc = r + dr[d], c + dc[d]\n",
    "\n",
    "        # 다음 좌표가 범위를 벗어나는 경우 또는 다음 좌표에 이미 숫자가 할당된 경우 방향을 전환합니다.\n",
    "        if nr < 0 or nr >= n or nc < 0 or nc >= n or snail[nr][nc] != 0:\n",
    "            # 아래와 같이 방향 전환 좌표를 설정하면 3 => 0으로의 방향 전환이 가능합니다.\n",
    "            d = (d + 1) % 4\n",
    "            nr, nc = r + dr[d], c + dc[d]\n",
    "\n",
    "        # 위에서 계산한 다음 좌표를 현재 좌표로 최신화한 후 다음 반복으로 넘어갑니다.\n",
    "        r, c = nr, nc\n",
    "\n",
    "    return snail\n",
    "\n",
    "solution(5)"
   ]
  },
  {
   "cell_type": "code",
   "execution_count": null,
   "id": "d02a7d5d",
   "metadata": {},
   "outputs": [],
   "source": [
    "# 숫자 1 (0, 0) 에서 시작, 처음 진행 방향은 오른쪽\n",
    "# n = 5인 경우라고 한다면, n**2 = 25까지 달팽이 순회\n",
    "# 1부터 n**2까지의 범위로 반복\n",
    "# 범위를 벗어나는 경우 또는 이미 다른 숫자로 채워져 있는 경우 방향 전환 -> 시계방향으로 90도 회전한 후 한 칸 이동\n",
    "\n",
    "\n",
    "dr = [0, 1, 0, -1]\n",
    "dc = [1, 0, -1, 0]\n",
    "\n",
    "for _ in range(5):\n",
    "    snail = [0] * 5\n",
    "\n",
    "r, c, d = 0, 0, 0\n",
    "\n",
    "for num in range(1, n**2 + 1):  # n**2 도 포함되어야 하니까 \n",
    "    snail[r][c] = num\n",
    "\n",
    "\n"
   ]
  }
 ],
 "metadata": {
  "kernelspec": {
   "display_name": "Python 3",
   "language": "python",
   "name": "python3"
  },
  "language_info": {
   "codemirror_mode": {
    "name": "ipython",
    "version": 3
   },
   "file_extension": ".py",
   "mimetype": "text/x-python",
   "name": "python",
   "nbconvert_exporter": "python",
   "pygments_lexer": "ipython3",
   "version": "3.13.2"
  }
 },
 "nbformat": 4,
 "nbformat_minor": 5
}
