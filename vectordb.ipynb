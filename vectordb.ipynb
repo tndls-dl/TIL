{
 "cells": [
  {
   "cell_type": "code",
   "execution_count": 3,
   "id": "81346c30",
   "metadata": {},
   "outputs": [
    {
     "name": "stdout",
     "output_type": "stream",
     "text": [
      "파일을 성공적으로 불러왔습니다!\n",
      "--- 훈련 데이터 (train_df) ---\n",
      "         id                                           document  label\n",
      "0   9976970                                아 더빙.. 진짜 짜증나네요 목소리      0\n",
      "1   3819312                  흠...포스터보고 초딩영화줄....오버연기조차 가볍지 않구나      1\n",
      "2  10265843                                  너무재밓었다그래서보는것을추천한다      0\n",
      "3   9045019                      교도소 이야기구먼 ..솔직히 재미는 없다..평점 조정      0\n",
      "4   6483659  사이몬페그의 익살스런 연기가 돋보였던 영화!스파이더맨에서 늙어보이기만 했던 커스틴 ...      1\n"
     ]
    }
   ],
   "source": [
    "import pandas as pd\n",
    "\n",
    "# 깃허브에 있는 원시(raw) 파일 경로\n",
    "train_url = 'https://raw.githubusercontent.com/e9t/nsmc/master/ratings_train.txt'\n",
    "test_url = 'https://raw.githubusercontent.com/e9t/nsmc/master/ratings_test.txt'\n",
    "\n",
    "# URL에서 바로 데이터를 DataFrame으로 불러오기\n",
    "# \\t는 tap으로 분리되어 있다는 의미입니다.\n",
    "try:\n",
    "    train_df = pd.read_csv(train_url, sep='\\t')\n",
    "    test_df = pd.read_csv(test_url, sep='\\t')\n",
    "    print(\"파일을 성공적으로 불러왔습니다!\")\n",
    "except Exception as e:\n",
    "    print(f\"오류가 발생했습니다: {e}\")\n",
    "\n",
    "\n",
    "# 데이터가 잘 불러와졌는지 상위 5개만 확인\n",
    "print(\"--- 훈련 데이터 (train_df) ---\")\n",
    "print(train_df.head())\n",
    "\n",
    "# print(\"\\n--- 테스트 데이터 (test_df) ---\")\n",
    "# print(test_df.head())"
   ]
  },
  {
   "cell_type": "code",
   "execution_count": 4,
   "id": "f6aa217e",
   "metadata": {},
   "outputs": [
    {
     "name": "stdout",
     "output_type": "stream",
     "text": [
      "id          0\n",
      "document    5\n",
      "label       0\n",
      "dtype: int64\n",
      "\n",
      "정제 후 데이터 샘플:\n",
      "0                                  아 더빙.. 진짜 짜증나네요 목소리\n",
      "1                    흠...포스터보고 초딩영화줄....오버연기조차 가볍지 않구나\n",
      "2                                    너무재밓었다그래서보는것을추천한다\n",
      "3                        교도소 이야기구먼 ..솔직히 재미는 없다..평점 조정\n",
      "4    사이몬페그의 익살스런 연기가 돋보였던 영화!스파이더맨에서 늙어보이기만 했던 커스틴 ...\n",
      "Name: document, dtype: object\n"
     ]
    }
   ],
   "source": [
    "# 1. 비어있는 값(NaN)이 있는지 확인\n",
    "print(train_df.isnull().sum())\n",
    "\n",
    "# 2. 비어있는 값이 있는 행(row)을 제거\n",
    "train_df = train_df.dropna()\n",
    "\n",
    "# 3. 우리가 필요한 'document' 컬럼만 확인\n",
    "print(\"\\n정제 후 데이터 샘플:\")\n",
    "print(train_df['document'].head())"
   ]
  },
  {
   "cell_type": "code",
   "execution_count": 5,
   "id": "89172375",
   "metadata": {},
   "outputs": [
    {
     "data": {
      "application/vnd.jupyter.widget-view+json": {
       "model_id": "23590043f452475680fc2de6dc8f1369",
       "version_major": 2,
       "version_minor": 0
      },
      "text/plain": [
       "modules.json:   0%|          | 0.00/229 [00:00<?, ?B/s]"
      ]
     },
     "metadata": {},
     "output_type": "display_data"
    },
    {
     "name": "stderr",
     "output_type": "stream",
     "text": [
      "c:\\Users\\sec\\AppData\\Local\\Programs\\Python\\Python313\\Lib\\site-packages\\huggingface_hub\\file_download.py:143: UserWarning: `huggingface_hub` cache-system uses symlinks by default to efficiently store duplicated files but your machine does not support them in C:\\Users\\sec\\.cache\\huggingface\\hub\\models--jhgan--ko-sbert-nli. Caching files will still work but in a degraded version that might require more space on your disk. This warning can be disabled by setting the `HF_HUB_DISABLE_SYMLINKS_WARNING` environment variable. For more details, see https://huggingface.co/docs/huggingface_hub/how-to-cache#limitations.\n",
      "To support symlinks on Windows, you either need to activate Developer Mode or to run Python as an administrator. In order to activate developer mode, see this article: https://docs.microsoft.com/en-us/windows/apps/get-started/enable-your-device-for-development\n",
      "  warnings.warn(message)\n"
     ]
    },
    {
     "data": {
      "application/vnd.jupyter.widget-view+json": {
       "model_id": "fda2029ea8c54518bfdbb4be87f8fff7",
       "version_major": 2,
       "version_minor": 0
      },
      "text/plain": [
       "config_sentence_transformers.json:   0%|          | 0.00/123 [00:00<?, ?B/s]"
      ]
     },
     "metadata": {},
     "output_type": "display_data"
    },
    {
     "data": {
      "application/vnd.jupyter.widget-view+json": {
       "model_id": "8ba8fd80f4034568b8a47fb78bd386be",
       "version_major": 2,
       "version_minor": 0
      },
      "text/plain": [
       "README.md: 0.00B [00:00, ?B/s]"
      ]
     },
     "metadata": {},
     "output_type": "display_data"
    },
    {
     "data": {
      "application/vnd.jupyter.widget-view+json": {
       "model_id": "9fc2a52dcf3040ea840497d43c8fec6d",
       "version_major": 2,
       "version_minor": 0
      },
      "text/plain": [
       "sentence_bert_config.json:   0%|          | 0.00/53.0 [00:00<?, ?B/s]"
      ]
     },
     "metadata": {},
     "output_type": "display_data"
    },
    {
     "data": {
      "application/vnd.jupyter.widget-view+json": {
       "model_id": "c94aa056763842699317d0bdd7e7ef7b",
       "version_major": 2,
       "version_minor": 0
      },
      "text/plain": [
       "config.json:   0%|          | 0.00/620 [00:00<?, ?B/s]"
      ]
     },
     "metadata": {},
     "output_type": "display_data"
    },
    {
     "name": "stderr",
     "output_type": "stream",
     "text": [
      "Xet Storage is enabled for this repo, but the 'hf_xet' package is not installed. Falling back to regular HTTP download. For better performance, install the package with: `pip install huggingface_hub[hf_xet]` or `pip install hf_xet`\n"
     ]
    },
    {
     "data": {
      "application/vnd.jupyter.widget-view+json": {
       "model_id": "43572cd8cac948a086ba400ff49415bf",
       "version_major": 2,
       "version_minor": 0
      },
      "text/plain": [
       "pytorch_model.bin:   0%|          | 0.00/443M [00:00<?, ?B/s]"
      ]
     },
     "metadata": {},
     "output_type": "display_data"
    },
    {
     "data": {
      "application/vnd.jupyter.widget-view+json": {
       "model_id": "ca2ef336f67f417ca8a414030b5f221c",
       "version_major": 2,
       "version_minor": 0
      },
      "text/plain": [
       "tokenizer_config.json:   0%|          | 0.00/538 [00:00<?, ?B/s]"
      ]
     },
     "metadata": {},
     "output_type": "display_data"
    },
    {
     "data": {
      "application/vnd.jupyter.widget-view+json": {
       "model_id": "4e4842bee92e43e983c2c09476f731b7",
       "version_major": 2,
       "version_minor": 0
      },
      "text/plain": [
       "vocab.txt: 0.00B [00:00, ?B/s]"
      ]
     },
     "metadata": {},
     "output_type": "display_data"
    },
    {
     "data": {
      "application/vnd.jupyter.widget-view+json": {
       "model_id": "4615ac6fca6e45b39639a221decfb841",
       "version_major": 2,
       "version_minor": 0
      },
      "text/plain": [
       "tokenizer.json: 0.00B [00:00, ?B/s]"
      ]
     },
     "metadata": {},
     "output_type": "display_data"
    },
    {
     "data": {
      "application/vnd.jupyter.widget-view+json": {
       "model_id": "60b56535a0b249b39e693f1d06fee579",
       "version_major": 2,
       "version_minor": 0
      },
      "text/plain": [
       "special_tokens_map.json:   0%|          | 0.00/112 [00:00<?, ?B/s]"
      ]
     },
     "metadata": {},
     "output_type": "display_data"
    },
    {
     "name": "stderr",
     "output_type": "stream",
     "text": [
      "Xet Storage is enabled for this repo, but the 'hf_xet' package is not installed. Falling back to regular HTTP download. For better performance, install the package with: `pip install huggingface_hub[hf_xet]` or `pip install hf_xet`\n"
     ]
    },
    {
     "data": {
      "application/vnd.jupyter.widget-view+json": {
       "model_id": "494dcf6ec54647ada0f34af002df3189",
       "version_major": 2,
       "version_minor": 0
      },
      "text/plain": [
       "config.json:   0%|          | 0.00/190 [00:00<?, ?B/s]"
      ]
     },
     "metadata": {},
     "output_type": "display_data"
    },
    {
     "name": "stdout",
     "output_type": "stream",
     "text": [
      "\n",
      "임베딩 모델을 성공적으로 불러왔습니다!\n"
     ]
    },
    {
     "data": {
      "application/vnd.jupyter.widget-view+json": {
       "model_id": "1c3ce8a446ab4176b45bf3d5fcb865f0",
       "version_major": 2,
       "version_minor": 0
      },
      "text/plain": [
       "model.safetensors:   0%|          | 0.00/442M [00:00<?, ?B/s]"
      ]
     },
     "metadata": {},
     "output_type": "display_data"
    }
   ],
   "source": [
    "from sentence_transformers import SentenceTransformer\n",
    "\n",
    "# 한국어 문장 임베딩에 특화된 모델을 불러옵니다.\n",
    "model = SentenceTransformer('jhgan/ko-sbert-nli')\n",
    "\n",
    "print(\"\\n임베딩 모델을 성공적으로 불러왔습니다!\")"
   ]
  },
  {
   "cell_type": "code",
   "execution_count": null,
   "id": "5ddfe49c",
   "metadata": {},
   "outputs": [
    {
     "data": {
      "application/vnd.jupyter.widget-view+json": {
       "model_id": "0139376e5acc4b07b0251e459a9d1c42",
       "version_major": 2,
       "version_minor": 0
      },
      "text/plain": [
       "Batches:   0%|          | 0/313 [00:00<?, ?it/s]"
      ]
     },
     "metadata": {},
     "output_type": "display_data"
    }
   ],
   "source": [
    "# !pip install sentence-transformers chromadb pandas\n",
    "\n",
    "import pandas as pd\n",
    "from sentence_transformers import SentenceTransformer\n",
    "import chromadb\n",
    "\n",
    "# 1. 데이터 준비 (로딩, 정제, 축소)\n",
    "train_url = 'https://raw.githubusercontent.com/e9t/nsmc/master/ratings_train.txt'\n",
    "train_df = pd.read_csv(train_url, sep='\\t')\n",
    "train_df = train_df.dropna()\n",
    "target_df = train_df.head(10000)\n",
    "\n",
    "# 2. 임베딩 실행\n",
    "# (참고: show_progress_bar=True 때문에 임베딩 진행률 막대는 표시됩니다)\n",
    "model = SentenceTransformer('jhgan/ko-sbert-nli')\n",
    "documents = target_df['document'].tolist()\n",
    "embeddings = model.encode(documents, show_progress_bar=True)\n",
    "\n",
    "# 3. ChromaDB에 저장\n",
    "client = chromadb.Client()\n",
    "collection = client.get_or_create_collection(name=\"movie_reviews\")\n",
    "ids = [str(i) for i in range(len(documents))]\n",
    "collection.add(\n",
    "    documents=documents,\n",
    "    embeddings=embeddings,\n",
    "    ids=ids\n",
    ")\n",
    "\n",
    "# 4. 검색 및 결과 출력\n",
    "query_text = \"인생 최고의 영화\"\n",
    "query_embedding = model.encode([query_text])\n",
    "results = collection.query(\n",
    "    query_embeddings=query_embedding,\n",
    "    n_results=5\n",
    ")\n",
    "\n",
    "# --- 최종 검색 결과 ---\n",
    "print(f\"\\n[검색어] {query_text}\")\n",
    "print(\"-----------\")\n",
    "for i, doc in enumerate(results['documents'][0]):\n",
    "    print(f\"{i+1}위: {doc}\")"
   ]
  }
 ],
 "metadata": {
  "kernelspec": {
   "display_name": "Python 3",
   "language": "python",
   "name": "python3"
  },
  "language_info": {
   "codemirror_mode": {
    "name": "ipython",
    "version": 3
   },
   "file_extension": ".py",
   "mimetype": "text/x-python",
   "name": "python",
   "nbconvert_exporter": "python",
   "pygments_lexer": "ipython3",
   "version": "3.13.2"
  }
 },
 "nbformat": 4,
 "nbformat_minor": 5
}
