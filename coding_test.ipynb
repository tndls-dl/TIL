{
 "cells": [
  {
   "cell_type": "code",
   "execution_count": 1,
   "id": "f52adc94",
   "metadata": {},
   "outputs": [
    {
     "data": {
      "text/plain": [
       "1"
      ]
     },
     "execution_count": 1,
     "metadata": {},
     "output_type": "execute_result"
    }
   ],
   "source": [
    "def solution(angle):\n",
    "    if angle > 0 and angle < 90:\n",
    "        answer = 1\n",
    "    elif angle == 90:\n",
    "        answer = 2\n",
    "    elif angle > 90 and angle < 180:\n",
    "        answer = 3\n",
    "    elif angle == 180:\n",
    "        answer = 4\n",
    "    return answer\n",
    "\n",
    "solution(30)"
   ]
  },
  {
   "cell_type": "code",
   "execution_count": 6,
   "id": "9e22c845",
   "metadata": {},
   "outputs": [
    {
     "data": {
      "text/plain": [
       "6"
      ]
     },
     "execution_count": 6,
     "metadata": {},
     "output_type": "execute_result"
    }
   ],
   "source": [
    "def solution(n):\n",
    "    answer = 0\n",
    "    for i in range(n+1):\n",
    "        if i % 2 == 0:\n",
    "            answer += i\n",
    "    return answer\n",
    "\n",
    "solution(4)"
   ]
  },
  {
   "cell_type": "code",
   "execution_count": 8,
   "id": "61f6b4ca",
   "metadata": {},
   "outputs": [
    {
     "data": {
      "text/plain": [
       "5.5"
      ]
     },
     "execution_count": 8,
     "metadata": {},
     "output_type": "execute_result"
    }
   ],
   "source": [
    "def solution(numbers):\n",
    "    total_num = 0\n",
    "    count_num = 0\n",
    "    \n",
    "    for i in numbers:\n",
    "        total_num += i\n",
    "        count_num += 1\n",
    "\n",
    "    answer = total_num / count_num\n",
    "    return answer\n",
    "\n",
    "solution([1, 2, 3, 4, 5, 6, 7, 8, 9, 10])"
   ]
  },
  {
   "cell_type": "code",
   "execution_count": 14,
   "id": "9f17bc13",
   "metadata": {},
   "outputs": [
    {
     "data": {
      "text/plain": [
       "[5, 4, 3, 2, 1]"
      ]
     },
     "execution_count": 14,
     "metadata": {},
     "output_type": "execute_result"
    }
   ],
   "source": [
    "def solution(num_list):\n",
    "    answer = num_list[::-1]\n",
    "    return answer\n",
    "\n",
    "solution([1, 2, 3, 4, 5])"
   ]
  },
  {
   "cell_type": "code",
   "execution_count": 18,
   "id": "0a2af0b1",
   "metadata": {},
   "outputs": [
    {
     "data": {
      "text/plain": [
       "45"
      ]
     },
     "execution_count": 18,
     "metadata": {},
     "output_type": "execute_result"
    }
   ],
   "source": [
    "765%360"
   ]
  }
 ],
 "metadata": {
  "kernelspec": {
   "display_name": "Python 3",
   "language": "python",
   "name": "python3"
  },
  "language_info": {
   "codemirror_mode": {
    "name": "ipython",
    "version": 3
   },
   "file_extension": ".py",
   "mimetype": "text/x-python",
   "name": "python",
   "nbconvert_exporter": "python",
   "pygments_lexer": "ipython3",
   "version": "3.13.2"
  }
 },
 "nbformat": 4,
 "nbformat_minor": 5
}
