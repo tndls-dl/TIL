{
 "cells": [
  {
   "cell_type": "code",
   "execution_count": 2,
   "id": "d832e9ce",
   "metadata": {},
   "outputs": [
    {
     "name": "stdout",
     "output_type": "stream",
     "text": [
      "Note: you may need to restart the kernel to use updated packages.\n"
     ]
    },
    {
     "name": "stderr",
     "output_type": "stream",
     "text": [
      "\n",
      "[notice] A new release of pip is available: 24.3.1 -> 25.2\n",
      "[notice] To update, run: python.exe -m pip install --upgrade pip\n"
     ]
    }
   ],
   "source": [
    "%pip install -q duckdb"
   ]
  },
  {
   "cell_type": "code",
   "execution_count": 7,
   "id": "48e932bb",
   "metadata": {},
   "outputs": [
    {
     "name": "stdout",
     "output_type": "stream",
     "text": [
      "--- 파일 컬럼 리스트 ---\n",
      "['additives_n', 'additives_tags', 'allergens_tags', 'brands_tags', 'brands', 'categories', 'categories_tags', 'checkers_tags', 'cities_tags', 'code', 'complete', 'completeness', 'correctors_tags', 'countries_tags', 'created_t', 'creator', 'data_quality_errors_tags', 'data_quality_info_tags', 'data_quality_warnings_tags', 'data_sources_tags', 'editors', 'emb_codes_tags', 'emb_codes', 'entry_dates_tags', 'generic_name', 'images', 'informers_tags', 'ingredients_analysis_tags', 'ingredients_from_palm_oil_n', 'ingredients_n', 'ingredients_original_tags', 'ingredients_percent_analysis', 'ingredients_tags', 'ingredients_text', 'ingredients_with_specified_percent_n', 'ingredients_with_unspecified_percent_n', 'ingredients', 'known_ingredients_n', 'labels_tags', 'labels', 'lang', 'languages_tags', 'last_edit_dates_tags', 'last_editor', 'last_image_t', 'last_modified_by', 'last_modified_t', 'last_updated_t', 'link', 'main_countries_tags', 'manufacturing_places_tags', 'manufacturing_places', 'max_imgid', 'minerals_tags', 'misc_tags', 'nucleotides_tags', 'nutrient_levels_tags', 'nutrition_data_per', 'obsolete', 'origins_tags', 'origins', 'owner_fields', 'owner', 'packagings_complete', 'packaging_recycling_tags', 'packaging_shapes_tags', 'packaging_tags', 'packaging_text', 'packaging', 'packagings', 'photographers', 'popularity_key', 'popularity_tags', 'product_name', 'product_quantity_unit', 'product_quantity', 'purchase_places_tags', 'quantity', 'rev', 'scans_n', 'serving_quantity', 'serving_size', 'states_tags', 'stores_tags', 'stores', 'traces_tags', 'unique_scans_n', 'unknown_ingredients_n', 'unknown_nutrients_tags', 'vitamins_tags']\n"
     ]
    }
   ],
   "source": [
    "import duckdb\n",
    "\n",
    "# 다운로드한 Parquet 파일 경로\n",
    "file_path = './beauty.parquet'\n",
    "\n",
    "# DuckDB에 연결\n",
    "con = duckdb.connect()\n",
    "\n",
    "# Parquet 파일의 스키마(컬럼 정보)를 조회하여 데이터프레임으로 변환\n",
    "try:\n",
    "    columns_df = con.execute(f\"DESCRIBE SELECT * FROM '{file_path}'\").df()\n",
    "    \n",
    "    # 컬럼 이름만 리스트로 추출\n",
    "    column_names = columns_df['column_name'].tolist()\n",
    "    \n",
    "    print(\"--- 파일 컬럼 리스트 ---\")\n",
    "    print(column_names)\n",
    "\n",
    "except duckdb.Error as e:\n",
    "    print(f\"Error: {e}\")\n",
    "    print(\"파일 경로를 다시 확인해주세요.\")\n",
    "\n",
    "# 연결 종료\n",
    "con.close()"
   ]
  },
  {
   "cell_type": "code",
   "execution_count": 16,
   "id": "691ba123",
   "metadata": {},
   "outputs": [
    {
     "name": "stdout",
     "output_type": "stream",
     "text": [
      "--- 필터링된 모든 스킨케어 제품 목록 (총 4320개) ---\n",
      "               code                                       product_name  \\\n",
      "0     0010181032356  [{'lang': 'main', 'text': 'Huile de coco - crè...   \n",
      "1     0010181040313  [{'lang': 'main', 'text': 'Lotion de massage A...   \n",
      "2     0018787830338  [{'lang': 'main', 'text': 'Dr. Bronner's Bio K...   \n",
      "3     0020714434878  [{'lang': 'main', 'text': 'Redness solutions'}...   \n",
      "4     0022796170156  [{'lang': 'main', 'text': 'Shea butter hair ma...   \n",
      "...             ...                                                ...   \n",
      "4315  0840749000578  [{'lang': 'main', 'text': 'Revitalizing Eye Tr...   \n",
      "4316  0850020056392  [{'lang': 'main', 'text': 'Super Clear Blemish...   \n",
      "4317  0554392215615  [{'lang': 'main', 'text': 'sublime hair sérum'...   \n",
      "4318  4001638589727                                                 []   \n",
      "4319  8901030535697  [{'lang': 'main', 'text': 'Vim Dishwash Bar'},...   \n",
      "\n",
      "                  brands                                    categories_tags  \\\n",
      "0               Palmer's  [de:main, en:creme-pour-les-mains, en:alcoholi...   \n",
      "1               Palmer's  [en:body, fr:lotions-de-massage, fr:lotions-po...   \n",
      "2          Dr. Bronner's                                  [de:körperlotion]   \n",
      "3               Clinique     [en:makeup, en:face-makeup, fr:poudres-libres]   \n",
      "4          Maui Moisture             [en:hair, en:hair-care, en:hair-masks]   \n",
      "...                  ...                                                ...   \n",
      "4315      Mineral Fusion                                     [en:eye-cream]   \n",
      "4316              Bubble                                  [en:facial-serum]   \n",
      "4317               Oréal                            [fr:serum-pour-cheveux]   \n",
      "4318                None         [en:face, en:facial-creams, en:day-creams]   \n",
      "4319  Vim is sold by HUL  [en:non-open-products-facts, en:bar-soaps, en:...   \n",
      "\n",
      "                                       ingredients_text  \n",
      "0                                                    []  \n",
      "1     [{'lang': 'main', 'text': 'Aqua, Theobroma Cac...  \n",
      "2     [{'lang': 'main', 'text': 'Aqua, Cocos Nucifer...  \n",
      "3     [{'lang': 'main', 'text': 'Mica, Zinc Stearate...  \n",
      "4     [{'lang': 'main', 'text': 'Aloe Barbadensis Le...  \n",
      "...                                                 ...  \n",
      "4315  [{'lang': 'main', 'text': 'Mineral Water (Aqua...  \n",
      "4316  [{'lang': 'main', 'text': 'Salicylic Acid 2%'}...  \n",
      "4317                                                 []  \n",
      "4318                                                 []  \n",
      "4319                                                 []  \n",
      "\n",
      "[4320 rows x 5 columns]\n"
     ]
    }
   ],
   "source": [
    "import duckdb\n",
    "import pandas as pd\n",
    "\n",
    "# 다운로드한 Parquet 파일 경로\n",
    "file_path = './beauty.parquet'\n",
    "\n",
    "# DuckDB에 연결\n",
    "con = duckdb.connect()\n",
    "\n",
    "# 스킨케어 관련 키워드 목록 (언어와 무관)\n",
    "skincare_keywords = [\n",
    "    'skincare', 'face-care', 'face', 'serum', 'moisturizer', 'cream', 'creme', \n",
    "    'lotion', 'toner', 'tonic', 'gel', 'cleanser', 'wash', \n",
    "    'mask', 'scrub', 'exfoliator', 'peeling', 'sunscreen'\n",
    "]\n",
    "\n",
    "try:\n",
    "    # SQL WHERE 절 동적 생성\n",
    "    # array_to_string으로 배열을 문자열로 변환하고 LIKE를 사용\n",
    "    where_conditions = \" OR \".join([f\"lower(array_to_string(categories_tags, ' ')) LIKE '%{keyword}%'\" for keyword in skincare_keywords])\n",
    "\n",
    "    # SQL 쿼리를 사용하여 조건에 맞는 제품 목록을 가져오기\n",
    "    # 모든 데이터를 가져오기 위해 LIMIT 절을 사용하지 않습니다.\n",
    "    query = f\"\"\"\n",
    "        SELECT \n",
    "            code,\n",
    "            product_name,\n",
    "            brands,\n",
    "            categories_tags,\n",
    "            ingredients_text\n",
    "        FROM '{file_path}'\n",
    "        WHERE\n",
    "            {where_conditions}\n",
    "    \"\"\"\n",
    "    \n",
    "    # 쿼리 결과를 pandas DataFrame으로 변환\n",
    "    skincare_products_df = con.execute(query).df()\n",
    "\n",
    "    print(f\"--- 필터링된 모든 스킨케어 제품 목록 (총 {len(skincare_products_df)}개) ---\")\n",
    "    print(skincare_products_df)\n",
    "\n",
    "except duckdb.Error as e:\n",
    "    print(f\"Error: {e}\")\n",
    "    print(\"쿼리문이 잘못되었거나, 파일에 해당 컬럼이 없는지 확인해주세요.\")\n",
    "    \n",
    "finally:\n",
    "    # 연결 종료\n",
    "    con.close()"
   ]
  },
  {
   "cell_type": "code",
   "execution_count": 12,
   "id": "cf394d90",
   "metadata": {},
   "outputs": [
    {
     "name": "stdout",
     "output_type": "stream",
     "text": [
      "--- 파일 불러오기 성공 ---\n",
      "                                        product_name  \\\n",
      "0  The Ordinary Natural Moisturising Factors + HA...   \n",
      "1      CeraVe Facial Moisturising Lotion SPF 25 52ml   \n",
      "2  The Ordinary Hyaluronic Acid 2% + B5 Hydration...   \n",
      "3          AMELIORATE Transforming Body Lotion 200ml   \n",
      "4                     CeraVe Moisturising Cream 454g   \n",
      "\n",
      "                                         product_url product_type  \\\n",
      "0  https://www.lookfantastic.com/the-ordinary-nat...  Moisturiser   \n",
      "1  https://www.lookfantastic.com/cerave-facial-mo...  Moisturiser   \n",
      "2  https://www.lookfantastic.com/the-ordinary-hya...  Moisturiser   \n",
      "3  https://www.lookfantastic.com/ameliorate-trans...  Moisturiser   \n",
      "4  https://www.lookfantastic.com/cerave-moisturis...  Moisturiser   \n",
      "\n",
      "                                       clean_ingreds   price  \n",
      "0  ['capric triglyceride', 'cetyl alcohol', 'prop...   £5.20  \n",
      "1  ['homosalate', 'glycerin', 'octocrylene', 'eth...  £13.00  \n",
      "2  ['sodium hyaluronate', 'sodium hyaluronate', '...   £6.20  \n",
      "3  ['ammonium lactate', 'c12-15', 'glycerin', 'pr...  £22.50  \n",
      "4  ['glycerin', 'cetearyl alcohol', 'capric trigl...  £16.00  \n",
      "\n",
      "--- 데이터프레임 컬럼 목록 ---\n",
      "Index(['product_name', 'product_url', 'product_type', 'clean_ingreds',\n",
      "       'price'],\n",
      "      dtype='object')\n"
     ]
    }
   ],
   "source": [
    "import pandas as pd\n",
    "\n",
    "# 다운로드한 CSV 파일 경로를 지정해 주세요\n",
    "file_path = './skincare_products_clean.csv' \n",
    "\n",
    "try:\n",
    "    # CSV 파일을 pandas DataFrame으로 읽어오기\n",
    "    df = pd.read_csv(file_path)\n",
    "\n",
    "    # 데이터프레임의 상위 5개 행과 컬럼 정보 출력\n",
    "    print(\"--- 파일 불러오기 성공 ---\")\n",
    "    print(df.head())\n",
    "    \n",
    "    # 컬럼 목록만 출력\n",
    "    print(\"\\n--- 데이터프레임 컬럼 목록 ---\")\n",
    "    print(df.columns)\n",
    "    \n",
    "except FileNotFoundError:\n",
    "    print(f\"Error: {file_path} 경로에 파일이 없습니다. 파일을 올바른 위치에 저장했는지 확인해 주세요.\")\n",
    "except Exception as e:\n",
    "    print(f\"Error: 파일을 읽어오는 중 오류가 발생했습니다. {e}\")"
   ]
  }
 ],
 "metadata": {
  "kernelspec": {
   "display_name": "Python 3",
   "language": "python",
   "name": "python3"
  },
  "language_info": {
   "codemirror_mode": {
    "name": "ipython",
    "version": 3
   },
   "file_extension": ".py",
   "mimetype": "text/x-python",
   "name": "python",
   "nbconvert_exporter": "python",
   "pygments_lexer": "ipython3",
   "version": "3.13.2"
  }
 },
 "nbformat": 4,
 "nbformat_minor": 5
}
