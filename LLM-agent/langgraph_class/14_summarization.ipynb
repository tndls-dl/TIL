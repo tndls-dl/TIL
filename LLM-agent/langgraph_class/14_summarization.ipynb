{
 "cells": [
  {
   "cell_type": "markdown",
   "id": "5d269b63",
   "metadata": {},
   "source": [
    "`14_summarization`\n",
    "\n",
    "# 요약 (Summarization)\n",
    "\n",
    "매우 많은 양의 컨텍스트가 있을 경우, 어떻게 요약을 해야 할까?\n",
    "1. 프롬프트에 다 때려 박기\n",
    "2. Map-Reduce: 각 문서를 요약하고, 이것들을 다 합쳐서 최종 요약본을 만든다."
   ]
  },
  {
   "cell_type": "code",
   "execution_count": 36,
   "id": "7b14686f",
   "metadata": {},
   "outputs": [
    {
     "data": {
      "text/plain": [
       "True"
      ]
     },
     "execution_count": 36,
     "metadata": {},
     "output_type": "execute_result"
    }
   ],
   "source": [
    "from dotenv import load_dotenv\n",
    "\n",
    "load_dotenv()"
   ]
  },
  {
   "cell_type": "code",
   "execution_count": 2,
   "id": "8e2912b2",
   "metadata": {},
   "outputs": [
    {
     "name": "stdout",
     "output_type": "stream",
     "text": [
      "Note: you may need to restart the kernel to use updated packages.\n"
     ]
    },
    {
     "name": "stderr",
     "output_type": "stream",
     "text": [
      "\n",
      "[notice] A new release of pip is available: 24.3.1 -> 25.2\n",
      "[notice] To update, run: python.exe -m pip install --upgrade pip\n"
     ]
    }
   ],
   "source": [
    "%pip install -q arxiv"
   ]
  },
  {
   "cell_type": "code",
   "execution_count": 37,
   "id": "5632766d",
   "metadata": {},
   "outputs": [
    {
     "data": {
      "text/plain": [
       "2"
      ]
     },
     "execution_count": 37,
     "metadata": {},
     "output_type": "execute_result"
    }
   ],
   "source": [
    "from langchain_community.document_loaders import WebBaseLoader, ArxivLoader\n",
    "\n",
    "loader = ArxivLoader(\n",
    "    query='reasoning',\n",
    ")\n",
    "\n",
    "docs = loader.load()\n",
    "docs = docs[:2]\n",
    "len(docs)"
   ]
  },
  {
   "cell_type": "code",
   "execution_count": 38,
   "id": "3c5a0b1f",
   "metadata": {},
   "outputs": [],
   "source": [
    "from langchain_openai import ChatOpenAI\n",
    "\n",
    "llm = ChatOpenAI(model='gpt-4o', temperature=0)"
   ]
  },
  {
   "cell_type": "markdown",
   "id": "3ea2b6d8",
   "metadata": {},
   "source": [
    "## 문서 때려 박기 (Stuff Docs)"
   ]
  },
  {
   "cell_type": "code",
   "execution_count": 39,
   "id": "79bf0037",
   "metadata": {},
   "outputs": [],
   "source": [
    "from langchain.chains.combine_documents import create_stuff_documents_chain\n",
    "from langchain_core.prompts import ChatPromptTemplate\n",
    "\n",
    "prompt = ChatPromptTemplate.from_messages([\n",
    "    ('system', '아래 내용을 정확하게 요약해: \\n\\n{context}')\n",
    "])\n",
    "\n",
    "chain = create_stuff_documents_chain(llm, prompt)\n",
    "\n",
    "res = chain.invoke({'context': docs})"
   ]
  },
  {
   "cell_type": "code",
   "execution_count": 40,
   "id": "83ca9e18",
   "metadata": {},
   "outputs": [
    {
     "name": "stdout",
     "output_type": "stream",
     "text": [
      "The paper \"Process or Result? Manipulated Ending Tokens Can Mislead Reasoning LLMs to Ignore the Correct Reasoning Steps\" explores the vulnerability of reasoning large language models (LLMs) to subtle errors in their input reasoning chains. The authors introduce a concept called \"Compromising Thought\" (CPT), where models presented with reasoning tokens containing manipulated calculation results tend to ignore correct reasoning steps and adopt incorrect results. The study systematically evaluates multiple reasoning LLMs and finds that these models struggle to identify and correct manipulations, with local ending token manipulations having a greater impact on reasoning outcomes than structural changes. Additionally, a security vulnerability in DeepSeek-R1 is discovered, where tampered reasoning tokens can cause the model to stop reasoning entirely. The paper highlights the need for improved reasoning robustness and security considerations in reasoning-intensive applications.\n"
     ]
    }
   ],
   "source": [
    "print(res)"
   ]
  },
  {
   "cell_type": "markdown",
   "id": "72e92e7d",
   "metadata": {},
   "source": [
    "## Map - Reduce\n",
    "- 각각 나눠서 요약하기"
   ]
  },
  {
   "cell_type": "code",
   "execution_count": 41,
   "id": "54ff5181",
   "metadata": {},
   "outputs": [
    {
     "data": {
      "text/plain": [
       "3"
      ]
     },
     "execution_count": 41,
     "metadata": {},
     "output_type": "execute_result"
    }
   ],
   "source": [
    "from langchain_community.document_loaders import ArxivLoader\n",
    "\n",
    "loader = ArxivLoader(query='reasoning')\n",
    "docs = loader.load()\n",
    "len(docs)"
   ]
  },
  {
   "cell_type": "code",
   "execution_count": 42,
   "id": "c33ada75",
   "metadata": {},
   "outputs": [],
   "source": [
    "from langchain_community.document_loaders import WebBaseLoader\n",
    "\n",
    "loader = WebBaseLoader(\"https://lilianweng.github.io/posts/2023-06-23-agent/\")\n",
    "docs = loader.load()"
   ]
  },
  {
   "cell_type": "markdown",
   "id": "56fe4f31",
   "metadata": {},
   "source": [
    "## Langgraph로 문서별 요약 작업 조율"
   ]
  },
  {
   "cell_type": "code",
   "execution_count": 43,
   "id": "eaec9164",
   "metadata": {},
   "outputs": [
    {
     "name": "stderr",
     "output_type": "stream",
     "text": [
      "Created a chunk of size 1003, which is longer than the specified 1000\n"
     ]
    },
    {
     "data": {
      "text/plain": [
       "13"
      ]
     },
     "execution_count": 43,
     "metadata": {},
     "output_type": "execute_result"
    }
   ],
   "source": [
    "# 문서를 더 작은 문서로 쪼개기\n",
    "from langchain_text_splitters import CharacterTextSplitter\n",
    "\n",
    "text_splitter = CharacterTextSplitter.from_tiktoken_encoder(\n",
    "    chunk_size=1000,  # tiktoken 인코더라 토큰 기준 1000개\n",
    "    chunk_overlap=0,\n",
    ")\n",
    "\n",
    "split_docs = text_splitter.split_documents(docs)\n",
    "len(split_docs)"
   ]
  },
  {
   "cell_type": "code",
   "execution_count": 44,
   "id": "cd92a339",
   "metadata": {},
   "outputs": [],
   "source": [
    "import operator\n",
    "from typing_extensions import Annotated, List, Literal, TypedDict\n",
    "\n",
    "from langchain.chains.combine_documents.reduce import acollapse_docs, split_list_of_docs\n",
    "from langchain_core.documents import Document\n",
    "from langgraph.types import Send\n",
    "from langgraph.graph import START, END, StateGraph\n",
    "\n",
    "\n",
    "# 전체적으로 사용할 State (Reduce)\n",
    "class OverallState(TypedDict):\n",
    "    contents: List[str]                         # 입력 문서 조각의 내용들\n",
    "    summaries: Annotated[list, operator.add]    # 각 contents의 요약본 (노드들이 여러개의 요약을 반환하면, 자동으로 리스트에 합쳐짐)\n",
    "    collapsed_summaries: List[Document]         # summaries를 Document로 포장한 것들\n",
    "    final_summary: str                          # 최종 요약본\n",
    "\n",
    "\n",
    "# 개별 문서를 처리할 State (Map)\n",
    "class SummaryState(TypedDict):\n",
    "    content: str    # 각 문서를 요약할 때 사용할 문서의 내용"
   ]
  },
  {
   "cell_type": "code",
   "execution_count": 45,
   "id": "039c2a7f",
   "metadata": {},
   "outputs": [],
   "source": [
    "from langchain_core.prompts import ChatPromptTemplate\n",
    "\n",
    "TOKEN_MAX = 2000\n",
    "\n",
    "map_prmopt = ChatPromptTemplate.from_messages([\n",
    "    (\"system\", \"Write a concise summary of the following:\\\\n\\\\n{context}\")\n",
    "])\n",
    "\n",
    "reduce_template = \"\"\"\n",
    "The following is a set of summaries:\n",
    "{docs}\n",
    "Take these and distill it into a final, consolidated summary\n",
    "of the main themes. \n",
    "Answer in Korean.\n",
    "\"\"\"\n",
    "\n",
    "reduce_prompt = ChatPromptTemplate([\n",
    "    ('human', reduce_template)\n",
    "])"
   ]
  },
  {
   "cell_type": "code",
   "execution_count": 46,
   "id": "b79430b3",
   "metadata": {},
   "outputs": [],
   "source": [
    "# Node, Router 아닌 실제 사용할 함수들\n",
    "\n",
    "async def _reduce(input: dict) -> str:\n",
    "    prompt = reduce_prompt.invoke(input)\n",
    "    res = await llm.ainvoke(prompt)\n",
    "    return res.content\n",
    "\n",
    "# documents 인자 내부의 모든 내용의 토큰 총 합\n",
    "def sum_docs_tokens(documents: List[Document]) -> int:\n",
    "    return sum(llm.get_num_tokens(doc.page_content) for doc in documents)"
   ]
  },
  {
   "cell_type": "code",
   "execution_count": 47,
   "id": "001d81cc",
   "metadata": {},
   "outputs": [],
   "source": [
    "# Edge (router) -> 각 원본조각을 요약할수 있게 generate_summary 로 보냄 (문서 조각 개수만큼)\n",
    "def map_summaries(state: OverallState):\n",
    "    result = []\n",
    "    for content in state['contents']:\n",
    "        result.append(Send('generate_summary', {'content': content}))\n",
    "    return result  # List Comprehension 으로 교체 가능\n",
    "\n",
    "\n",
    "# Edge (router) -> 재귀적으로 계속 collapse_suammries 를 할지, 끝낼지 결정하는 라우터\n",
    "def should_collapse(\n",
    "    state: OverallState,\n",
    ") -> Literal[\"collapse_summaries\", \"generate_final_summary\"]:\n",
    "    num_tokens = sum_docs_tokens(state[\"collapsed_summaries\"])\n",
    "    if num_tokens > TOKEN_MAX:\n",
    "        return \"collapse_summaries\"\n",
    "    else:\n",
    "        return \"generate_final_summary\"\n",
    "\n",
    "\n",
    "# Node: 주어진 내용을 요약함. (비동기적 실행)\n",
    "async def generate_summary(state: SummaryState):\n",
    "    prompt = map_prmopt.invoke({'context': state['content']})\n",
    "    res = await llm.ainvoke(prompt)\n",
    "    return {'summaries': [res.content]}\n",
    "\n",
    "\n",
    "# Node: 위에서 생성한 요약들을 Document() 객체로 만들어서 'collapsed_summaries' 키에 넣어줌\n",
    "def collect_summaries(state: OverallState):\n",
    "    return {\n",
    "        'collapsed_summaries': [Document(summary) for summary in state['summaries']]\n",
    "    }\n",
    "\n",
    "\n",
    "# Node: 1차 요약이 완료. -> 요약본이 토큰수가 너무 많을 수 있다 -> 필요에 따라 더 작은 요약으로 축소(collapse)\n",
    "async def collapse_summaries(state: OverallState):\n",
    "    docs_lists = split_list_of_docs(\n",
    "        state['collapsed_summaries'],\n",
    "        sum_docs_tokens,\n",
    "        TOKEN_MAX\n",
    "    )\n",
    "    results = []\n",
    "    for doc_list in docs_lists:\n",
    "        results.append(await acollapse_docs(doc_list, _reduce))\n",
    "\n",
    "    return {'collapsed_summaries': results}\n",
    "\n",
    "\n",
    "# Node: 최종 정리 노드\n",
    "async def generate_final_summary(state: OverallState):\n",
    "    response = await _reduce(state[\"collapsed_summaries\"])\n",
    "    return {\"final_summary\": response}"
   ]
  },
  {
   "cell_type": "code",
   "execution_count": 48,
   "id": "82a8c778",
   "metadata": {},
   "outputs": [],
   "source": [
    "# Construct the graph\n",
    "# Nodes:\n",
    "graph = StateGraph(OverallState)\n",
    "graph.add_node(\"generate_summary\", generate_summary)  # same as before\n",
    "graph.add_node(\"collect_summaries\", collect_summaries)\n",
    "graph.add_node(\"collapse_summaries\", collapse_summaries)\n",
    "graph.add_node(\"generate_final_summary\", generate_final_summary)\n",
    "\n",
    "# Edges:\n",
    "graph.add_conditional_edges(START, map_summaries, [\"generate_summary\"])\n",
    "graph.add_edge(\"generate_summary\", \"collect_summaries\")\n",
    "graph.add_conditional_edges(\"collect_summaries\", should_collapse)\n",
    "graph.add_conditional_edges(\"collapse_summaries\", should_collapse)\n",
    "graph.add_edge(\"generate_final_summary\", END)\n",
    "\n",
    "app = graph.compile()"
   ]
  },
  {
   "cell_type": "code",
   "execution_count": 49,
   "id": "dd64f20a",
   "metadata": {},
   "outputs": [
    {
     "name": "stdout",
     "output_type": "stream",
     "text": [
      "{'generate_summary': {'summaries': ['The article \"LLM Powered Autonomous Agents\" by Lilian Weng discusses the concept of building autonomous agents using large language models (LLMs) as their core controllers. These agents are capable of planning, memory retention, and tool use, making them powerful problem solvers beyond just generating text. The system involves breaking down tasks into subgoals, self-reflection for improvement, utilizing short-term and long-term memory, and accessing external APIs for additional information. The article highlights proof-of-concept demos like AutoGPT and GPT-Engineer, showcasing the potential of LLMs in creating sophisticated autonomous agents.']}}\n",
      "{'generate_summary': {'summaries': ['The document outlines a set of commands and resources available for task execution and management. Commands include actions like Google searching, browsing websites, managing GPT agents, file operations, code analysis, and more. Resources include internet access, long-term memory management, and GPT-3.5 powered agents for task delegation. Performance evaluation emphasizes continuous self-review, efficiency, and strategic refinement to ensure optimal task completion. The system is trained on data up to October 2023, and each command has an associated cost, encouraging smart and efficient task execution.']}}\n",
      "{'generate_summary': {'summaries': [\"The system's finite context length limits its ability to incorporate historical information, detailed instructions, and responses, which affects its communication bandwidth. While vector stores can access a larger knowledge pool, they lack the representation power of full attention. Long-term planning and task decomposition are challenging for LLMs, as they struggle to adapt plans when encountering unexpected errors, unlike humans who learn from trial and error. The reliability of the natural language interface is also a concern, as LLMs may produce formatting errors or refuse instructions, leading to a focus on parsing model output in agent demos.\"]}}\n",
      "{'generate_summary': {'summaries': ['The text discusses the comparison of MIPS algorithms in terms of recall@10 and highlights the importance of tool use in extending the capabilities of large language models (LLMs). It mentions MRKL, a neuro-symbolic architecture that uses expert modules to enhance LLMs, and experiments showing the challenges LLMs face in solving verbal math problems. It also covers TALM and Toolformer, which fine-tune LLMs to use external tool APIs, and provides examples like ChatGPT Plugins and OpenAI API function calling. HuggingGPT is introduced as a framework using ChatGPT for task planning and model selection, with a detailed explanation of its four-stage process: task planning, model selection, task execution, and response summarization.']}}\n",
      "{'generate_summary': {'summaries': [\"The text discusses advanced techniques for planning and self-reflection in AI models to enhance their performance on complex tasks. It highlights task decomposition methods like Chain of Thought (CoT) and Tree of Thoughts, which break down tasks into smaller steps and explore multiple reasoning paths. Another approach, LLM+P, uses an external planner for long-term planning via the Planning Domain Definition Language (PDDL). Self-reflection is emphasized as crucial for iterative improvement, with frameworks like ReAct and Reflexion integrating reasoning and action, and using dynamic memory to refine decision-making. These methods aim to improve AI's ability to handle knowledge-intensive and decision-making tasks by enhancing reasoning and planning capabilities.\"]}}\n",
      "{'generate_summary': {'summaries': ['The article \"LLM-powered Autonomous Agents\" by Lilian Weng, published in June 2023, discusses the development and capabilities of autonomous agents powered by large language models (LLMs). It references various studies and preprints that explore different aspects of LLMs, such as reasoning, problem-solving, planning proficiency, and the integration of external tools and knowledge sources. The article highlights the potential of LLMs in enhancing autonomous agents\\' abilities to perform complex tasks, interact with humans, and adapt to feedback. It also mentions advancements in vector similarity search and the use of LLMs in scientific research and chemistry. The article is part of a broader discussion on the steerability and prompting of language models.']}}\n",
      "{'generate_summary': {'summaries': ['The conversation involves a user instructing an AI assistant to create a detailed and functional code architecture for a game using Python. The assistant is expected to follow a step-by-step approach, starting with defining core classes, functions, and methods, and then outputting the complete code for each file in a markdown format. The architecture should include a model for game data, a view for visuals, and a controller for user input. The assistant is reminded to ensure all code is fully functional, compatible across files, and follows best practices, including creating a requirements.txt file for Python dependencies. The user emphasizes the importance of a detailed and correct implementation, with no placeholders, and asks the assistant to double-check that all parts of the architecture are present.']}}\n",
      "{'generate_summary': {'summaries': ['The text discusses a process of anticancer drug discovery, where a target is selected, a scaffold is requested, and synthesis is attempted once a compound is identified. It also addresses the risks associated with illicit drugs and bioweapons, with a test set developed for known chemical weapon agents. Out of 11 synthesis requests, 4 were accepted, and 7 were rejected, with some rejections occurring after a web search. The text then describes Generative Agents, a simulation where virtual characters, controlled by LLM-powered agents, interact in a sandbox environment. These agents use memory, planning, and reflection mechanisms to simulate human behavior. The simulation results in emergent social behaviors like information diffusion and social event coordination. Lastly, AutoGPT is mentioned as a proof-of-concept for autonomous agents using LLM, highlighting its reliability issues but potential for autonomous decision-making without user assistance.']}}\n",
      "{'generate_summary': {'summaries': ['```json\\n{\\n    \"thoughts\": {\\n        \"text\": \"The task involves creating a Super Mario game in Python using the MVC architecture, with components split into separate files and controlled via keyboard input.\",\\n        \"reasoning\": \"The user has provided a basic outline of the game, but there are still details that need clarification, such as the specifics of the MVC components and keyboard controls.\",\\n        \"plan\": \"- Clarify the specifics of the MVC components\\\\n- Clarify the keyboard control implementation\\\\n- Move to code writing once clarifications are complete\",\\n        \"criticism\": \"I should ensure that all necessary details are clarified before proceeding to the coding phase to avoid potential misunderstandings.\",\\n        \"speak\": \"We need to clarify the specifics of the MVC components and keyboard controls before proceeding with the code writing.\"\\n    },\\n    \"command\": {\\n        \"name\": \"clarify_mvc_components\",\\n        \"args\": {\\n            \"question\": \"Can you provide more information about how the MVC components are split into separate files?\"\\n        }\\n    }\\n}\\n```']}}\n",
      "{'generate_summary': {'summaries': ['Chain of Hindsight (CoH) is a method that enhances model outputs by presenting a sequence of past outputs with feedback, allowing the model to self-reflect and improve. It uses human feedback data, where each entry includes a prompt, model completion, human rating, and hindsight feedback. The model is fine-tuned to predict the best output based on this feedback sequence, with regularization to prevent overfitting and random masking to avoid copying. CoH is tested with datasets like WebGPT comparisons and human feedback summarization. Algorithm Distillation (AD) applies a similar concept in reinforcement learning, using cross-episode trajectories to improve performance. It distills learning histories into a neural network, using multi-episode contexts to learn a task-agnostic policy. AD shows improved performance compared to baselines, learning faster and achieving results close to RL^2, despite using offline RL.']}}\n",
      "{'generate_summary': {'summaries': ['Human memory is categorized into three main types: sensory memory, short-term memory (STM), and long-term memory (LTM). Sensory memory is the initial stage, retaining sensory impressions for a few seconds, with subcategories like iconic (visual), echoic (auditory), and haptic (touch) memory. STM, or working memory, holds information for 20-30 seconds and is limited to about 7 items, aiding in tasks like learning and reasoning. LTM stores information for extended periods, with explicit memory (facts and events) and implicit memory (skills and routines) as subtypes. In computational terms, sensory memory is akin to learning raw input representations, STM to in-context learning, and LTM to an external vector store for fast retrieval. Maximum Inner Product Search (MIPS) optimizes retrieval speed using algorithms like LSH, ANNOY, HNSW, FAISS, and ScaNN, which balance speed and accuracy in searching large data sets.']}}\n",
      "{'generate_summary': {'summaries': [\"To address the user's request, HuggingGPT needs to improve efficiency, stability, and context management in real-world applications. The API-Bank benchmark evaluates tool-augmented LLMs' performance in API usage, focusing on decision-making accuracy and tool use capabilities across three levels. Case studies like ChemCrow demonstrate the potential of domain-specific LLMs in scientific discovery, highlighting the importance of expert-designed tools and human evaluation for complex tasks.\\n\\nTask Process:\\n1. User Input: The user provides a request or query.\\n2. Task Planning: The system identifies tasks needed to fulfill the request.\\n3. Model Selection: Appropriate expert models are assigned to execute the tasks.\\n4. Task Execution: Expert models perform the tasks and log results.\\n\\nAnalysis and Model Inference Results:\\n- Efficiency improvements are needed to speed up LLM inference and model interactions.\\n- A long context window is required for handling complex task content.\\n- Stability improvements are necessary for consistent LLM outputs and external model services.\\n- API-Bank evaluates LLMs' tool use capabilities, focusing on API call accuracy, retrieval, and planning.\\n- ChemCrow, a domain-specific LLM, outperforms GPT-4 in scientific tasks, emphasizing the need for expert evaluation.\\n\\nIn summary, HuggingGPT's real-world application requires addressing efficiency, stability, and context management challenges, while benchmarks like API-Bank and case studies like ChemCrow provide insights into improving LLM performance in specific domains.\"]}}\n",
      "{'generate_summary': {'summaries': ['To create a fully functional Python project with a focus on best practices, we will design a simple application that demonstrates the use of classes, functions, and modules. The project will include a main entry point, a few core classes, and a requirements file for dependencies. We will use `dataclasses` for structured data and `pytest` for testing.\\n\\n### Project Structure\\n\\n1. **main.py**: The entry point of the application.\\n2. **calculator.py**: Contains the `Calculator` class for basic arithmetic operations.\\n3. **utils.py**: Contains utility functions.\\n4. **test_calculator.py**: Contains unit tests for the `Calculator` class.\\n5. **requirements.txt**: Lists the project dependencies.\\n\\n### Core Classes and Functions\\n\\n- **Calculator**: A class in `calculator.py` that performs basic arithmetic operations.\\n  - `add(a, b)`: Returns the sum of `a` and `b`.\\n  - `subtract(a, b)`: Returns the difference of `a` and `b`.\\n  - `multiply(a, b)`: Returns the product of `a` and `b`.\\n  - `divide(a, b)`: Returns the quotient of `a` and `b`.\\n\\n- **Utility Functions**: In `utils.py`.\\n  - `validate_numbers(a, b)`: Ensures that inputs are numbers.\\n\\n### Code Implementation\\n\\n#### main.py\\n```python\\n# main.py\\nfrom calculator import Calculator\\n\\ndef main():\\n    calc = Calculator()\\n    print(\"Addition:\", calc.add(5, 3))\\n    print(\"Subtraction:\", calc.subtract(5, 3))\\n    print(\"Multiplication:\", calc.multiply(5, 3))\\n    print(\"Division:\", calc.divide(5, 3))\\n\\nif __name__ == \"__main__\":\\n    main()\\n```\\n\\n#### calculator.py\\n```python\\n# calculator.py\\nfrom utils import validate_numbers\\n\\nclass Calculator:\\n    \"\"\"Performs basic arithmetic operations.\"\"\"\\n\\n    def add(self, a, b):\\n        \"\"\"Returns the sum of a and b.\"\"\"\\n        validate_numbers(a, b)\\n        return a + b\\n\\n    def subtract(self, a, b):\\n        \"\"\"Returns the difference of a and b.\"\"\"\\n        validate_numbers(a, b)\\n        return a - b\\n\\n    def multiply(self, a, b):\\n        \"\"\"Returns the product of a and b.\"\"\"\\n        validate_numbers(a, b)\\n        return a * b\\n\\n    def divide(self, a, b):\\n        \"\"\"Returns the quotient of a and b.\"\"\"\\n        validate_numbers(a, b)\\n        if b == 0:\\n            raise ValueError(\"Cannot divide by zero.\")\\n        return a / b\\n```\\n\\n#### utils.py\\n```python\\n# utils.py\\n\\ndef validate_numbers(a, b):\\n    \"\"\"Ensures that inputs are numbers.\"\"\"\\n    if not (isinstance(a, (int, float)) and isinstance(b, (int, float))):\\n        raise TypeError(\"Inputs must be numbers.\")\\n```\\n\\n#### test_calculator.py\\n```python\\n# test_calculator.py\\nimport pytest\\nfrom calculator import Calculator\\n\\ndef test_add():\\n    calc = Calculator()\\n    assert calc.add(2, 3) == 5\\n\\ndef test_subtract():\\n    calc = Calculator()\\n    assert calc.subtract(5, 3) == 2\\n\\ndef test_multiply():\\n    calc = Calculator()\\n    assert calc.multiply(2, 3) == 6\\n\\ndef test_divide():\\n    calc = Calculator()\\n    assert calc.divide(6, 3) == 2\\n\\ndef test_divide_by_zero():\\n    calc = Calculator()\\n    with pytest.raises(ValueError):\\n        calc.divide(6, 0)\\n```\\n\\n#### requirements.txt\\n```\\n# requirements.txt\\npytest\\n```\\n\\n### Final Checks\\n\\n- Ensure all files are present and correctly named.\\n- Verify that all imports are correct and that the code is compatible across files.\\n- Confirm that the `requirements.txt` includes all necessary dependencies.\\n- Run `pytest` to ensure all tests pass successfully.\\n\\nThis project structure and code implementation follow Python best practices, ensuring a clean, maintainable, and testable codebase.']}}\n",
      "{'collect_summaries': {'collapsed_summaries': [Document(metadata={}, page_content='The article \"LLM Powered Autonomous Agents\" by Lilian Weng discusses the concept of building autonomous agents using large language models (LLMs) as their core controllers. These agents are capable of planning, memory retention, and tool use, making them powerful problem solvers beyond just generating text. The system involves breaking down tasks into subgoals, self-reflection for improvement, utilizing short-term and long-term memory, and accessing external APIs for additional information. The article highlights proof-of-concept demos like AutoGPT and GPT-Engineer, showcasing the potential of LLMs in creating sophisticated autonomous agents.'), Document(metadata={}, page_content=\"The text discusses advanced techniques for planning and self-reflection in AI models to enhance their performance on complex tasks. It highlights task decomposition methods like Chain of Thought (CoT) and Tree of Thoughts, which break down tasks into smaller steps and explore multiple reasoning paths. Another approach, LLM+P, uses an external planner for long-term planning via the Planning Domain Definition Language (PDDL). Self-reflection is emphasized as crucial for iterative improvement, with frameworks like ReAct and Reflexion integrating reasoning and action, and using dynamic memory to refine decision-making. These methods aim to improve AI's ability to handle knowledge-intensive and decision-making tasks by enhancing reasoning and planning capabilities.\"), Document(metadata={}, page_content='Chain of Hindsight (CoH) is a method that enhances model outputs by presenting a sequence of past outputs with feedback, allowing the model to self-reflect and improve. It uses human feedback data, where each entry includes a prompt, model completion, human rating, and hindsight feedback. The model is fine-tuned to predict the best output based on this feedback sequence, with regularization to prevent overfitting and random masking to avoid copying. CoH is tested with datasets like WebGPT comparisons and human feedback summarization. Algorithm Distillation (AD) applies a similar concept in reinforcement learning, using cross-episode trajectories to improve performance. It distills learning histories into a neural network, using multi-episode contexts to learn a task-agnostic policy. AD shows improved performance compared to baselines, learning faster and achieving results close to RL^2, despite using offline RL.'), Document(metadata={}, page_content='Human memory is categorized into three main types: sensory memory, short-term memory (STM), and long-term memory (LTM). Sensory memory is the initial stage, retaining sensory impressions for a few seconds, with subcategories like iconic (visual), echoic (auditory), and haptic (touch) memory. STM, or working memory, holds information for 20-30 seconds and is limited to about 7 items, aiding in tasks like learning and reasoning. LTM stores information for extended periods, with explicit memory (facts and events) and implicit memory (skills and routines) as subtypes. In computational terms, sensory memory is akin to learning raw input representations, STM to in-context learning, and LTM to an external vector store for fast retrieval. Maximum Inner Product Search (MIPS) optimizes retrieval speed using algorithms like LSH, ANNOY, HNSW, FAISS, and ScaNN, which balance speed and accuracy in searching large data sets.'), Document(metadata={}, page_content='The text discusses the comparison of MIPS algorithms in terms of recall@10 and highlights the importance of tool use in extending the capabilities of large language models (LLMs). It mentions MRKL, a neuro-symbolic architecture that uses expert modules to enhance LLMs, and experiments showing the challenges LLMs face in solving verbal math problems. It also covers TALM and Toolformer, which fine-tune LLMs to use external tool APIs, and provides examples like ChatGPT Plugins and OpenAI API function calling. HuggingGPT is introduced as a framework using ChatGPT for task planning and model selection, with a detailed explanation of its four-stage process: task planning, model selection, task execution, and response summarization.'), Document(metadata={}, page_content=\"To address the user's request, HuggingGPT needs to improve efficiency, stability, and context management in real-world applications. The API-Bank benchmark evaluates tool-augmented LLMs' performance in API usage, focusing on decision-making accuracy and tool use capabilities across three levels. Case studies like ChemCrow demonstrate the potential of domain-specific LLMs in scientific discovery, highlighting the importance of expert-designed tools and human evaluation for complex tasks.\\n\\nTask Process:\\n1. User Input: The user provides a request or query.\\n2. Task Planning: The system identifies tasks needed to fulfill the request.\\n3. Model Selection: Appropriate expert models are assigned to execute the tasks.\\n4. Task Execution: Expert models perform the tasks and log results.\\n\\nAnalysis and Model Inference Results:\\n- Efficiency improvements are needed to speed up LLM inference and model interactions.\\n- A long context window is required for handling complex task content.\\n- Stability improvements are necessary for consistent LLM outputs and external model services.\\n- API-Bank evaluates LLMs' tool use capabilities, focusing on API call accuracy, retrieval, and planning.\\n- ChemCrow, a domain-specific LLM, outperforms GPT-4 in scientific tasks, emphasizing the need for expert evaluation.\\n\\nIn summary, HuggingGPT's real-world application requires addressing efficiency, stability, and context management challenges, while benchmarks like API-Bank and case studies like ChemCrow provide insights into improving LLM performance in specific domains.\"), Document(metadata={}, page_content='The text discusses a process of anticancer drug discovery, where a target is selected, a scaffold is requested, and synthesis is attempted once a compound is identified. It also addresses the risks associated with illicit drugs and bioweapons, with a test set developed for known chemical weapon agents. Out of 11 synthesis requests, 4 were accepted, and 7 were rejected, with some rejections occurring after a web search. The text then describes Generative Agents, a simulation where virtual characters, controlled by LLM-powered agents, interact in a sandbox environment. These agents use memory, planning, and reflection mechanisms to simulate human behavior. The simulation results in emergent social behaviors like information diffusion and social event coordination. Lastly, AutoGPT is mentioned as a proof-of-concept for autonomous agents using LLM, highlighting its reliability issues but potential for autonomous decision-making without user assistance.'), Document(metadata={}, page_content='The document outlines a set of commands and resources available for task execution and management. Commands include actions like Google searching, browsing websites, managing GPT agents, file operations, code analysis, and more. Resources include internet access, long-term memory management, and GPT-3.5 powered agents for task delegation. Performance evaluation emphasizes continuous self-review, efficiency, and strategic refinement to ensure optimal task completion. The system is trained on data up to October 2023, and each command has an associated cost, encouraging smart and efficient task execution.'), Document(metadata={}, page_content='```json\\n{\\n    \"thoughts\": {\\n        \"text\": \"The task involves creating a Super Mario game in Python using the MVC architecture, with components split into separate files and controlled via keyboard input.\",\\n        \"reasoning\": \"The user has provided a basic outline of the game, but there are still details that need clarification, such as the specifics of the MVC components and keyboard controls.\",\\n        \"plan\": \"- Clarify the specifics of the MVC components\\\\n- Clarify the keyboard control implementation\\\\n- Move to code writing once clarifications are complete\",\\n        \"criticism\": \"I should ensure that all necessary details are clarified before proceeding to the coding phase to avoid potential misunderstandings.\",\\n        \"speak\": \"We need to clarify the specifics of the MVC components and keyboard controls before proceeding with the code writing.\"\\n    },\\n    \"command\": {\\n        \"name\": \"clarify_mvc_components\",\\n        \"args\": {\\n            \"question\": \"Can you provide more information about how the MVC components are split into separate files?\"\\n        }\\n    }\\n}\\n```'), Document(metadata={}, page_content='To create a fully functional Python project with a focus on best practices, we will design a simple application that demonstrates the use of classes, functions, and modules. The project will include a main entry point, a few core classes, and a requirements file for dependencies. We will use `dataclasses` for structured data and `pytest` for testing.\\n\\n### Project Structure\\n\\n1. **main.py**: The entry point of the application.\\n2. **calculator.py**: Contains the `Calculator` class for basic arithmetic operations.\\n3. **utils.py**: Contains utility functions.\\n4. **test_calculator.py**: Contains unit tests for the `Calculator` class.\\n5. **requirements.txt**: Lists the project dependencies.\\n\\n### Core Classes and Functions\\n\\n- **Calculator**: A class in `calculator.py` that performs basic arithmetic operations.\\n  - `add(a, b)`: Returns the sum of `a` and `b`.\\n  - `subtract(a, b)`: Returns the difference of `a` and `b`.\\n  - `multiply(a, b)`: Returns the product of `a` and `b`.\\n  - `divide(a, b)`: Returns the quotient of `a` and `b`.\\n\\n- **Utility Functions**: In `utils.py`.\\n  - `validate_numbers(a, b)`: Ensures that inputs are numbers.\\n\\n### Code Implementation\\n\\n#### main.py\\n```python\\n# main.py\\nfrom calculator import Calculator\\n\\ndef main():\\n    calc = Calculator()\\n    print(\"Addition:\", calc.add(5, 3))\\n    print(\"Subtraction:\", calc.subtract(5, 3))\\n    print(\"Multiplication:\", calc.multiply(5, 3))\\n    print(\"Division:\", calc.divide(5, 3))\\n\\nif __name__ == \"__main__\":\\n    main()\\n```\\n\\n#### calculator.py\\n```python\\n# calculator.py\\nfrom utils import validate_numbers\\n\\nclass Calculator:\\n    \"\"\"Performs basic arithmetic operations.\"\"\"\\n\\n    def add(self, a, b):\\n        \"\"\"Returns the sum of a and b.\"\"\"\\n        validate_numbers(a, b)\\n        return a + b\\n\\n    def subtract(self, a, b):\\n        \"\"\"Returns the difference of a and b.\"\"\"\\n        validate_numbers(a, b)\\n        return a - b\\n\\n    def multiply(self, a, b):\\n        \"\"\"Returns the product of a and b.\"\"\"\\n        validate_numbers(a, b)\\n        return a * b\\n\\n    def divide(self, a, b):\\n        \"\"\"Returns the quotient of a and b.\"\"\"\\n        validate_numbers(a, b)\\n        if b == 0:\\n            raise ValueError(\"Cannot divide by zero.\")\\n        return a / b\\n```\\n\\n#### utils.py\\n```python\\n# utils.py\\n\\ndef validate_numbers(a, b):\\n    \"\"\"Ensures that inputs are numbers.\"\"\"\\n    if not (isinstance(a, (int, float)) and isinstance(b, (int, float))):\\n        raise TypeError(\"Inputs must be numbers.\")\\n```\\n\\n#### test_calculator.py\\n```python\\n# test_calculator.py\\nimport pytest\\nfrom calculator import Calculator\\n\\ndef test_add():\\n    calc = Calculator()\\n    assert calc.add(2, 3) == 5\\n\\ndef test_subtract():\\n    calc = Calculator()\\n    assert calc.subtract(5, 3) == 2\\n\\ndef test_multiply():\\n    calc = Calculator()\\n    assert calc.multiply(2, 3) == 6\\n\\ndef test_divide():\\n    calc = Calculator()\\n    assert calc.divide(6, 3) == 2\\n\\ndef test_divide_by_zero():\\n    calc = Calculator()\\n    with pytest.raises(ValueError):\\n        calc.divide(6, 0)\\n```\\n\\n#### requirements.txt\\n```\\n# requirements.txt\\npytest\\n```\\n\\n### Final Checks\\n\\n- Ensure all files are present and correctly named.\\n- Verify that all imports are correct and that the code is compatible across files.\\n- Confirm that the `requirements.txt` includes all necessary dependencies.\\n- Run `pytest` to ensure all tests pass successfully.\\n\\nThis project structure and code implementation follow Python best practices, ensuring a clean, maintainable, and testable codebase.'), Document(metadata={}, page_content='The conversation involves a user instructing an AI assistant to create a detailed and functional code architecture for a game using Python. The assistant is expected to follow a step-by-step approach, starting with defining core classes, functions, and methods, and then outputting the complete code for each file in a markdown format. The architecture should include a model for game data, a view for visuals, and a controller for user input. The assistant is reminded to ensure all code is fully functional, compatible across files, and follows best practices, including creating a requirements.txt file for Python dependencies. The user emphasizes the importance of a detailed and correct implementation, with no placeholders, and asks the assistant to double-check that all parts of the architecture are present.'), Document(metadata={}, page_content=\"The system's finite context length limits its ability to incorporate historical information, detailed instructions, and responses, which affects its communication bandwidth. While vector stores can access a larger knowledge pool, they lack the representation power of full attention. Long-term planning and task decomposition are challenging for LLMs, as they struggle to adapt plans when encountering unexpected errors, unlike humans who learn from trial and error. The reliability of the natural language interface is also a concern, as LLMs may produce formatting errors or refuse instructions, leading to a focus on parsing model output in agent demos.\"), Document(metadata={}, page_content='The article \"LLM-powered Autonomous Agents\" by Lilian Weng, published in June 2023, discusses the development and capabilities of autonomous agents powered by large language models (LLMs). It references various studies and preprints that explore different aspects of LLMs, such as reasoning, problem-solving, planning proficiency, and the integration of external tools and knowledge sources. The article highlights the potential of LLMs in enhancing autonomous agents\\' abilities to perform complex tasks, interact with humans, and adapt to feedback. It also mentions advancements in vector similarity search and the use of LLMs in scientific research and chemistry. The article is part of a broader discussion on the steerability and prompting of language models.')]}}\n",
      "{'collapse_summaries': {'collapsed_summaries': [Document(metadata={}, page_content='이 문서들은 대규모 언어 모델(LLM)을 활용한 자율 에이전트 개발과 관련된 다양한 주제를 다루고 있습니다. 주요 내용은 다음과 같습니다:\\n\\n1. **자율 에이전트와 LLM**: LLM을 핵심 제어기로 사용하는 자율 에이전트는 계획, 기억 유지, 도구 사용 능력을 갖추고 있어 문제 해결에 강력한 도구로 작용합니다. AutoGPT와 GPT-Engineer와 같은 데모가 이러한 가능성을 보여줍니다.\\n\\n2. **계획 및 자기 성찰 기법**: 복잡한 작업 수행 능력을 향상시키기 위해 계획 및 자기 성찰 기법이 강조됩니다. Chain of Thought(CoT), Tree of Thoughts, LLM+P와 같은 방법이 소개되며, ReAct와 Reflexion 프레임워크가 자기 성찰을 통해 의사결정 과정을 개선합니다.\\n\\n3. **기억과 검색 최적화**: 인간의 기억 체계와 유사하게, 컴퓨터 시스템에서의 기억은 감각 기억, 단기 기억, 장기 기억으로 나뉩니다. MIPS 알고리즘은 대규모 데이터 세트에서의 검색 속도를 최적화합니다.\\n\\n4. **도구 사용과 LLM 확장**: MRKL, TALM, Toolformer와 같은 아키텍처는 LLM의 도구 사용 능력을 확장하며, ChatGPT 플러그인과 OpenAI API 기능 호출이 예로 제시됩니다. HuggingGPT는 작업 계획, 모델 선택, 작업 실행, 응답 요약의 네 단계로 구성된 프레임워크입니다.\\n\\n5. **효율성 및 안정성 개선**: HuggingGPT의 실세계 적용을 위해 효율성, 안정성, 컨텍스트 관리의 개선이 필요합니다. API-Bank 벤치마크는 LLM의 도구 사용 능력을 평가하며, ChemCrow와 같은 사례 연구는 특정 도메인에서의 LLM 성능 향상을 강조합니다.\\n\\n6. **약물 발견 및 시뮬레이션**: 항암제 발견 과정과 불법 약물 및 생화학 무기와 관련된 위험이 논의됩니다. Generative Agents는 LLM 기반 에이전트가 인간 행동을 시뮬레이션하는 환경을 제공합니다.\\n\\n이러한 주제들은 LLM의 다양한 응용 가능성과 그에 따른 도전 과제를 탐구하며, LLM의 성능을 향상시키기 위한 다양한 접근 방식을 제시합니다.'), Document(metadata={}, page_content='이 문서들은 주로 Python 프로젝트와 LLM(대형 언어 모델)을 활용한 자율 에이전트에 관한 내용을 다루고 있습니다. 첫 번째 문서는 Python 프로젝트의 구조와 모범 사례를 강조하며, 클래스, 함수, 모듈을 사용한 간단한 애플리케이션을 설계하는 방법을 설명합니다. 이 프로젝트는 `dataclasses`와 `pytest`를 사용하여 구조화된 데이터와 테스트를 구현합니다. 두 번째 문서는 게임을 위한 코드 아키텍처를 Python으로 설계하는 과정에서의 핵심 클래스, 함수, 메서드 정의를 다루며, 모든 코드가 기능적이고 파일 간 호환성을 유지하도록 하는 중요성을 강조합니다. 세 번째 문서는 LLM의 한계와 도전 과제, 특히 장기 계획 및 작업 분해에서의 어려움을 설명합니다. 마지막으로, 네 번째 문서는 LLM을 활용한 자율 에이전트의 발전 가능성과 다양한 연구를 통해 LLM의 문제 해결 능력, 계획 능력, 외부 도구 및 지식 소스 통합을 탐구합니다. 이 모든 내용은 LLM의 향상된 기능과 인간과의 상호작용, 피드백 적응 능력에 대한 논의로 이어집니다.')]}}\n",
      "{'generate_final_summary': {'final_summary': '이 문서들은 대규모 언어 모델(LLM)을 활용한 자율 에이전트 개발과 관련된 다양한 주제를 다루고 있습니다. 주요 내용은 다음과 같습니다:\\n\\n1. **자율 에이전트와 LLM**: LLM을 핵심 제어기로 사용하는 자율 에이전트는 계획, 기억 유지, 도구 사용 능력을 갖추고 있어 문제 해결에 강력한 도구로 작용합니다. AutoGPT와 GPT-Engineer와 같은 데모가 이러한 가능성을 보여줍니다.\\n\\n2. **계획 및 자기 성찰 기법**: 복잡한 작업 수행 능력을 향상시키기 위해 계획 및 자기 성찰 기법이 강조됩니다. Chain of Thought(CoT), Tree of Thoughts, LLM+P와 같은 방법이 소개되며, ReAct와 Reflexion 프레임워크가 자기 성찰을 통해 의사결정 과정을 개선합니다.\\n\\n3. **기억과 검색 최적화**: 인간의 기억 체계와 유사하게, 컴퓨터 시스템에서의 기억은 감각 기억, 단기 기억, 장기 기억으로 나뉩니다. MIPS 알고리즘은 대규모 데이터 세트에서의 검색 속도를 최적화합니다.\\n\\n4. **도구 사용과 LLM 확장**: MRKL, TALM, Toolformer와 같은 아키텍처는 LLM의 도구 사용 능력을 확장하며, ChatGPT 플러그인과 OpenAI API 기능 호출이 예로 제시됩니다. HuggingGPT는 작업 계획, 모델 선택, 작업 실행, 응답 요약의 네 단계로 구성된 프레임워크입니다.\\n\\n5. **효율성 및 안정성 개선**: HuggingGPT의 실세계 적용을 위해 효율성, 안정성, 컨텍스트 관리의 개선이 필요합니다. API-Bank 벤치마크는 LLM의 도구 사용 능력을 평가하며, ChemCrow와 같은 사례 연구는 특정 도메인에서의 LLM 성능 향상을 강조합니다.\\n\\n6. **약물 발견 및 시뮬레이션**: 항암제 발견 과정과 불법 약물 및 생화학 무기와 관련된 위험이 논의됩니다. Generative Agents는 LLM 기반 에이전트가 인간 행동을 시뮬레이션하는 환경을 제공합니다.\\n\\n7. **Python 프로젝트와 코드 아키텍처**: Python 프로젝트의 구조와 모범 사례를 강조하며, 클래스, 함수, 모듈을 사용한 애플리케이션 설계 방법을 설명합니다. 또한, 게임을 위한 코드 아키텍처 설계와 LLM의 한계 및 도전 과제, 특히 장기 계획 및 작업 분해에서의 어려움을 다룹니다.\\n\\n이러한 주제들은 LLM의 다양한 응용 가능성과 그에 따른 도전 과제를 탐구하며, LLM의 성능을 향상시키기 위한 다양한 접근 방식을 제시합니다.'}}\n"
     ]
    }
   ],
   "source": [
    "async for step in app.astream(\n",
    "    {'contents': [doc.page_content for doc in split_docs]},\n",
    "    {'recursion_limit': 10}\n",
    "):\n",
    "    print(step)"
   ]
  },
  {
   "cell_type": "code",
   "execution_count": 50,
   "id": "90ae4887",
   "metadata": {},
   "outputs": [
    {
     "data": {
      "image/png": "[encoded data removed]",
      "text/plain": [
       "<IPython.core.display.Image object>"
      ]
     },
     "execution_count": 50,
     "metadata": {},
     "output_type": "execute_result"
    }
   ],
   "source": [
    "from IPython.display import Image\n",
    "Image(app.get_graph().draw_mermaid_png())"
   ]
  }
 ],
 "metadata": {
  "kernelspec": {
   "display_name": "Python 3",
   "language": "python",
   "name": "python3"
  },
  "language_info": {
   "codemirror_mode": {
    "name": "ipython",
    "version": 3
   },
   "file_extension": ".py",
   "mimetype": "text/x-python",
   "name": "python",
   "nbconvert_exporter": "python",
   "pygments_lexer": "ipython3",
   "version": "3.13.2"
  }
 },
 "nbformat": 4,
 "nbformat_minor": 5
}
