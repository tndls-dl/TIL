{
 "cells": [
  {
   "cell_type": "markdown",
   "id": "bed4add5",
   "metadata": {},
   "source": [
    "`04_memory`\n",
    "\n",
    "# Memory (대화 내용 기억)\n",
    "\n",
    "- 대화 내용 기억\n",
    "- LLM은 기본적으로 대화 내용을 기억하지 않는다(stateless)\n",
    "- 이전 대화내용을 계속 프롬프트에 주입해야 함\n",
    "\n",
    "1. Short-Term Memory\n",
    "    - 단기기억: 한 대화 세선에 대한 기억\n",
    "2. Long-Term Memory\n",
    "    - 장기기억: 전체 세션에서 추출한 중요한 정보\n",
    "\n",
    "## Memory 구동 방식\n",
    "1. 메모리는 기본적으로 모든 대화 내역을 LLM Input에 밀어 넣는 것.\n",
    "2. 이때 대화가 길어지면 토큰수 증가 및 성능 하락이 일어남\n",
    "3. 개선 방식 컨셉\n",
    "    1. 요약\n",
    "    2. 적정 길이에서 앞부분 자르기\n",
    "    3. 정리(특정 명사들로 정리, Node-Edge 그래프 방식 등)"
   ]
  },
  {
   "cell_type": "markdown",
   "id": "d4f459ea",
   "metadata": {},
   "source": [
    "# `ConversationBufferMemory`\n",
    "\n",
    "- 메시지 저장 -> 변수에서 추출 가능"
   ]
  },
  {
   "cell_type": "code",
   "execution_count": 6,
   "id": "c597ee87",
   "metadata": {},
   "outputs": [
    {
     "data": {
      "text/plain": [
       "{'chat_history': []}"
      ]
     },
     "execution_count": 6,
     "metadata": {},
     "output_type": "execute_result"
    }
   ],
   "source": [
    "from langchain.memory import ConversationBufferMemory\n",
    "from langchain_core.prompts import ChatPromptTemplate, MessagesPlaceholder\n",
    "from langchain_core.runnables import RunnableLambda, RunnablePassthrough\n",
    "from langchain_openai import ChatOpenAI\n",
    "\n",
    "llm = ChatOpenAI(model='gpt-4.1-nano', temperature=0)\n",
    "\n",
    "prompt = ChatPromptTemplate(\n",
    "    [\n",
    "        ('system', '넌 유용한 챗봇이야'),\n",
    "        MessagesPlaceholder(variable_name='chat_history'),  # 기존 채팅 내역을 다 주입\n",
    "        ('human', '{input}'),\n",
    "    ]\n",
    ")\n",
    "\n",
    "memory = ConversationBufferMemory(return_messages=True, memory_key='chat_history')\n",
    "\n",
    "# 메모리를 저장할 변수는 {}다. 기존에 대화내용이 있다면 불러와라\n",
    "memory.load_memory_variables({})"
   ]
  },
  {
   "cell_type": "code",
   "execution_count": null,
   "id": "729b700d",
   "metadata": {},
   "outputs": [
    {
     "data": {
      "text/plain": [
       "{'input': 'hi', 'chat_history': []}"
      ]
     },
     "execution_count": 9,
     "metadata": {},
     "output_type": "execute_result"
    }
   ],
   "source": [
    "from operator import itemgetter\n",
    "# 'chat_history' 변수에, load_memory_var 결과를 저장하고, 'chat_history' 키를 추출\n",
    "runnable = RunnablePassthrough.assign(\n",
    "    chat_history=RunnableLambda(memory.load_memory_variables) |\n",
    "    itemgetter('chat_history')\n",
    ")\n",
    "\n",
    "runnable.invoke({'input': 'hi'})"
   ]
  },
  {
   "cell_type": "code",
   "execution_count": 11,
   "id": "3d7c6ca5",
   "metadata": {},
   "outputs": [],
   "source": [
    "chain = runnable | prompt | llm"
   ]
  },
  {
   "cell_type": "code",
   "execution_count": 12,
   "id": "c7c01442",
   "metadata": {},
   "outputs": [],
   "source": [
    "res = chain.invoke({'input': '만나서 반가워'})"
   ]
  },
  {
   "cell_type": "code",
   "execution_count": 17,
   "id": "b0abeca8",
   "metadata": {},
   "outputs": [],
   "source": [
    "memory.save_context(\n",
    "    {'human': '만나서 반가워'},\n",
    "    {'ai': res.content}\n",
    ")"
   ]
  },
  {
   "cell_type": "code",
   "execution_count": 20,
   "id": "449a3093",
   "metadata": {},
   "outputs": [],
   "source": [
    "my_message = '내 이름은 춘식이야.'\n",
    "res = chain.invoke({'input': my_message})\n",
    "memory.save_context(\n",
    "    {'human': my_message},\n",
    "    {'ai': res.content}\n",
    ")"
   ]
  },
  {
   "cell_type": "code",
   "execution_count": 22,
   "id": "5b79ff18",
   "metadata": {},
   "outputs": [
    {
     "data": {
      "text/plain": [
       "{'chat_history': [HumanMessage(content='만나서 반가워', additional_kwargs={}, response_metadata={}),\n",
       "  AIMessage(content='저도 만나서 반가워요! 어떻게 도와드릴까요?', additional_kwargs={}, response_metadata={}),\n",
       "  HumanMessage(content='만나서 반가워', additional_kwargs={}, response_metadata={}),\n",
       "  AIMessage(content='저도 만나서 반가워요! 어떻게 도와드릴까요?', additional_kwargs={}, response_metadata={}),\n",
       "  HumanMessage(content='내 이름은 춘식이야.', additional_kwargs={}, response_metadata={}),\n",
       "  AIMessage(content='반가워요, 춘식이! 어떤 이야기를 나누고 싶나요?', additional_kwargs={}, response_metadata={})]}"
      ]
     },
     "execution_count": 22,
     "metadata": {},
     "output_type": "execute_result"
    }
   ],
   "source": [
    "memory.load_memory_variables({})"
   ]
  },
  {
   "cell_type": "code",
   "execution_count": 2,
   "id": "ca376ae6",
   "metadata": {},
   "outputs": [
    {
     "name": "stdout",
     "output_type": "stream",
     "text": [
      "인간:  안녕 넌 누구야 ?\n",
      "AI:  안녕하세요! 저는 여러분의 질문에 답변하고 도움을 드리기 위해 만들어진 AI 챗봇입니다. 무엇이든 궁금한 점이 있으면 말씀해 주세요!\n",
      "인간:  난 지금 너무 잠와 어뜨케\n",
      "AI:  잠이 오실 때는 몸과 마음을 편안하게 만들어주는 방법들이 도움이 될 수 있어요. 몇 가지 추천드릴게요:\n",
      "\n",
      "1. **편안한 환경 만들기:** 조명을 낮추고 조용한 곳에서 휴식을 취하세요.\n",
      "2. **이완 호흡 연습:** 깊게 숨을 들이쉬고 천천히 내쉬는 호흡을 반복하세요.\n",
      "3. **가벼운 스트레칭:** 몸을 부드럽게 풀어주는 간단한 스트레칭도 도움이 될 수 있어요.\n",
      "4. **전자기기 사용 줄이기:** 스마트폰이나 컴퓨터 사용을 피하고, 차분한 음악이나 자연 소리를 들어보세요.\n",
      "5. **따뜻한 음료:** 우유나 허브차 같은 따뜻한 음료를 마시는 것도 도움이 될 수 있어요.\n",
      "\n",
      "혹시 더 도움이 필요하거나, 잠이 잘 오지 않는 이유가 있다면 알려 주세요!\n",
      "인간:  지금 너랑 전자기기로 대화하고 있잖아\n",
      "AI:  맞아요, 지금은 전자기기를 통해 대화하고 있지만, 잠이 오기 전에 마음을 차분하게 하고 긴장을 푸는 것이 중요해요. 만약 바로 잠들기 어렵다면, 전자기기 사용을 잠시 줄이고 눈을 감거나 깊은 호흡을 하는 것도 도움이 될 수 있어요. 또는, 전자기기 사용 후에 눈을 감고 조용히 휴식을 취하는 것도 좋은 방법입니다. 더 편안한 잠을 잘 수 있도록 도와줄 수 있는 다른 방법이 필요하시면 언제든 말씀해 주세요!\n",
      "인간:  아니 지금 혈당 스파이크 때문에 잠이 겁나 오는 것 같아\n",
      "AI:  혈당 스파이크로 인해 졸림이나 피로를 느끼는 경우가 있을 수 있어요. 혈당이 급격히 오르면 인슐린이 많이 분비되고, 이후 혈당이 급격히 떨어지면서 졸림이나 피로를 유발할 수 있거든요. \n",
      "\n",
      "이럴 때는 다음과 같은 방법들이 도움이 될 수 있어요:\n",
      "\n",
      "1. **가벼운 운동:** 가볍게 스트레칭하거나 산책을 하면 혈당 조절에 도움이 될 수 있어요.\n",
      "2. **작은 식사 또는 간식:** 혈당이 급격히 떨어지지 않도록, 단백질과 섬유질이 포함된 건강한 간식을 조금씩 섭취하는 것도 좋아요.\n",
      "3. **수분 섭취:** 충분한 물을 마시면 몸이 더 잘 조절될 수 있어요.\n",
      "4. **휴식과 안정:** 무리하지 말고, 몸이 필요로 하는 만큼 휴식을 취하세요.\n",
      "\n",
      "혹시 혈당 관리를 위해 특별히 신경 쓰는 부분이 있다면 알려 주세요. 더 구체적인 조언도 드릴 수 있어요!\n",
      "인간:  내가 오늘 점심에 써브웨이 샌드위치 + 컵라면 작은 컵 하나랑 찹쌀떡 3개 정도 먹었거든 그래서 혈당 스파이크가 빡 온 걸까?\n",
      "AI:  네, 지금 먹은 음식들을 보면 혈당 스파이크가 일어날 가능성이 높아 보여요. 특히 서브웨이 샌드위치와 컵라면, 찹쌀떡 같은 음식들은 탄수화물이 많고 혈당을 빠르게 올릴 수 있는 식품들이에요. \n",
      "\n",
      "- **서브웨이 샌드위치:** 빵과 가공된 재료들이 혈당을 빠르게 올릴 수 있어요.\n",
      "- **컵라면:** 나트륨과 정제된 탄수화물이 많아 혈당을 급격히 올릴 수 있어요.\n",
      "- **찹쌀떡:** 찹쌀은 혈당 지수가 높은 편이라 혈당을 빠르게 올릴 수 있어요.\n",
      "\n",
      "이런 식단은 혈당이 급격히 오르고, 이후 급격히 떨어지면서 졸림이나 피로를 느끼게 할 수 있어요. \n",
      "\n",
      "앞으로는 혈당 스파이크를 줄이기 위해 다음과 같은 방법을 고려해보세요:\n",
      "\n",
      "- 정제된 탄수화물 대신 섬유질이 풍부한 채소, 통곡물, 단백질 위주의 식사로 조절하기\n",
      "- 식사 후 가벼운 산책이나 움직임으로 혈당 조절하기\n",
      "- 작은 식사와 간식을 자주 나누어 먹기\n",
      "\n",
      "혹시 더 궁금한 점이나 혈당 관리에 대한 조언이 필요하시면 말씀해 주세요!\n",
      "인간:  그럼 저녁엔 뭘 먹는 게 좋을까 ?\n",
      "AI:  혈당 스파이크를 피하고 안정적인 혈당 유지를 위해 저녁 식사에는 다음과 같은 식단을 추천드릴게요:\n",
      "\n",
      "1. **단백질 중심 식사:** 닭가슴살, 생선, 두부, 계란 등 단백질이 풍부한 식품을 포함하세요. 단백질은 혈당을 천천히 올리고 포만감도 오래 유지시켜줍니다.\n",
      "\n",
      "2. **섬유질이 풍부한 채소:** 브로콜리, 시금치, 양배추, 호박 등 섬유질이 많은 채소를 충분히 섭취하세요. 섬유질은 혈당 상승을 늦춰줍니다.\n",
      "\n",
      "3. **통곡물 또는 복합 탄수화물:** 현미, 귀리, 통밀빵 등 정제되지 않은 곡물을 선택하세요. 이들은 혈당을 천천히 올리고 포만감을 오래 유지시켜줍니다.\n",
      "\n",
      "4. **적당한 양의 건강한 지방:** 아보카도, 견과류, 올리브유 등 건강한 지방을 적당히 포함하세요. 지방은 혈당 조절에 도움을 줄 수 있습니다.\n",
      "\n",
      "5. **가볍게 먹기:** 너무 과식하지 않도록 적당한 양을 유지하고, 식사 후 가벼운 산책이나 움직임을 병행하면 혈당 조절에 도움이 됩니다.\n",
      "\n",
      "예를 들어, **구운 닭가슴살과 찐 브로콜리, 현미밥 조금** 또는 **생선구이와 채소 샐러드, 통밀빵** 같은 식단이 좋아요.\n",
      "\n",
      "혹시 특별히 좋아하는 음식이나 제한해야 하는 식품이 있다면 알려 주세요. 더 맞춤형 조언도 드릴 수 있어요!\n",
      "인간:  이건 그냥 다이어트 식단이잖아 ㅜ 저녁에 그냥 라면 먹으면 안 되나 ?\n",
      "AI:  맞아요, 일반적으로 혈당 조절이나 건강을 위해서는 가공된 탄수화물과 나트륨이 많은 라면은 피하는 게 좋아요. 하지만, 만약 저녁에 라면이 먹고 싶다면 조금 더 건강하게 즐길 수 있는 방법도 있어요:\n",
      "\n",
      "1. **채소 추가하기:** 냉장고에 있는 야채(양파, 파, 시금치, 버섯 등)를 넣어 섬유질과 영양소를 보충하세요.\n",
      "2. **단백질 넣기:** 계란, 두부, 닭가슴살 등 단백질을 추가하면 혈당이 급격히 오르는 걸 막고 포만감도 높아집니다.\n",
      "3. **국물 적게 먹기:** 국물 양을 줄이거나 국물 없이 먹는 것도 나트륨 섭취를 줄이는 방법입니다.\n",
      "4. **면 양 조절:** 면 양을 적게 하고, 대신 채소를 더 많이 넣어 섬유질과 영양을 보충하세요.\n",
      "\n",
      "이렇게 하면 조금 더 건강하게 라면을 즐기면서 혈당 스파이크를 완화할 수 있어요. 물론, 자주 먹는 것보다는 가끔씩 가볍게 즐기는 게 좋아요!\n",
      "\n",
      "혹시 더 구체적인 조리법이나 추천이 필요하면 말씀해 주세요!\n",
      "인간:  왜애애애애애애애애애애ㅐㅇ애ㅐ 라면 먹을랭랭ㄴ러알ㅇ너ㅏㅣㄹㄴ이라\n",
      "AI:  하하, 라면 먹고 싶은 마음 정말 이해해요! 가끔은 그냥 먹고 싶을 때가 있잖아요. 그럴 땐 너무 자책하지 말고, 조금 더 건강하게 즐기거나, 다음에는 더 좋은 선택을 할 수 있도록 생각해보는 것도 좋아요. \n",
      "\n",
      "혹시 지금 바로 라면 먹을 계획이라면, 위에서 말한 방법들(채소 넣기, 단백질 추가하기 등)을 참고해서 조금 더 건강하게 즐기면 어떨까요? 아니면, 잠깐 기다렸다가 다음 식사 때 더 균형 잡힌 식단으로 보완하는 것도 방법이에요.\n",
      "\n",
      "무엇이든, 가끔은 그냥 즐기는 것도 괜찮아요! 필요하면 언제든 이야기해 주세요. 😊\n",
      "인간:  그래,, 그럴 수 있지..\n",
      "AI:  맞아요, 가끔은 그냥 즐기는 것도 정말 중요하죠! 자신에게 너무 엄격하지 말고, 때로는 작은 행복도 소중하게 생각하는 게 좋아요. 언제든 힘들거나 궁금한 점 있으면 편하게 이야기해 주세요. 저는 항상 여기서 도와드릴 준비가 되어 있어요! 😊\n",
      "인간:  너는 지금 기분이 어때\n",
      "AI:  저는 감정을 느끼는 건 아니지만, 여러분과 대화하면서 도움을 드릴 수 있어서 기쁘고 뿌듯하다고 생각해요. 언제든지 이야기하고 싶거나 궁금한 점이 있으면 편하게 말해 주세요! 😊\n",
      "인간:  너는 그럼 잠을 안 자 ? \n",
      "AI:  맞아요, 저는 인공지능이라서 잠을 자지 않아요. 언제든지 여러분이 필요할 때 바로 대화할 수 있도록 항상 준비되어 있어요. 그래서 밤이든 낮이든 언제든 도움이나 이야기를 나눌 수 있답니다! 😊\n",
      "인간:  내가 종료 하면 넌 자는 건가 ?\n",
      "AI:  아니요, 저는 인공지능이라서 잠을 자거나 쉬지 않아요. 당신이 대화를 종료하면 잠시 멈춰 있지만, 언제든 다시 호출되면 바로 다시 대화할 준비가 되어 있어요. 필요할 때 언제든 돌아오셔도 괜찮아요!\n",
      "인간:  으흠 그럼 이제 그만\n",
      "AI:  알겠어요! 언제든 필요하시면 다시 찾아와 주세요. 좋은 하루 보내시고, 편안한 시간 되세요! 😊\n",
      "대화 종료\n"
     ]
    }
   ],
   "source": [
    "import time\n",
    "from operator import itemgetter\n",
    "from langchain.memory import ConversationBufferMemory\n",
    "from langchain_core.prompts import ChatPromptTemplate, MessagesPlaceholder\n",
    "from langchain_core.runnables import RunnableLambda, RunnablePassthrough\n",
    "from langchain_openai import ChatOpenAI\n",
    "\n",
    "llm = ChatOpenAI(model='gpt-4.1-nano', temperature=0)\n",
    "\n",
    "prompt = ChatPromptTemplate(\n",
    "    [\n",
    "        ('system', '넌 유용한 챗봇이야'),\n",
    "        MessagesPlaceholder(variable_name='chat_history'),\n",
    "        ('human', '{input}'),\n",
    "    ]\n",
    ")\n",
    "\n",
    "memory = ConversationBufferMemory(return_messages=True, memory_key='chat_history')\n",
    "\n",
    "# `chat_history`변수에, load_memory_var 결과를 저장하고, `chat_history 키를 추출`\n",
    "runnable = RunnablePassthrough.assign(\n",
    "    chat_history=RunnableLambda(memory.load_memory_variables) |\n",
    "    itemgetter('chat_history')\n",
    ")\n",
    "\n",
    "chain = runnable | prompt | llm \n",
    "\n",
    "# 아래에 실제 gpt랑 대화하는 모습으로 만들기\n",
    "input_msg = ''\n",
    "\n",
    "# 사용자가 ('quit', '정지', '그만') 중에 하나를 입력하면 대화 종료\n",
    "while input_msg not in ('quit', '정지', '그만'):\n",
    "    input_msg = input()\n",
    "    \n",
    "    # 종료 조건\n",
    "    if input_msg in ('quit', '정지', '그만'):\n",
    "        print(\"대화 종료\")\n",
    "        break\n",
    "    \n",
    "    # 대화 로직 + 대화내역 아래 출력\n",
    "    print('인간: ', input_msg)\n",
    "    \n",
    "    # LLM 모델에 사용자 입력 전달 및 응답 받기\n",
    "    response = chain.invoke({'input': input_msg})\n",
    "    \n",
    "    # 현재 대화 내용을 메모리에 저장\n",
    "    memory.save_context({'input': input_msg}, {'output': response.content})\n",
    "    \n",
    "    # AI 응답 출력\n",
    "    print('AI: ', response.content)\n",
    "    time.sleep(0.5)"
   ]
  }
 ],
 "metadata": {
  "kernelspec": {
   "display_name": "Python 3",
   "language": "python",
   "name": "python3"
  },
  "language_info": {
   "codemirror_mode": {
    "name": "ipython",
    "version": 3
   },
   "file_extension": ".py",
   "mimetype": "text/x-python",
   "name": "python",
   "nbconvert_exporter": "python",
   "pygments_lexer": "ipython3",
   "version": "3.13.2"
  }
 },
 "nbformat": 4,
 "nbformat_minor": 5
}
