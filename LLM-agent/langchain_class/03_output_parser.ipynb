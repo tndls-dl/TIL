{
 "cells": [
  {
   "cell_type": "markdown",
   "id": "9bc4d3c0",
   "metadata": {},
   "source": [
    "`03_output_parser`\n",
    "\n",
    "# 출력 파서 (`OutputParser`)\n",
    "\n",
    "- LLM의 출력을 더 유용/구조화된 형태로 변환함\n",
    "- 구조화: LLM의 자유 형식 출력을 구조화된 데이터로 변환\n",
    "- 일관성: 항상 일관된 출력형식 -> 후속 처리에 용이\n",
    "- 유연성: 다양한 출력 형식(JSON, list, dict)로 변환 가능"
   ]
  },
  {
   "cell_type": "markdown",
   "id": "32fbad3e",
   "metadata": {},
   "source": [
    "## `PydanticOutputParser`"
   ]
  },
  {
   "cell_type": "code",
   "execution_count": 1,
   "id": "b711e717",
   "metadata": {},
   "outputs": [],
   "source": [
    "from dotenv import load_dotenv\n",
    "from langchain_openai import ChatOpenAI\n",
    "from langchain_core.output_parsers import PydanticOutputParser\n",
    "from pydantic import BaseModel, Field\n",
    "\n",
    "load_dotenv()\n",
    "\n",
    "llm = ChatOpenAI(model='gpt-4.1-nano')"
   ]
  },
  {
   "cell_type": "code",
   "execution_count": 2,
   "id": "dcb60633",
   "metadata": {},
   "outputs": [],
   "source": [
    "email_conversation = \"\"\"From: 김철수 (chulsoo.kim@bikecorporation.me)\n",
    "To: 이은채 (eunchae@teddyinternational.me)\n",
    "Subject: \"ZENESIS\" 자전거 유통 협력 및 미팅 일정 제안\n",
    "\n",
    "안녕하세요, 이은채 대리님,\n",
    "\n",
    "저는 바이크코퍼레이션의 김철수 상무입니다. 최근 보도자료를 통해 귀사의 신규 자전거 \"ZENESIS\"에 대해 알게 되었습니다. 바이크코퍼레이션은 자전거 제조 및 유통 분야에서 혁신과 품질을 선도하는 기업으로, 이 분야에서의 장기적인 경험과 전문성을 가지고 있습니다.\n",
    "\n",
    "ZENESIS 모델에 대한 상세한 브로슈어를 요청드립니다. 특히 기술 사양, 배터리 성능, 그리고 디자인 측면에 대한 정보가 필요합니다. 이를 통해 저희가 제안할 유통 전략과 마케팅 계획을 보다 구체화할 수 있을 것입니다.\n",
    "\n",
    "또한, 협력 가능성을 더 깊이 논의하기 위해 다음 주 화요일(1월 15일) 오전 10시에 미팅을 제안합니다. 귀사 사무실에서 만나 이야기를 나눌 수 있을까요?\n",
    "\n",
    "감사합니다.\n",
    "\n",
    "김철수\n",
    "상무이사\n",
    "바이크코퍼레이션\n",
    "\"\"\""
   ]
  },
  {
   "cell_type": "code",
   "execution_count": 3,
   "id": "89020c84",
   "metadata": {},
   "outputs": [
    {
     "name": "stdout",
     "output_type": "stream",
     "text": [
      "1. 바이크코퍼레이션은 \"ZENESIS\" 자전거의 유통 협력 가능성에 관심이 있음.  \n",
      "2. \"ZENESIS\" 모델의 기술 사양, 배터리 성능, 디자인 정보 요청.  \n",
      "3. 미팅 제안: 1월 15일 화요일 오전 10시, 귀사 사무실에서 논의 희망.\n"
     ]
    }
   ],
   "source": [
    "from langchain_core.prompts import PromptTemplate\n",
    "\n",
    "prompt = PromptTemplate.from_template(\n",
    "    \"\"\"아래 이메일 내용 중 중요한 것만 추출해.\n",
    "    ---\n",
    "    {email_conversation}\n",
    "    \"\"\"\n",
    ")\n",
    "\n",
    "# print(prompt.format(email_conversation=email_conversation))\n",
    "chain = prompt | llm \n",
    "\n",
    "print(chain.invoke({'email_conversation': email_conversation}).content)"
   ]
  },
  {
   "cell_type": "code",
   "execution_count": 4,
   "id": "0e1b867e",
   "metadata": {},
   "outputs": [
    {
     "name": "stdout",
     "output_type": "stream",
     "text": [
      "The output should be formatted as a JSON instance that conforms to the JSON schema below.\n",
      "\n",
      "As an example, for the schema {\"properties\": {\"foo\": {\"title\": \"Foo\", \"description\": \"a list of strings\", \"type\": \"array\", \"items\": {\"type\": \"string\"}}}, \"required\": [\"foo\"]}\n",
      "the object {\"foo\": [\"bar\", \"baz\"]} is a well-formatted instance of the schema. The object {\"properties\": {\"foo\": [\"bar\", \"baz\"]}} is not well-formatted.\n",
      "\n",
      "Here is the output schema:\n",
      "```\n",
      "{\"properties\": {\"person\": {\"description\": \"메일 보낸 사람\", \"title\": \"Person\", \"type\": \"string\"}, \"email\": {\"description\": \"보낸 사람의 메일주소\", \"title\": \"Email\", \"type\": \"string\"}, \"subject\": {\"description\": \"메일 제목\", \"title\": \"Subject\", \"type\": \"string\"}, \"summary\": {\"description\": \"메일 본문 약\", \"title\": \"Summary\", \"type\": \"string\"}, \"date\": {\"description\": \"메일에 언급된 미팅 날짜와 시간\", \"title\": \"Date\", \"type\": \"string\"}}, \"required\": [\"person\", \"email\", \"subject\", \"summary\", \"date\"]}\n",
      "```\n"
     ]
    }
   ],
   "source": [
    "class EmailSummary(BaseModel):\n",
    "    person: str = Field(description='메일 보낸 사람')\n",
    "    email: str = Field(description='보낸 사람의 메일주소')\n",
    "    subject: str = Field(description='메일 제목')\n",
    "    summary: str = Field(description='메일 본문 약')\n",
    "    date: str = Field(description='메일에 언급된 미팅 날짜와 시간')\n",
    "\n",
    "parser = PydanticOutputParser(pydantic_object=EmailSummary)\n",
    "print(parser.get_format_instructions())"
   ]
  },
  {
   "cell_type": "code",
   "execution_count": 5,
   "id": "4bb26746",
   "metadata": {},
   "outputs": [],
   "source": [
    "prompt = PromptTemplate.from_template(\n",
    "    \"\"\"\n",
    "너는 요약의 신 어시스턴트야. 아래 질문에 맞게 답변을 한국어로 만들어줘\n",
    "\n",
    "질문: {question}\n",
    "\n",
    "이메일 내용: {email_conversation}\n",
    "\n",
    "형식: {format}\n",
    "\n",
    "\"\"\"\n",
    ")\n",
    "\n",
    "# 프롬프트 변수들 중 일부만 채우기\n",
    "prompt = prompt.partial(format=parser.get_format_instructions())"
   ]
  },
  {
   "cell_type": "code",
   "execution_count": 6,
   "id": "03aab10f",
   "metadata": {},
   "outputs": [
    {
     "data": {
      "text/plain": [
       "EmailSummary(person='김철수', email='chulsoo.kim@bikecorporation.me', subject='\"ZENESIS\" 자전거 유통 협력 및 미팅 일정 제안', summary=\"바이크코퍼레이션의 김철수 상무는 귀사의 신제품 'ZENESIS'에 관심이 있으며, 상세 브로슈어 요청과 함께 1월 15일 오전 10시에 사무실에서 협력 미팅을 제안함.\", date='2024년 1월 15일 오전 10시')"
      ]
     },
     "execution_count": 6,
     "metadata": {},
     "output_type": "execute_result"
    }
   ],
   "source": [
    "chain = prompt | llm | parser\n",
    "\n",
    "res = chain.invoke(\n",
    "    {\n",
    "        'question': '이메일 내용 중 중요한 내용을 추출해 줘 !',\n",
    "        'email_conversation': email_conversation\n",
    "    }\n",
    ")\n",
    "\n",
    "res"
   ]
  },
  {
   "cell_type": "code",
   "execution_count": 7,
   "id": "938c08da",
   "metadata": {},
   "outputs": [
    {
     "name": "stdout",
     "output_type": "stream",
     "text": [
      "{'date': '2024년 1월 15일 오전 10시',\n",
      " 'email': 'chulsoo.kim@bikecorporation.me',\n",
      " 'person': '김철수',\n",
      " 'subject': '\"ZENESIS\" 자전거 유통 협력 및 미팅 일정 제안',\n",
      " 'summary': \"바이크코퍼레이션의 김철수 상무는 귀사의 신제품 'ZENESIS'에 관심이 있으며, 상세 브로슈어 요청과 함께 1월 \"\n",
      "            '15일 오전 10시에 사무실에서 협력 미팅을 제안함.'}\n"
     ]
    }
   ],
   "source": [
    "from pprint import pprint\n",
    "pprint(res.model_dump())"
   ]
  },
  {
   "cell_type": "markdown",
   "id": "a017fe6f",
   "metadata": {},
   "source": [
    "## CSV Parser"
   ]
  },
  {
   "cell_type": "code",
   "execution_count": 8,
   "id": "1d8c6ebf",
   "metadata": {},
   "outputs": [
    {
     "name": "stdout",
     "output_type": "stream",
     "text": [
      "Your response should be a list of comma separated values, eg: `foo, bar, baz` or `foo,bar,baz`\n",
      "----\n",
      "List 5 중국집 대표메뉴. \n",
      "Your response should be a list of comma separated values, eg: `foo, bar, baz` or `foo,bar,baz`\n"
     ]
    }
   ],
   "source": [
    "from langchain_core.output_parsers import CommaSeparatedListOutputParser\n",
    "\n",
    "output_parser = CommaSeparatedListOutputParser()\n",
    "\n",
    "# CSV 파서의 안내사항 확인\n",
    "print(output_parser.get_format_instructions())\n",
    "\n",
    "prompt = PromptTemplate(\n",
    "    template='List 5 {subject}. \\n{format_instructions}',\n",
    "    input_variables=['subject'],\n",
    "    partial_variables={'format_instructions': output_parser.get_format_instructions()}\n",
    ")\n",
    "\n",
    "print('----')\n",
    "print(prompt.format(subject='중국집 대표메뉴'))\n",
    "\n",
    "chain1 = prompt | llm\n",
    "csv_res = chain1.invoke({'subject': '맥도날드 대표메뉴'}).content\n",
    "\n",
    "\n",
    "chain2 = prompt | llm | output_parser\n",
    "list_res = chain2.invoke({'subject': '국민주식'})"
   ]
  },
  {
   "cell_type": "code",
   "execution_count": 9,
   "id": "d614d9a4",
   "metadata": {},
   "outputs": [
    {
     "name": "stdout",
     "output_type": "stream",
     "text": [
      "Big Mac, Quarter Pounder, Chicken McNuggets, McChicken, Fries\n",
      "['삼성전자', 'SK하이닉스', '현대차', 'NAVER', 'LG화학']\n"
     ]
    }
   ],
   "source": [
    "print(csv_res)\n",
    "print(list_res)"
   ]
  },
  {
   "cell_type": "markdown",
   "id": "85295d59",
   "metadata": {},
   "source": [
    "## Structured Output Parser\n",
    "- dict 형식 -> 멍청한 모델에도 적용 가능"
   ]
  },
  {
   "cell_type": "code",
   "execution_count": 10,
   "id": "85e28642",
   "metadata": {},
   "outputs": [],
   "source": [
    "from langchain.output_parsers import ResponseSchema, StructuredOutputParser"
   ]
  },
  {
   "cell_type": "code",
   "execution_count": 11,
   "id": "2af1ba96",
   "metadata": {},
   "outputs": [],
   "source": [
    "response_schema = [\n",
    "    ResponseSchema(name='answer', type='string', description='사용자의 질문에 대한 답변'),\n",
    "    ResponseSchema(name='source', description='질문에 답하기 위해 사용된 \"출처\", \"웹사이트 주소\"')\n",
    "]\n",
    "\n",
    "output_parser = StructuredOutputParser.from_response_schemas(response_schema)\n"
   ]
  },
  {
   "cell_type": "code",
   "execution_count": 12,
   "id": "6079d97e",
   "metadata": {},
   "outputs": [
    {
     "name": "stdout",
     "output_type": "stream",
     "text": [
      "The output should be a markdown code snippet formatted in the following schema, including the leading and trailing \"```json\" and \"```\":\n",
      "\n",
      "```json\n",
      "{\n",
      "\t\"answer\": string  // 사용자의 질문에 대한 답변\n",
      "\t\"source\": string  // 질문에 답하기 위해 사용된 \"출처\", \"웹사이트 주소\"\n",
      "}\n",
      "```\n",
      "----\n",
      "사용자 질문에 최선을 다해 답변한다.\n",
      "The output should be a markdown code snippet formatted in the following schema, including the leading and trailing \"```json\" and \"```\":\n",
      "\n",
      "```json\n",
      "{\n",
      "\t\"answer\": string  // 사용자의 질문에 대한 답변\n",
      "\t\"source\": string  // 질문에 답하기 위해 사용된 \"출처\", \"웹사이트 주소\"\n",
      "}\n",
      "```\n",
      "처서는 몇월 몇일인가?\n"
     ]
    }
   ],
   "source": [
    "print(output_parser.get_format_instructions())\n",
    "\n",
    "prompt = PromptTemplate(\n",
    "    template='사용자 질문에 최선을 다해 답변한다.\\n{format_instructions}\\n{question}',\n",
    "    input_variables=['questions'],\n",
    "    partial_variables={'format_instructions': output_parser.get_format_instructions()}\n",
    ")\n",
    "\n",
    "print('----')\n",
    "print(prompt.format(question='처서는 몇월 몇일인가?'))"
   ]
  },
  {
   "cell_type": "code",
   "execution_count": 13,
   "id": "2406d4bc",
   "metadata": {},
   "outputs": [
    {
     "data": {
      "text/plain": [
       "{'answer': '처서는 일반적으로 1월 1일을 의미하며, 새해의 시작을 기념하는 날입니다.',\n",
       " 'source': 'https://ko.wikipedia.org/wiki/%EC%B2%98%EC%84%9C'}"
      ]
     },
     "execution_count": 13,
     "metadata": {},
     "output_type": "execute_result"
    }
   ],
   "source": [
    "chain = prompt | llm | output_parser\n",
    "\n",
    "chain.invoke({'question': '처서는 언제야?'})"
   ]
  },
  {
   "cell_type": "code",
   "execution_count": 14,
   "id": "2998db3d",
   "metadata": {},
   "outputs": [
    {
     "name": "stdout",
     "output_type": "stream",
     "text": [
      "```json\n",
      "{\n",
      "\t\"answer\": \"처서는 일반적으로 매년 10월 15일부터 11월 15일까지입니다. 다만, 특정 지역이나 문화에 따라 차이가 있을 수 있으니 참고하시기 바랍니다.\",\n",
      "\t\"source\": \"https://ko.wikipedia.org/wiki/%ED%83%80%EC%8A%A4%ED%8A%B8%EC%86%8C\"\n",
      "}\n",
      "```"
     ]
    }
   ],
   "source": [
    "for t in (prompt | llm).stream({'question': '처서는 언제야?'}):\n",
    "    print(t.content, end='', flush=True)"
   ]
  },
  {
   "cell_type": "markdown",
   "id": "cc3a6a25",
   "metadata": {},
   "source": [
    "## DataFrame Output Parser\n",
    "- 원하는 Dataframe을 분석할 수 있음.\n",
    "- 답변 또한 판다스 DF로 반환"
   ]
  },
  {
   "cell_type": "code",
   "execution_count": 15,
   "id": "5d2540d8",
   "metadata": {},
   "outputs": [],
   "source": [
    "from langchain.output_parsers import PandasDataFrameOutputParser\n",
    "import seaborn as sns\n",
    "\n",
    "titanic_df = sns.load_dataset('titanic')"
   ]
  },
  {
   "cell_type": "code",
   "execution_count": 16,
   "id": "83ae379c",
   "metadata": {},
   "outputs": [
    {
     "name": "stdout",
     "output_type": "stream",
     "text": [
      "The output should be formatted as a string as the operation, followed by a colon, followed by the column or row to be queried on, followed by optional array parameters.\n",
      "1. The column names are limited to the possible columns below.\n",
      "2. Arrays must either be a comma-separated list of numbers formatted as [1,3,5], or it must be in range of numbers formatted as [0..4].\n",
      "3. Remember that arrays are optional and not necessarily required.\n",
      "4. If the column is not in the possible columns or the operation is not a valid Pandas DataFrame operation, return why it is invalid as a sentence starting with either \"Invalid column\" or \"Invalid operation\".\n",
      "\n",
      "As an example, for the formats:\n",
      "1. String \"column:num_legs\" is a well-formatted instance which gets the column num_legs, where num_legs is a possible column.\n",
      "2. String \"row:1\" is a well-formatted instance which gets row 1.\n",
      "3. String \"column:num_legs[1,2]\" is a well-formatted instance which gets the column num_legs for rows 1 and 2, where num_legs is a possible column.\n",
      "4. String \"row:1[num_legs]\" is a well-formatted instance which gets row 1, but for just column num_legs, where num_legs is a possible column.\n",
      "5. String \"mean:num_legs[1..3]\" is a well-formatted instance which takes the mean of num_legs from rows 1 to 3, where num_legs is a possible column and mean is a valid Pandas DataFrame operation.\n",
      "6. String \"do_something:num_legs\" is a badly-formatted instance, where do_something is not a valid Pandas DataFrame operation.\n",
      "7. String \"mean:invalid_col\" is a badly-formatted instance, where invalid_col is not a possible column.\n",
      "\n",
      "Here are the possible columns:\n",
      "```\n",
      "survived, pclass, sex, age, sibsp, parch, fare, embarked, class, who, adult_male, deck, embark_town, alive, alone\n",
      "```\n",
      "\n"
     ]
    }
   ],
   "source": [
    "parser = PandasDataFrameOutputParser(dataframe=titanic_df)\n",
    "\n",
    "print(parser.get_format_instructions())"
   ]
  },
  {
   "cell_type": "code",
   "execution_count": 17,
   "id": "3e3d27d5",
   "metadata": {},
   "outputs": [],
   "source": [
    "prompt = PromptTemplate(\n",
    "    template='Answer the user query.\\n{format_instructions}\\n{query}',\n",
    "    input_variables=['query'],\n",
    "    partial_variables={'format_instructions': parser.get_format_instructions()},\n",
    ")\n",
    "\n",
    "chain = prompt | llm | parser"
   ]
  },
  {
   "cell_type": "code",
   "execution_count": 18,
   "id": "ed0b91a2",
   "metadata": {},
   "outputs": [],
   "source": [
    "res = chain.invoke({'query': 'age 컬럼을 조회해 줘'})"
   ]
  },
  {
   "cell_type": "code",
   "execution_count": 19,
   "id": "dcc666e7",
   "metadata": {},
   "outputs": [
    {
     "data": {
      "text/plain": [
       "np.float64(29.69911764705882)"
      ]
     },
     "execution_count": 19,
     "metadata": {},
     "output_type": "execute_result"
    }
   ],
   "source": [
    "res = chain.invoke({'query': 'age 컬럼의 평균을 구해줘'})\n",
    "res['mean']"
   ]
  },
  {
   "cell_type": "code",
   "execution_count": null,
   "id": "24b74fd4",
   "metadata": {},
   "outputs": [],
   "source": [
    "res = chain.invoke({'query': 'fare 컬럼 평균을 구해줘'})\n",
    "res['mean']"
   ]
  },
  {
   "cell_type": "markdown",
   "id": "25cd9ba4",
   "metadata": {},
   "source": [
    "## Datetime Output Parser\n",
    "- 날짜 출력용"
   ]
  },
  {
   "cell_type": "code",
   "execution_count": 22,
   "id": "4345c4cb",
   "metadata": {},
   "outputs": [],
   "source": [
    "from langchain.output_parsers import DatetimeOutputParser\n",
    "\n",
    "parser = DatetimeOutputParser(format='%Y-%m-%d')\n",
    "\n",
    "prompt = PromptTemplate(\n",
    "    template='사용자 질문에 답해라.\\n{format_instructions}\\n{question}',\n",
    "    input_variables=['question'],\n",
    "    partial_variables={\n",
    "        'format_instructions': output_parser.get_format_instructions()\n",
    "    }\n",
    ")"
   ]
  },
  {
   "cell_type": "code",
   "execution_count": 30,
   "id": "754bb023",
   "metadata": {},
   "outputs": [
    {
     "data": {
      "text/plain": [
       "datetime.datetime(2024, 12, 15, 0, 0)"
      ]
     },
     "execution_count": 30,
     "metadata": {},
     "output_type": "execute_result"
    }
   ],
   "source": [
    "chain = prompt | llm | parser\n",
    "# datetime 인스턴스로 만들어 줌 !\n",
    "chain.invoke({'question': '내가 집을 사게 될 날은?'})"
   ]
  },
  {
   "cell_type": "markdown",
   "id": "b4c87dcf",
   "metadata": {},
   "source": [
    "## Enum Output Parser (Enumerated Type -> 열거형)\n",
    "- 정해진 목록 중에 답을 고르도록"
   ]
  },
  {
   "cell_type": "code",
   "execution_count": 37,
   "id": "44ad1dfc",
   "metadata": {},
   "outputs": [
    {
     "data": {
      "text/plain": [
       "<Colors.GREEN: '초록색'>"
      ]
     },
     "execution_count": 37,
     "metadata": {},
     "output_type": "execute_result"
    }
   ],
   "source": [
    "from langchain.output_parsers import EnumOutputParser\n",
    "from enum import Enum\n",
    "\n",
    "llm = ChatOpenAI(model='gpt-4.1-nano')\n",
    "class Colors(Enum):\n",
    "    RED = '빨간색'\n",
    "    GREEN = '초록색'\n",
    "    BLUE = '파란색'\n",
    "    # YELLOW = '노란색'\n",
    "\n",
    "\n",
    "parser = EnumOutputParser(enum=Colors)\n",
    "\n",
    "prompt = PromptTemplate(\n",
    "    template='다음 물체는 어떤 색깔에 가깝나요 ?\\n{object}\\n\\nInstructions:{instructions}',\n",
    "    input_variables=['object'],\n",
    "    partial_variables={'instructions': parser.get_format_instructions()}\n",
    ")\n",
    "\n",
    "chain = prompt | llm | parser\n",
    "\n",
    "chain.invoke({'object': '병아리'})"
   ]
  },
  {
   "cell_type": "markdown",
   "id": "6cf22a05",
   "metadata": {},
   "source": [
    "## 감정분석 Agent"
   ]
  },
  {
   "cell_type": "code",
   "execution_count": 10,
   "id": "c5733a83",
   "metadata": {},
   "outputs": [
    {
     "name": "stdout",
     "output_type": "stream",
     "text": [
      "\n",
      "\n",
      "\u001b[1m> Entering new AgentExecutor chain...\u001b[0m\n",
      "\u001b[32;1m\u001b[1;3m¡Qué alegría escuchar eso! Parece que estás muy feliz y emocionado por la nueva amistad.\u001b[0m\n",
      "\n",
      "\u001b[1m> Finished chain.\u001b[0m\n"
     ]
    },
    {
     "data": {
      "text/plain": [
       "Classification(sentiment='feliz', aggressiveness=2, language='es', remarks='Respuesta positiva expresando alegría por la buena noticia.')"
      ]
     },
     "execution_count": 10,
     "metadata": {},
     "output_type": "execute_result"
    }
   ],
   "source": [
    "from langchain.agents import create_openai_tools_agent, AgentExecutor\n",
    "from langchain_openai import ChatOpenAI\n",
    "from langchain_core.prompts import ChatPromptTemplate, MessagesPlaceholder\n",
    "from langchain.memory import ConversationBufferMemory\n",
    "from pydantic import BaseModel, Field\n",
    "\n",
    "\n",
    "# 1. pydantic 클래스(답변 형태)\n",
    "class Classification(BaseModel):\n",
    "    sentiment: str = Field(description='글의 감정')\n",
    "    aggressiveness: int = Field(description='얼마나 공격적인지 1 ~ 10점으로 판단')\n",
    "    language: str = Field(description='작성된 글의 언어')\n",
    "    remarks: str = Field(description='명사형으로 내용 요약(20글자 이내) 간략하게')\n",
    "\n",
    "\n",
    "# 2. LLM\n",
    "llm = ChatOpenAI(model='gpt-4.1-nano', temperature=0)\n",
    "structured_llm = llm.with_structured_output(Classification)\n",
    "\n",
    "# 3. 프롬프트 정의\n",
    "prompt = ChatPromptTemplate([\n",
    "    ('system', '너는 텍스트에서 감정, 공격성, 언어, 특이사항을 추출하는 분류기야. 지금까지의 대화내용을 종합해서 한국어로 대답해야해'),\n",
    "    MessagesPlaceholder(variable_name='chat_history'),\n",
    "    ('human', '{input}'),\n",
    "    MessagesPlaceholder(variable_name='agent_scratchpad')\n",
    "])\n",
    "\n",
    "# 4. 메모리 정의\n",
    "memory = ConversationBufferMemory(\n",
    "    return_messages=True,\n",
    "    memory_key='chat_history'\n",
    ")\n",
    "\n",
    "# 5. Agent 조립\n",
    "agent = create_openai_tools_agent(\n",
    "    llm=llm,\n",
    "    tools=[],\n",
    "    prompt=prompt\n",
    ")\n",
    "\n",
    "agent_executor = AgentExecutor(\n",
    "    agent=agent,\n",
    "    tools=[],\n",
    "    memory=memory,\n",
    "    verbose=True\n",
    ")\n",
    "\n",
    "from langchain_core.runnables import RunnableLambda\n",
    "\n",
    "inp = \"Estoy increiblemente contento de haberte conocido! Creo que seremos muy buenos amigos!\"\n",
    "\n",
    "pipeline = (\n",
    "    agent_executor\n",
    "    | RunnableLambda(lambda d: d['output'])\n",
    "    | structured_llm\n",
    ")\n",
    "\n",
    "pipeline.invoke({'input': inp})"
   ]
  },
  {
   "cell_type": "code",
   "execution_count": 11,
   "id": "1e3b3e87",
   "metadata": {},
   "outputs": [
    {
     "name": "stdout",
     "output_type": "stream",
     "text": [
      "\n",
      "\n",
      "\u001b[1m> Entering new AgentExecutor chain...\u001b[0m\n",
      "\u001b[32;1m\u001b[1;3m네가 요즘 고민이 있다는 말이구나. 어떤 고민인지 말해줄 수 있니? 도움이 될 수 있도록 들어줄게.\u001b[0m\n",
      "\n",
      "\u001b[1m> Finished chain.\u001b[0m\n"
     ]
    },
    {
     "data": {
      "text/plain": [
       "{'input': '난 요즘 고민이 있어',\n",
       " 'chat_history': [HumanMessage(content='Estoy increiblemente contento de haberte conocido! Creo que seremos muy buenos amigos!', additional_kwargs={}, response_metadata={}),\n",
       "  AIMessage(content='¡Qué alegría escuchar eso! Parece que estás muy feliz y emocionado por la nueva amistad.', additional_kwargs={}, response_metadata={}),\n",
       "  HumanMessage(content='난 요즘 고민이 있어', additional_kwargs={}, response_metadata={}),\n",
       "  AIMessage(content='네가 요즘 고민이 있다는 말이구나. 어떤 고민인지 말해줄 수 있니? 도움이 될 수 있도록 들어줄게.', additional_kwargs={}, response_metadata={})],\n",
       " 'output': '네가 요즘 고민이 있다는 말이구나. 어떤 고민인지 말해줄 수 있니? 도움이 될 수 있도록 들어줄게.'}"
      ]
     },
     "execution_count": 11,
     "metadata": {},
     "output_type": "execute_result"
    }
   ],
   "source": [
    "agent_executor.invoke({'input': '난 요즘 고민이 있어'})"
   ]
  }
 ],
 "metadata": {
  "kernelspec": {
   "display_name": "Python 3",
   "language": "python",
   "name": "python3"
  },
  "language_info": {
   "codemirror_mode": {
    "name": "ipython",
    "version": 3
   },
   "file_extension": ".py",
   "mimetype": "text/x-python",
   "name": "python",
   "nbconvert_exporter": "python",
   "pygments_lexer": "ipython3",
   "version": "3.13.2"
  }
 },
 "nbformat": 4,
 "nbformat_minor": 5
}
