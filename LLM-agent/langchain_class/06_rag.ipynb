{
 "cells": [
  {
   "cell_type": "markdown",
   "id": "a64b56ad",
   "metadata": {},
   "source": [
    "`06_rag`\n",
    "\n",
    "# RAG(검색-증강 생성) Retrieval-Augmented Generation\n",
    "- LLM에게 외부 데이터를 컨텍스트로 활용.\n"
   ]
  },
  {
   "cell_type": "code",
   "execution_count": 2,
   "id": "15a5b6ee",
   "metadata": {},
   "outputs": [
    {
     "data": {
      "text/plain": [
       "True"
      ]
     },
     "execution_count": 2,
     "metadata": {},
     "output_type": "execute_result"
    }
   ],
   "source": [
    "from dotenv import load_dotenv\n",
    "load_dotenv()"
   ]
  },
  {
   "cell_type": "code",
   "execution_count": 3,
   "id": "cfa77640",
   "metadata": {},
   "outputs": [],
   "source": [
    "from langchain_core.documents import Document\n",
    "\n",
    "documents = [\n",
    "    Document(\n",
    "        page_content=\"Dogs are great companions, known for their loyalty and friendliness.\",\n",
    "        metadata={\"source\": \"mammal-pets-doc\"},\n",
    "    ),\n",
    "    Document(\n",
    "        page_content=\"Cats are independent pets that often enjoy their own space.\",\n",
    "        metadata={\"source\": \"mammal-pets-doc\"},\n",
    "    ),\n",
    "    Document(\n",
    "        page_content=\"Goldfish are popular pets for beginners, requiring relatively simple care.\",\n",
    "        metadata={\"source\": \"fish-pets-doc\"},\n",
    "    ),\n",
    "    Document(\n",
    "        page_content=\"Parrots are intelligent birds capable of mimicking human speech.\",\n",
    "        metadata={\"source\": \"bird-pets-doc\"},\n",
    "    ),\n",
    "    Document(\n",
    "        page_content=\"Rabbits are social animals that need plenty of space to hop around.\",\n",
    "        metadata={\"source\": \"mammal-pets-doc\"},\n",
    "    ),\n",
    "]"
   ]
  },
  {
   "cell_type": "code",
   "execution_count": 4,
   "id": "de6822ad",
   "metadata": {},
   "outputs": [
    {
     "name": "stdout",
     "output_type": "stream",
     "text": [
      "Note: you may need to restart the kernel to use updated packages.\n"
     ]
    },
    {
     "name": "stderr",
     "output_type": "stream",
     "text": [
      "\n",
      "[notice] A new release of pip is available: 24.3.1 -> 25.2\n",
      "[notice] To update, run: python.exe -m pip install --upgrade pip\n"
     ]
    }
   ],
   "source": [
    "%pip install -q \"langchain_chroma>=0.1.2\" langchain_community faiss-cpu"
   ]
  },
  {
   "cell_type": "code",
   "execution_count": 7,
   "id": "b6e6fb17",
   "metadata": {},
   "outputs": [],
   "source": [
    "from langchain_openai import OpenAIEmbeddings\n",
    "from langchain_chroma import Chroma\n",
    "\n",
    "# OpenAI 임베딩 모델\n",
    "embedding = OpenAIEmbeddings(model='text-embedding-3-small')\n",
    "\n",
    "# x = embedding.embed_query('오늘 날씨가 너무 좋아')\n",
    "# print(len(x))\n",
    "\n",
    "# VectorStore에 임베딩 후 저장(In memory)\n",
    "vectorstore = Chroma.from_documents(\n",
    "    documents, \n",
    "    embedding=embedding\n",
    ")\n",
    "\n"
   ]
  },
  {
   "cell_type": "code",
   "execution_count": 11,
   "id": "4bd3f0d9",
   "metadata": {},
   "outputs": [
    {
     "data": {
      "text/plain": [
       "[Document(id='4c14e0a1-432e-48c5-9561-12acec9e0a0f', metadata={'source': 'fish-pets-doc'}, page_content='Goldfish are popular pets for beginners, requiring relatively simple care.'),\n",
       " Document(id='b72c6c70-4097-4370-8c4c-27e288111902', metadata={'source': 'mammal-pets-doc'}, page_content='Dogs are great companions, known for their loyalty and friendliness.')]"
      ]
     },
     "execution_count": 11,
     "metadata": {},
     "output_type": "execute_result"
    }
   ],
   "source": [
    "vectorstore.similarity_search(\n",
    "    '초보자가 키우기 좋은 애완동물 추천해줘', k=2\n",
    ")"
   ]
  },
  {
   "cell_type": "markdown",
   "id": "692f3961",
   "metadata": {},
   "source": [
    "## 사전처리 단계\n",
    "1. 문서 불러오기 (Loading)\n",
    "2. 텍스트 나누기 (Splitting)\n",
    "3. 숫자로 바꾸기 (Embedding)\n",
    "4. 저장하기 (VectorStore)"
   ]
  },
  {
   "cell_type": "code",
   "execution_count": 13,
   "id": "f8233f56",
   "metadata": {},
   "outputs": [
    {
     "name": "stdout",
     "output_type": "stream",
     "text": [
      "Note: you may need to restart the kernel to use updated packages.\n"
     ]
    },
    {
     "name": "stderr",
     "output_type": "stream",
     "text": [
      "\n",
      "[notice] A new release of pip is available: 24.3.1 -> 25.2\n",
      "[notice] To update, run: python.exe -m pip install --upgrade pip\n"
     ]
    }
   ],
   "source": [
    "%pip install -q pymupdf"
   ]
  },
  {
   "cell_type": "code",
   "execution_count": 21,
   "id": "ce9362b8",
   "metadata": {},
   "outputs": [
    {
     "name": "stdout",
     "output_type": "stream",
     "text": [
      "원본 pdf의 장수 23\n"
     ]
    }
   ],
   "source": [
    "# 1. Load\n",
    "from langchain_community.document_loaders import PyMuPDFLoader\n",
    "\n",
    "loader = PyMuPDFLoader('./data/spri.pdf')\n",
    "docs = loader.load()\n",
    "\n",
    "print('원본 pdf의 장수', len(docs))"
   ]
  },
  {
   "cell_type": "code",
   "execution_count": 22,
   "id": "0f3223d7",
   "metadata": {},
   "outputs": [
    {
     "name": "stdout",
     "output_type": "stream",
     "text": [
      "분할 후 청크 수 72\n"
     ]
    }
   ],
   "source": [
    "# 2. Split\n",
    "from langchain_text_splitters import RecursiveCharacterTextSplitter\n",
    "\n",
    "# 500글자당 1 청크 / 50글자는 겹치게 나눈다.\n",
    "text_splitter = RecursiveCharacterTextSplitter(chunk_size=500, chunk_overlap=50)\n",
    "split_docs = text_splitter.split_documents(docs)\n",
    "\n",
    "print('분할 후 청크 수', len(split_docs))"
   ]
  },
  {
   "cell_type": "code",
   "execution_count": 23,
   "id": "3b1f61d2",
   "metadata": {},
   "outputs": [
    {
     "data": {
      "text/plain": [
       "[Document(id='253dc9ac-0624-4900-b60f-03325c8c9888', metadata={'producer': 'Hancom PDF 1.3.0.542', 'creator': 'Hwp 2018 10.0.0.13462', 'creationdate': '2023-12-08T13:28:38+09:00', 'source': './data/spri.pdf', 'file_path': './data/spri.pdf', 'total_pages': 23, 'format': 'PDF 1.4', 'title': '', 'author': 'dj', 'subject': '', 'keywords': '', 'moddate': '2023-12-08T13:28:38+09:00', 'trapped': '', 'modDate': \"D:20231208132838+09'00'\", 'creationDate': \"D:20231208132838+09'00'\", 'page': 3}, page_content='1. 정책/법제  \\n2. 기업/산업 \\n3. 기술/연구 \\n 4. 인력/교육\\n미국, 안전하고 신뢰할 수 있는 AI 개발과 사용에 관한 행정명령 발표 \\nn 미국 바이든 대통령이 ‘안전하고 신뢰할 수 있는 AI 개발과 사용에 관한 행정명령’에 서명하고 \\n광범위한 행정 조치를 명시\\nn 행정명령은 △AI의 안전과 보안 기준 마련 △개인정보보호 △형평성과 시민권 향상 △소비자 \\n보호 △노동자 지원 △혁신과 경쟁 촉진 △국제협력을 골자로 함\\nKEY Contents\\n£ 바이든 대통령, AI 행정명령 통해 안전하고 신뢰할 수 있는 AI 개발과 활용 추진\\nn 미국 바이든 대통령이 2023년 10월 30일 연방정부 차원에서 안전하고 신뢰할 수 있는 AI 개발과 \\n사용을 보장하기 위한 행정명령을 발표\\n∙행정명령은 △AI의 안전과 보안 기준 마련 △개인정보보호 △형평성과 시민권 향상 △소비자 보호 \\n△노동자 지원 △혁신과 경쟁 촉진 △국제협력에 관한 내용을 포괄'),\n",
       " Document(id='7550c504-24ed-4e94-bc59-b9577c81be67', metadata={'producer': 'Hancom PDF 1.3.0.542', 'creator': 'Hwp 2018 10.0.0.13462', 'creationdate': '2023-12-08T13:28:38+09:00', 'source': './data/spri.pdf', 'file_path': './data/spri.pdf', 'total_pages': 23, 'format': 'PDF 1.4', 'title': '', 'author': 'dj', 'subject': '', 'keywords': '', 'moddate': '2023-12-08T13:28:38+09:00', 'trapped': '', 'modDate': \"D:20231208132838+09'00'\", 'creationDate': \"D:20231208132838+09'00'\", 'page': 3}, page_content='공부하고 취업할 수 있도록 지원\\n☞ 출처 : The White House, Executive Order on the Safe, Secure, and Trustworthy Development and Use of \\nArtificial Intelligence (E.O. 14110), 2023.10.30.'),\n",
       " Document(id='7b6a909a-2483-460c-8bb1-cd0f803ba8ed', metadata={'producer': 'Hancom PDF 1.3.0.542', 'creator': 'Hwp 2018 10.0.0.13462', 'creationdate': '2023-12-08T13:28:38+09:00', 'source': './data/spri.pdf', 'file_path': './data/spri.pdf', 'total_pages': 23, 'format': 'PDF 1.4', 'title': '', 'author': 'dj', 'subject': '', 'keywords': '', 'moddate': '2023-12-08T13:28:38+09:00', 'trapped': '', 'modDate': \"D:20231208132838+09'00'\", 'creationDate': \"D:20231208132838+09'00'\", 'page': 4}, page_content='정보공유를 위해 ‘히로시마 AI 프로세스’를 출범**\\n∙기업의 자발적 채택을 위해 마련된 이번 행동강령은 기반모델과 생성 AI를 포함한 첨단 AI 시스템의 \\n위험 식별과 완화에 필요한 조치를 포함\\n* 주요 7개국(G7)은 미국, 일본, 독일, 영국, 프랑스, 이탈리아, 캐나다를 의미\\n** 5월 정상회의에는 한국, 호주, 베트남 등을 포함한 8개국이 초청을 받았으나, AI 국제 행동강령에는 우선 G7 국가만 포함하여 채택\\nn G7은 행동강령을 통해 아래의 조치를 제시했으며, 빠르게 발전하는 기술에 대응할 수 있도록 \\n이해관계자 협의를 통해 필요에 따라 개정할 예정\\n∙첨단 AI 시스템의 개발 과정에서 AI 수명주기 전반에 걸쳐 위험을 평가 및 완화하는 조치를 채택하고, \\n첨단 AI 시스템의 출시와 배포 이후 취약점과 오용 사고, 오용 유형을 파악해 완화\\n∙첨단 AI 시스템의 성능과 한계를 공개하고 적절하거나 부적절한 사용영역을 알리는 방법으로 투명성을 \\n보장하고 책임성을 강화'),\n",
       " Document(id='f7c3e85d-87ea-4804-b6d9-d00dc426f460', metadata={'producer': 'Hancom PDF 1.3.0.542', 'creator': 'Hwp 2018 10.0.0.13462', 'creationdate': '2023-12-08T13:28:38+09:00', 'source': './data/spri.pdf', 'file_path': './data/spri.pdf', 'total_pages': 23, 'format': 'PDF 1.4', 'title': '', 'author': 'dj', 'subject': '', 'keywords': '', 'moddate': '2023-12-08T13:28:38+09:00', 'trapped': '', 'modDate': \"D:20231208132838+09'00'\", 'creationDate': \"D:20231208132838+09'00'\", 'page': 1}, page_content='2023년 12월호\\nⅠ. 인공지능 산업 동향 브리프\\n 1. 정책/법제 \\n   ▹ 미국, 안전하고 신뢰할 수 있는 AI 개발과 사용에 관한 행정명령 발표  ························· 1\\n   ▹ G7, 히로시마 AI 프로세스를 통해 AI 기업 대상 국제 행동강령에 합의··························· 2\\n   ▹ 영국 AI 안전성 정상회의에 참가한 28개국, AI 위험에 공동 대응 선언··························· 3\\n   ▹ 미국 법원, 예술가들이 생성 AI 기업에 제기한 저작권 소송 기각····································· 4\\n   ▹ 미국 연방거래위원회, 저작권청에 소비자 보호와 경쟁 측면의 AI 의견서 제출················· 5')]"
      ]
     },
     "execution_count": 23,
     "metadata": {},
     "output_type": "execute_result"
    }
   ],
   "source": [
    "# 3. 임베딩, 4. 벡터스토어 저장\n",
    "from langchain_openai import OpenAIEmbeddings\n",
    "from langchain_community.vectorstores import FAISS\n",
    "\n",
    "embedding = OpenAIEmbeddings()\n",
    "\n",
    "vectorstore = FAISS.from_documents(documents=split_docs, embedding=embedding)\n",
    "\n",
    "# Test\n",
    "vectorstore.similarity_search(\n",
    "    '미국 대통령과 관련된 문서들 가져와봐', k=4\n",
    ")"
   ]
  },
  {
   "cell_type": "markdown",
   "id": "316f2a91",
   "metadata": {},
   "source": [
    "## 검색 증강 단계\n",
    "1. 사용자 질문 (Query)\n",
    "2. 검색 (Retrieve)\n",
    "3. LLM\n",
    "4. 최종 답변"
   ]
  },
  {
   "cell_type": "code",
   "execution_count": 24,
   "id": "ab12220a",
   "metadata": {},
   "outputs": [
    {
     "data": {
      "text/plain": [
       "\"삼성전자는 자체 개발 생성 AI '삼성 가우스'를 공개했으며, 온디바이스에서 작동 가능하고 외부 유출 걱정이 없는 안전한 데이터로 학습되었습니다. 이 AI는 언어, 코드, 이미지 모델로 구성되어 있으며, 다양한 제품에 단계적으로 탑재할 계획입니다. 2023년 11월 열린 '삼성 AI 포럼 2023'에서 최초 공개되었으며, 경쟁 디바이스와의 차별화를 위해 발전 중입니다.\""
      ]
     },
     "execution_count": 24,
     "metadata": {},
     "output_type": "execute_result"
    }
   ],
   "source": [
    "from langchain_openai import ChatOpenAI\n",
    "from langchain_core.prompts import PromptTemplate\n",
    "from langchain_core.runnables import RunnablePassthrough\n",
    "from langchain_core.output_parsers import StrOutputParser\n",
    "\n",
    "from langchain import hub\n",
    "\n",
    "# Prompt 세팅\n",
    "prompt = hub.pull('rlm/rag-prompt')\n",
    "\n",
    "# LLM 모델\n",
    "llm = ChatOpenAI(model='gpt-4.1-nano')\n",
    "\n",
    "# 검색기 생성 (retriever 생성)\n",
    "retriever = vectorstore.as_retriever()\n",
    "\n",
    "chain = (\n",
    "    {'context': retriever, 'question': RunnablePassthrough()}\n",
    "    | prompt\n",
    "    | llm\n",
    "    | StrOutputParser()\n",
    ")\n",
    "\n",
    "chain.invoke('삼성전자 관련 소식 다 가져와')"
   ]
  },
  {
   "cell_type": "code",
   "execution_count": 26,
   "id": "1e50906e",
   "metadata": {},
   "outputs": [
    {
     "name": "stdout",
     "output_type": "stream",
     "text": [
      "Note: you may need to restart the kernel to use updated packages.\n"
     ]
    },
    {
     "name": "stderr",
     "output_type": "stream",
     "text": [
      "\n",
      "[notice] A new release of pip is available: 24.3.1 -> 25.2\n",
      "[notice] To update, run: python.exe -m pip install --upgrade pip\n"
     ]
    }
   ],
   "source": [
    "%pip install -q pypdf"
   ]
  },
  {
   "cell_type": "code",
   "execution_count": 43,
   "id": "bd445795",
   "metadata": {},
   "outputs": [
    {
     "name": "stdout",
     "output_type": "stream",
     "text": [
      "--- retriever가 찾은 문서 내용 ---\n",
      "문서 1: 괴도 키드의 코드명 1412. 자세히 보면 영어 KID로 보임.\n",
      "\n",
      "\n",
      "\n",
      "명탐정 코난에 나오는 쿠로바 도이치의 모습\n",
      "\n",
      "\n",
      "\n",
      "괴도 키드 그림형 서명 디자인\n",
      "\n",
      "\n",
      "참고 사항[편집]\n",
      "\n",
      "↑ 범행으로 인한 피해액은 명탐정 코난 극장판 3기 - 세기말의 마술사 시점에서의 경찰 발표에 따르면 건수는 134건 (미국·프랑스·독일 등 12개국 포함), 도둑맞은 보석류는 152점,...\n",
      "\n",
      "문서 2: 여러 활동[편집]\n",
      " 이 부분의 본문은 괴도 키드의 원작 사건 목록입니다.\n",
      " 매직 카이토의 방영 목록  문서를 참고하십시오.\n",
      "세상을 시끄럽게 하고 있는 엄청난 도둑이며 요즘답지 않게 예고장을 보내고 예고장대로 보석을 전문적으로 훔친다. 괴도 1412는 18년 전에 파리에서 처음으로 보석을 훔친 것[1]을 시작으로 괴도 활동을 했지만 8년 전부터 활동이 없어졌...\n",
      "\n",
      "문서 3: 코난을 궁지에 몰아넣은 적도 많지만, 결코 살인을 하지 않고 또 다른 사람의 죽음을 그대로 놓아두지 않으며 좋은 방향으로 생명을 구할 때도 있다. 코난과의 대결에서는 항상 무승부로 끝나는 편으로 키드는 「코난 vs 괴도 키드」란 편에서 코난 ( = 쿠도 신이치 / 남도일)이랑 직접 대면했다. 하지만 이전에 시계탑에서 쿠도 신이치 (남도일)에게 범행[3] 이...\n",
      "\n",
      "문서 4: ↑ 이름은 번안한 칠흑의 추적자와 달리 이 극장판은 왜색의 문제로 이름도 번안되지 않았다.\n",
      "\n",
      "\n",
      "외부 링크[편집]\n",
      "(일본어) 명탐정 코난 극장판 공식 홈페이지\n",
      "vte아오야마 고쇼의 명탐정 코난만화\n",
      "단행본 목록\n",
      "범인 한자와 씨\n",
      "제로의 일상\n",
      "경찰학교편\n",
      "애니메이션\n",
      "전체 에피소드 목록\n",
      "1996년~2000년\n",
      "2001년~2005년\n",
      "2006년~2010년\n",
      "2011년~201...\n",
      "\n",
      "문서 5: 괴도 키드 \n",
      "제1대괴도키드 : 쿠로바 도이치 (고기영)\n",
      "\n",
      "성우 - 이케다 슈이치 / 민응식\n",
      "1대 키드이며, 18년 전부터 8년 전까지 마술사 겸 괴도로 활동하였다. 카이토 (고희도)의 아버지이면서 세계적인 마술사로 8년 전 판도라를 노리는 조직의 손에 의해 한 순간에 죽는다. 신이치 (남도일)의 아버지인 쿠도 유사쿠 (남건)와 대결한 적이 있는데 그 결과는...\n",
      "\n",
      "문서 6: 극장판 17기〈절해의 탐정〉- 한국에서 미개봉 / 미방영\n",
      "\n",
      "\n",
      "타테이시 유키오\n",
      "-\n",
      "히로타 코세이\n",
      "-\n",
      "\n",
      "\n",
      "해상자위대 이지스함의 함장.\n",
      "\n",
      "\n",
      "후지이 나나미\n",
      "-\n",
      "시바사키 코우\n",
      "-\n",
      "\n",
      "\n",
      "해상자위대 대령급 여성 승무원.\n",
      "\n",
      "\n",
      "아마미야 유우키\n",
      "-\n",
      "미타 유코\n",
      "-\n",
      "\n",
      "\n",
      "이지스함 승선 체험 초등학생.\n",
      "\n",
      "\n",
      "극장판 18기〈이차원의 저격수〉- 명탐정 코난 연재 20주년 초대작\n",
      "\n",
      "\n",
      "케빈 ...\n",
      "\n",
      "문서 7: 쿠도 신이치 (남도일), 경비원 (불명), 신죠 이사오 (우상하) - 극장판 8기 : 은빛 날개의 마술사\n",
      "센쥬 에리 (불명) - 제 396화 : 기발한 저택의 대모험\n",
      "하쿠바 사구루 (백준수) - 극장판 10기 : 탐정들의 진혼가\n",
      "다카기 와타루 (신형선 형사) - 제 470화 : 괴도 키드와 네 명화\n",
      "사건현장 방문객 (구경꾼) - 제 515화 : 괴도 키드의...\n",
      "\n",
      "문서 8: vte아오야마 고쇼의 명탐정 코난만화\n",
      "단행본 목록\n",
      "범인 한자와 씨\n",
      "제로의 일상\n",
      "경찰학교편\n",
      "애니메이션\n",
      "전체 에피소드 목록\n",
      "1996년~2000년\n",
      "2001년~2005년\n",
      "2006년~2010년\n",
      "2011년~2015년\n",
      "2016년~2020년\n",
      "2021년~\n",
      "극장판\n",
      "시한장치의 마천루\n",
      "14번째 표적\n",
      "세기말의 마술사\n",
      "눈동자 속의 암살자\n",
      "천국으로의 카운트다운\n",
      "베이커가의 망령\n",
      "미궁의...\n",
      "\n",
      "문서 9: 극장판 15기〈침묵의 15분〉- 명탐정 코난 애니메이션 15주년 대작\n",
      "\n",
      "\n",
      "야마오 케이스케\n",
      "신기루\n",
      "난바 케이이치\n",
      "신용우\n",
      "\n",
      "\n",
      "키타노사와 촌 (한국판: 북촌 마을) 분교 동창생. 8년 전 뺑소니 사고로 동창생 토오노 미즈키 (한국명: 고민아)의 여동생 토오노 나츠키 (한국명: 고소아)를 치게 된 후 자수. 감옥에서 8년간 복역하다가 출소한지 얼마 되지 않음. 무...\n",
      "\n",
      "문서 10: 극장판 개봉 정보[편집]\n",
      "명탐정 코난 극장판은 명탐정 코난의 인기에 힘입어서 1997년 4월 19일 일본에서 극장판 1기 《시한장치의 마천루》라는 제목으로 상영을 시작하여 2025년 현재 《척안의 찬상》까지 개봉하였다. 대한민국은 명탐정 코난 극장판을 2008년 5월 1일에 상영하기로 하여 극장판 6기 《베이커가의 망령》이 상영 · 방영된 것을 시작으로 극...\n",
      "\n",
      "---------------------------------\n",
      "RAG 답변: 제공된 문서에서 관련 정보를 찾을 수 없습니다.\n"
     ]
    }
   ],
   "source": [
    "# 필요한 라이브러리 설치\n",
    "# %pip install -q requests\n",
    "# %pip install -q beautifulsoup4\n",
    "# %pip install -q faiss-cpu\n",
    "# %pip install -q langchain-community\n",
    "# %pip install -q langchain-openai\n",
    "\n",
    "import os\n",
    "import requests\n",
    "from bs4 import BeautifulSoup\n",
    "import sys\n",
    "\n",
    "from langchain_openai import OpenAIEmbeddings, ChatOpenAI\n",
    "from langchain.vectorstores import FAISS\n",
    "from langchain.text_splitter import RecursiveCharacterTextSplitter\n",
    "from langchain_core.documents import Document\n",
    "from langchain_core.prompts import PromptTemplate\n",
    "from langchain_core.runnables import RunnablePassthrough\n",
    "from langchain_core.output_parsers import StrOutputParser\n",
    "\n",
    "from langchain import hub\n",
    "\n",
    "# 1. 문서 로드 (웹 스크래핑)\n",
    "urls = [\n",
    "    \"https://ko.wikipedia.org/wiki/%EC%BF%A0%EB%A1%9C%EB%B0%94_%EC%B9%B4%EC%9D%B4%ED%86%A0\",\n",
    "    \"https://ko.wikipedia.org/wiki/%EB%AA%85%ED%83%90%EC%A0%95_%EC%BD%94%EB%82%9C%EC%9D%98_%EC%98%81%ED%99%94_%EB%AA%A9%EB%A1%9D\"\n",
    "]\n",
    "\n",
    "headers = {\n",
    "    'User-Agent': 'Mozilla/5.0 (Windows NT 10.0; Win64; x64) AppleWebKit/537.36 (KHTML, like Gecko) Chrome/58.0.3029.110 Safari/537.3'\n",
    "}\n",
    "\n",
    "all_text = \"\"\n",
    "for url in urls:\n",
    "    try:\n",
    "        response = requests.get(url, headers=headers, timeout=10)\n",
    "        response.raise_for_status()\n",
    "        \n",
    "        soup = BeautifulSoup(response.content, 'html.parser')\n",
    "        content = soup.find(id=\"mw-content-text\")\n",
    "        if content:\n",
    "            all_text += content.get_text()\n",
    "    except requests.exceptions.RequestException as e:\n",
    "        print(f\"오류: URL {url}에서 데이터를 가져올 수 없습니다. 오류 메시지: {e}\")\n",
    "\n",
    "# 🚨 개선점 1: all_text가 비어 있을 경우 프로그램 종료\n",
    "if not all_text.strip():\n",
    "    print(\"오류: 웹사이트에서 문서를 찾거나 가져오지 못했습니다. URL을 확인해주세요.\")\n",
    "    sys.exit() # 🚨 프로그램 종료\n",
    "\n",
    "docs = [Document(page_content=all_text)]\n",
    "\n",
    "# 2. 문서 분할 (Splitting)\n",
    "# 🚨 개선점 2: 청크 크기 및 오버랩을 변수로 관리\n",
    "CHUNK_SIZE = 1000\n",
    "CHUNK_OVERLAP = 100\n",
    "text_splitter = RecursiveCharacterTextSplitter(chunk_size=CHUNK_SIZE, chunk_overlap=CHUNK_OVERLAP)\n",
    "splits = text_splitter.split_documents(docs)\n",
    "\n",
    "# 3. 임베딩 생성 및 벡터 스토어 구축\n",
    "embeddings = OpenAIEmbeddings()\n",
    "vectorstore = FAISS.from_documents(documents=splits, embedding=embeddings)\n",
    "\n",
    "# 4. 검색기 생성 (retriever)\n",
    "retriever = vectorstore.as_retriever(search_kwargs={\"k\": 10})\n",
    "\n",
    "# 5. 프롬프트 설정\n",
    "prompt_template = \"\"\"\n",
    "너는 주어진 문서 내용을 바탕으로 답변을 제공하는 유용한 도우미야.\n",
    "만약 맥락에 관련 정보가 없다면, \"제공된 문서에서 관련 정보를 찾을 수 없습니다.\"라고 답변해.\n",
    "답변은 주어진 문서의 정보를 기반으로 요약해서 작성해.\n",
    "\n",
    "---\n",
    "문서 내용: {context}\n",
    "---\n",
    "사용자 질문: {question}\n",
    "\"\"\"\n",
    "custom_prompt = PromptTemplate(template=prompt_template, input_variables=[\"context\", \"question\"])\n",
    "\n",
    "# 6. LLM 모델\n",
    "llm = ChatOpenAI(model='gpt-4.1-nano', temperature=0)\n",
    "\n",
    "# 7. RAG 체인 구축\n",
    "chain = (\n",
    "    {'context': retriever, 'question': RunnablePassthrough()}\n",
    "    | custom_prompt\n",
    "    | llm\n",
    "    | StrOutputParser()\n",
    ")\n",
    "\n",
    "# 8. RAG 실행 및 결과 출력\n",
    "question = \"명탐정 코난에서 괴도 키드가 나온 모든 극장판을 알려줘.\"\n",
    "\n",
    "# 디버깅을 위해 retriever가 가져오는 문서 확인\n",
    "retrieved_docs = retriever.invoke(question)\n",
    "print(\"--- retriever가 찾은 문서 내용 ---\")\n",
    "for i, doc in enumerate(retrieved_docs):\n",
    "    print(f\"문서 {i+1}: {doc.page_content[:200]}...\\n\")\n",
    "print(\"---------------------------------\")\n",
    "\n",
    "response = chain.invoke(question)\n",
    "print(\"RAG 답변:\", response)"
   ]
  },
  {
   "cell_type": "code",
   "execution_count": 47,
   "id": "785da6af",
   "metadata": {},
   "outputs": [
    {
     "name": "stdout",
     "output_type": "stream",
     "text": [
      "원본 pdf의 총 페이지 수: 33\n",
      "분할 후 청크 수: 85\n",
      "-----\n",
      "--- 검색된 문서 내용 ---\n",
      "문서 1 (내용 시작): www.pwc.com/structure for further details. Mentions of Strategy& refer to the global team of practical strategists that is integrated within the PwC n...\n",
      "\n",
      "문서 2 (내용 시작): Section 4 \n",
      "고래싸움에서 살아남는 법: 지정학 리스크 대응방안 \n",
      "반도체 산업의 글로벌 공급망은 지정학적 리스크로 인한 각종 수출 규제 및 국내 수급 강제 \n",
      "등의 법적 및 정치적 제약에 노출되고 있습니다. 이에 안정적인 공급망 확보를 통한 리스크 \n",
      "헤징이 각 업체...\n",
      "\n",
      "문서 3 (내용 시작): Endnotes \n",
      " \n",
      "1. PwC 2024: Electric Vehicle Sales Review Q2-2024 \n",
      "2. Omdia analysis and research Q3 2024 \n",
      "3. AnandTech March 2024: NVIDIA Blackwell Arch...\n",
      "\n",
      "문서 4 (내용 시작): 제공하는 선제적 전략, 혹은 글로벌 \n",
      "제품을 유지한 채 필요 시에만 조정하는 \n",
      "수동적 전략을 선택할 수도 있습니다. \n",
      "인재 확보 \n",
      "성공적인 현지화를 위해 우수한 인재 \n",
      "확보는 필수적입니다. 업체의 현지화 \n",
      "수요가 증가하면서, 인재 파이프라인 \n",
      "구축의 중요성 또한 증가하...\n",
      "\n",
      "문서 5 (내용 시작): 솔루션을 제공하며, 고객의 성장을 지원하고 있습니다. \n",
      " \n",
      "본 보고서 작성에 필요한 데이터와 인사이트를 제공해주신 Omdia Semiconductor Research에 깊이 감사드립니다.  \n",
      " \n",
      " \n",
      " \n",
      " \n",
      " \n",
      " \n",
      " \n",
      " \n",
      " \n",
      "Contacts \n",
      " \n",
      "Korea  \n",
      "장유신  ...\n",
      "\n",
      "문서 6 (내용 시작): Partner, \n",
      "PwC US \n",
      "amit.dhir@pwc.com \n",
      " \n",
      "Arup Chatterji  \n",
      "Partner, \n",
      "PwC US \n",
      "arup.chatterji@pwc.com \n",
      " \n",
      "Japan \n",
      "Kimihiko Uchimura  \n",
      "Partner, \n",
      "PwC Japan \n",
      "ki...\n",
      "\n",
      "문서 7 (내용 시작): 14.7 \n",
      "13.5 \n",
      "13.2 \n",
      "11.1 \n",
      "메모리 \n",
      "SoC \n",
      "MCU \n",
      "SoC와 더불어 자동차의 실시간 제어 작업과 주변 장치 제어에 특화된 마이크로컨트롤러(MCU) \n",
      "역시 중요한 요소입니다. MCU는 제어 타이밍, 전력 효율성, 신뢰성이 필수적으로 담보되어야 \n",
      "하는 엔...\n",
      "\n",
      "문서 8 (내용 시작): 도표 8 \n",
      "전력 반도체 유형별 반도체 제조 단계 내 부가가치 비중 (%) \n",
      "Source: PwC analysis based on research from the beginning of 2023 \n",
      "소프트웨어 정의 차량 (SDV)과 반도체 수요 \n",
      "SDV로의 전환은 소프트웨...\n",
      "\n",
      "문서 9 (내용 시작): 200 \n",
      "193 \n",
      "170 \n",
      "124 \n",
      "135 \n",
      "124 \n",
      "113 \n",
      "150 \n",
      "+24% \n",
      "148 \n",
      "100 \n",
      "101 \n",
      "예측형 \n",
      "생성형 \n",
      "7 \n",
      "69 \n",
      "15 \n",
      "86 \n",
      "24 \n",
      "35 \n",
      "46 \n",
      "76 \n",
      "55 \n",
      "50 \n",
      "52 \n",
      "2 \n",
      "58 \n",
      "100 \n",
      "Section 6 \n",
      "AI의 일상화와 AI 반...\n",
      "\n",
      "문서 10 (내용 시작): AI 시대를 견인하는 \n",
      "반도체 산업 전망 \n",
      "반도체 시장의  주요 동향과 성장 동력 \n",
      "December 2024...\n",
      "\n",
      "--------------------\n",
      "AI 요약 답변: 이 문서는 AI 시대를 이끄는 반도체 산업의 전망과 전략, 기술 동향, 지정학적 리스크 대응 방안 등을 다루며, 글로벌 공급망 안정화와 인재 확보, AI 기술의 일상화와 시장 확대에 대한 내용을 포함하고 있습니다. 또한, 소프트웨어 정의 차량(SDV)과 고성능 반도체 수요 증가, AI 기반 설계 및 공정 최적화의 중요성도 강조됩니다.\n"
     ]
    }
   ],
   "source": [
    "# 1. 문서 로드 (PDF)\n",
    "pdf_path = './data/AI 시대를 견인하는 반도체 산업 전망.pdf'\n",
    "\n",
    "# 파일이 존재하는지 확인\n",
    "if not os.path.exists(pdf_path):\n",
    "    print(f\"오류: 지정된 경로에 PDF 파일이 없습니다: {pdf_path}\")\n",
    "    sys.exit()\n",
    "\n",
    "loader = PyMuPDFLoader(pdf_path)\n",
    "docs = loader.load()\n",
    "print('원본 pdf의 총 페이지 수:', len(docs))\n",
    "\n",
    "# 2. 문서 분할 (Splitting)\n",
    "text_splitter = RecursiveCharacterTextSplitter(chunk_size=500, chunk_overlap=50)\n",
    "split_docs = text_splitter.split_documents(docs)\n",
    "print('분할 후 청크 수:', len(split_docs))\n",
    "\n",
    "# 3. 임베딩 생성 및 4. 벡터 스토어 구축\n",
    "embedding = OpenAIEmbeddings()\n",
    "vectorstore = FAISS.from_documents(documents=split_docs, embedding=embedding)\n",
    "\n",
    "# 5. 프롬프트 커스터마이징\n",
    "prompt_template = \"\"\"\n",
    "너는 주어진 문서를 요약하는 유용한 도우미야.\n",
    "답변은 주어진 문서의 정보를 기반으로 2~3문장으로 요약해서 작성해.\n",
    "문서 내용에 대해 질문하면 안 돼. 오직 요약만 해줘.\n",
    "\n",
    "---\n",
    "문서 내용: {context}\n",
    "---\n",
    "\"\"\"\n",
    "custom_prompt = PromptTemplate(\n",
    "    template=prompt_template,\n",
    "    input_variables=[\"context\"]\n",
    ")\n",
    "\n",
    "# 6. LLM 모델\n",
    "llm = ChatOpenAI(model='gpt-4.1-nano', temperature=0)\n",
    "\n",
    "# 7. 검색기 최적화\n",
    "retriever = vectorstore.as_retriever(search_kwargs={'k': 10})\n",
    "\n",
    "# 8. RAG 체인 구축\n",
    "chain = (\n",
    "    {'context': retriever}\n",
    "    | custom_prompt\n",
    "    | llm\n",
    "    | StrOutputParser()\n",
    ")\n",
    "\n",
    "# 9. RAG 실행 및 결과 출력\n",
    "query = 'document summary'\n",
    "\n",
    "print(\"-----\")\n",
    "\n",
    "\n",
    "# retriever가 가져오는 문서 확인 (디버깅 용도)\n",
    "retrieved_docs = retriever.invoke(query)\n",
    "print(\"--- 검색된 문서 내용 ---\")\n",
    "for i, doc in enumerate(retrieved_docs):\n",
    "    print(f\"문서 {i+1} (내용 시작): {doc.page_content[:150]}...\\n\")\n",
    "print(\"-\" * 20)\n",
    "\n",
    "response = chain.invoke(query)\n",
    "print(\"AI 요약 답변:\", response)"
   ]
  },
  {
   "cell_type": "code",
   "execution_count": 1,
   "id": "d4dda10c",
   "metadata": {},
   "outputs": [
    {
     "name": "stderr",
     "output_type": "stream",
     "text": [
      "C:\\Users\\sec\\AppData\\Local\\Temp\\ipykernel_306020\\3050205485.py:56: LangChainDeprecationWarning: Please see the migration guide at: https://python.langchain.com/docs/versions/migrating_memory/\n",
      "  memory = ConversationBufferMemory(\n"
     ]
    }
   ],
   "source": [
    "# Agent + RAG\n",
    "from langchain.agents import create_openai_tools_agent, AgentExecutor\n",
    "from langchain_core.prompts import ChatPromptTemplate, MessagesPlaceholder\n",
    "from langchain.memory import ConversationBufferMemory\n",
    "from langchain_tavily import TavilySearch\n",
    "from datetime import datetime\n",
    "# RAG 관련\n",
    "from langchain_community.document_loaders import PyMuPDFLoader\n",
    "from langchain.text_splitter import RecursiveCharacterTextSplitter\n",
    "from langchain_openai import ChatOpenAI, OpenAIEmbeddings\n",
    "from langchain_community.vectorstores import FAISS\n",
    "from langchain.tools.retriever import create_retriever_tool\n",
    "\n",
    "today = datetime.today().strftime('%Y-%m-%d')\n",
    "\n",
    "llm = ChatOpenAI(model='gpt-4.1-nano')\n",
    "\n",
    "search_tool = TavilySearch(\n",
    "    max_results=5,\n",
    "    topic='general'\n",
    ")\n",
    "\n",
    "loader = PyMuPDFLoader('./data/spri.pdf')\n",
    "docs = loader.load()\n",
    "splitter = RecursiveCharacterTextSplitter(chunk_size=500, chunk_overlap=50)\n",
    "split_docs = splitter.split_documents(docs)\n",
    "embedding = OpenAIEmbeddings()\n",
    "vectorstore = FAISS.from_documents(split_docs, embedding=embedding)\n",
    "retriever = vectorstore.as_retriever()\n",
    "\n",
    "rag_tool = create_retriever_tool(\n",
    "    retriever,\n",
    "    name='pdf_search',\n",
    "    description='PDF 문서에서 질문과 관련된 내용을 검색합니다.'  # Agent가 언제 이 tool을 쓸지 알게됨\n",
    ")\n",
    "\n",
    "text = f\"\"\"\n",
    "너는 웹 검색이 가능하고, 2023년 12월 인공지능 산업 최신동향 정보를 담은 pdf 를 검색할 수 있는 어시스턴트야.\n",
    "\n",
    "- 사용자가 PDF 문서와 관련된 질문(ex. '이 pdf에서', '문서내용', '파일에서)을 하면 반드시 'pdf_search' 도구를 써야해\n",
    "- 사용자 질문이 팩트체크를 필요로 하고, 최신성이 필요하다 판단되면 web_search를 실행해야해\n",
    "- 사용자가 일반적인 질문을 하고, 최신성이나 팩트체크가 필요없으면 그냥 답변해\n",
    "- 뭔가 확실하지 않으면 pdf_search 와 web_search를 모두 실행해서 답변을 생성해\n",
    "\n",
    "오늘은 {today} 야.\n",
    "\"\"\"\n",
    "\n",
    "\n",
    "prompt = ChatPromptTemplate.from_messages([\n",
    "    ('system', text),\n",
    "    MessagesPlaceholder(variable_name='chat_history'),\n",
    "    ('human', '{input}'),\n",
    "    MessagesPlaceholder(variable_name='agent_scratchpad')  # 도구(검색) 호출때 필요함\n",
    "])\n",
    "\n",
    "memory = ConversationBufferMemory(\n",
    "    return_messages=True,\n",
    "    memory_key='chat_history'\n",
    ")\n",
    "\n",
    "agent = create_openai_tools_agent(\n",
    "    llm=llm,\n",
    "    tools=[search_tool, rag_tool],\n",
    "    prompt=prompt,\n",
    ")\n",
    "\n",
    "agent_executor = AgentExecutor(\n",
    "    agent=agent,\n",
    "    memory=memory, \n",
    "    tools=[search_tool, rag_tool],\n",
    "    verbose=True)"
   ]
  },
  {
   "cell_type": "code",
   "execution_count": 3,
   "id": "6b14db59",
   "metadata": {},
   "outputs": [
    {
     "name": "stdout",
     "output_type": "stream",
     "text": [
      "\n",
      "\n",
      "\u001b[1m> Entering new AgentExecutor chain...\u001b[0m\n",
      "\u001b[32;1m\u001b[1;3m\n",
      "Invoking: `tavily_search` with `{'query': '삼성전자 최신 소식 2025년 9월'}`\n",
      "\n",
      "\n",
      "\u001b[0m\u001b[36;1m\u001b[1;3m{'query': '삼성전자 최신 소식 2025년 9월', 'follow_up_questions': None, 'answer': None, 'images': [], 'results': [{'url': 'https://www.instagram.com/reel/DN4Xtz5kyv4/', 'title': '삼성전자가 9월 4일 오후 6시 30분에 최신 갤럭시 AI가 탑재된', 'content': \"삼성전자는 독일 베를린에서 9월 5일부터 9일까지 개최되는 유럽 최대 가전 전시회 'IFA 2025'에서 고도화된 AI 홈 경험과 혁신적인 AI 가전제품들을 소개\", 'score': 0.8446273, 'raw_content': None}, {'url': 'http://www.dtoday.co.kr/news/articleView.html?idxno=727086', 'title': '[빅데이터로본다] 반도체 상장기업 2025년 9월 브랜드평판... 1위 삼성 ...', 'content': '한국기업평판연구소 구창환 소장은 \"반도체 상장기업 브랜드평판 2025년 9월 브랜드 빅데이터 분석결과, 삼성전자 ( 대표 전영현 ) 브랜드가 1위를 기록', 'score': 0.70750624, 'raw_content': None}, {'url': 'https://www.businesspost.co.kr/BP?command=article_view&num=408874', 'title': \"삼성전자, 'AI 홈 미래 일상을 현실로' 주제로 'IFA 2025' 참가\", 'content': \"삼성전자는 IFA 2025에서 이 같은 목표 아래 최신 디스플레이 기술이 집약된 '마이크로 RGB TV'와 유럽 고객들을 사로잡을 비스포크 AI 가전 신제품,\", 'score': 0.6334335, 'raw_content': None}, {'url': 'https://news.samsung.com/kr/%EC%95%8C%EC%95%84%EC%84%9C-%EB%A7%9E%EC%B6%B0%EC%A3%BC%EA%B3%A0-%EC%9D%BC%EC%83%81%EC%97%90-%EA%B0%80%EC%B9%98%EB%A5%BC-%EB%8D%94%ED%95%98%EB%8A%94-ai-%ED%99%88-%EC%82%BC%EC%84%B1%EC%A0%84%EC%9E%90', 'title': \"삼성전자, 글로벌 랜드마크서 '스마트싱스로 완성한 AI 홈' 캠페인 진행\", 'content': '삼성전자가 2일부터 IFA 2025 개막에 앞서 △미국 뉴욕 타임스 스퀘어(Times Square) △영국 런던 피카딜리 광장(Piccadilly Circus) 등 글로벌 랜드', 'score': 0.49685127, 'raw_content': None}, {'url': 'https://www.yna.co.kr/view/AKR20250902058900003', 'title': \"삼성전자, '스마트싱스로 완성한 AI 홈' 캠페인 진행 - 연합뉴스\", 'content': \"삼성전자가 독일 베를린에서 열리는 'IFA 2025' 개막에 앞서 2일부터 미국 뉴욕 타임스 스퀘어, 영국 런던 피카딜리 광장 등 글로벌 랜드마크에서 새롭게\", 'score': 0.48411235, 'raw_content': None}], 'response_time': 0.96, 'request_id': '26845c51-4f66-4722-9a4f-c334e9f62dd3'}\u001b[0m\u001b[32;1m\u001b[1;3m2025년 9월 현재 삼성전자는 글로벌 가전 전시회인 'IFA 2025'에서 최신 AI 기술과 가전제품들을 선보이고 있습니다. 특히, AI 홈 경험을 고도화한 혁신적인 AI 가전제품들이 소개되고 있으며, 유럽 최대 전시회에서 다양한 디스플레이 기술과 함께 AI 홈 미디어를 선보이고 있습니다.\n",
      "\n",
      "또한, 브랜드 평판 조사에서도 삼성전자가 2025년 9월 기준으로 반도체 부문에서 1위를 달성하는 등 지속적인 성장과 인기를 이어가고 있습니다.\n",
      "\n",
      "구체적으로는, 미국 뉴욕 타임스 스퀘어와 영국 런던 피카딜리 광장 등 글로벌 랜드마크에서 ‘스마트싱스’와 연계된 AI 홈 캠페인도 진행되고 있어, 스마트홈 시장에서의 주도적 위치를 강화하고 있는 모습입니다.\n",
      "\n",
      "더 궁금하신 점 있으시면 말씀해주세요!\u001b[0m\n",
      "\n",
      "\u001b[1m> Finished chain.\u001b[0m\n"
     ]
    },
    {
     "data": {
      "text/plain": [
       "{'input': '방금 말한 내용들 2023년 기준인데, 요즘엔 어떻게 됐대?',\n",
       " 'chat_history': [HumanMessage(content='삼성전자 소식들 요약해줘', additional_kwargs={}, response_metadata={}),\n",
       "  AIMessage(content=\"최근 삼성전자는 다양한 뉴스와 소식을 전하고 있습니다. 주요 내용은 다음과 같습니다:\\n\\n1. **신제품 및 기술 혁신**: 삼성전자는 40년 전의 ‘말하는 냉장고’와 같은 AI 가전 혁신을 계속 추진 중이며, 스마트싱스 ‘패밀리 케어’와 같은 가족 연결 기술도 개발하고 있습니다. 또한, 2025년형 TV와 모니터에는 마이크로소프트 '코파일럿'이 탑재되어 있습니다.\\n\\n2. **신제품 발표 및 행사**: 갤럭시 S25 시리즈, 갤럭시 Z 폴드7, Z 플립7 등 신제품 발표와 함께 다양한 이벤트와 전시회도 마련되고 있습니다. 특히, 갤럭시 게이밍 관련 신기술도 선보이고 있습니다.\\n\\n3. **반도체 및 기타 기술 동향**: 삼성전자는 2025년 하반기 공채를 실시했고, 반도체 사업에서도 중요한 기술 및 투자가 이루어지고 있습니다. 그러나 최근 미국과 중국 간의 반도체 장비 수출 규제 강화로 인해 일부 주가가 하락하는 등 시장 변화도 관찰되고 있습니다.\\n\\n4. **글로벌 활동 및 협력**: 해외에서는 스마트 냉장고 및 기타 가전제품, 스타트업 지원, 친환경 활동 등 다양한 활동도 진행되고 있으며, 갤럭시 제품의 다양한 라이브러리와 뉴스도 발표되고 있습니다.\\n\\n이 외에 더 구체적인 내용이나 특정 분야에 대해 궁금하시면 알려주세요!\", additional_kwargs={}, response_metadata={}),\n",
       "  HumanMessage(content='방금 말한 내용들 2023년 기준인데, 요즘엔 어떻게 됐대?', additional_kwargs={}, response_metadata={}),\n",
       "  AIMessage(content=\"2025년 9월 현재 삼성전자는 글로벌 가전 전시회인 'IFA 2025'에서 최신 AI 기술과 가전제품들을 선보이고 있습니다. 특히, AI 홈 경험을 고도화한 혁신적인 AI 가전제품들이 소개되고 있으며, 유럽 최대 전시회에서 다양한 디스플레이 기술과 함께 AI 홈 미디어를 선보이고 있습니다.\\n\\n또한, 브랜드 평판 조사에서도 삼성전자가 2025년 9월 기준으로 반도체 부문에서 1위를 달성하는 등 지속적인 성장과 인기를 이어가고 있습니다.\\n\\n구체적으로는, 미국 뉴욕 타임스 스퀘어와 영국 런던 피카딜리 광장 등 글로벌 랜드마크에서 ‘스마트싱스’와 연계된 AI 홈 캠페인도 진행되고 있어, 스마트홈 시장에서의 주도적 위치를 강화하고 있는 모습입니다.\\n\\n더 궁금하신 점 있으시면 말씀해주세요!\", additional_kwargs={}, response_metadata={})],\n",
       " 'output': \"2025년 9월 현재 삼성전자는 글로벌 가전 전시회인 'IFA 2025'에서 최신 AI 기술과 가전제품들을 선보이고 있습니다. 특히, AI 홈 경험을 고도화한 혁신적인 AI 가전제품들이 소개되고 있으며, 유럽 최대 전시회에서 다양한 디스플레이 기술과 함께 AI 홈 미디어를 선보이고 있습니다.\\n\\n또한, 브랜드 평판 조사에서도 삼성전자가 2025년 9월 기준으로 반도체 부문에서 1위를 달성하는 등 지속적인 성장과 인기를 이어가고 있습니다.\\n\\n구체적으로는, 미국 뉴욕 타임스 스퀘어와 영국 런던 피카딜리 광장 등 글로벌 랜드마크에서 ‘스마트싱스’와 연계된 AI 홈 캠페인도 진행되고 있어, 스마트홈 시장에서의 주도적 위치를 강화하고 있는 모습입니다.\\n\\n더 궁금하신 점 있으시면 말씀해주세요!\"}"
      ]
     },
     "execution_count": 3,
     "metadata": {},
     "output_type": "execute_result"
    }
   ],
   "source": [
    "agent_executor.invoke({'input': '방금 말한 내용들 2023년 기준인데, 요즘엔 어떻게 됐대?'})"
   ]
  }
 ],
 "metadata": {
  "kernelspec": {
   "display_name": "Python 3",
   "language": "python",
   "name": "python3"
  },
  "language_info": {
   "codemirror_mode": {
    "name": "ipython",
    "version": 3
   },
   "file_extension": ".py",
   "mimetype": "text/x-python",
   "name": "python",
   "nbconvert_exporter": "python",
   "pygments_lexer": "ipython3",
   "version": "3.13.2"
  }
 },
 "nbformat": 4,
 "nbformat_minor": 5
}
