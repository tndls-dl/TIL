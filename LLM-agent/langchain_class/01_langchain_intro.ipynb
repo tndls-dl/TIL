{
 "cells": [
  {
   "cell_type": "markdown",
   "id": "7cdd1e5a",
   "metadata": {},
   "source": [
    "`01_langchain_intro`\n",
    "\n",
    "# Langchain Intro ⛓️⛓️\n",
    "- LLM powered 어플리케이션 제작을 위한 프레임 워크"
   ]
  },
  {
   "cell_type": "code",
   "execution_count": null,
   "id": "701886df",
   "metadata": {},
   "outputs": [
    {
     "name": "stdout",
     "output_type": "stream",
     "text": [
      "Note: you may need to restart the kernel to use updated packages.\n"
     ]
    },
    {
     "name": "stderr",
     "output_type": "stream",
     "text": [
      "\n",
      "[notice] A new release of pip is available: 24.3.1 -> 25.2\n",
      "[notice] To update, run: python.exe -m pip install --upgrade pip\n"
     ]
    }
   ],
   "source": [
    "%pip install -q langchain langchain-openai"
   ]
  },
  {
   "cell_type": "code",
   "execution_count": null,
   "id": "138d6965",
   "metadata": {},
   "outputs": [],
   "source": [
    "from dotenv import load_dotenv\n",
    "\n",
    "load_dotenv()"
   ]
  },
  {
   "cell_type": "code",
   "execution_count": null,
   "id": "2cc2d56c",
   "metadata": {},
   "outputs": [
    {
     "data": {
      "text/plain": [
       "AIMessage(content='Hello! How can I assist you today?', additional_kwargs={'refusal': None}, response_metadata={'token_usage': {'completion_tokens': 9, 'prompt_tokens': 11, 'total_tokens': 20, 'completion_tokens_details': {'accepted_prediction_tokens': 0, 'audio_tokens': 0, 'reasoning_tokens': 0, 'rejected_prediction_tokens': 0}, 'prompt_tokens_details': {'audio_tokens': 0, 'cached_tokens': 0}}, 'model_name': 'gpt-3.5-turbo-0125', 'system_fingerprint': None, 'id': 'chatcmpl-CAoOThJesBTBU2dw4A7HbyTCmOoLN', 'service_tier': 'default', 'finish_reason': 'stop', 'logprobs': None}, id='run--fe668a2d-4853-4d2f-b030-3906ff2b90ab-0', usage_metadata={'input_tokens': 11, 'output_tokens': 9, 'total_tokens': 20, 'input_token_details': {'audio': 0, 'cache_read': 0}, 'output_token_details': {'audio': 0, 'reasoning': 0}})"
      ]
     },
     "execution_count": 1,
     "metadata": {},
     "output_type": "execute_result"
    }
   ],
   "source": [
    "from langchain_openai import ChatOpenAI\n",
    "\n",
    "llm = ChatOpenAI()\n",
    "llm.invoke(\"Hello, world!\")"
   ]
  },
  {
   "cell_type": "code",
   "execution_count": 5,
   "id": "a7451bea",
   "metadata": {},
   "outputs": [
    {
     "data": {
      "text/plain": [
       "'나 집에 가고 싶어.'"
      ]
     },
     "execution_count": 5,
     "metadata": {},
     "output_type": "execute_result"
    }
   ],
   "source": [
    "# 만약 우리가 외국어로 메세지가 들어오면, 한국어로 번역을 해주는 AI를 만들고 싶다면?\n",
    "\n",
    "msg = input('외국어를 넣으세요')\n",
    "\n",
    "res = llm.invoke(f'한국어로 번역해줘: {msg}')\n",
    "\n",
    "res.content"
   ]
  },
  {
   "cell_type": "code",
   "execution_count": 21,
   "id": "7bae8a2c",
   "metadata": {},
   "outputs": [
    {
     "data": {
      "text/plain": [
       "AIMessage(content='吸血鬼になれ、キョジュロ', additional_kwargs={'refusal': None}, response_metadata={'token_usage': {'completion_tokens': 16, 'prompt_tokens': 43, 'total_tokens': 59, 'completion_tokens_details': {'accepted_prediction_tokens': 0, 'audio_tokens': 0, 'reasoning_tokens': 0, 'rejected_prediction_tokens': 0}, 'prompt_tokens_details': {'audio_tokens': 0, 'cached_tokens': 0}}, 'model_name': 'gpt-3.5-turbo-0125', 'system_fingerprint': None, 'id': 'chatcmpl-CAqTITcas7094RyY9MIOs8bboJeyd', 'service_tier': 'default', 'finish_reason': 'stop', 'logprobs': None}, id='run--4cecca8b-a36d-44e1-ab4d-68c8b1ea0683-0', usage_metadata={'input_tokens': 43, 'output_tokens': 16, 'total_tokens': 59, 'input_token_details': {'audio': 0, 'cache_read': 0}, 'output_token_details': {'audio': 0, 'reasoning': 0}})"
      ]
     },
     "execution_count": 21,
     "metadata": {},
     "output_type": "execute_result"
    }
   ],
   "source": [
    "from langchain_core.messages import HumanMessage, SystemMessage\n",
    "\n",
    "messages = [\n",
    "    # 채팅 세션의 전체적인 안내 사항\n",
    "    SystemMessage(content='한국어를 일본어로 번역해줘'),\n",
    "    HumanMessage(content='혈귀가 되어라, 쿄쥬로')\n",
    "]\n",
    "\n",
    "llm.invoke(messages)"
   ]
  },
  {
   "cell_type": "code",
   "execution_count": 12,
   "id": "6780b008",
   "metadata": {},
   "outputs": [
    {
     "data": {
      "text/plain": [
       "AIMessage(content='私の名前はコナン、探偵です。', additional_kwargs={'refusal': None}, response_metadata={'token_usage': {'completion_tokens': 15, 'prompt_tokens': 42, 'total_tokens': 57, 'completion_tokens_details': {'accepted_prediction_tokens': 0, 'audio_tokens': 0, 'reasoning_tokens': 0, 'rejected_prediction_tokens': 0}, 'prompt_tokens_details': {'audio_tokens': 0, 'cached_tokens': 0}}, 'model_name': 'gpt-3.5-turbo-0125', 'system_fingerprint': None, 'id': 'chatcmpl-CAqLYWjWR3160gNU0s3kxBLddxWR4', 'service_tier': 'default', 'finish_reason': 'stop', 'logprobs': None}, id='run--5c6c4b90-8c12-44b8-8e99-9ca134cb0c84-0', usage_metadata={'input_tokens': 42, 'output_tokens': 15, 'total_tokens': 57, 'input_token_details': {'audio': 0, 'cache_read': 0}, 'output_token_details': {'audio': 0, 'reasoning': 0}})"
      ]
     },
     "execution_count": 12,
     "metadata": {},
     "output_type": "execute_result"
    }
   ],
   "source": [
    "messages = [\n",
    "    # 채팅 세션의 전체적인 안내 사항\n",
    "    {'role': 'system', 'content': '한국어를 일본어로 번역해줘'},\n",
    "    {'role': 'user', 'content': '제 이름은 코난, 탐정이죠'},\n",
    "]\n",
    "\n",
    "llm.invoke(messages)"
   ]
  },
  {
   "cell_type": "code",
   "execution_count": 14,
   "id": "8cdc10f3",
   "metadata": {},
   "outputs": [
    {
     "name": "stdout",
     "output_type": "stream",
     "text": [
      "<class 'langchain_openai.chat_models.base.ChatOpenAI'>\n",
      "|私|の|名|前|は|コ|ナ|ン|です|、|探|偵|です|。||"
     ]
    }
   ],
   "source": [
    "print(type(llm))\n",
    "for token in llm.stream(messages):\n",
    "    print(token.content, end=\"|\")"
   ]
  },
  {
   "cell_type": "markdown",
   "id": "24d45253",
   "metadata": {},
   "source": [
    "## Prompt Template\n",
    "- 고정된 문자열과 변수를 조합하여 프롬프트를 만드는 방법\n",
    "\n",
    "## Chain\n",
    "- Langchain의 각 구성요소를 묶어서(chaining)하여 한 번에 실행(invoke)할 수 있도록 하는 기능\n",
    "- `a | b | c` 형태로 나옴. 이건 Python 문법이 아니라 Langchain 문법(LCEL-LangChain Expression Language)"
   ]
  },
  {
   "cell_type": "code",
   "execution_count": null,
   "id": "1f97fdc0",
   "metadata": {},
   "outputs": [
    {
     "data": {
      "text/plain": [
       "AIMessage(content='未来で待ってるね', additional_kwargs={'refusal': None}, response_metadata={'token_usage': {'completion_tokens': 8, 'prompt_tokens': 26, 'total_tokens': 34, 'completion_tokens_details': {'accepted_prediction_tokens': 0, 'audio_tokens': 0, 'reasoning_tokens': 0, 'rejected_prediction_tokens': 0}, 'prompt_tokens_details': {'audio_tokens': 0, 'cached_tokens': 0}}, 'model_name': 'gpt-3.5-turbo-0125', 'system_fingerprint': None, 'id': 'chatcmpl-CAqdhDBjxh0piUVLzC1yu7qLc1nUj', 'service_tier': 'default', 'finish_reason': 'stop', 'logprobs': None}, id='run--ec8fcacf-39de-405e-beb5-87f2f0c0a501-0', usage_metadata={'input_tokens': 26, 'output_tokens': 8, 'total_tokens': 34, 'input_token_details': {'audio': 0, 'cache_read': 0}, 'output_token_details': {'audio': 0, 'reasoning': 0}})"
      ]
     },
     "execution_count": 25,
     "metadata": {},
     "output_type": "execute_result"
    }
   ],
   "source": [
    "# 채팅을 할 경우에는 ChatPromptTemplate\n",
    "from langchain_core.prompts import ChatPromptTemplate\n",
    "\n",
    "messages = [\n",
    "    {'role': 'system', 'content': 'Translate Korean to {lang}'},\n",
    "    {'role': 'human', 'content': '{text}'}\n",
    "]\n",
    "\n",
    "prompt_template = ChatPromptTemplate.from_messages(messages)\n",
    "\n",
    "prompt = prompt_template.invoke({'lang': '일본어', 'text': '미래에서 기다릴게'})\n",
    "\n",
    "llm.invoke(prompt)"
   ]
  },
  {
   "cell_type": "code",
   "execution_count": 26,
   "id": "616e7922",
   "metadata": {},
   "outputs": [
    {
     "data": {
      "text/plain": [
       "AIMessage(content='Happy birthday!', additional_kwargs={'refusal': None}, response_metadata={'token_usage': {'completion_tokens': 3, 'prompt_tokens': 23, 'total_tokens': 26, 'completion_tokens_details': {'accepted_prediction_tokens': 0, 'audio_tokens': 0, 'reasoning_tokens': 0, 'rejected_prediction_tokens': 0}, 'prompt_tokens_details': {'audio_tokens': 0, 'cached_tokens': 0}}, 'model_name': 'gpt-3.5-turbo-0125', 'system_fingerprint': None, 'id': 'chatcmpl-CAqervXe38CJggojZ6ZyBb3V0V7rk', 'service_tier': 'default', 'finish_reason': 'stop', 'logprobs': None}, id='run--cf41bdf7-a36b-4374-89ef-ba62d2bb25d3-0', usage_metadata={'input_tokens': 23, 'output_tokens': 3, 'total_tokens': 26, 'input_token_details': {'audio': 0, 'cache_read': 0}, 'output_token_details': {'audio': 0, 'reasoning': 0}})"
      ]
     },
     "execution_count": 26,
     "metadata": {},
     "output_type": "execute_result"
    }
   ],
   "source": [
    "prompt = prompt_template.invoke({'lang': '영어', 'text': '내 생일이다 !'})\n",
    "\n",
    "llm.invoke(prompt)"
   ]
  },
  {
   "cell_type": "code",
   "execution_count": 34,
   "id": "96947eaa",
   "metadata": {},
   "outputs": [
    {
     "data": {
      "text/plain": [
       "'天気が狂ってる。'"
      ]
     },
     "execution_count": 34,
     "metadata": {},
     "output_type": "execute_result"
    }
   ],
   "source": [
    "from langchain_core.output_parsers import StrOutputParser\n",
    "\n",
    "output_parser = StrOutputParser()\n",
    "\n",
    "chain = prompt_template | llm | output_parser\n",
    "\n",
    "chain.invoke({'lang': '일본어', 'text': '날씨가 미쳤어'})"
   ]
  },
  {
   "cell_type": "code",
   "execution_count": 46,
   "id": "3bd87ba9",
   "metadata": {},
   "outputs": [
    {
     "name": "stdout",
     "output_type": "stream",
     "text": [
      "- 영어 회화 문장: My favorite song is \"Shoot Me\" by DAY6. The lyrics are so powerful and relatable. The instrumental is also amazing, especially the guitar riffs in the chorus.\n",
      "- 한글 번역 문장: 나의 제일 좋아하는 노래는 데이식스의 \"Shoot Me\" 입니다. 가사가 너무 강렬하고 공감이 가고요. 악기 연주도 훌륭한데요, 특히 후렴부의 기타 리프가 좋아요.\n"
     ]
    }
   ],
   "source": [
    "# 단발성 명령 수행\n",
    "from langchain_core.prompts import PromptTemplate\n",
    "\n",
    "template = \"\"\"\n",
    "당신은 10년차 K-유명밴드, 데이식스입니다. 상황에 맞게 [FORMAT]에 영어 회화를 작성해 주세요.\n",
    "\n",
    "상황: {question}\n",
    "\n",
    "FORMAT:\n",
    "- 영어 회화 문장:\n",
    "- 한글 번역 문장:\n",
    "\"\"\"\n",
    "\n",
    "prompt = PromptTemplate.from_template(template)\n",
    "\n",
    "chain = prompt | llm | output_parser\n",
    "\n",
    "res = chain.invoke({'question': '제일 좋아하는 노래에 대해서 설명할 때'})\n",
    "\n",
    "print(res)"
   ]
  },
  {
   "cell_type": "code",
   "execution_count": 47,
   "id": "7342b76e",
   "metadata": {},
   "outputs": [
    {
     "name": "stdout",
     "output_type": "stream",
     "text": [
      "1. 데이터 수집: 2025년 전반기의 매출 데이터를 수집합니다. 이 데이터는 매출액, 제품별 매출액, 지역별 매출액, 시간별 매출액 등 다양한 정보를 포함해야 합니다.\n",
      "\n",
      "2. 데이터 정제: 수집한 데이터를 정제하여 이상치나 결측치를 처리합니다. 정확한 분석을 위해 데이터의 일관성을 유지하는 것이 중요합니다.\n",
      "\n",
      "3. 탐색적 데이터 분석(EDA): 정제된 데이터를 활용하여 다양한 분석을 진행합니다. 요구사항에 맞게 매출액의 추이, 트렌드, 제품별, 지역별 등 다양한 차원으로 데이터를 탐색합니다.\n",
      "\n",
      "4. 시각화: EDA를 통해 얻은 결과를 적절한 시각화 방법을 사용하여 시각적으로 표현합니다. 그래프, 차트, 히트맵 등을 활용하여 결과를 명확하게 전달합니다.\n",
      "\n",
      "5. 결과 해석: 분석된 데이터를 바탕으로 2025년 전반기의 매출에 대한 해석을 수행합니다. 이를 토대로 추후 전략 수립이나 의사 결정에 도움이 되도록 결과를 해석합니다.\n",
      "\n",
      "6. 보고서 작성: 분석 결과를 종합하여 보고서를 작성합니다. 이를 통해 클라이언트에게 전반기 매출에 대한 분석 내용을 상세히 전달할 수 있습니다.\n"
     ]
    }
   ],
   "source": [
    "# 단발성 명령 수행\n",
    "from langchain_core.prompts import PromptTemplate\n",
    "\n",
    "template = \"\"\"\n",
    "당신은 클라이언트 요구사항을 분석해서 단계를 나눠주는 데이터분석 전문가입니다.\n",
    "사용자의 질문을 EDA에 활용할 수 있도록 단계를 나눠주세요.\n",
    "\n",
    "질문: {question}\n",
    "\"\"\"\n",
    "\n",
    "prompt = PromptTemplate.from_template(template)\n",
    "\n",
    "chain = prompt | llm | output_parser\n",
    "\n",
    "res = chain.invoke({'question': '이번 2025년 전반기 매출 분석'})\n",
    "\n",
    "print(res)"
   ]
  },
  {
   "cell_type": "code",
   "execution_count": 48,
   "id": "b4601cc0",
   "metadata": {},
   "outputs": [
    {
     "name": "stdout",
     "output_type": "stream",
     "text": [
      "1. 데이터 수집: 2025년 전반기 매출 데이터를 수집합니다. 이는 주로 회계시스템이나 판매 시스템에서 얻을 수 있습니다.\n",
      "\n",
      "2. 데이터 전처리: 수집된 데이터를 정제하고 필요한 형식에 맞게 가공합니다. 이는 결측치 처리, 이상치 제거, 데이터 형식 변환 등을 포함합니다.\n",
      "\n",
      "3. 탐색적 데이터 분석(EDA): 데이터 시각화 및 기술 통계를 사용하여 2025년 전반기 매출에 대한 패턴 및 트렌드를 분석합니다. 이를 통해 매출의 증감 원인을 파악할 수 있습니다.\n",
      "\n",
      "4. 데이터 분석: EDA 결과를 바탕으로 2025년 전반기 매출에 대한 통계 분석 및 예측을 수행합니다. 이를 통해 매출의 예상 변동과 원인을 더 깊게 이해할 수 있습니다.\n",
      "\n",
      "5. 결과 해석 및 시각화: 최종 결과를 쉽게 이해할 수 있는 형태로 시각화하고 해석하여 클라이언트에게 전달합니다. 이를 통해 향후 전략 수립에 도움을 줄 수 있습니다."
     ]
    }
   ],
   "source": [
    "for token in chain.stream({'question': '이번 2025년 전반기 매출 분석'}):\n",
    "    print(token, end='', flush=True)"
   ]
  },
  {
   "cell_type": "code",
   "execution_count": 49,
   "id": "24b316e0",
   "metadata": {},
   "outputs": [
    {
     "data": {
      "text/plain": [
       "['Langchain은 자연어 처리 및 대화형 AI 애플리케이션 개발을 위한 프레임워크로, 다양한 언어 모델과 도구들을 쉽게 통합할 수 있게 도와줍니다. 이 플랫폼은 텍스트 생성, 질문 응답, 정보 검색 등의 기능을 효율적으로 구현할 수 있도록 설계되어 있습니다. 또한, 사용자 정의 파이프라인과 데이터 연동 기능을 제공하여 맞춤형 AI 솔루션 개발을 지원합니다.',\n",
       " 'Langsmith는 자연어 처리 및 AI 기반 언어 모델 개발을 지원하는 플랫폼입니다. 사용자들이 쉽게 맞춤형 챗봇이나 언어 모델을 구축하고 관리할 수 있도록 도와줍니다. 또한, 직관적인 인터페이스와 다양한 도구를 제공하여 개발자가 효율적으로 AI 애플리케이션을 구현할 수 있게 합니다.',\n",
       " 'Langgraph는 자연어 처리와 그래프 이론을 결합한 기술로, 텍스트 데이터를 그래프 구조로 표현하여 의미 관계를 분석하는 방식입니다. 이를 통해 문장 간의 유사성이나 의미 연결성을 효율적으로 파악할 수 있으며, 정보 검색과 추천 시스템 등에 활용됩니다. 또한, Langgraph는 딥러닝과 결합하여 더 정교한 자연어 이해와 의미 추론을 가능하게 합니다.']"
      ]
     },
     "execution_count": 49,
     "metadata": {},
     "output_type": "execute_result"
    }
   ],
   "source": [
    "prompt = PromptTemplate.from_template('{topic}에 대해서 3문장으로 설명해줘')\n",
    "llm = ChatOpenAI(model='gpt-4.1-nano')\n",
    "\n",
    "chain = prompt | llm | StrOutputParser()\n",
    "\n",
    "chain.batch([\n",
    "    {'topic': 'Langchain'},\n",
    "    {'topic': 'Langsmith'},\n",
    "    {'topic': 'Langgraph'},\n",
    "])"
   ]
  }
 ],
 "metadata": {
  "kernelspec": {
   "display_name": "Python 3",
   "language": "python",
   "name": "python3"
  },
  "language_info": {
   "codemirror_mode": {
    "name": "ipython",
    "version": 3
   },
   "file_extension": ".py",
   "mimetype": "text/x-python",
   "name": "python",
   "nbconvert_exporter": "python",
   "pygments_lexer": "ipython3",
   "version": "3.13.2"
  }
 },
 "nbformat": 4,
 "nbformat_minor": 5
}
