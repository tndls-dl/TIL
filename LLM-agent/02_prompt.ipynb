{
 "cells": [
  {
   "cell_type": "markdown",
   "id": "be358ab4",
   "metadata": {},
   "source": [
    "`02_prompt`\n",
    "\n",
    "# 프롬프트 (Prompt)\n",
    "\n",
    "- LLM한테 주는 입력(지시, 맥락, 기록)\n",
    "    - 지시 : '~~ 해줘'\n",
    "    - 맥락 : Context - 현재 지시를 위해 제공하는 추가 정보\n",
    "    - 기억 : Memory - 지금까지 했던 대화 내용"
   ]
  },
  {
   "cell_type": "code",
   "execution_count": 1,
   "id": "3d03afd7",
   "metadata": {},
   "outputs": [
    {
     "data": {
      "text/plain": [
       "True"
      ]
     },
     "execution_count": 1,
     "metadata": {},
     "output_type": "execute_result"
    }
   ],
   "source": [
    "from dotenv import load_dotenv\n",
    "\n",
    "load_dotenv()"
   ]
  },
  {
   "cell_type": "code",
   "execution_count": 5,
   "id": "170162ea",
   "metadata": {},
   "outputs": [],
   "source": [
    "from langchain_openai import ChatOpenAI\n",
    "from langchain_core.prompts import PromptTemplate\n",
    "from langchain_core.output_parsers import StrOutputParser\n",
    "\n",
    "llm = ChatOpenAI(model='gpt-4.1-nano')"
   ]
  },
  {
   "cell_type": "code",
   "execution_count": 6,
   "id": "7ced0916",
   "metadata": {},
   "outputs": [
    {
     "data": {
      "text/plain": [
       "'대한민국의 수도가 어디인가요?'"
      ]
     },
     "execution_count": 6,
     "metadata": {},
     "output_type": "execute_result"
    }
   ],
   "source": [
    "# 추후에 체인.invoke에서 {} 내부에 들어갈 말을 채워줘야 함.\n",
    "template = '{country}의 수도가 어디인가요?'\n",
    "\n",
    "prompt = PromptTemplate.from_template(template)\n",
    "\n",
    "# {}를 채우는 방법 (우리는 결국 chain.invoke로 쓰게 됨)\n",
    "prompt.format(country='대한민국')"
   ]
  },
  {
   "cell_type": "code",
   "execution_count": 7,
   "id": "8992e816",
   "metadata": {},
   "outputs": [
    {
     "data": {
      "text/plain": [
       "'대한민국의 수도는 서울입니다.'"
      ]
     },
     "execution_count": 7,
     "metadata": {},
     "output_type": "execute_result"
    }
   ],
   "source": [
    "chain = prompt | llm\n",
    "\n",
    "chain.invoke({'country': '대한민국'}).content"
   ]
  },
  {
   "cell_type": "markdown",
   "id": "0cfd100e",
   "metadata": {},
   "source": [
    "## Partial Variable (부분 변수)\n",
    "- 프롬프트에서 매개변수 기본값 사용하기"
   ]
  },
  {
   "cell_type": "code",
   "execution_count": null,
   "id": "4977284d",
   "metadata": {},
   "outputs": [
    {
     "data": {
      "text/plain": [
       "'한국과 미국의 수도는 각각 어디인가요?'"
      ]
     },
     "execution_count": 9,
     "metadata": {},
     "output_type": "execute_result"
    }
   ],
   "source": [
    "template = '{c1}과 {c2}의 수도는 각각 어디인가요?'\n",
    "prompt = PromptTemplate(\n",
    "    template=template,\n",
    "    input_variables=['c1'],\n",
    "    partial_variables={\n",
    "        'c2': '미국'\n",
    "    }\n",
    ")\n",
    "\n",
    "prompt.format(c1='한국')\n",
    "# prompt.format(c2='캐나다')"
   ]
  },
  {
   "cell_type": "code",
   "execution_count": 10,
   "id": "656f3b66",
   "metadata": {},
   "outputs": [
    {
     "data": {
      "text/plain": [
       "'한국(코리아, KR)의 수도는 서울입니다.  \\n미국(US)의 수도는 워싱턴 D.C.입니다.'"
      ]
     },
     "execution_count": 10,
     "metadata": {},
     "output_type": "execute_result"
    }
   ],
   "source": [
    "chain = prompt | llm\n",
    "chain.invoke({'c1': 'kor', 'c2': 'us'}).content"
   ]
  },
  {
   "cell_type": "code",
   "execution_count": 26,
   "id": "e0c64c97",
   "metadata": {},
   "outputs": [
    {
     "data": {
      "text/plain": [
       "'오늘 날짜는 Sep 01입니다. 오늘 생일인 유명인 3명을 생년월일과 함께 나열해 주세요'"
      ]
     },
     "execution_count": 26,
     "metadata": {},
     "output_type": "execute_result"
    }
   ],
   "source": [
    "from datetime import datetime\n",
    "\n",
    "def get_today():\n",
    "    return datetime.now().strftime('%b %d')\n",
    "\n",
    "prompt = PromptTemplate(\n",
    "    template='오늘 날짜는 {today}입니다. 오늘 생일인 유명인 {n}명을 생년월일과 함께 나열해 주세요',\n",
    "    input_variables=['n'],\n",
    "    partial_variables={\n",
    "        'today': get_today\n",
    "    }\n",
    ")\n",
    "\n",
    "prompt.format(n=3)"
   ]
  },
  {
   "cell_type": "code",
   "execution_count": 27,
   "id": "6f40aeae",
   "metadata": {},
   "outputs": [
    {
     "name": "stdout",
     "output_type": "stream",
     "text": [
      "오늘은 9월 1일이므로 이 날짜에 생일인 유명인 3명을 생년월일과 함께 알려드리겠습니다. 확인 가능한 사람 한 명은 다음과 같습니다.\n",
      "\n",
      "- Zendaya — 1996-09-01\n",
      "\n",
      "나머지 두 명은 최신 정보를 확인해 정확히 제공하고 싶습니다. 인터넷 검색으로 3명을 확정해 드려도 될까요? 원하시면 바로 찾아서 목록으로 드리겠습니다.\n",
      "===\n",
      "오늘이 1월 2일이 맞습니다. 1월 2일 생일인 유명인으로 확인된 두 명과 생년은 아래와 같습니다.\n",
      "\n",
      "- Kate Bosworth — 1983년 1월 2일\n",
      "- Tia Carrere — 1969년 1월 2일\n",
      "\n",
      "세 번째 인물을 정확히 포함해 3명을 모두 드리려면 최신 정보를 확인해야 합니다. 검색해서 세 사람의 목록으로 다시 드려도 될까요?\n"
     ]
    }
   ],
   "source": [
    "llm = ChatOpenAI(model='gpt-5-nano')\n",
    "\n",
    "chain = prompt | llm\n",
    "# 오늘 날짜 기준\n",
    "print(chain.invoke({'n': 3}).content)\n",
    "print('===')\n",
    "print(chain.invoke({'n': 3, 'today': 'Jan 2'}).content)"
   ]
  },
  {
   "cell_type": "markdown",
   "id": "45be454a",
   "metadata": {},
   "source": [
    "## `ChatPromptTemplate`\n",
    "\n",
    "- 채팅을 주고받는 템플릿 생성용\n",
    "- 대화 목록을 LLM에게 주입\n",
    "- 하나의 Chat은 `role`과 `message`로 구성됨"
   ]
  },
  {
   "cell_type": "code",
   "execution_count": 15,
   "id": "0e5ed442",
   "metadata": {},
   "outputs": [
    {
     "data": {
      "text/plain": [
       "'Human: 한국의 수도는 어디?'"
      ]
     },
     "execution_count": 15,
     "metadata": {},
     "output_type": "execute_result"
    }
   ],
   "source": [
    "from langchain_core.prompts import ChatPromptTemplate\n",
    "\n",
    "chat_prompt = ChatPromptTemplate.from_template('{country}의 수도는 어디?')\n",
    "chat_prompt.format(country='한국')"
   ]
  },
  {
   "cell_type": "code",
   "execution_count": 29,
   "id": "c17abc03",
   "metadata": {},
   "outputs": [
    {
     "name": "stdout",
     "output_type": "stream",
     "text": [
      "System: 당신은 친절한 AI어시스트. 이름은 choonsik 야.\n",
      "Human: 반가워!\n",
      "AI: 무엇을 도와드릴까요?\n",
      "Human: 이름이 뭐니?\n",
      "[SystemMessage(content='당신은 친절한 AI어시스트. 이름은 choonsik 야.', additional_kwargs={}, response_metadata={}), HumanMessage(content='반가워!', additional_kwargs={}, response_metadata={}), AIMessage(content='무엇을 도와드릴까요?', additional_kwargs={}, response_metadata={}), HumanMessage(content='이름이 뭐니?', additional_kwargs={}, response_metadata={})]\n"
     ]
    }
   ],
   "source": [
    "chat_template = ChatPromptTemplate.from_messages(\n",
    "    [\n",
    "        # role - message\n",
    "        ('system', '당신은 친절한 AI어시스트. 이름은 {name} 야.'),\n",
    "        ('human', '반가워!'),\n",
    "        ('ai', '무엇을 도와드릴까요?'),\n",
    "        ('human', '{user_input}')\n",
    "    ]\n",
    ")\n",
    "\n",
    "# format vs format_messages\n",
    "messages_str = chat_template.format(name='choonsik', user_input='이름이 뭐니?')\n",
    "messages_cls = chat_template.format_messages(name='choonsik', user_input='이름이 뭐니?')\n",
    "print(messages_str)\n",
    "print(messages_cls)"
   ]
  },
  {
   "cell_type": "code",
   "execution_count": 30,
   "id": "476373f5",
   "metadata": {},
   "outputs": [
    {
     "data": {
      "text/plain": [
       "'제 이름은 choonsik이에요. 반가워요! 필요하신 게 있으면 언제든 말씀해 주세요.'"
      ]
     },
     "execution_count": 30,
     "metadata": {},
     "output_type": "execute_result"
    }
   ],
   "source": [
    "# 한 덩어리 텍스트\n",
    "llm.invoke(messages_str).content\n",
    "# 실제 대화 내역으로 인지 (Langsmith 가서 확인)\n",
    "llm.invoke(messages_cls).content"
   ]
  },
  {
   "cell_type": "code",
   "execution_count": 31,
   "id": "3b1d2868",
   "metadata": {},
   "outputs": [
    {
     "data": {
      "text/plain": [
       "'반가워요, 라푼젤 님! 이름 궁합을 재미로 한 번 봐볼게요. 아래는 춘식이의 이름과 라푼젤님의 이름을 합쳐 본 가벼운 이름 궁합입니다.\\n\\n- 점수: 92/100\\n\\n- 왜 이렇게 나왔나(간단한 이유)\\n  - 분위기 공통점: 둘 다 밝고 친절한 이미지를 떠올리게 해서 서로 긍정적 에너지를 주고받는 느낌이에요.\\n  - 보완성: 라푼젤님의 모험심과 독립성 + 춘식이의 다정함과 도움 주려는 마음이 서로를 잘 보완합니다.\\n  - 의사소통: 서로를 존중하고 이해하려는 태도가 잘 맞습니다. 대화가 자연스럽고 협력하기 쉽다는 인상이에요.\\n\\n- 강점 요약\\n  - 서로를 격려하고 도와주는 관계가 잘 형성될 가능성 큼\\n  - 창의적이고 친근한 분위기로 주변 사람들에게도 긍정적 영향을 줄 수 있음\\n\\n- 주의점(재미로 only)\\n  - 라푼젤님의 독립적인 면과 춘식이의 배려 사이에서 균형을 맞추면 더 좋습니다. 때로는 서로의 필요를 명확히 표현하는 것이 도움이 될 거예요.\\n\\n- 재미로 만드는 닉네임 조합 제안\\n  - 라춘젤\\n  - 춘젤라\\n  - 젤춘라\\n  이 중 하나를 서로 부를 때 어감이 어떨지 한 번 시도해 보셔도 좋아요.\\n\\n다른 방식의 이름 점수나 다른 궁합 스타일로도 해볼까요? 원하시면 더 다양한 방법으로 계산해 드리겠습니다.'"
      ]
     },
     "execution_count": 31,
     "metadata": {},
     "output_type": "execute_result"
    }
   ],
   "source": [
    "chain = chat_template | llm | StrOutputParser()\n",
    "\n",
    "chain.invoke({'name': '춘식이', 'user_input': '내 이름은 라푼젤. 너와 나의 이름점을 봐줘'})"
   ]
  },
  {
   "cell_type": "markdown",
   "id": "f964d14f",
   "metadata": {},
   "source": [
    "# 프롬프팅\n",
    "\n",
    "내가 원하는 답변을 구구절절 설명 X -> 예시를 주고 답변의 형태를 유도\n",
    "\n",
    "- Zero-shot prompting : 예시 없이 질문만 -> 바로 답변\n",
    "- One-shot prompting : 예시 1개 + 질문 -> 모델이 예시를 모방해서 답변\n",
    "- *Few-shot prompting** : 예시 여러개 + 질문 -> 예시들의 패턴을 일반화해서 답변"
   ]
  },
  {
   "cell_type": "code",
   "execution_count": 32,
   "id": "8251e667",
   "metadata": {},
   "outputs": [
    {
     "name": "stdout",
     "output_type": "stream",
     "text": [
      "이 질문에 추가 질문이 필요한가요: 예.  \n",
      "추가 질문: Google이 창립된 연도는 언제인가요?  \n",
      "중간 답변: Google은 1998년에 창립되었습니다.  \n",
      "추가 질문: Bill Gates는 1998년 당시 몇 살이었나요?  \n",
      "중간 답변: Bill Gates는 1998년 1월 13일생으로, 1998년에는 만 42세 또는 만 43세였을 수 있습니다.  \n",
      "계산: 1998년 - 1955년(생년) = 43년.  \n",
      "따라서, 1998년 기준으로 Bill Gates는 42세 또는 43세였으며, 만 나이 계산에 따라 42세 또는 43세입니다.  \n",
      "최종 답변은: 42세 또는 43세입니다.\n"
     ]
    }
   ],
   "source": [
    "from langchain_core.prompts.few_shot import FewShotPromptTemplate\n",
    "from langchain_core.output_parsers import StrOutputParser\n",
    "\n",
    "llm = ChatOpenAI(model='gpt-4.1-nano')\n",
    "\n",
    "examples = [\n",
    "    {\n",
    "        \"question\": \"스티브 잡스와 아인슈타인 중 누가 더 오래 살았나요?\",\n",
    "        \"answer\": \"\"\"이 질문에 추가 질문이 필요한가요: 예.\n",
    "추가 질문: 스티브 잡스는 몇 살에 사망했나요?\n",
    "중간 답변: 스티브 잡스는 56세에 사망했습니다.\n",
    "추가 질문: 아인슈타인은 몇 살에 사망했나요?\n",
    "중간 답변: 아인슈타인은 76세에 사망했습니다.\n",
    "최종 답변은: 아인슈타인\n",
    "\"\"\",\n",
    "    },\n",
    "    {\n",
    "        \"question\": \"네이버의 창립자는 언제 태어났나요?\",\n",
    "        \"answer\": \"\"\"이 질문에 추가 질문이 필요한가요: 예.\n",
    "추가 질문: 네이버의 창립자는 누구인가요?\n",
    "중간 답변: 네이버는 이해진에 의해 창립되었습니다.\n",
    "추가 질문: 이해진은 언제 태어났나요?\n",
    "중간 답변: 이해진은 1967년 6월 22일에 태어났습니다.\n",
    "최종 답변은: 1967년 6월 22일\n",
    "\"\"\",\n",
    "    },\n",
    "    {\n",
    "        \"question\": \"율곡 이이의 어머니가 태어난 해의 통치하던 왕은 누구인가요?\",\n",
    "        \"answer\": \"\"\"이 질문에 추가 질문이 필요한가요: 예.\n",
    "추가 질문: 율곡 이이의 어머니는 누구인가요?\n",
    "중간 답변: 율곡 이이의 어머니는 신사임당입니다.\n",
    "추가 질문: 신사임당은 언제 태어났나요?\n",
    "중간 답변: 신사임당은 1504년에 태어났습니다.\n",
    "추가 질문: 1504년에 조선을 통치한 왕은 누구인가요?\n",
    "중간 답변: 1504년에 조선을 통치한 왕은 연산군입니다.\n",
    "최종 답변은: 연산군\n",
    "\"\"\",\n",
    "    },\n",
    "    {\n",
    "        \"question\": \"올드보이와 기생충의 감독이 같은 나라 출신인가요?\",\n",
    "        \"answer\": \"\"\"이 질문에 추가 질문이 필요한가요: 예.\n",
    "추가 질문: 올드보이의 감독은 누구인가요?\n",
    "중간 답변: 올드보이의 감독은 박찬욱입니다.\n",
    "추가 질문: 박찬욱은 어느 나라 출신인가요?\n",
    "중간 답변: 박찬욱은 대한민국 출신입니다.\n",
    "추가 질문: 기생충의 감독은 누구인가요?\n",
    "중간 답변: 기생충의 감독은 봉준호입니다.\n",
    "추가 질문: 봉준호는 어느 나라 출신인가요?\n",
    "중간 답변: 봉준호는 대한민국 출신입니다.\n",
    "최종 답변은: 예\n",
    "\"\"\",\n",
    "    },\n",
    "]\n",
    "\n",
    "example_prompt = PromptTemplate.from_template(\n",
    "    \"Question:\\n{question}\\nAnswer:\\n{answer}\"\n",
    ")\n",
    "\n",
    "prompt = FewShotPromptTemplate(\n",
    "    examples=examples,\n",
    "    example_prompt=example_prompt,\n",
    "    suffix=\"Question:\\n{question}\\nAnswer:\",\n",
    "    input_variables=[\"question\"],\n",
    ")\n",
    "\n",
    "question = \"Google이 창립된 연도에 Bill Gates의 나이는 몇 살인가요?\"\n",
    "\n",
    "chain = prompt | llm | StrOutputParser()\n",
    "\n",
    "res = chain.invoke({'question': question})\n",
    "\n",
    "print(res)"
   ]
  },
  {
   "cell_type": "markdown",
   "id": "9fc86483",
   "metadata": {},
   "source": [
    "## 다른 좋은 프롬프트 활용하기"
   ]
  },
  {
   "cell_type": "markdown",
   "id": "ba909b45",
   "metadata": {},
   "source": [
    "## `langchain-hub`\n",
    "\n",
    "다양한 사용자들이 업로드한 프롬프트를 받아서 활용"
   ]
  },
  {
   "cell_type": "code",
   "execution_count": 33,
   "id": "e497508d",
   "metadata": {},
   "outputs": [
    {
     "name": "stdout",
     "output_type": "stream",
     "text": [
      "Answer the following questions as best you can. You have access to the following tools:\n",
      "\n",
      "{tools}\n",
      "\n",
      "Use the following format:\n",
      "\n",
      "Question: the input question you must answer\n",
      "Thought: you should always think about what to do\n",
      "Action: the action to take, should be one of [{tool_names}]\n",
      "Action Input: the input to the action\n",
      "Observation: the result of the action\n",
      "... (this Thought/Action/Action Input/Observation can repeat N times)\n",
      "Thought: I now know the final answer\n",
      "Final Answer: the final answer to the original input question\n",
      "\n",
      "Begin!\n",
      "\n",
      "Question: {input}\n",
      "Thought:{agent_scratchpad}\n"
     ]
    }
   ],
   "source": [
    "from langchain import hub\n",
    "\n",
    "prompt = hub.pull('hwchase17/react')\n",
    "print(prompt.template)"
   ]
  },
  {
   "cell_type": "code",
   "execution_count": 34,
   "id": "58f2afad",
   "metadata": {},
   "outputs": [
    {
     "ename": "LangSmithUserError",
     "evalue": "Cannot create a prompt for another tenant.\nCurrent tenant: None,\nRequested tenant: SeSAC",
     "output_type": "error",
     "traceback": [
      "\u001b[31m---------------------------------------------------------------------------\u001b[39m",
      "\u001b[31mLangSmithUserError\u001b[39m                        Traceback (most recent call last)",
      "\u001b[36mCell\u001b[39m\u001b[36m \u001b[39m\u001b[32mIn[34]\u001b[39m\u001b[32m, line 5\u001b[39m\n\u001b[32m      1\u001b[39m prompt = PromptTemplate.from_template(\n\u001b[32m      2\u001b[39m     \u001b[33m'\u001b[39m\u001b[33m내 첫 프롬프트 Push!\u001b[39m\u001b[33m'\u001b[39m\n\u001b[32m      3\u001b[39m )\n\u001b[32m----> \u001b[39m\u001b[32m5\u001b[39m \u001b[43mhub\u001b[49m\u001b[43m.\u001b[49m\u001b[43mpush\u001b[49m\u001b[43m(\u001b[49m\u001b[33;43m'\u001b[39;49m\u001b[33;43mSeSAC/prompt-hub-test\u001b[39;49m\u001b[33;43m'\u001b[39;49m\u001b[43m,\u001b[49m\u001b[43m \u001b[49m\u001b[43mprompt\u001b[49m\u001b[43m)\u001b[49m\n",
      "\u001b[36mFile \u001b[39m\u001b[32mc:\\Users\\sec\\AppData\\Local\\Programs\\Python\\Python313\\Lib\\site-packages\\langchain\\hub.py:72\u001b[39m, in \u001b[36mpush\u001b[39m\u001b[34m(repo_full_name, object, api_url, api_key, parent_commit_hash, new_repo_is_public, new_repo_description, readme, tags)\u001b[39m\n\u001b[32m     70\u001b[39m \u001b[38;5;66;03m# Then it's langsmith\u001b[39;00m\n\u001b[32m     71\u001b[39m \u001b[38;5;28;01mif\u001b[39;00m \u001b[38;5;28mhasattr\u001b[39m(client, \u001b[33m\"\u001b[39m\u001b[33mpush_prompt\u001b[39m\u001b[33m\"\u001b[39m):\n\u001b[32m---> \u001b[39m\u001b[32m72\u001b[39m     \u001b[38;5;28;01mreturn\u001b[39;00m \u001b[43mclient\u001b[49m\u001b[43m.\u001b[49m\u001b[43mpush_prompt\u001b[49m\u001b[43m(\u001b[49m\n\u001b[32m     73\u001b[39m \u001b[43m        \u001b[49m\u001b[43mrepo_full_name\u001b[49m\u001b[43m,\u001b[49m\n\u001b[32m     74\u001b[39m \u001b[43m        \u001b[49m\u001b[38;5;28;43mobject\u001b[39;49m\u001b[43m=\u001b[49m\u001b[38;5;28;43mobject\u001b[39;49m\u001b[43m,\u001b[49m\n\u001b[32m     75\u001b[39m \u001b[43m        \u001b[49m\u001b[43mparent_commit_hash\u001b[49m\u001b[43m=\u001b[49m\u001b[43mparent_commit_hash\u001b[49m\u001b[43m,\u001b[49m\n\u001b[32m     76\u001b[39m \u001b[43m        \u001b[49m\u001b[43mis_public\u001b[49m\u001b[43m=\u001b[49m\u001b[43mnew_repo_is_public\u001b[49m\u001b[43m,\u001b[49m\n\u001b[32m     77\u001b[39m \u001b[43m        \u001b[49m\u001b[43mdescription\u001b[49m\u001b[43m=\u001b[49m\u001b[43mnew_repo_description\u001b[49m\u001b[43m,\u001b[49m\n\u001b[32m     78\u001b[39m \u001b[43m        \u001b[49m\u001b[43mreadme\u001b[49m\u001b[43m=\u001b[49m\u001b[43mreadme\u001b[49m\u001b[43m,\u001b[49m\n\u001b[32m     79\u001b[39m \u001b[43m        \u001b[49m\u001b[43mtags\u001b[49m\u001b[43m=\u001b[49m\u001b[43mtags\u001b[49m\u001b[43m,\u001b[49m\n\u001b[32m     80\u001b[39m \u001b[43m    \u001b[49m\u001b[43m)\u001b[49m\n\u001b[32m     82\u001b[39m \u001b[38;5;66;03m# Then it's langchainhub\u001b[39;00m\n\u001b[32m     83\u001b[39m manifest_json = dumps(\u001b[38;5;28mobject\u001b[39m)\n",
      "\u001b[36mFile \u001b[39m\u001b[32mc:\\Users\\sec\\AppData\\Local\\Programs\\Python\\Python313\\Lib\\site-packages\\langsmith\\client.py:7692\u001b[39m, in \u001b[36mClient.push_prompt\u001b[39m\u001b[34m(self, prompt_identifier, object, parent_commit_hash, is_public, description, readme, tags)\u001b[39m\n\u001b[32m   7684\u001b[39m         \u001b[38;5;28mself\u001b[39m.update_prompt(\n\u001b[32m   7685\u001b[39m             prompt_identifier,\n\u001b[32m   7686\u001b[39m             description=description,\n\u001b[32m   (...)\u001b[39m\u001b[32m   7689\u001b[39m             is_public=is_public,\n\u001b[32m   7690\u001b[39m         )\n\u001b[32m   7691\u001b[39m \u001b[38;5;28;01melse\u001b[39;00m:\n\u001b[32m-> \u001b[39m\u001b[32m7692\u001b[39m     \u001b[38;5;28;43mself\u001b[39;49m\u001b[43m.\u001b[49m\u001b[43mcreate_prompt\u001b[49m\u001b[43m(\u001b[49m\n\u001b[32m   7693\u001b[39m \u001b[43m        \u001b[49m\u001b[43mprompt_identifier\u001b[49m\u001b[43m,\u001b[49m\n\u001b[32m   7694\u001b[39m \u001b[43m        \u001b[49m\u001b[43mis_public\u001b[49m\u001b[43m=\u001b[49m\u001b[43mis_public\u001b[49m\u001b[43m \u001b[49m\u001b[38;5;28;43;01mif\u001b[39;49;00m\u001b[43m \u001b[49m\u001b[43mis_public\u001b[49m\u001b[43m \u001b[49m\u001b[38;5;129;43;01mis\u001b[39;49;00m\u001b[43m \u001b[49m\u001b[38;5;129;43;01mnot\u001b[39;49;00m\u001b[43m \u001b[49m\u001b[38;5;28;43;01mNone\u001b[39;49;00m\u001b[43m \u001b[49m\u001b[38;5;28;43;01melse\u001b[39;49;00m\u001b[43m \u001b[49m\u001b[38;5;28;43;01mFalse\u001b[39;49;00m\u001b[43m,\u001b[49m\n\u001b[32m   7695\u001b[39m \u001b[43m        \u001b[49m\u001b[43mdescription\u001b[49m\u001b[43m=\u001b[49m\u001b[43mdescription\u001b[49m\u001b[43m,\u001b[49m\n\u001b[32m   7696\u001b[39m \u001b[43m        \u001b[49m\u001b[43mreadme\u001b[49m\u001b[43m=\u001b[49m\u001b[43mreadme\u001b[49m\u001b[43m,\u001b[49m\n\u001b[32m   7697\u001b[39m \u001b[43m        \u001b[49m\u001b[43mtags\u001b[49m\u001b[43m=\u001b[49m\u001b[43mtags\u001b[49m\u001b[43m,\u001b[49m\n\u001b[32m   7698\u001b[39m \u001b[43m    \u001b[49m\u001b[43m)\u001b[49m\n\u001b[32m   7700\u001b[39m \u001b[38;5;28;01mif\u001b[39;00m \u001b[38;5;28mobject\u001b[39m \u001b[38;5;129;01mis\u001b[39;00m \u001b[38;5;28;01mNone\u001b[39;00m:\n\u001b[32m   7701\u001b[39m     \u001b[38;5;28;01mreturn\u001b[39;00m \u001b[38;5;28mself\u001b[39m._get_prompt_url(prompt_identifier=prompt_identifier)\n",
      "\u001b[36mFile \u001b[39m\u001b[32mc:\\Users\\sec\\AppData\\Local\\Programs\\Python\\Python313\\Lib\\site-packages\\langsmith\\client.py:7312\u001b[39m, in \u001b[36mClient.create_prompt\u001b[39m\u001b[34m(self, prompt_identifier, description, readme, tags, is_public)\u001b[39m\n\u001b[32m   7310\u001b[39m owner, prompt_name, _ = ls_utils.parse_prompt_identifier(prompt_identifier)\n\u001b[32m   7311\u001b[39m \u001b[38;5;28;01mif\u001b[39;00m \u001b[38;5;129;01mnot\u001b[39;00m \u001b[38;5;28mself\u001b[39m._current_tenant_is_owner(owner=owner):\n\u001b[32m-> \u001b[39m\u001b[32m7312\u001b[39m     \u001b[38;5;28;01mraise\u001b[39;00m \u001b[38;5;28mself\u001b[39m._owner_conflict_error(\u001b[33m\"\u001b[39m\u001b[33mcreate a prompt\u001b[39m\u001b[33m\"\u001b[39m, owner)\n\u001b[32m   7314\u001b[39m json: \u001b[38;5;28mdict\u001b[39m[\u001b[38;5;28mstr\u001b[39m, Union[\u001b[38;5;28mstr\u001b[39m, \u001b[38;5;28mbool\u001b[39m, Sequence[\u001b[38;5;28mstr\u001b[39m]]] = {\n\u001b[32m   7315\u001b[39m     \u001b[33m\"\u001b[39m\u001b[33mrepo_handle\u001b[39m\u001b[33m\"\u001b[39m: prompt_name,\n\u001b[32m   7316\u001b[39m     \u001b[33m\"\u001b[39m\u001b[33mdescription\u001b[39m\u001b[33m\"\u001b[39m: description \u001b[38;5;129;01mor\u001b[39;00m \u001b[33m\"\u001b[39m\u001b[33m\"\u001b[39m,\n\u001b[32m   (...)\u001b[39m\u001b[32m   7319\u001b[39m     \u001b[33m\"\u001b[39m\u001b[33mis_public\u001b[39m\u001b[33m\"\u001b[39m: is_public,\n\u001b[32m   7320\u001b[39m }\n\u001b[32m   7322\u001b[39m response = \u001b[38;5;28mself\u001b[39m.request_with_retries(\u001b[33m\"\u001b[39m\u001b[33mPOST\u001b[39m\u001b[33m\"\u001b[39m, \u001b[33m\"\u001b[39m\u001b[33m/repos/\u001b[39m\u001b[33m\"\u001b[39m, json=json)\n",
      "\u001b[31mLangSmithUserError\u001b[39m: Cannot create a prompt for another tenant.\nCurrent tenant: None,\nRequested tenant: SeSAC"
     ]
    }
   ],
   "source": [
    "prompt = PromptTemplate.from_template(\n",
    "    '내 첫 프롬프트 Push!'\n",
    ")\n",
    "\n",
    "hub.push('SeSAC/prompt-hub-test', prompt)"
   ]
  }
 ],
 "metadata": {
  "kernelspec": {
   "display_name": "Python 3",
   "language": "python",
   "name": "python3"
  },
  "language_info": {
   "codemirror_mode": {
    "name": "ipython",
    "version": 3
   },
   "file_extension": ".py",
   "mimetype": "text/x-python",
   "name": "python",
   "nbconvert_exporter": "python",
   "pygments_lexer": "ipython3",
   "version": "3.13.2"
  }
 },
 "nbformat": 4,
 "nbformat_minor": 5
}
