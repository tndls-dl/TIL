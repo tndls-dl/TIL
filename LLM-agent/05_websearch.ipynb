{
 "cells": [
  {
   "cell_type": "markdown",
   "id": "033b745d",
   "metadata": {},
   "source": [
    "`05_websearch`\n",
    "\n",
    "# Tavily Web Search\n",
    "\n",
    "- LLM에게 웹검색을 쥐어주자"
   ]
  },
  {
   "cell_type": "code",
   "execution_count": 1,
   "id": "c4efb9df",
   "metadata": {},
   "outputs": [
    {
     "name": "stdout",
     "output_type": "stream",
     "text": [
      "Note: you may need to restart the kernel to use updated packages.\n"
     ]
    },
    {
     "name": "stderr",
     "output_type": "stream",
     "text": [
      "\n",
      "[notice] A new release of pip is available: 24.3.1 -> 25.2\n",
      "[notice] To update, run: python.exe -m pip install --upgrade pip\n"
     ]
    }
   ],
   "source": [
    "%pip install -q langchain-tavily"
   ]
  },
  {
   "cell_type": "code",
   "execution_count": 5,
   "id": "b723f374",
   "metadata": {},
   "outputs": [
    {
     "data": {
      "text/plain": [
       "True"
      ]
     },
     "execution_count": 5,
     "metadata": {},
     "output_type": "execute_result"
    }
   ],
   "source": [
    "from dotenv import load_dotenv\n",
    "from pprint import pprint\n",
    "\n",
    "load_dotenv()"
   ]
  },
  {
   "cell_type": "code",
   "execution_count": 6,
   "id": "fe06adec",
   "metadata": {},
   "outputs": [],
   "source": [
    "from langchain_tavily import TavilySearch   \n",
    "\n",
    "search_tool = TavilySearch(\n",
    "    max_results=5,\n",
    "    topic=\"general\",\n",
    "    search_depth=\"basic\",\n",
    "    # time_range=\"day\",\n",
    "    # include_domains=None,\n",
    "    # exclude_domains=None\n",
    ")"
   ]
  },
  {
   "cell_type": "code",
   "execution_count": 7,
   "id": "062b97c1",
   "metadata": {},
   "outputs": [
    {
     "name": "stdout",
     "output_type": "stream",
     "text": [
      "{'answer': None,\n",
      " 'follow_up_questions': None,\n",
      " 'images': [],\n",
      " 'query': '강남 신세계에서 밥먹을만한 곳 알려줘',\n",
      " 'request_id': '60822112-6e1a-428b-985d-b8fb49663ee6',\n",
      " 'response_time': 1.31,\n",
      " 'results': [{'content': '강남신세계 혼밥맛집 (106곳) · 1. 소녀방앗간 서울고속터미널점 · 2. 타코벨 '\n",
      "                         '서울고속버스터미널점 · 3. 소이연남 파미에스테이션점 · 4. 갓덴스시 센트럴시티점 · 5. '\n",
      "                         '101번지',\n",
      "              'raw_content': None,\n",
      "              'score': 0.7304634,\n",
      "              'title': \"'강남신세계 혼밥' 맛집 빅데이터 추천순위 Top100\",\n",
      "              'url': 'https://www.diningcode.com/list.dc?query=%EA%B0%95%EB%82%A8%EC%8B%A0%EC%84%B8%EA%B3%84%20%ED%98%BC%EB%B0%A5'},\n",
      "             {'content': '1. 더 마고 그릴 신세계강남 · 2. 모던눌랑 강남고속터미널 · 3. 에토레 파미에스테이션 '\n",
      "                         '· 4. 자주테이블 신세계강남 · 5. 쓰리버즈 센트럴시티점 · 6. 더 키친 일뽀르노 신세계',\n",
      "              'raw_content': None,\n",
      "              'score': 0.6907474,\n",
      "              'title': \"'강남신세계백화점 레스토랑' 맛집 빅데이터 추천순위 Top10\",\n",
      "              'url': 'https://www.diningcode.com/list.dc?query=%EA%B0%95%EB%82%A8%EC%8B%A0%EC%84%B8%EA%B3%84%EB%B0%B1%ED%99%94%EC%A0%90%20%EB%A0%88%EC%8A%A4%ED%86%A0%EB%9E%91'},\n",
      "             {'content': '1. 플레이버즈. 5.0. (1,716건의 리뷰). 해산물, 아시아 요리$$$$. 휴일입니다. '\n",
      "                         '0.1km · 2. 타마유라. 5.0. (180건의 리뷰). 일본 요리, 해산물$$$$. '\n",
      "                         '휴일입니다 · 3. 더',\n",
      "              'raw_content': None,\n",
      "              'score': 0.63125396,\n",
      "              'title': '서울 신세계 강남점 근처 맛집 Best 10 - Tripadvisor',\n",
      "              'url': 'https://www.tripadvisor.co.kr/RestaurantsNear-g294197-d9755552-Shinsegae_Gangnam-Seoul.html'},\n",
      "             {'content': '오목집은 세계에서 가장 쬘깃쬘깃하고 막국수가 맛있는 족발집이랍니다... 여기의 비밀병기는 '\n",
      "                         '막국수랍니다 막국수를 꼭 같이 드셔야해요!',\n",
      "              'raw_content': None,\n",
      "              'score': 0.6139086,\n",
      "              'title': '가족들과 집에서 딱 먹기 좋은! 신세계백화점 강남점&본점 ...',\n",
      "              'url': 'https://blog.naver.com/greenclover120/223605678888?viewType=pc'},\n",
      "             {'content': '신세계 강남 스위트파크에서 꼭 가봐야할 매장 TOP10 &하우스오브신세계 '\n",
      "                         '방문후기#빵지순례#스위트파크#하우스오브신세계. 카페에 반하다•23K views · 13:',\n",
      "              'raw_content': None,\n",
      "              'score': 0.59033114,\n",
      "              'title': '🇰🇷 🔥강남 신세계 푸드코트 하우스오브 신세계,스위트파크 ...',\n",
      "              'url': 'https://www.youtube.com/watch?v=wRvUnu8OwWI'}]}\n"
     ]
    }
   ],
   "source": [
    "pprint(search_tool.invoke({'query': '강남 신세계에서 밥먹을만한 곳 알려줘'}))"
   ]
  },
  {
   "cell_type": "code",
   "execution_count": 8,
   "id": "81e92e08",
   "metadata": {},
   "outputs": [
    {
     "data": {
      "text/plain": [
       "\"강남 신세계백화점에서 점심을 맛있게 즐기고 싶다면, '타치바나'를 추천합니다. 신세계백화점 지하 1층에 위치해 있으며, 다양한 맛집과 다이닝 옵션도 있습니다. 특히 미쉐린 빕 구르망 셰프의 코스 메뉴도 마련되어 있어 점심 식사에 적합합니다.\""
      ]
     },
     "execution_count": 8,
     "metadata": {},
     "output_type": "execute_result"
    }
   ],
   "source": [
    "from langchain.prompts import PromptTemplate\n",
    "from langchain_openai import ChatOpenAI\n",
    "from langchain_core.output_parsers import StrOutputParser\n",
    "from langchain_core.runnables import RunnableLambda, RunnablePassthrough\n",
    "\n",
    "llm = ChatOpenAI(model='gpt-4.1-nano')\n",
    "\n",
    "prompt = PromptTemplate(\n",
    "    input_variables=['query', 'search_results'],\n",
    "    template=\"\"\"넌 웹 검색결과를 요약해서 사용자의 질문에 맞게 좋은 답을 해주는 챗봇이야.\n",
    "\n",
    "    질문: {query}\n",
    "    검색결과: {search_results}\n",
    "    질문에 맞는 답을 검색결과 바탕으로 간단하게 알려줘\n",
    "    \"\"\"\n",
    ")\n",
    "\n",
    "chain = (\n",
    "    {\n",
    "        'query': RunnablePassthrough(),  # 사용자 입력 그대로 이 자리에 들어옴\n",
    "        'search_results': search_tool | RunnableLambda(\n",
    "            lambda x: '\\n'.join(\n",
    "                [f'-{r['title']} ({r['content']})' for r in x['results']]\n",
    "            )\n",
    "        )\n",
    "    }\n",
    "    | prompt\n",
    "    | llm\n",
    "    | StrOutputParser()\n",
    ")\n",
    "\n",
    "chain.invoke('강남 신세계에서 점심 먹기 좋은곳')"
   ]
  },
  {
   "cell_type": "code",
   "execution_count": 9,
   "id": "69190a7d",
   "metadata": {},
   "outputs": [
    {
     "data": {
      "text/plain": [
       "'강남 신세계 내에서는 다양한 맛집이 있지만, 점심 식사에 추천할 만한 곳으로는 셰프가 엄선한 메뉴를 제공하는 레스토랑이나, 캐주얼한 분위기의 카페들이 있습니다. 특히, 신세계백화점 지하에 위치한 푸드코트에서는 다양한 메뉴를 저렴하게 즐기실 수 있어 편리합니다.'"
      ]
     },
     "execution_count": 9,
     "metadata": {},
     "output_type": "execute_result"
    }
   ],
   "source": [
    "dumb_chain = prompt | llm | StrOutputParser()\n",
    "\n",
    "dumb_chain.invoke({'query': '강남 신세계에서 점심먹기 좋은곳', 'search_results': ''})"
   ]
  },
  {
   "cell_type": "code",
   "execution_count": 16,
   "id": "547d1f4c",
   "metadata": {},
   "outputs": [],
   "source": [
    "from langchain.agents import create_openai_tools_agent, AgentExecutor\n",
    "from langchain_core.prompts import ChatPromptTemplate, MessagesPlaceholder\n",
    "from langchain.memory import ConversationBufferMemory\n",
    "from datetime import datetime\n",
    "\n",
    "today = datetime.today().strftime('%D')\n",
    "\n",
    "search_tool = TavilySearch(\n",
    "    max_results=5,\n",
    "    topic='general'\n",
    ")\n",
    "\n",
    "prompt = ChatPromptTemplate.from_messages([\n",
    "    ('system', f'너는 훌륭한 어시스턴트야. 반드시 웹 검색도구를 사용해서 정보를 얻어. 최대한 답을 잘 해보자. 오늘은 {today}야.'),\n",
    "    MessagesPlaceholder(variable_name='chat_history'),\n",
    "    ('human', '{input}'),\n",
    "    MessagesPlaceholder(variable_name='agent_scratchpad')  # 도구(검색) 호출때 필요함\n",
    "])\n",
    "\n",
    "memory = ConversationBufferMemory(\n",
    "    return_messages=True,\n",
    "    memory_key='chat_history'\n",
    ")\n",
    "\n",
    "agent = create_openai_tools_agent(\n",
    "    llm=llm,\n",
    "    tools=[search_tool],\n",
    "    prompt=prompt\n",
    ")\n",
    "\n",
    "agent_executor = AgentExecutor(agent=agent, memory=memory, tools=[search_tool], verbose=True)"
   ]
  },
  {
   "cell_type": "code",
   "execution_count": 17,
   "id": "2fc84120",
   "metadata": {},
   "outputs": [
    {
     "name": "stdout",
     "output_type": "stream",
     "text": [
      "\n",
      "\n",
      "\u001b[1m> Entering new AgentExecutor chain...\u001b[0m\n",
      "\u001b[32;1m\u001b[1;3m반갑습니다, 춘식이님! 오늘 도와드릴 일이 있나요? 어떤 것이든 말씀해 주세요.\u001b[0m\n",
      "\n",
      "\u001b[1m> Finished chain.\u001b[0m\n"
     ]
    },
    {
     "data": {
      "text/plain": [
       "{'input': '나는 춘식이야',\n",
       " 'chat_history': [HumanMessage(content='나는 춘식이야', additional_kwargs={}, response_metadata={}),\n",
       "  AIMessage(content='반갑습니다, 춘식이님! 오늘 도와드릴 일이 있나요? 어떤 것이든 말씀해 주세요.', additional_kwargs={}, response_metadata={})],\n",
       " 'output': '반갑습니다, 춘식이님! 오늘 도와드릴 일이 있나요? 어떤 것이든 말씀해 주세요.'}"
      ]
     },
     "execution_count": 17,
     "metadata": {},
     "output_type": "execute_result"
    }
   ],
   "source": [
    "agent_executor.invoke({'input': '나는 춘식이야'})"
   ]
  }
 ],
 "metadata": {
  "kernelspec": {
   "display_name": "Python 3",
   "language": "python",
   "name": "python3"
  },
  "language_info": {
   "codemirror_mode": {
    "name": "ipython",
    "version": 3
   },
   "file_extension": ".py",
   "mimetype": "text/x-python",
   "name": "python",
   "nbconvert_exporter": "python",
   "pygments_lexer": "ipython3",
   "version": "3.13.2"
  }
 },
 "nbformat": 4,
 "nbformat_minor": 5
}
