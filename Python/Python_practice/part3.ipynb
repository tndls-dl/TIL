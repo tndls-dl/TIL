{
 "cells": [
  {
   "cell_type": "markdown",
   "id": "015c665a",
   "metadata": {},
   "source": [
    "### 22번 문제\n",
    "학생들의 성적 딕셔너리를 만들고, 평균 점수를 계산하여 평균 이상인 학생들만 출력하세요."
   ]
  },
  {
   "cell_type": "code",
   "execution_count": 11,
   "id": "3e3ee36e",
   "metadata": {},
   "outputs": [
    {
     "name": "stdout",
     "output_type": "stream",
     "text": [
      "Alice 85\n",
      "Charlie 90\n"
     ]
    }
   ],
   "source": [
    "scores = {'Alice': 85, 'Bob': 72, 'Charlie': 90, 'David': 60}\n",
    "\n",
    "total = 0\n",
    "score_values = scores.values()\n",
    "\n",
    "for s in score_values:\n",
    "    total += s\n",
    "    \n",
    "average = total / len(scores)\n",
    "\n",
    "for student, score in scores.items():\n",
    "    if score >= average:\n",
    "        print(student, score)"
   ]
  },
  {
   "cell_type": "markdown",
   "id": "cf788c80",
   "metadata": {},
   "source": [
    "### 23번 문제\n",
    "주어진 문자열에서 숫자만 추출하여 합계를 구하는 프로그램을 작성하세요."
   ]
  },
  {
   "cell_type": "code",
   "execution_count": 3,
   "id": "7ea517c6",
   "metadata": {},
   "outputs": [
    {
     "name": "stdout",
     "output_type": "stream",
     "text": [
      "1\n",
      "2\n",
      "3\n",
      "4\n",
      "10\n"
     ]
    }
   ],
   "source": [
    "text = \"a1b2c3d4\"\n",
    "total = 0\n",
    "\n",
    "for num in text:\n",
    "    if num.isdigit():\n",
    "        print(num)\n",
    "        total += int(num)\n",
    "\n",
    "print(total)\n",
    "    "
   ]
  },
  {
   "cell_type": "markdown",
   "id": "8a14b3de",
   "metadata": {},
   "source": [
    "### 24번 문제\n",
    "피보나치 수열의 첫 10개 항을 리스트에 저장하여 출력하세요."
   ]
  },
  {
   "cell_type": "code",
   "execution_count": null,
   "id": "cc8b02fd",
   "metadata": {},
   "outputs": [
    {
     "name": "stdout",
     "output_type": "stream",
     "text": [
      "[0, 1, 1, 2, 3, 5, 8, 13, 21, 34]\n"
     ]
    }
   ],
   "source": [
    "fibonacci = [0, 1]\n",
    "\n",
    "for i in range(0, 8):  # 원래 fibonacci 리스트에 2개가 있기 때문에 range(0, 8)로 해야 함.\n",
    "\n",
    "    fibonacci.append(fibonacci[-1] + fibonacci[-2])\n",
    "print(fibonacci)"
   ]
  },
  {
   "cell_type": "markdown",
   "id": "cf47b1ae",
   "metadata": {},
   "source": [
    "### 25번 문제\n",
    "영어 문장을 입력받아 단어 개수, 문자 개수(공백 제외), 모음 개수를 세는 프로그램을 작성하세요."
   ]
  },
  {
   "cell_type": "code",
   "execution_count": 25,
   "id": "92747767",
   "metadata": {},
   "outputs": [
    {
     "name": "stdout",
     "output_type": "stream",
     "text": [
      "Nice to meet you\n",
      "단어 개수: 4\n",
      "문자 개수: 13\n",
      "모음 개수: 7\n"
     ]
    }
   ],
   "source": [
    "sentence = input(\"문장을 입력하세요: \")\n",
    "print(sentence)\n",
    "\n",
    "words = sentence.split()\n",
    "word_count = len(words)\n",
    "\n",
    "text = 'aeiouAEIOU'\n",
    "text_count = 0\n",
    "letter_count = 0\n",
    "\n",
    "for word in words:\n",
    "    for letter in word:\n",
    "        letter_count += len(letter)\n",
    "        if letter in text:\n",
    "            text_count += 1\n",
    "\n",
    "\n",
    "# for word in words:\n",
    "#     for letter in word:\n",
    "#         if letter in text:\n",
    "#             text_count += 1\n",
    "\n",
    "print(f'단어 개수: {word_count}')\n",
    "print(f'문자 개수: {letter_count}')\n",
    "print(f'모음 개수: {text_count}')\n"
   ]
  },
  {
   "cell_type": "markdown",
   "id": "65dcf00d",
   "metadata": {},
   "source": [
    "### 26번 문제\n",
    "2차원 리스트 [[1, 2, 3], [4, 5, 6], [7, 8, 9]]의 모든 원소의 합을 구하세요."
   ]
  },
  {
   "cell_type": "code",
   "execution_count": 46,
   "id": "26a8319e",
   "metadata": {},
   "outputs": [
    {
     "name": "stdout",
     "output_type": "stream",
     "text": [
      "45\n"
     ]
    }
   ],
   "source": [
    "matrix = [[1, 2, 3], [4, 5, 6], [7, 8, 9]]\n",
    "\n",
    "total = 0\n",
    "\n",
    "for row in matrix:\n",
    "    for number in row:\n",
    "        total += number\n",
    "\n",
    "print(total)"
   ]
  },
  {
   "cell_type": "markdown",
   "id": "dea32b37",
   "metadata": {},
   "source": [
    "### 27번 문제\n",
    "문자열 리스트에서 가장 긴 문자열과 가장 짧은 문자열을 찾아 출력하세요."
   ]
  },
  {
   "cell_type": "code",
   "execution_count": 35,
   "id": "28d8b0c0",
   "metadata": {},
   "outputs": [
    {
     "name": "stdout",
     "output_type": "stream",
     "text": [
      "가장 긴 문자열: strawberry, 가장 짧은 문자열: kiwi\n"
     ]
    }
   ],
   "source": [
    "words = [\"apple\", \"banana\", \"kiwi\", \"strawberry\"]\n",
    "\n",
    "longest_word = words[0]\n",
    "shortest_word = words[0]\n",
    "\n",
    "for word in words:\n",
    "    if len(word) > len(longest_word):\n",
    "        longest_word = word\n",
    "\n",
    "    if len(word) < len(shortest_word):\n",
    "        shortest_word = word\n",
    "\n",
    "print(f'가장 긴 문자열: {longest_word}, 가장 짧은 문자열: {shortest_word}')"
   ]
  },
  {
   "cell_type": "code",
   "execution_count": 36,
   "id": "34aad709",
   "metadata": {},
   "outputs": [
    {
     "name": "stdout",
     "output_type": "stream",
     "text": [
      "가장 긴 문자열: ['strawberry', 'watermelon'], 가장 짧은 문자열: ['kiwi']\n"
     ]
    }
   ],
   "source": [
    "words = [\"apple\", \"banana\", \"kiwi\", \"strawberry\", \"watermelon\"]\n",
    "\n",
    "longest_word = words[0]\n",
    "shortest_word = words[0]\n",
    "longest_word_list = []\n",
    "shortest_word_list = []\n",
    "\n",
    "for word in words:\n",
    "    if len(word) > len(longest_word):\n",
    "        longest_word = word\n",
    "\n",
    "    if len(word) < len(shortest_word):\n",
    "        shortest_word = word\n",
    "\n",
    "for word in words:\n",
    "    if len(word) == len(longest_word):\n",
    "        longest_word_list.append(word)\n",
    "\n",
    "    if len(word) == len(shortest_word):\n",
    "        shortest_word_list.append(word)\n",
    "\n",
    "print(f'가장 긴 문자열: {longest_word_list}, 가장 짧은 문자열: {shortest_word_list}')"
   ]
  },
  {
   "cell_type": "markdown",
   "id": "88c6ac5b",
   "metadata": {},
   "source": [
    "### 28번 문제\n",
    "로또 번호 생성기를 만드세요. (1~45 중 중복 없는 6개 숫자)"
   ]
  },
  {
   "cell_type": "code",
   "execution_count": 6,
   "id": "5c9030f3",
   "metadata": {},
   "outputs": [
    {
     "name": "stdout",
     "output_type": "stream",
     "text": [
      "[27, 34, 24, 18, 28, 25]\n"
     ]
    }
   ],
   "source": [
    "import random\n",
    "\n",
    "lotto = random.sample(range(1, 46), 6)\n",
    "print(lotto)"
   ]
  },
  {
   "cell_type": "markdown",
   "id": "4cdf20f0",
   "metadata": {},
   "source": [
    "### 29번 문제\n",
    "문자열을 입력받아 각 문자의 ASCII 값을 딕셔너리로 저장하여 출력하세요."
   ]
  },
  {
   "cell_type": "code",
   "execution_count": 3,
   "id": "4ff89e6f",
   "metadata": {},
   "outputs": [
    {
     "name": "stdout",
     "output_type": "stream",
     "text": [
      "[104, 101, 108, 108, 111]\n"
     ]
    }
   ],
   "source": [
    "text = input(\"문자열을 입력하세요: \")\n",
    "\n",
    "a = [ord(i) for i in text]\n",
    "print(a)"
   ]
  },
  {
   "cell_type": "markdown",
   "id": "d458db98",
   "metadata": {},
   "source": [
    "### 30번 문제\n",
    "주어진 문자열에서 가장 많이 나타나는 문자와 그 개수를 찾아 출력하세요."
   ]
  },
  {
   "cell_type": "code",
   "execution_count": 45,
   "id": "edbc2d19",
   "metadata": {},
   "outputs": [
    {
     "name": "stdout",
     "output_type": "stream",
     "text": [
      "{'m': 1, 'i': 4, 's': 4, 'p': 2}\n",
      "가장 많이 나타나는 문자: ['i', 's'], 개수: 4\n"
     ]
    }
   ],
   "source": [
    "text = \"mississippi\"\n",
    "\n",
    "t_count = {}\n",
    "for i in text:\n",
    "    t_count[i] = t_count.get(i, 0) + 1\n",
    "print(t_count)\n",
    "\n",
    "max_count = 0\n",
    "max_count_letter = []\n",
    "\n",
    "for t, count in t_count.items():\n",
    "    if count > max_count:\n",
    "        max_count = count\n",
    "        max_count_letter = [t]\n",
    "    elif count == max_count:\n",
    "        max_count_letter.append(t)\n",
    "\n",
    "print(f'가장 많이 나타나는 문자: {max_count_letter}, 개수: {max_count}')"
   ]
  }
 ],
 "metadata": {
  "kernelspec": {
   "display_name": "Python 3",
   "language": "python",
   "name": "python3"
  },
  "language_info": {
   "codemirror_mode": {
    "name": "ipython",
    "version": 3
   },
   "file_extension": ".py",
   "mimetype": "text/x-python",
   "name": "python",
   "nbconvert_exporter": "python",
   "pygments_lexer": "ipython3",
   "version": "3.13.2"
  }
 },
 "nbformat": 4,
 "nbformat_minor": 5
}
