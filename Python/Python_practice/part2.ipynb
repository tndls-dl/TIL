{
 "cells": [
  {
   "cell_type": "markdown",
   "id": "61fa5f2f",
   "metadata": {},
   "source": [
    "### 11번. 1부터 100까지 숫자 중 5의 배수만 리스트에 저장하여 출력하세요.\n",
    "\n",
    "리스트 내포(List Comprehension)를 사용해도 좋습니다.\n",
    "\n",
    "📌 출력 예시:\n",
    "```\n",
    "[5, 10, 15, ..., 100]\n",
    "```"
   ]
  },
  {
   "cell_type": "code",
   "execution_count": null,
   "id": "c3411c0d",
   "metadata": {},
   "outputs": [
    {
     "name": "stdout",
     "output_type": "stream",
     "text": [
      "[5, 10, 15, 20, 25, 30, 35, 40, 45, 50, 55, 60, 65, 70, 75, 80, 85, 90, 95, 100]\n",
      "[5, 10, 15, 20, 25, 30, 35, 40, 45, 50]\n"
     ]
    }
   ],
   "source": [
    "lst = [n for n in range(1, 101) if n % 5 == 0]\n",
    "\n",
    "print(lst)\n",
    "\n",
    "\n",
    "result = []\n",
    "\n",
    "num = 5\n",
    "# 반복을 합니다.\n",
    "# 5를 더하는 행위를.\n",
    "# 50이 되었을 때까지.\n",
    "while True:\n",
    "    result.append(num)\n",
    "    num += 5\n",
    "\n",
    "    if num > 50:\n",
    "        break\n",
    "print(result)"
   ]
  },
  {
   "cell_type": "code",
   "execution_count": null,
   "id": "c5bcdd4f",
   "metadata": {},
   "outputs": [
    {
     "name": "stdout",
     "output_type": "stream",
     "text": [
      "[5, 10, 15, 20, 25, 30, 35, 40, 45, 50]\n"
     ]
    }
   ],
   "source": [
    "\n",
    "\n",
    "# 5에다가 3 곱함\n",
    "# 곱한 결과가 50보다 작을 때까지.\n",
    "result = []\n",
    "x = 1\n",
    "while True:\n",
    "    # 5 * 1\n",
    "    # 5 * 2\n",
    "    # 5 * 3\n",
    "    num = 5 * x\n",
    "    x += 1\n",
    "\n",
    "    result.append(num)\n",
    "    if num == 50:\n",
    "        break\n",
    "\n",
    "print(result)"
   ]
  },
  {
   "cell_type": "code",
   "execution_count": 3,
   "id": "017baec7",
   "metadata": {},
   "outputs": [
    {
     "name": "stdout",
     "output_type": "stream",
     "text": [
      "[5, 10, 15, 20, 25, 30, 35, 40, 45, 50, 55, 60, 65, 70, 75, 80, 85, 90, 95, 100]\n"
     ]
    }
   ],
   "source": [
    "result = []\n",
    "for num in range(1, 101):\n",
    "    # num이 5의 배수일 때만 result에 넣을게.\n",
    "    if num % 5 == 0:\n",
    "        result.append(num)\n",
    "print(result)"
   ]
  },
  {
   "cell_type": "code",
   "execution_count": 5,
   "id": "fd19d2c0",
   "metadata": {},
   "outputs": [
    {
     "name": "stdout",
     "output_type": "stream",
     "text": [
      "[5, 10, 15, 20, 25, 30, 35, 40, 45, 50, 55, 60, 65, 70, 75, 80, 85, 90, 95, 100]\n",
      "[5, 10, 15, 20, 25, 30, 35, 40, 45, 50, 55, 60, 65, 70, 75, 80, 85, 90, 95, 100]\n"
     ]
    }
   ],
   "source": [
    "result = []\n",
    "for num in range(5, 101, 5):\n",
    "    result.append(num)\n",
    "print(result)\n",
    "\n",
    "print([num for num in range(5, 101, 5)])"
   ]
  },
  {
   "cell_type": "markdown",
   "id": "91ab613e",
   "metadata": {},
   "source": [
    "### 12번. 짝수만 필터링하여 새로운 리스트 만들기\n",
    "\n",
    "다음 리스트에서 짝수만 골라 새로운 리스트로 만드세요:\n",
    "```python\n",
    "nums = [1,2,3,4,5,6,7,8,9,10]\n",
    "```\n",
    "📌 출력 예시:\n",
    "```\n",
    "[2, 4, 6, 8, 10]\n",
    "```"
   ]
  },
  {
   "cell_type": "code",
   "execution_count": 8,
   "id": "97dbac20",
   "metadata": {},
   "outputs": [
    {
     "name": "stdout",
     "output_type": "stream",
     "text": [
      "[2, 4, 6, 8, 10]\n",
      "[2, 4, 6, 8, 10]\n",
      "[2, 4, 6, 8, 10]\n"
     ]
    }
   ],
   "source": [
    "nums = [1,2,3,4,5,6,7,8,9,10]\n",
    "\n",
    "lst = [n for n in nums if n % 2 == 0]\n",
    "\n",
    "print(lst)\n",
    "\n",
    "# 하나하나 확인하면서 짝수인 경우에 새로운 리스트에 넣겠어.\n",
    "# 새로운 리스트 만들기\n",
    "result = []\n",
    "\n",
    "#하나하나 확인하기\n",
    "for num in nums:\n",
    "    # 짝수인지\n",
    "    if num % 2 == 0:\n",
    "        # 맞으면 넣음\n",
    "        result.append(num)\n",
    "print(result)\n",
    "\n",
    "print([num for num in nums if num % 2 == 0])"
   ]
  },
  {
   "cell_type": "markdown",
   "id": "f4750fde",
   "metadata": {},
   "source": [
    "### 13번. 딕셔너리에서 가장 비싼 과일 찾기\n",
    "\n",
    "다음 딕셔너리에서 가격이 가장 높은 과일과 그 가격을 출력하세요:\n",
    "```python\n",
    "fruits = {'apple': 1000, 'banana': 500, 'orange': 800}\n",
    "```"
   ]
  },
  {
   "cell_type": "code",
   "execution_count": 13,
   "id": "4440c679",
   "metadata": {},
   "outputs": [
    {
     "name": "stdout",
     "output_type": "stream",
     "text": [
      "apple 1000\n"
     ]
    }
   ],
   "source": [
    "fruits = {'apple': 1000, 'banana': 500, 'orange': 800}\n",
    "\n",
    "#max_price = float('-inf')\n",
    "max_price = 0\n",
    "max_price_fruit =''\n",
    "\n",
    "for fruit, price in fruits.items():\n",
    "    # 이 조건문을 통과하는 순간 : 최고가가 경신되었을 때.\n",
    "    if max_price < price:\n",
    "        max_price = price\n",
    "        max_price_fruit = fruit\n",
    "\n",
    "print(max_price_fruit, max_price)"
   ]
  },
  {
   "cell_type": "code",
   "execution_count": 22,
   "id": "bf6a7b48",
   "metadata": {},
   "outputs": [
    {
     "name": "stdout",
     "output_type": "stream",
     "text": [
      "['apple', 'lemon'] 1000\n"
     ]
    }
   ],
   "source": [
    "fruits = {'apple': 1000, 'banana': 500, 'orange': 800, 'lemon': 1000}\n",
    "\n",
    "#max_price = float('-inf')\n",
    "max_price = 0\n",
    "max_price_fruit =[]\n",
    "\n",
    "for fruit, price in fruits.items():\n",
    "    # 이 조건문을 통과하는 순간 : 최고가가 경신되었을 때.\n",
    "    if max_price < price:\n",
    "        max_price = price\n",
    "        max_price_fruit = [fruit]\n",
    "    # 최고가가 한번 더 나왔을 때 : 이미 max_price_fruit이라는 곳에 과일이 들어있음.\n",
    "    elif max_price == price:\n",
    "        max_price_fruit.append(fruit)\n",
    "\n",
    "print(max_price_fruit, max_price)"
   ]
  },
  {
   "cell_type": "markdown",
   "id": "f63a58ef",
   "metadata": {},
   "source": [
    "### 14번. 구구단 3단 출력하기\n",
    "\n",
    "for문을 사용하여 구구단 3단을 출력하세요.\n",
    "\n",
    "📌 출력 예시:\n",
    "```\n",
    "3 x 1 = 3\n",
    "3 x 2 = 6\n",
    "...\n",
    "3 x 9 = 27\n",
    "```"
   ]
  },
  {
   "cell_type": "code",
   "execution_count": 23,
   "id": "82376bb6",
   "metadata": {},
   "outputs": [
    {
     "name": "stdout",
     "output_type": "stream",
     "text": [
      "3 x 1 = 3\n",
      "3 x 2 = 6\n",
      "3 x 3 = 9\n",
      "3 x 4 = 12\n",
      "3 x 5 = 15\n",
      "3 x 6 = 18\n",
      "3 x 7 = 21\n",
      "3 x 8 = 24\n",
      "3 x 9 = 27\n"
     ]
    }
   ],
   "source": [
    "for n in range(1, 10):\n",
    "    print(f'3 x {n} = {3 * n}')"
   ]
  },
  {
   "cell_type": "code",
   "execution_count": 3,
   "id": "8475a9ef",
   "metadata": {},
   "outputs": [
    {
     "name": "stdout",
     "output_type": "stream",
     "text": [
      "----------------- 2 단 -----------------\n",
      "2 x 1 = 2\n",
      "2 x 2 = 4\n",
      "2 x 3 = 6\n",
      "2 x 4 = 8\n",
      "2 x 5 = 10\n",
      "2 x 6 = 12\n",
      "2 x 7 = 14\n",
      "2 x 8 = 16\n",
      "2 x 9 = 18\n",
      "----------------- 3 단 -----------------\n",
      "3 x 1 = 3\n",
      "3 x 2 = 6\n",
      "3 x 3 = 9\n",
      "3 x 4 = 12\n",
      "3 x 5 = 15\n",
      "3 x 6 = 18\n",
      "3 x 7 = 21\n",
      "3 x 8 = 24\n",
      "3 x 9 = 27\n",
      "----------------- 4 단 -----------------\n",
      "4 x 1 = 4\n",
      "4 x 2 = 8\n",
      "4 x 3 = 12\n",
      "4 x 4 = 16\n",
      "4 x 5 = 20\n",
      "4 x 6 = 24\n",
      "4 x 7 = 28\n",
      "4 x 8 = 32\n",
      "4 x 9 = 36\n",
      "----------------- 5 단 -----------------\n",
      "5 x 1 = 5\n",
      "5 x 2 = 10\n",
      "5 x 3 = 15\n",
      "5 x 4 = 20\n",
      "5 x 5 = 25\n",
      "5 x 6 = 30\n",
      "5 x 7 = 35\n",
      "5 x 8 = 40\n",
      "5 x 9 = 45\n",
      "----------------- 6 단 -----------------\n",
      "6 x 1 = 6\n",
      "6 x 2 = 12\n",
      "6 x 3 = 18\n",
      "6 x 4 = 24\n",
      "6 x 5 = 30\n",
      "6 x 6 = 36\n",
      "6 x 7 = 42\n",
      "6 x 8 = 48\n",
      "6 x 9 = 54\n",
      "----------------- 7 단 -----------------\n",
      "7 x 1 = 7\n",
      "7 x 2 = 14\n",
      "7 x 3 = 21\n",
      "7 x 4 = 28\n",
      "7 x 5 = 35\n",
      "7 x 6 = 42\n",
      "7 x 7 = 49\n",
      "7 x 8 = 56\n",
      "7 x 9 = 63\n",
      "----------------- 8 단 -----------------\n",
      "8 x 1 = 8\n",
      "8 x 2 = 16\n",
      "8 x 3 = 24\n",
      "8 x 4 = 32\n",
      "8 x 5 = 40\n",
      "8 x 6 = 48\n",
      "8 x 7 = 56\n",
      "8 x 8 = 64\n",
      "8 x 9 = 72\n",
      "----------------- 9 단 -----------------\n",
      "9 x 1 = 9\n",
      "9 x 2 = 18\n",
      "9 x 3 = 27\n",
      "9 x 4 = 36\n",
      "9 x 5 = 45\n",
      "9 x 6 = 54\n",
      "9 x 7 = 63\n",
      "9 x 8 = 72\n",
      "9 x 9 = 81\n"
     ]
    }
   ],
   "source": [
    "# 2단부터 9단까지 !\n",
    "\n",
    "for dan in range(2, 10):\n",
    "    print(f'----------------- {dan} 단 -----------------')\n",
    "    for num in range(1, 10):\n",
    "        print(f'{dan} x {num} = {dan * num}')\n"
   ]
  },
  {
   "cell_type": "markdown",
   "id": "1a498a46",
   "metadata": {},
   "source": [
    "### 15번. 문자열에서 각 문자 개수 세기\n",
    "\n",
    "사용자로부터 문자열을 입력받아, 각 문자가 몇 번 나오는지 딕셔너리 형태로 출력하세요.\n",
    "\n",
    "📌 예시 입력: `hello`\n",
    "📌 예시 출력: `{'h':1, 'e':1, 'l':2, 'o':1}`"
   ]
  },
  {
   "cell_type": "code",
   "execution_count": 6,
   "id": "972acafb",
   "metadata": {},
   "outputs": [
    {
     "name": "stdout",
     "output_type": "stream",
     "text": [
      "{'h': 1, 'e': 1, 'l': 2, 'o': 1}\n"
     ]
    }
   ],
   "source": [
    "text = input(\"문자열을 입력하세요: \")\n",
    "counter = {}\n",
    "for char in text:\n",
    "    # dict는 in 연산시, key만 확인한다.\n",
    "    if char in counter:\n",
    "        counter[char] += 1  # 기본에 있는 키의 value만 수정\n",
    "    else:\n",
    "        counter[char] = 1  # 없는 키와 value 등록\n",
    "\n",
    "print(counter)"
   ]
  },
  {
   "cell_type": "code",
   "execution_count": 11,
   "id": "3f9c2e5b",
   "metadata": {},
   "outputs": [
    {
     "name": "stdout",
     "output_type": "stream",
     "text": [
      "{'h': 1, 'e': 1, 'l': 2, 'o': 1}\n"
     ]
    }
   ],
   "source": [
    "text = input(\"문자열을 입력하세요: \")\n",
    "count = {}\n",
    "\n",
    "for i in text:\n",
    "    # 처음 나타난 문자면 0 + 1로 1, 이전에 나타났던 문자면 + 1 해서.\n",
    "    count[i] = count.get(i, 0) + 1\n",
    "print(count)\n"
   ]
  },
  {
   "cell_type": "markdown",
   "id": "6a3f44e9",
   "metadata": {},
   "source": [
    "### 16번. 리스트 정렬과 최대/최소 값 찾기\n",
    "\n",
    "다음 리스트를 오름차순으로 정렬하고, 가장 큰 값과 가장 작은 값을 출력하세요:\n",
    "```python\n",
    "nums = [3, 1, 4, 1, 5, 9, 2, 6]\n",
    "```"
   ]
  },
  {
   "cell_type": "code",
   "execution_count": 18,
   "id": "ecaa5fac",
   "metadata": {},
   "outputs": [
    {
     "name": "stdout",
     "output_type": "stream",
     "text": [
      "[1, 1, 2, 3, 4, 5, 6, 9]\n",
      "가장 큰 값: 9, 가장 작은 값: 1\n"
     ]
    }
   ],
   "source": [
    "nums = [3, 1, 4, 1, 5, 9, 2, 6]\n",
    "\n",
    "nums.sort()\n",
    "print(nums)\n",
    "print(f'가장 큰 값: {nums[-1]}, 가장 작은 값: {nums[0]}')"
   ]
  },
  {
   "cell_type": "code",
   "execution_count": 2,
   "id": "fe8eba55",
   "metadata": {},
   "outputs": [
    {
     "name": "stdout",
     "output_type": "stream",
     "text": [
      "9 1\n"
     ]
    }
   ],
   "source": [
    "nums = [3, 1, 4, 1, 5, 9, 2, 6]\n",
    "\n",
    "minimum = maximum = nums[0]\n",
    "\n",
    "for n in nums:\n",
    "    if n > maximum:\n",
    "        maximum = n\n",
    "    elif n < minimum:\n",
    "        minimum = n\n",
    "\n",
    "print(maximum, minimum)"
   ]
  },
  {
   "cell_type": "markdown",
   "id": "21f6f2d0",
   "metadata": {},
   "source": [
    "### 17번. 회문(Palindrome) 검사\n",
    "\n",
    "입력받은 단어가 앞에서 읽든 뒤에서 읽든 같은 단어인지 확인하는 프로그램을 작성하세요.\n",
    "\n",
    "📌 예시: `level` → 회문 / `hello` → 회문 아님"
   ]
  },
  {
   "cell_type": "code",
   "execution_count": 33,
   "id": "63771c85",
   "metadata": {},
   "outputs": [
    {
     "name": "stdout",
     "output_type": "stream",
     "text": [
      "level\n",
      "회문\n"
     ]
    }
   ],
   "source": [
    "word = input(\"단어를 입력하세요: \")\n",
    "\n",
    "# 띄어쓰기 \n",
    "word = word.replace(' ', '')\n",
    "word = word.strip()\n",
    "print(word)\n",
    "\n",
    "if word == word[::-1]:\n",
    "    print('회문')\n",
    "else:\n",
    "    print('회문 아님')"
   ]
  },
  {
   "cell_type": "code",
   "execution_count": 34,
   "id": "5e7b6989",
   "metadata": {},
   "outputs": [
    {
     "name": "stdout",
     "output_type": "stream",
     "text": [
      "level\n",
      "level\n",
      "회문\n"
     ]
    }
   ],
   "source": [
    "word = input(\"단어를 입력하세요: \")\n",
    "\n",
    "word = word.replace(' ', '')\n",
    "word = word.strip()\n",
    "print(word)\n",
    "l_1 = list(word)\n",
    "\n",
    "l_2 = l_1[::-1]\n",
    "w = ''.join(l_2)\n",
    "print(w)\n",
    "\n",
    "if word == w:\n",
    "    print('회문')\n",
    "else:\n",
    "    print('회문 아님')\n",
    "\n"
   ]
  },
  {
   "cell_type": "markdown",
   "id": "4e83b9ca",
   "metadata": {},
   "source": [
    "### 18번. 집합 연산: 합집합, 교집합, 차집합\n",
    "\n",
    "다음 두 집합의 합집합, 교집합, 차집합을 구하세요:\n",
    "```python\n",
    "A = {1, 2, 3, 4, 5}\n",
    "B = {4, 5, 6, 7, 8}\n",
    "```"
   ]
  },
  {
   "cell_type": "code",
   "execution_count": 37,
   "id": "bcaf37a0",
   "metadata": {},
   "outputs": [
    {
     "name": "stdout",
     "output_type": "stream",
     "text": [
      "합집합: {1, 2, 3, 4, 5, 6, 7, 8}\n",
      "교집합: {4, 5}\n",
      "차집합: {1, 2, 3}\n"
     ]
    }
   ],
   "source": [
    "A = {1, 2, 3, 4, 5}\n",
    "B = {4, 5, 6, 7, 8}\n",
    "\n",
    "print(f'합집합: {A | B}')\n",
    "print(f'교집합: {A & B}')\n",
    "print(f'차집합: {A - B}')"
   ]
  },
  {
   "cell_type": "code",
   "execution_count": 7,
   "id": "6c1c77ae",
   "metadata": {},
   "outputs": [
    {
     "name": "stdout",
     "output_type": "stream",
     "text": [
      "합집합: [1, 2, 3, 4, 5, 6, 7, 8]\n",
      "교집합: [4, 5]\n",
      "차집합: [1, 2, 3]\n"
     ]
    }
   ],
   "source": [
    "A = {1, 2, 3, 4, 5}\n",
    "B = {4, 5, 6, 7, 8}\n",
    "\n",
    "combined_list = []\n",
    "\n",
    "for num in A:\n",
    "    combined_list.append(num)\n",
    "\n",
    "for num in B:\n",
    "    if num not in combined_list:\n",
    "        combined_list.append(num)\n",
    "\n",
    "print(f'합집합: {combined_list}')\n",
    "\n",
    "intersection_list = []\n",
    "\n",
    "for num in A:\n",
    "    if num in B:\n",
    "        if num not in intersection_list:\n",
    "            intersection_list.append(num)\n",
    "    \n",
    "print(f'교집합: {intersection_list}')\n",
    "\n",
    "different_list = []\n",
    "\n",
    "for num in A:\n",
    "    if num not in B:\n",
    "        different_list.append(num)\n",
    "\n",
    "print(f'차집합: {different_list}')"
   ]
  },
  {
   "cell_type": "markdown",
   "id": "e49db016",
   "metadata": {},
   "source": [
    "### 19번. 1부터 n까지의 합 구하기\n",
    "\n",
    "사용자로부터 정수 n을 입력받아 1부터 n까지의 합을 구하는 프로그램을 작성하세요."
   ]
  },
  {
   "cell_type": "code",
   "execution_count": null,
   "id": "8357e4dc",
   "metadata": {},
   "outputs": [
    {
     "name": "stdout",
     "output_type": "stream",
     "text": [
      "5050\n"
     ]
    }
   ],
   "source": [
    "n = int(input(\"정수를 입력하세요: \"))\n",
    "\n",
    "total = 0\n",
    "for i in range(1, n+1):\n",
    "    total += i\n",
    "    \n",
    "print(total)"
   ]
  },
  {
   "cell_type": "code",
   "execution_count": 40,
   "id": "5e772a52",
   "metadata": {},
   "outputs": [
    {
     "name": "stdout",
     "output_type": "stream",
     "text": [
      "5050\n"
     ]
    }
   ],
   "source": [
    "n = int(input(\"정수를 입력하세요: \"))\n",
    "r = range(1, n+1)\n",
    "idx = 0\n",
    "total = 0\n",
    "\n",
    "while idx < n+1:\n",
    "    total += idx\n",
    "    idx += 1\n",
    "\n",
    "print(total)"
   ]
  },
  {
   "cell_type": "markdown",
   "id": "c8ae9f8e",
   "metadata": {},
   "source": [
    "### 20번. 리스트에서 중복 제거\n",
    "\n",
    "다음 리스트에서 중복된 값을 제거하고 유일한 값만 남긴 리스트를 출력하세요:\n",
    "```python\n",
    "nums = [1, 2, 2, 3, 4, 4, 5]\n",
    "```"
   ]
  },
  {
   "cell_type": "code",
   "execution_count": 1,
   "id": "c143e367",
   "metadata": {},
   "outputs": [
    {
     "name": "stdout",
     "output_type": "stream",
     "text": [
      "[1, 2, 3, 4, 5]\n"
     ]
    }
   ],
   "source": [
    "nums = [1, 2, 2, 3, 4, 4, 5]\n",
    "\n",
    "uniq = []\n",
    "\n",
    "for num in nums:\n",
    "    if num not in uniq:\n",
    "        uniq.append(num)\n",
    "\n",
    "print(uniq)"
   ]
  },
  {
   "cell_type": "code",
   "execution_count": 5,
   "id": "0b9d2135",
   "metadata": {},
   "outputs": [
    {
     "name": "stdout",
     "output_type": "stream",
     "text": [
      "[1, 2, 3, 4, 5]\n"
     ]
    }
   ],
   "source": [
    "nums = [1, 2, 2, 3, 4, 4, 5]\n",
    "\n",
    "lst = []\n",
    "if nums:\n",
    "    lst.append(nums[0])\n",
    "\n",
    "for i in range(1, len(nums)):\n",
    "    if nums[i] != nums[i-1]:\n",
    "        lst.append(nums[i])\n",
    "\n",
    "print(lst)"
   ]
  }
 ],
 "metadata": {
  "kernelspec": {
   "display_name": "Python 3",
   "language": "python",
   "name": "python3"
  },
  "language_info": {
   "codemirror_mode": {
    "name": "ipython",
    "version": 3
   },
   "file_extension": ".py",
   "mimetype": "text/x-python",
   "name": "python",
   "nbconvert_exporter": "python",
   "pygments_lexer": "ipython3",
   "version": "3.13.2"
  }
 },
 "nbformat": 4,
 "nbformat_minor": 5
}
