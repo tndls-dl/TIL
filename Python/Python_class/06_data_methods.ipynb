{
 "cells": [
  {
   "cell_type": "markdown",
   "id": "47ce9281",
   "metadata": {},
   "source": [
    "<p style=\"font-size: 33px; font-weight: 700; margin-bottom: 3rem\">데이터 구조(Data Structure)</p>\n",
    "\n",
    "데이터 구조(Data Structure) 혹은 자료구조란 데이터에 효율적인 접근 및 수정을 가능케 하는 데이터의 구성, 관리 및 저장형식을 의미합니다.\n",
    "\n",
    "보다 정확하게는 데이터 값들, 해당 값들의 관계, 그리고 해당 데이터들에게 적용할 수 있는 함수와 명령어들의 모음을 총칭하는 단어입니다.\n",
    "\n",
    "\n",
    "**<데이터의 분류>**\n",
    "- 순서가 있는 데이터 구조(Orderd)\n",
    "    - **문자열**\n",
    "    - **리스트**\n",
    "    - 튜플\n",
    "- 순서가 없는 데이터 구조(Unorderd)\n",
    "    - 셋(Set)\n",
    "    - 딕셔너리(Dictionary)"
   ]
  },
  {
   "cell_type": "markdown",
   "id": "18dd9234",
   "metadata": {},
   "source": [
    "\n",
    "<img src=\"https://user-images.githubusercontent.com/90173310/148184923-9b2910aa-a08c-4027-9315-b8d866819a6c.png\" alt=\"drawing\" width=\"700\"/>\n",
    "\n",
    "---"
   ]
  },
  {
   "cell_type": "markdown",
   "id": "7f42d763",
   "metadata": {},
   "source": [
    "<p style=\"font-size: 30px; font-weight: 700; margin-bottom: 3rem; color:#2889CC\">순서가 있는 데이터 구조</p>"
   ]
  },
  {
   "cell_type": "markdown",
   "id": "4d8c90e7",
   "metadata": {},
   "source": [
    "# 문자열(String)\n",
    "\n",
    "> 변경할 수 없고(immutable), 순서가 있고(ordered), 순회 가능한(iterable)_((for문에 넣을 수 있다))\n",
    "\n",
    "참고 : [문자열의 다양한 조작법(method)](https://docs.python.org/ko/3/library/stdtypes.html#string-methods)"
   ]
  },
  {
   "cell_type": "markdown",
   "id": "b42f3459",
   "metadata": {},
   "source": [
    "## 조회/탐색\n",
    "\n",
    "### `.find(x)` \n",
    "\n",
    "x의 **첫 번째 위치**를 반환합니다. 만일 리스트 내에 x가 없으면, `-1`을 반환합니다."
   ]
  },
  {
   "cell_type": "code",
   "execution_count": 1,
   "id": "90053941",
   "metadata": {},
   "outputs": [],
   "source": [
    "a = 'apple'"
   ]
  },
  {
   "cell_type": "code",
   "execution_count": 12,
   "id": "7dceabed",
   "metadata": {},
   "outputs": [
    {
     "data": {
      "text/plain": [
       "(1, 3, 2)"
      ]
     },
     "execution_count": 12,
     "metadata": {},
     "output_type": "execute_result"
    }
   ],
   "source": [
    "# find 메서드로 a 문자열에 'p'가 있는지 찾아봅시다.\n",
    "\n",
    "a.find('p'), a.find('l'), a.find('pl')  # index"
   ]
  },
  {
   "cell_type": "code",
   "execution_count": 5,
   "id": "3c4f520b",
   "metadata": {},
   "outputs": [
    {
     "data": {
      "text/plain": [
       "-1"
      ]
     },
     "execution_count": 5,
     "metadata": {},
     "output_type": "execute_result"
    }
   ],
   "source": [
    "# find 메서드로 a 문자열에 'z'가 있는지 찾아봅시다.\n",
    "\n",
    "a.find('z')  # 없음 = -1"
   ]
  },
  {
   "cell_type": "markdown",
   "id": "c44f825f",
   "metadata": {},
   "source": [
    "### `.index(x)`\n",
    "\n",
    "x의 **첫 번째 위치**를 반환합니다. 만일 x가 리스트 내에 없으면, 오류가 발생합니다."
   ]
  },
  {
   "cell_type": "code",
   "execution_count": 6,
   "id": "ae301115",
   "metadata": {},
   "outputs": [],
   "source": [
    "a = 'apple'"
   ]
  },
  {
   "cell_type": "code",
   "execution_count": 10,
   "id": "ccedd90b",
   "metadata": {},
   "outputs": [
    {
     "data": {
      "text/plain": [
       "(1, 3, 2)"
      ]
     },
     "execution_count": 10,
     "metadata": {},
     "output_type": "execute_result"
    }
   ],
   "source": [
    "# index 메서드는 찾고자 하는 문자가 문자열 내에 있을 경우, 첫 번째 위치를 반환합니다.\n",
    "# index 메서드로 a 문자열에서 'p'의 위치를 확인해봅시다.\n",
    "\n",
    "a.index('p'), a.index('l'), a.index('pl')"
   ]
  },
  {
   "cell_type": "code",
   "execution_count": 8,
   "id": "6e138ab0",
   "metadata": {
    "scrolled": true
   },
   "outputs": [
    {
     "ename": "ValueError",
     "evalue": "substring not found",
     "output_type": "error",
     "traceback": [
      "\u001b[31m---------------------------------------------------------------------------\u001b[39m",
      "\u001b[31mValueError\u001b[39m                                Traceback (most recent call last)",
      "\u001b[36mCell\u001b[39m\u001b[36m \u001b[39m\u001b[32mIn[8]\u001b[39m\u001b[32m, line 4\u001b[39m\n\u001b[32m      1\u001b[39m \u001b[38;5;66;03m# 찾고자 하는 문자가 문자열 내에 없을 경우, 오류가 발생합니다.\u001b[39;00m\n\u001b[32m      2\u001b[39m \u001b[38;5;66;03m# index 메서드로 a문자열에서 'z'의 위치를 찾고, 오류를 확인해봅시다.\u001b[39;00m\n\u001b[32m----> \u001b[39m\u001b[32m4\u001b[39m \u001b[43ma\u001b[49m\u001b[43m.\u001b[49m\u001b[43mindex\u001b[49m\u001b[43m(\u001b[49m\u001b[33;43m'\u001b[39;49m\u001b[33;43mz\u001b[39;49m\u001b[33;43m'\u001b[39;49m\u001b[43m)\u001b[49m\n",
      "\u001b[31mValueError\u001b[39m: substring not found"
     ]
    }
   ],
   "source": [
    "# 찾고자 하는 문자가 문자열 내에 없을 경우, 오류가 발생합니다.\n",
    "# index 메서드로 a문자열에서 'z'의 위치를 찾고, 오류를 확인해봅시다.\n",
    "\n",
    "a.index('z')"
   ]
  },
  {
   "cell_type": "markdown",
   "id": "206fdb81",
   "metadata": {},
   "source": [
    "### `.startswith(x)`, `/.endswith(x)`\n",
    "\n",
    "- `.startswith(x)` : 문자열이 x로 시작하면 True를 반환하고 아니면 False를 반환합니다.\n",
    "- `.endswith(x)` : 문자열이 x로 끝나면 True를 반환하고 아니면 False를 반환합니다.\n",
    "\n",
    "[PEP8 파이썬 스타일 가이드](https://www.python.org/dev/peps/pep-0008/)에서는 접두/접미 문자를 검색 시,\n",
    "화이트 스페이스나 인코딩 문제를 피하기 위해 문자열 분할보다 **startswith, endswith**를 권장합니다.\n",
    "\n",
    "```\n",
    "Use ''.startswith() and ''.endswith() instead of string slicing to check for prefixes or suffixes.\n",
    "\n",
    "startswith() and endswith() are cleaner and less error prone:\n",
    "\n",
    "# Correct:\n",
    "if foo.startswith('bar'):\n",
    "# Wrong:\n",
    "if foo[:3] == 'bar':\n",
    "```"
   ]
  },
  {
   "cell_type": "code",
   "execution_count": 13,
   "id": "0c9076a9",
   "metadata": {},
   "outputs": [],
   "source": [
    "a = 'hello python!'"
   ]
  },
  {
   "cell_type": "code",
   "execution_count": 17,
   "id": "a369fcc4",
   "metadata": {},
   "outputs": [
    {
     "data": {
      "text/plain": [
       "(True, True, True, False)"
      ]
     },
     "execution_count": 17,
     "metadata": {},
     "output_type": "execute_result"
    }
   ],
   "source": [
    "# startwith 메서드를 통해 접두문자가 'hello'인지 확인해봅시다.\n",
    "\n",
    "a.startswith('h'), a.startswith('he'), a.startswith('hell'), a.startswith('py')"
   ]
  },
  {
   "cell_type": "code",
   "execution_count": 18,
   "id": "24cc051d",
   "metadata": {},
   "outputs": [
    {
     "data": {
      "text/plain": [
       "(True, True, False)"
      ]
     },
     "execution_count": 18,
     "metadata": {},
     "output_type": "execute_result"
    }
   ],
   "source": [
    "a.endswith('!'), a.endswith('python!'), a.endswith('python')"
   ]
  },
  {
   "cell_type": "markdown",
   "id": "775d504b",
   "metadata": {},
   "source": [
    "### 기타 문자열 관련 검증 메서드\n",
    "\n",
    "`is~` 로 시작하는 많은 메서드들은 문자열이 어떠한 조건에 해당하는지 검증하는 역할을 합니다.\n",
    "\n",
    "- `.isalpha()` : 문자열이 (숫자가 아닌)글자로 이루어져 있는가?\n",
    "-  `.isspace()` : 문자열이 공백으로 이루어져 있는가?\n",
    "-  `.isupper()` : 문자열이 대문자로 이루어져 있는가?\n",
    "-  `.istitle()` : 문자열이 타이틀 형식으로 이루어져 있는가?\n",
    "-  `.islower()` : 문자열이 소문자로 이루어져 있는가?\n",
    "\n",
    "등"
   ]
  },
  {
   "cell_type": "markdown",
   "id": "8a712328",
   "metadata": {},
   "source": [
    "**숫자 판별 메서드**\n",
    "- `.isdecimal()`: 문자열이 0~9까지의 수로 이루어져 있는가?\n",
    "- `.isdigit()`: 문자열이 숫자로 이루어져 있는가?\n",
    "- `.isnumeric()`: 문자열을 수로 볼 수 있는가?\n",
    "\n",
    "\n",
    "| isdecimal() | isdigit() | isnumeric() |          Example               |\n",
    "|:-----------:|:-----------:|:-----------:|:----------------------------------:|\n",
    "|    True     |    True   |    True     | \"038\", \"੦੩੮\", \"０３８\"             |\n",
    "|  False      |    True   |    True     | \"⁰³⁸\", \"🄀⒊⒏\", \"⓪③⑧\"          |\n",
    "|  False      |  False    |    True     | \"↉⅛⅘\", \"ⅠⅢⅧ\", \"⑩⑬㊿\", \"壹貳參\"   |\n",
    "|  False      |  False    |  False      | \"abc\", \"38.0\", \"-38\"             |\n"
   ]
  },
  {
   "cell_type": "code",
   "execution_count": 19,
   "id": "439e1f57",
   "metadata": {},
   "outputs": [],
   "source": [
    "a = '    n'\n",
    "b = '\\n \\t '"
   ]
  },
  {
   "cell_type": "code",
   "execution_count": 21,
   "id": "5bd0503f",
   "metadata": {},
   "outputs": [
    {
     "data": {
      "text/plain": [
       "(False, True)"
      ]
     },
     "execution_count": 21,
     "metadata": {},
     "output_type": "execute_result"
    }
   ],
   "source": [
    "# isspace 메서드를 통해 a, b가 공백으로 이루어져 있는지 확인해봅시다.\n",
    "\n",
    "a.isspace(), b.isspace()"
   ]
  },
  {
   "cell_type": "code",
   "execution_count": 22,
   "id": "dc076823",
   "metadata": {},
   "outputs": [],
   "source": [
    "a = '파이썬'\n",
    "b = 'python'\n",
    "c = 'python 3.9.9'"
   ]
  },
  {
   "cell_type": "code",
   "execution_count": 23,
   "id": "62fe996e",
   "metadata": {},
   "outputs": [
    {
     "data": {
      "text/plain": [
       "(True, True, False)"
      ]
     },
     "execution_count": 23,
     "metadata": {},
     "output_type": "execute_result"
    }
   ],
   "source": [
    "# isalpha 메서드를 통해 문자열 a, b, c에 대한 알파벳 여부를 확인해봅시다.\n",
    "\n",
    "a.isalpha(), b.isalpha(), c.isalpha()"
   ]
  },
  {
   "cell_type": "markdown",
   "id": "88c1cbf6",
   "metadata": {},
   "source": [
    "## * 문자열 변경"
   ]
  },
  {
   "cell_type": "markdown",
   "id": "b0c8ce38",
   "metadata": {},
   "source": [
    "### * `.replace(old, new[, count])`\n",
    "\n",
    "바꿀 대상 글자를 새로운 글자로 바꿔서 반환합니다.\n",
    "\n",
    "count를 지정하면 해당 갯수만큼만 시행합니다.\n",
    "\n",
    "> **(참고)** 메서드 설명에서 `[]` 표기는 해당 parameter가 선택적임을 나타냅니다."
   ]
  },
  {
   "cell_type": "code",
   "execution_count": 24,
   "id": "45a4c64b",
   "metadata": {},
   "outputs": [],
   "source": [
    "a = 'yaya!'\n",
    "b = 'wooooowoo'"
   ]
  },
  {
   "cell_type": "code",
   "execution_count": null,
   "id": "044713f8",
   "metadata": {
    "scrolled": true
   },
   "outputs": [
    {
     "data": {
      "text/plain": [
       "'haha!'"
      ]
     },
     "execution_count": 29,
     "metadata": {},
     "output_type": "execute_result"
    }
   ],
   "source": [
    "# replace 메서드를 통해 a의 글자 y를 h로 변경해봅시다.\n",
    "\n",
    "a.replace('y', 'h')  # 덮어쓴 건 아님(immutable 하기 떄문)"
   ]
  },
  {
   "cell_type": "code",
   "execution_count": 30,
   "id": "6f3f27d9",
   "metadata": {},
   "outputs": [
    {
     "data": {
      "text/plain": [
       "'w__ooowoo'"
      ]
     },
     "execution_count": 30,
     "metadata": {},
     "output_type": "execute_result"
    }
   ],
   "source": [
    "# replace 메서드를 통해 b의 글자 o 2개를 _로 변경해봅시다.\n",
    "\n",
    "b.replace('o', '_', 2)"
   ]
  },
  {
   "cell_type": "markdown",
   "id": "8db06afa",
   "metadata": {},
   "source": [
    "### `.strip([chars])`\n",
    "\n",
    "특정한 문자들을 지정하면, 양쪽을 제거하거나(`strip`) 왼쪽을 제거하거나(`lstrip`), 오른쪽을 제거합니다(`rstrip`).\n",
    "\n",
    "`chars` 파라미터를 지정하지 않으면 공백을 제거합니다."
   ]
  },
  {
   "cell_type": "code",
   "execution_count": 31,
   "id": "6ca5935f",
   "metadata": {},
   "outputs": [],
   "source": [
    "a = '   hello!  \\n'\n",
    "b = 'hihihihahahahihi'\n",
    "c = 'monty python'"
   ]
  },
  {
   "cell_type": "code",
   "execution_count": null,
   "id": "ad26c8a9",
   "metadata": {},
   "outputs": [
    {
     "data": {
      "text/plain": [
       "'hello!'"
      ]
     },
     "execution_count": 33,
     "metadata": {},
     "output_type": "execute_result"
    }
   ],
   "source": [
    "# strip 메서드로 a의 양쪽 공백을 제거해봅시다.\n",
    "\n",
    "a.strip()  # .strip() : 좌우 공백을 제거(의미 없이 좌우에 있는 공백)"
   ]
  },
  {
   "cell_type": "code",
   "execution_count": null,
   "id": "322059f3",
   "metadata": {},
   "outputs": [
    {
     "data": {
      "text/plain": [
       "'hello!  \\n'"
      ]
     },
     "execution_count": 34,
     "metadata": {},
     "output_type": "execute_result"
    }
   ],
   "source": [
    "# lstrip 메서드로 a의 왼쪽 공백을 제거해봅시다.\n",
    "\n",
    "a.lstrip()  # .lstrip() : 왼쪽 공백 제거"
   ]
  },
  {
   "cell_type": "code",
   "execution_count": null,
   "id": "505437e9",
   "metadata": {},
   "outputs": [
    {
     "data": {
      "text/plain": [
       "'   hello!'"
      ]
     },
     "execution_count": 40,
     "metadata": {},
     "output_type": "execute_result"
    }
   ],
   "source": [
    "# rstrip 메서드로 a의 오른쪽 공백을 제거해봅시다.\n",
    "\n",
    "a.rstrip()  # .rstrip() : 오른쪽 공백 제거"
   ]
  },
  {
   "cell_type": "markdown",
   "id": "af7d9fcf",
   "metadata": {},
   "source": [
    "### ** `.split([chars])`\n",
    "\n",
    "문자열을 특정한 단위로 나누어 **리스트로 반환**합니다.\n",
    "별도로 지정하지 않으면, `' '(띄어쓰기)`를 기준으로 나눕니다."
   ]
  },
  {
   "cell_type": "code",
   "execution_count": 43,
   "id": "cad69112",
   "metadata": {},
   "outputs": [],
   "source": [
    "a = 'a_b_c'\n",
    "b = '나는 배가 부르다'"
   ]
  },
  {
   "cell_type": "code",
   "execution_count": 47,
   "id": "c90dd79e",
   "metadata": {},
   "outputs": [
    {
     "data": {
      "text/plain": [
       "(['a', 'b', 'c'], ['나는', '배가', '부르다'])"
      ]
     },
     "execution_count": 47,
     "metadata": {},
     "output_type": "execute_result"
    }
   ],
   "source": [
    "# split 메서드로 _를 기준으로 문자열을 나누어 리스트로 반환해봅시다.\n",
    "\n",
    "a.split('_'), b.split()"
   ]
  },
  {
   "cell_type": "code",
   "execution_count": null,
   "id": "8dfc2acf",
   "metadata": {},
   "outputs": [
    {
     "data": {
      "text/plain": [
       "['나는 배가 부르다']"
      ]
     },
     "execution_count": 49,
     "metadata": {},
     "output_type": "execute_result"
    }
   ],
   "source": [
    "# 없는 구분자를 넣으면, 안쪼개짐(통으로 나옴)\n",
    "\n",
    "b.split('*')"
   ]
  },
  {
   "cell_type": "code",
   "execution_count": null,
   "id": "8568f2a2",
   "metadata": {},
   "outputs": [
    {
     "data": {
      "text/plain": [
       "['나', '는', ' ', '배', '가', ' ', '부', '르', '다']"
      ]
     },
     "execution_count": 51,
     "metadata": {},
     "output_type": "execute_result"
    }
   ],
   "source": [
    "# 모든 글자를 하나하나 쪼개고 싶다면?\n",
    "# b.split('') <- 이거 안 됨\n",
    "\n",
    "list(b)"
   ]
  },
  {
   "cell_type": "code",
   "execution_count": 48,
   "id": "3e34ad11",
   "metadata": {},
   "outputs": [
    {
     "data": {
      "text/plain": [
       "['hi', 'hello', 'goodbye']"
      ]
     },
     "execution_count": 48,
     "metadata": {},
     "output_type": "execute_result"
    }
   ],
   "source": [
    "# 사용자의 입력값을 받아 i에 저장합니다.\n",
    "# 입력받은 문자열을 split 메서드로 공백을 기준으로 나누어 리스트로 반환해봅시다.\n",
    "\n",
    "i = input()\n",
    "i.split()"
   ]
  },
  {
   "cell_type": "code",
   "execution_count": 52,
   "id": "235bee17",
   "metadata": {},
   "outputs": [
    {
     "data": {
      "text/plain": [
       "['가', '나', '다', '라']"
      ]
     },
     "execution_count": 52,
     "metadata": {},
     "output_type": "execute_result"
    }
   ],
   "source": [
    "# 모두 붙어있는 문자열을 리스트로 만드려면? \n",
    "\n",
    "list('가나다라')"
   ]
  },
  {
   "cell_type": "markdown",
   "id": "2b5b0276",
   "metadata": {},
   "source": [
    "### ** `'separator'.join(iterable)`\n",
    "iterable 의 문자열들을 separator(구분자)로 이어 붙인(`join()`) 문자열을 반환합니다.\n",
    "\n",
    "다른 메서드들과 달리, <u>**구분자**</u>가 join 메서드를 제공하는 문자열입니다."
   ]
  },
  {
   "cell_type": "code",
   "execution_count": 53,
   "id": "0a766893",
   "metadata": {},
   "outputs": [],
   "source": [
    "word = '배고파'\n",
    "words = ['안녕', 'hello']"
   ]
  },
  {
   "cell_type": "code",
   "execution_count": 56,
   "id": "aec3eacc",
   "metadata": {},
   "outputs": [
    {
     "data": {
      "text/plain": [
       "'배!고!파'"
      ]
     },
     "execution_count": 56,
     "metadata": {},
     "output_type": "execute_result"
    }
   ],
   "source": [
    "# join 메서드로 word의 문자열 사이에 !를 넣은 결과를 반환해봅시다.\n",
    "\n",
    "'!'.join(word)"
   ]
  },
  {
   "cell_type": "code",
   "execution_count": 59,
   "id": "707e7183",
   "metadata": {},
   "outputs": [
    {
     "data": {
      "text/plain": [
       "'안녕-hello'"
      ]
     },
     "execution_count": 59,
     "metadata": {},
     "output_type": "execute_result"
    }
   ],
   "source": [
    "# join 메서드로 words의 문자들을 하나로 합친 결과를 반환해봅시다.\n",
    "\n",
    "'-'.join(words)"
   ]
  },
  {
   "cell_type": "markdown",
   "id": "543679cd",
   "metadata": {},
   "source": [
    "### `.capitalize()`, `.title()`, `.upper()`\n",
    "\n",
    "* `.capitalize()` : 앞글자를 대문자로 만들어 반환합니다.\n",
    "\n",
    "* `.title()` : 어포스트로피(*'*)나 공백 이후를 대문자로 만들어 반환합니다.\n",
    "\n",
    "* `.upper()` : 모두 대문자로 만들어 반환합니다."
   ]
  },
  {
   "cell_type": "code",
   "execution_count": 60,
   "id": "e2c9d58a",
   "metadata": {},
   "outputs": [],
   "source": [
    "a = 'hI! Everyone, I\\'m kim'"
   ]
  },
  {
   "cell_type": "code",
   "execution_count": 61,
   "id": "03ded99f",
   "metadata": {},
   "outputs": [
    {
     "data": {
      "text/plain": [
       "\"Hi! everyone, i'm kim\""
      ]
     },
     "execution_count": 61,
     "metadata": {},
     "output_type": "execute_result"
    }
   ],
   "source": [
    "# capitalize 메서드로 a의 앞글자를 대문자로 만들어 반환해봅시다.\n",
    "\n",
    "a.capitalize()"
   ]
  },
  {
   "cell_type": "code",
   "execution_count": 62,
   "id": "49a706f9",
   "metadata": {},
   "outputs": [
    {
     "data": {
      "text/plain": [
       "\"Hi! Everyone, I'M Kim\""
      ]
     },
     "execution_count": 62,
     "metadata": {},
     "output_type": "execute_result"
    }
   ],
   "source": [
    "# title 메서드로 a의 각각의 단어 앞글자를 대문자로 만들어 반환해봅시다.\n",
    "\n",
    "a.title()"
   ]
  },
  {
   "cell_type": "code",
   "execution_count": 63,
   "id": "0c56c1f8",
   "metadata": {},
   "outputs": [
    {
     "data": {
      "text/plain": [
       "\"HI! EVERYONE, I'M KIM\""
      ]
     },
     "execution_count": 63,
     "metadata": {},
     "output_type": "execute_result"
    }
   ],
   "source": [
    "# upper 메서드로 a를 모두 대문자로 만들어 반환해봅시다.\n",
    "\n",
    "a.upper()"
   ]
  },
  {
   "cell_type": "code",
   "execution_count": 64,
   "id": "4fbdc2a7",
   "metadata": {},
   "outputs": [
    {
     "name": "stdout",
     "output_type": "stream",
     "text": [
      "hI! Everyone, I'm kim\n"
     ]
    }
   ],
   "source": [
    "# print 함수로 a를 출력하여 원본 데이터를 확인해봅시다.\n",
    "\n",
    "print(a)"
   ]
  },
  {
   "cell_type": "markdown",
   "id": "b32cf528",
   "metadata": {},
   "source": [
    "### `.lower()`, `.swapcase()`\n",
    "\n",
    "* `lower()` : 모두 소문자로 만들어 반환합니다.\n",
    "\n",
    "* `swapcase()` : 대 <-> 소문자로 변경하여 반환합니다."
   ]
  },
  {
   "cell_type": "code",
   "execution_count": 65,
   "id": "a8ff039c",
   "metadata": {},
   "outputs": [],
   "source": [
    "a = 'hI! Everyone, I\\'m kim'"
   ]
  },
  {
   "cell_type": "code",
   "execution_count": 66,
   "id": "1501edae",
   "metadata": {},
   "outputs": [
    {
     "data": {
      "text/plain": [
       "\"hi! everyone, i'm kim\""
      ]
     },
     "execution_count": 66,
     "metadata": {},
     "output_type": "execute_result"
    }
   ],
   "source": [
    "# lower 메서드로 a을 모두 소문자로 만들어 반환해봅시다.\n",
    "\n",
    "a.lower()"
   ]
  },
  {
   "cell_type": "code",
   "execution_count": 67,
   "id": "00aec388",
   "metadata": {},
   "outputs": [
    {
     "data": {
      "text/plain": [
       "\"Hi! eVERYONE, i'M KIM\""
      ]
     },
     "execution_count": 67,
     "metadata": {},
     "output_type": "execute_result"
    }
   ],
   "source": [
    "# swapcase 메서드로 a의 대소문자를 서로 변경하여 반환해봅시다.\n",
    "\n",
    "a.swapcase()"
   ]
  },
  {
   "cell_type": "code",
   "execution_count": 68,
   "id": "6e72bf87",
   "metadata": {},
   "outputs": [
    {
     "data": {
      "text/plain": [
       "\"hI! Everyone, I'm kim\""
      ]
     },
     "execution_count": 68,
     "metadata": {},
     "output_type": "execute_result"
    }
   ],
   "source": [
    "# print 함수로 a를 출력하여 원본데이터를 확인해봅시다.\n",
    "a"
   ]
  },
  {
   "cell_type": "markdown",
   "id": "4be09c26",
   "metadata": {},
   "source": [
    "## 문자열 메서드 모두 확인하기\n",
    "파이썬 내장함수 dir을 통해 컨테이너가 가지고 있는 메서드를 확인할 수 있습니다."
   ]
  },
  {
   "cell_type": "code",
   "execution_count": null,
   "id": "fe09c3fd",
   "metadata": {
    "scrolled": true
   },
   "outputs": [
    {
     "name": "stdout",
     "output_type": "stream",
     "text": [
      "Help on class str in module builtins:\n",
      "\n",
      "class str(object)\n",
      " |  str(object='') -> str\n",
      " |  str(bytes_or_buffer[, encoding[, errors]]) -> str\n",
      " |\n",
      " |  Create a new string object from the given object. If encoding or\n",
      " |  errors is specified, then the object must expose a data buffer\n",
      " |  that will be decoded using the given encoding and error handler.\n",
      " |  Otherwise, returns the result of object.__str__() (if defined)\n",
      " |  or repr(object).\n",
      " |  encoding defaults to 'utf-8'.\n",
      " |  errors defaults to 'strict'.\n",
      " |\n",
      " |  Methods defined here:\n",
      " |\n",
      " |  __add__(self, value, /)\n",
      " |      Return self+value.\n",
      " |\n",
      " |  __contains__(self, key, /)\n",
      " |      Return bool(key in self).\n",
      " |\n",
      " |  __eq__(self, value, /)\n",
      " |      Return self==value.\n",
      " |\n",
      " |  __format__(self, format_spec, /)\n",
      " |      Return a formatted version of the string as described by format_spec.\n",
      " |\n",
      " |  __ge__(self, value, /)\n",
      " |      Return self>=value.\n",
      " |\n",
      " |  __getitem__(self, key, /)\n",
      " |      Return self[key].\n",
      " |\n",
      " |  __getnewargs__(self, /)\n",
      " |\n",
      " |  __gt__(self, value, /)\n",
      " |      Return self>value.\n",
      " |\n",
      " |  __hash__(self, /)\n",
      " |      Return hash(self).\n",
      " |\n",
      " |  __iter__(self, /)\n",
      " |      Implement iter(self).\n",
      " |\n",
      " |  __le__(self, value, /)\n",
      " |      Return self<=value.\n",
      " |\n",
      " |  __len__(self, /)\n",
      " |      Return len(self).\n",
      " |\n",
      " |  __lt__(self, value, /)\n",
      " |      Return self<value.\n",
      " |\n",
      " |  __mod__(self, value, /)\n",
      " |      Return self%value.\n",
      " |\n",
      " |  __mul__(self, value, /)\n",
      " |      Return self*value.\n",
      " |\n",
      " |  __ne__(self, value, /)\n",
      " |      Return self!=value.\n",
      " |\n",
      " |  __repr__(self, /)\n",
      " |      Return repr(self).\n",
      " |\n",
      " |  __rmod__(self, value, /)\n",
      " |      Return value%self.\n",
      " |\n",
      " |  __rmul__(self, value, /)\n",
      " |      Return value*self.\n",
      " |\n",
      " |  __sizeof__(self, /)\n",
      " |      Return the size of the string in memory, in bytes.\n",
      " |\n",
      " |  __str__(self, /)\n",
      " |      Return str(self).\n",
      " |\n",
      " |  capitalize(self, /)\n",
      " |      Return a capitalized version of the string.\n",
      " |\n",
      " |      More specifically, make the first character have upper case and the rest lower\n",
      " |      case.\n",
      " |\n",
      " |  casefold(self, /)\n",
      " |      Return a version of the string suitable for caseless comparisons.\n",
      " |\n",
      " |  center(self, width, fillchar=' ', /)\n",
      " |      Return a centered string of length width.\n",
      " |\n",
      " |      Padding is done using the specified fill character (default is a space).\n",
      " |\n",
      " |  count(self, sub[, start[, end]], /)\n",
      " |      Return the number of non-overlapping occurrences of substring sub in string S[start:end].\n",
      " |\n",
      " |      Optional arguments start and end are interpreted as in slice notation.\n",
      " |\n",
      " |  encode(self, /, encoding='utf-8', errors='strict')\n",
      " |      Encode the string using the codec registered for encoding.\n",
      " |\n",
      " |      encoding\n",
      " |        The encoding in which to encode the string.\n",
      " |      errors\n",
      " |        The error handling scheme to use for encoding errors.\n",
      " |        The default is 'strict' meaning that encoding errors raise a\n",
      " |        UnicodeEncodeError.  Other possible values are 'ignore', 'replace' and\n",
      " |        'xmlcharrefreplace' as well as any other name registered with\n",
      " |        codecs.register_error that can handle UnicodeEncodeErrors.\n",
      " |\n",
      " |  endswith(self, suffix[, start[, end]], /)\n",
      " |      Return True if the string ends with the specified suffix, False otherwise.\n",
      " |\n",
      " |      suffix\n",
      " |        A string or a tuple of strings to try.\n",
      " |      start\n",
      " |        Optional start position. Default: start of the string.\n",
      " |      end\n",
      " |        Optional stop position. Default: end of the string.\n",
      " |\n",
      " |  expandtabs(self, /, tabsize=8)\n",
      " |      Return a copy where all tab characters are expanded using spaces.\n",
      " |\n",
      " |      If tabsize is not given, a tab size of 8 characters is assumed.\n",
      " |\n",
      " |  find(self, sub[, start[, end]], /)\n",
      " |      Return the lowest index in S where substring sub is found, such that sub is contained within S[start:end].\n",
      " |\n",
      " |      Optional arguments start and end are interpreted as in slice notation.\n",
      " |      Return -1 on failure.\n",
      " |\n",
      " |  format(self, /, *args, **kwargs)\n",
      " |      Return a formatted version of the string, using substitutions from args and kwargs.\n",
      " |      The substitutions are identified by braces ('{' and '}').\n",
      " |\n",
      " |  format_map(self, mapping, /)\n",
      " |      Return a formatted version of the string, using substitutions from mapping.\n",
      " |      The substitutions are identified by braces ('{' and '}').\n",
      " |\n",
      " |  index(self, sub[, start[, end]], /)\n",
      " |      Return the lowest index in S where substring sub is found, such that sub is contained within S[start:end].\n",
      " |\n",
      " |      Optional arguments start and end are interpreted as in slice notation.\n",
      " |      Raises ValueError when the substring is not found.\n",
      " |\n",
      " |  isalnum(self, /)\n",
      " |      Return True if the string is an alpha-numeric string, False otherwise.\n",
      " |\n",
      " |      A string is alpha-numeric if all characters in the string are alpha-numeric and\n",
      " |      there is at least one character in the string.\n",
      " |\n",
      " |  isalpha(self, /)\n",
      " |      Return True if the string is an alphabetic string, False otherwise.\n",
      " |\n",
      " |      A string is alphabetic if all characters in the string are alphabetic and there\n",
      " |      is at least one character in the string.\n",
      " |\n",
      " |  isascii(self, /)\n",
      " |      Return True if all characters in the string are ASCII, False otherwise.\n",
      " |\n",
      " |      ASCII characters have code points in the range U+0000-U+007F.\n",
      " |      Empty string is ASCII too.\n",
      " |\n",
      " |  isdecimal(self, /)\n",
      " |      Return True if the string is a decimal string, False otherwise.\n",
      " |\n",
      " |      A string is a decimal string if all characters in the string are decimal and\n",
      " |      there is at least one character in the string.\n",
      " |\n",
      " |  isdigit(self, /)\n",
      " |      Return True if the string is a digit string, False otherwise.\n",
      " |\n",
      " |      A string is a digit string if all characters in the string are digits and there\n",
      " |      is at least one character in the string.\n",
      " |\n",
      " |  isidentifier(self, /)\n",
      " |      Return True if the string is a valid Python identifier, False otherwise.\n",
      " |\n",
      " |      Call keyword.iskeyword(s) to test whether string s is a reserved identifier,\n",
      " |      such as \"def\" or \"class\".\n",
      " |\n",
      " |  islower(self, /)\n",
      " |      Return True if the string is a lowercase string, False otherwise.\n",
      " |\n",
      " |      A string is lowercase if all cased characters in the string are lowercase and\n",
      " |      there is at least one cased character in the string.\n",
      " |\n",
      " |  isnumeric(self, /)\n",
      " |      Return True if the string is a numeric string, False otherwise.\n",
      " |\n",
      " |      A string is numeric if all characters in the string are numeric and there is at\n",
      " |      least one character in the string.\n",
      " |\n",
      " |  isprintable(self, /)\n",
      " |      Return True if the string is printable, False otherwise.\n",
      " |\n",
      " |      A string is printable if all of its characters are considered printable in\n",
      " |      repr() or if it is empty.\n",
      " |\n",
      " |  isspace(self, /)\n",
      " |      Return True if the string is a whitespace string, False otherwise.\n",
      " |\n",
      " |      A string is whitespace if all characters in the string are whitespace and there\n",
      " |      is at least one character in the string.\n",
      " |\n",
      " |  istitle(self, /)\n",
      " |      Return True if the string is a title-cased string, False otherwise.\n",
      " |\n",
      " |      In a title-cased string, upper- and title-case characters may only\n",
      " |      follow uncased characters and lowercase characters only cased ones.\n",
      " |\n",
      " |  isupper(self, /)\n",
      " |      Return True if the string is an uppercase string, False otherwise.\n",
      " |\n",
      " |      A string is uppercase if all cased characters in the string are uppercase and\n",
      " |      there is at least one cased character in the string.\n",
      " |\n",
      " |  join(self, iterable, /)\n",
      " |      Concatenate any number of strings.\n",
      " |\n",
      " |      The string whose method is called is inserted in between each given string.\n",
      " |      The result is returned as a new string.\n",
      " |\n",
      " |      Example: '.'.join(['ab', 'pq', 'rs']) -> 'ab.pq.rs'\n",
      " |\n",
      " |  ljust(self, width, fillchar=' ', /)\n",
      " |      Return a left-justified string of length width.\n",
      " |\n",
      " |      Padding is done using the specified fill character (default is a space).\n",
      " |\n",
      " |  lower(self, /)\n",
      " |      Return a copy of the string converted to lowercase.\n",
      " |\n",
      " |  lstrip(self, chars=None, /)\n",
      " |      Return a copy of the string with leading whitespace removed.\n",
      " |\n",
      " |      If chars is given and not None, remove characters in chars instead.\n",
      " |\n",
      " |  partition(self, sep, /)\n",
      " |      Partition the string into three parts using the given separator.\n",
      " |\n",
      " |      This will search for the separator in the string.  If the separator is found,\n",
      " |      returns a 3-tuple containing the part before the separator, the separator\n",
      " |      itself, and the part after it.\n",
      " |\n",
      " |      If the separator is not found, returns a 3-tuple containing the original string\n",
      " |      and two empty strings.\n",
      " |\n",
      " |  removeprefix(self, prefix, /)\n",
      " |      Return a str with the given prefix string removed if present.\n",
      " |\n",
      " |      If the string starts with the prefix string, return string[len(prefix):].\n",
      " |      Otherwise, return a copy of the original string.\n",
      " |\n",
      " |  removesuffix(self, suffix, /)\n",
      " |      Return a str with the given suffix string removed if present.\n",
      " |\n",
      " |      If the string ends with the suffix string and that suffix is not empty,\n",
      " |      return string[:-len(suffix)]. Otherwise, return a copy of the original\n",
      " |      string.\n",
      " |\n",
      " |  replace(self, old, new, /, count=-1)\n",
      " |      Return a copy with all occurrences of substring old replaced by new.\n",
      " |\n",
      " |        count\n",
      " |          Maximum number of occurrences to replace.\n",
      " |          -1 (the default value) means replace all occurrences.\n",
      " |\n",
      " |      If the optional argument count is given, only the first count occurrences are\n",
      " |      replaced.\n",
      " |\n",
      " |  rfind(self, sub[, start[, end]], /)\n",
      " |      Return the highest index in S where substring sub is found, such that sub is contained within S[start:end].\n",
      " |\n",
      " |      Optional arguments start and end are interpreted as in slice notation.\n",
      " |      Return -1 on failure.\n",
      " |\n",
      " |  rindex(self, sub[, start[, end]], /)\n",
      " |      Return the highest index in S where substring sub is found, such that sub is contained within S[start:end].\n",
      " |\n",
      " |      Optional arguments start and end are interpreted as in slice notation.\n",
      " |      Raises ValueError when the substring is not found.\n",
      " |\n",
      " |  rjust(self, width, fillchar=' ', /)\n",
      " |      Return a right-justified string of length width.\n",
      " |\n",
      " |      Padding is done using the specified fill character (default is a space).\n",
      " |\n",
      " |  rpartition(self, sep, /)\n",
      " |      Partition the string into three parts using the given separator.\n",
      " |\n",
      " |      This will search for the separator in the string, starting at the end. If\n",
      " |      the separator is found, returns a 3-tuple containing the part before the\n",
      " |      separator, the separator itself, and the part after it.\n",
      " |\n",
      " |      If the separator is not found, returns a 3-tuple containing two empty strings\n",
      " |      and the original string.\n",
      " |\n",
      " |  rsplit(self, /, sep=None, maxsplit=-1)\n",
      " |      Return a list of the substrings in the string, using sep as the separator string.\n",
      " |\n",
      " |        sep\n",
      " |          The separator used to split the string.\n",
      " |\n",
      " |          When set to None (the default value), will split on any whitespace\n",
      " |          character (including \\n \\r \\t \\f and spaces) and will discard\n",
      " |          empty strings from the result.\n",
      " |        maxsplit\n",
      " |          Maximum number of splits.\n",
      " |          -1 (the default value) means no limit.\n",
      " |\n",
      " |      Splitting starts at the end of the string and works to the front.\n",
      " |\n",
      " |  rstrip(self, chars=None, /)\n",
      " |      Return a copy of the string with trailing whitespace removed.\n",
      " |\n",
      " |      If chars is given and not None, remove characters in chars instead.\n",
      " |\n",
      " |  split(self, /, sep=None, maxsplit=-1)\n",
      " |      Return a list of the substrings in the string, using sep as the separator string.\n",
      " |\n",
      " |        sep\n",
      " |          The separator used to split the string.\n",
      " |\n",
      " |          When set to None (the default value), will split on any whitespace\n",
      " |          character (including \\n \\r \\t \\f and spaces) and will discard\n",
      " |          empty strings from the result.\n",
      " |        maxsplit\n",
      " |          Maximum number of splits.\n",
      " |          -1 (the default value) means no limit.\n",
      " |\n",
      " |      Splitting starts at the front of the string and works to the end.\n",
      " |\n",
      " |      Note, str.split() is mainly useful for data that has been intentionally\n",
      " |      delimited.  With natural text that includes punctuation, consider using\n",
      " |      the regular expression module.\n",
      " |\n",
      " |  splitlines(self, /, keepends=False)\n",
      " |      Return a list of the lines in the string, breaking at line boundaries.\n",
      " |\n",
      " |      Line breaks are not included in the resulting list unless keepends is given and\n",
      " |      true.\n",
      " |\n",
      " |  startswith(self, prefix[, start[, end]], /)\n",
      " |      Return True if the string starts with the specified prefix, False otherwise.\n",
      " |\n",
      " |      prefix\n",
      " |        A string or a tuple of strings to try.\n",
      " |      start\n",
      " |        Optional start position. Default: start of the string.\n",
      " |      end\n",
      " |        Optional stop position. Default: end of the string.\n",
      " |\n",
      " |  strip(self, chars=None, /)\n",
      " |      Return a copy of the string with leading and trailing whitespace removed.\n",
      " |\n",
      " |      If chars is given and not None, remove characters in chars instead.\n",
      " |\n",
      " |  swapcase(self, /)\n",
      " |      Convert uppercase characters to lowercase and lowercase characters to uppercase.\n",
      " |\n",
      " |  title(self, /)\n",
      " |      Return a version of the string where each word is titlecased.\n",
      " |\n",
      " |      More specifically, words start with uppercased characters and all remaining\n",
      " |      cased characters have lower case.\n",
      " |\n",
      " |  translate(self, table, /)\n",
      " |      Replace each character in the string using the given translation table.\n",
      " |\n",
      " |        table\n",
      " |          Translation table, which must be a mapping of Unicode ordinals to\n",
      " |          Unicode ordinals, strings, or None.\n",
      " |\n",
      " |      The table must implement lookup/indexing via __getitem__, for instance a\n",
      " |      dictionary or list.  If this operation raises LookupError, the character is\n",
      " |      left untouched.  Characters mapped to None are deleted.\n",
      " |\n",
      " |  upper(self, /)\n",
      " |      Return a copy of the string converted to uppercase.\n",
      " |\n",
      " |  zfill(self, width, /)\n",
      " |      Pad a numeric string with zeros on the left, to fill a field of the given width.\n",
      " |\n",
      " |      The string is never truncated.\n",
      " |\n",
      " |  ----------------------------------------------------------------------\n",
      " |  Static methods defined here:\n",
      " |\n",
      " |  __new__(*args, **kwargs)\n",
      " |      Create and return a new object.  See help(type) for accurate signature.\n",
      " |\n",
      " |  maketrans(x, y=<unrepresentable>, z=<unrepresentable>, /)\n",
      " |      Return a translation table usable for str.translate().\n",
      " |\n",
      " |      If there is only one argument, it must be a dictionary mapping Unicode\n",
      " |      ordinals (integers) or characters to Unicode ordinals, strings or None.\n",
      " |      Character keys will be then converted to ordinals.\n",
      " |      If there are two arguments, they must be strings of equal length, and\n",
      " |      in the resulting dictionary, each character in x will be mapped to the\n",
      " |      character at the same position in y. If there is a third argument, it\n",
      " |      must be a string, whose characters will be mapped to None in the result.\n",
      "\n"
     ]
    }
   ],
   "source": [
    "# dir 함수로 문자열이 가지고 있는 attribute & method를 확인할 수 있습니다.\n",
    "\n",
    "dir('')  # 단순히 메서드 나열해줌\n",
    "help('')  # 메서드 설명서"
   ]
  },
  {
   "cell_type": "markdown",
   "id": "4214e9b1",
   "metadata": {},
   "source": [
    "---"
   ]
  },
  {
   "cell_type": "markdown",
   "id": "4c163aac",
   "metadata": {},
   "source": [
    "# ** 리스트(List)\n",
    "\n",
    "> 변경 가능하고(mutable), 순서가 있고(ordered), 순회 가능한(iterable)\n",
    "\n",
    "![image](https://user-images.githubusercontent.com/90173310/148152798-e42f9525-2eef-4bf7-bf0b-6031a0913693.png)"
   ]
  },
  {
   "cell_type": "markdown",
   "id": "8644ebe6",
   "metadata": {},
   "source": [
    "## 값 추가 및 삭제 => 원본 변경\n",
    "\n",
    "### `.append(x)`\n",
    "\n",
    "리스트에 값을 추가할 수 있습니다.\n",
    "\n",
    "`a[len(a):] = [x]` 와 동일합니다."
   ]
  },
  {
   "cell_type": "code",
   "execution_count": 83,
   "id": "20025945",
   "metadata": {},
   "outputs": [],
   "source": [
    "cafe = ['starbucks', 'tomntoms', 'hollys']\n"
   ]
  },
  {
   "cell_type": "code",
   "execution_count": null,
   "id": "c61e9aa1",
   "metadata": {},
   "outputs": [],
   "source": [
    "# append 메서드로 cafe에 banapresso를 추가해봅시다."
   ]
  },
  {
   "cell_type": "code",
   "execution_count": 84,
   "id": "acd2d78a",
   "metadata": {},
   "outputs": [],
   "source": [
    "cafe.append('banapresso')"
   ]
  },
  {
   "cell_type": "code",
   "execution_count": 73,
   "id": "afea3243",
   "metadata": {},
   "outputs": [
    {
     "data": {
      "text/plain": [
       "['starbucks', 'tomntoms', 'hollys', 'banapresso']"
      ]
     },
     "execution_count": 73,
     "metadata": {},
     "output_type": "execute_result"
    }
   ],
   "source": [
    "cafe"
   ]
  },
  {
   "cell_type": "markdown",
   "id": "4bcda50d",
   "metadata": {},
   "source": [
    "### `.extend(iterable)`\n",
    "\n",
    "리스트에 iterable(list, range, tuple, string) 값을 붙일 수가 있습니다.\n",
    "\n",
    "`a[len(a):] = iterable` 와 동일합니다."
   ]
  },
  {
   "cell_type": "code",
   "execution_count": null,
   "id": "7ba6ba8d",
   "metadata": {},
   "outputs": [],
   "source": [
    "# extend 메서드로 cafe에 ['wcafe', '빽다방']를 추가해봅시다.\n"
   ]
  },
  {
   "cell_type": "code",
   "execution_count": 85,
   "id": "eb7320ba",
   "metadata": {},
   "outputs": [
    {
     "data": {
      "text/plain": [
       "['starbucks', 'tomntoms', 'hollys', 'banapresso', 'wcafe', '빽다방']"
      ]
     },
     "execution_count": 85,
     "metadata": {},
     "output_type": "execute_result"
    }
   ],
   "source": [
    "cafe.extend(['wcafe', '빽다방'])\n",
    "cafe"
   ]
  },
  {
   "cell_type": "code",
   "execution_count": null,
   "id": "43a70e0f",
   "metadata": {},
   "outputs": [],
   "source": [
    "# += 연산자로 cafe에 ['mc_cafe', 'droptop']를 추가해봅시다.\n",
    "# 앞서 배운 list concatenate와 동일합니다.\n"
   ]
  },
  {
   "cell_type": "code",
   "execution_count": 86,
   "id": "8da70c91",
   "metadata": {},
   "outputs": [
    {
     "data": {
      "text/plain": [
       "['starbucks',\n",
       " 'tomntoms',\n",
       " 'hollys',\n",
       " 'banapresso',\n",
       " 'wcafe',\n",
       " '빽다방',\n",
       " 'mc_cafe',\n",
       " 'droptop']"
      ]
     },
     "execution_count": 86,
     "metadata": {},
     "output_type": "execute_result"
    }
   ],
   "source": [
    "cafe += ['mc_cafe', 'droptop']\n",
    "cafe"
   ]
  },
  {
   "cell_type": "code",
   "execution_count": 88,
   "id": "446efe2f",
   "metadata": {},
   "outputs": [
    {
     "data": {
      "text/plain": [
       "['starbucks',\n",
       " 'tomntoms',\n",
       " 'hollys',\n",
       " 'banapresso',\n",
       " 'wcafe',\n",
       " '빽다방',\n",
       " 'mc_cafe',\n",
       " 'droptop',\n",
       " 'twosome_place',\n",
       " ['coffeenie']]"
      ]
     },
     "execution_count": 88,
     "metadata": {},
     "output_type": "execute_result"
    }
   ],
   "source": [
    "# append vs extend\n",
    "# append 메서드로 cafe에 ['coffeenie']를 추가해봅시다.\n",
    "\n",
    "cafe.append(['coffeenie'])\n",
    "cafe"
   ]
  },
  {
   "cell_type": "code",
   "execution_count": 87,
   "id": "b699dca9",
   "metadata": {},
   "outputs": [
    {
     "data": {
      "text/plain": [
       "['starbucks',\n",
       " 'tomntoms',\n",
       " 'hollys',\n",
       " 'banapresso',\n",
       " 'wcafe',\n",
       " '빽다방',\n",
       " 'mc_cafe',\n",
       " 'droptop',\n",
       " 'twosome_place']"
      ]
     },
     "execution_count": 87,
     "metadata": {},
     "output_type": "execute_result"
    }
   ],
   "source": [
    "# append vs extend\n",
    "# extend 메서드로 cafe에 ['twosome_place']를 추가해봅시다.\n",
    "\n",
    "cafe.extend(['twosome_place'])\n",
    "cafe"
   ]
  },
  {
   "cell_type": "code",
   "execution_count": 89,
   "id": "f577f73f",
   "metadata": {},
   "outputs": [],
   "source": [
    "# extend 메서드로 cafe에 문자열 ediya를 추가해봅시다.\n",
    "\n",
    "cafe.extend('ediya')"
   ]
  },
  {
   "cell_type": "code",
   "execution_count": 90,
   "id": "90708498",
   "metadata": {},
   "outputs": [
    {
     "data": {
      "text/plain": [
       "['starbucks',\n",
       " 'tomntoms',\n",
       " 'hollys',\n",
       " 'banapresso',\n",
       " 'wcafe',\n",
       " '빽다방',\n",
       " 'mc_cafe',\n",
       " 'droptop',\n",
       " 'twosome_place',\n",
       " ['coffeenie'],\n",
       " 'e',\n",
       " 'd',\n",
       " 'i',\n",
       " 'y',\n",
       " 'a']"
      ]
     },
     "execution_count": 90,
     "metadata": {},
     "output_type": "execute_result"
    }
   ],
   "source": [
    "cafe"
   ]
  },
  {
   "cell_type": "markdown",
   "id": "e31ad7f6",
   "metadata": {},
   "source": [
    "### `.insert(i, x)`\n",
    "\n",
    "정해진 위치 `i`에 값을 추가합니다."
   ]
  },
  {
   "cell_type": "code",
   "execution_count": 91,
   "id": "3ae56bdd",
   "metadata": {},
   "outputs": [],
   "source": [
    "# insert 메서드로 cafe 첫번째에 문자열 start를 넣어봅시다.\n",
    "\n",
    "cafe.insert(0, 'start')"
   ]
  },
  {
   "cell_type": "code",
   "execution_count": 92,
   "id": "6c4ab9c7",
   "metadata": {},
   "outputs": [
    {
     "data": {
      "text/plain": [
       "['start',\n",
       " 'starbucks',\n",
       " 'tomntoms',\n",
       " 'hollys',\n",
       " 'banapresso',\n",
       " 'wcafe',\n",
       " '빽다방',\n",
       " 'mc_cafe',\n",
       " 'droptop',\n",
       " 'twosome_place',\n",
       " ['coffeenie'],\n",
       " 'e',\n",
       " 'd',\n",
       " 'i',\n",
       " 'y',\n",
       " 'a']"
      ]
     },
     "execution_count": 92,
     "metadata": {},
     "output_type": "execute_result"
    }
   ],
   "source": [
    "cafe"
   ]
  },
  {
   "cell_type": "code",
   "execution_count": 93,
   "id": "3ee6d1d5",
   "metadata": {},
   "outputs": [],
   "source": [
    "# insert 메서드로 cafe 마지막에 문자열 end를 넣어봅시다.\n",
    "# 마지막 위치는 len함수를 이용합니다.  => 걍 append 쓰기\n",
    "\n",
    "cafe.insert(10000, '!')"
   ]
  },
  {
   "cell_type": "code",
   "execution_count": 94,
   "id": "8e6cb4c4",
   "metadata": {},
   "outputs": [
    {
     "data": {
      "text/plain": [
       "['start',\n",
       " 'starbucks',\n",
       " 'tomntoms',\n",
       " 'hollys',\n",
       " 'banapresso',\n",
       " 'wcafe',\n",
       " '빽다방',\n",
       " 'mc_cafe',\n",
       " 'droptop',\n",
       " 'twosome_place',\n",
       " ['coffeenie'],\n",
       " 'e',\n",
       " 'd',\n",
       " 'i',\n",
       " 'y',\n",
       " 'a',\n",
       " '!']"
      ]
     },
     "execution_count": 94,
     "metadata": {},
     "output_type": "execute_result"
    }
   ],
   "source": [
    "# insert 메서드로 cafe 길이보다 큰 인덱스에 문자열 !를 넣어봅시다.\n",
    "# 리스트의 길이를 넘어서는 인덱스는 마지막에 아이템이 추가됩니다.\n",
    "cafe"
   ]
  },
  {
   "cell_type": "code",
   "execution_count": null,
   "id": "42e8841e",
   "metadata": {},
   "outputs": [],
   "source": [
    "# a.insert(0, x)는 리스트의 처음에 x를 삽입하고,\n",
    "# a.insert(len(a), x) 는 a.append(x) 와 같습니다."
   ]
  },
  {
   "cell_type": "markdown",
   "id": "fca5372e",
   "metadata": {},
   "source": [
    "### `.remove(x)`\n",
    "\n",
    "리스트에서 값이 x인 첫번째 항목을 삭제합니다.\n",
    "\n",
    "만일 그런 항목이 없으면 `ValueError`가 발생합니다."
   ]
  },
  {
   "cell_type": "code",
   "execution_count": 95,
   "id": "15b593fb",
   "metadata": {},
   "outputs": [],
   "source": [
    "numbers = [1, 2, 3, 1, 2]"
   ]
  },
  {
   "cell_type": "code",
   "execution_count": 96,
   "id": "255826c6",
   "metadata": {},
   "outputs": [
    {
     "data": {
      "text/plain": [
       "[2, 3, 1, 2]"
      ]
     },
     "execution_count": 96,
     "metadata": {},
     "output_type": "execute_result"
    }
   ],
   "source": [
    "# remove 메서드로 1을 삭제 해봅시다.\n",
    "\n",
    "numbers.remove(1)\n",
    "numbers"
   ]
  },
  {
   "cell_type": "code",
   "execution_count": null,
   "id": "36189253",
   "metadata": {},
   "outputs": [
    {
     "data": {
      "text/plain": [
       "[2, 3, 2]"
      ]
     },
     "execution_count": 97,
     "metadata": {},
     "output_type": "execute_result"
    }
   ],
   "source": [
    "# remove 메서드로 1을 한 번 더 삭제 해봅시다.\n",
    "\n",
    "numbers.remove(1)\n",
    "numbers"
   ]
  },
  {
   "cell_type": "code",
   "execution_count": null,
   "id": "14da985a",
   "metadata": {},
   "outputs": [
    {
     "ename": "ValueError",
     "evalue": "list.remove(x): x not in list",
     "output_type": "error",
     "traceback": [
      "\u001b[31m---------------------------------------------------------------------------\u001b[39m",
      "\u001b[31mValueError\u001b[39m                                Traceback (most recent call last)",
      "\u001b[36mCell\u001b[39m\u001b[36m \u001b[39m\u001b[32mIn[98]\u001b[39m\u001b[32m, line 3\u001b[39m\n\u001b[32m      1\u001b[39m \u001b[38;5;66;03m# remove는 값이 없으면 오류가 발생합니다.\u001b[39;00m\n\u001b[32m      2\u001b[39m \u001b[38;5;66;03m# remove 메서드로 1을 한 번 더 삭제하여, 확인해봅시다.\u001b[39;00m\n\u001b[32m----> \u001b[39m\u001b[32m3\u001b[39m \u001b[43mnumbers\u001b[49m\u001b[43m.\u001b[49m\u001b[43mremove\u001b[49m\u001b[43m(\u001b[49m\u001b[32;43m1\u001b[39;49m\u001b[43m)\u001b[49m\n\u001b[32m      4\u001b[39m numbers\n",
      "\u001b[31mValueError\u001b[39m: list.remove(x): x not in list"
     ]
    }
   ],
   "source": [
    "# remove는 값이 없으면 오류가 발생합니다.\n",
    "# remove 메서드로 1을 한 번 더 삭제하여, 확인해봅시다.\n",
    "\n",
    "numbers.remove(1)\n",
    "numbers"
   ]
  },
  {
   "cell_type": "markdown",
   "id": "eb4e7305",
   "metadata": {},
   "source": [
    "### *** `.pop([i])` => 삭제되는 값을 `return`\n",
    "\n",
    "정해진 위치 `i`에 있는 값을 삭제하며, 그 항목을 반환합니다.\n",
    "\n",
    "`i`가 지정되지 않으면 마지막 항목을 삭제하고 되돌려줍니다."
   ]
  },
  {
   "cell_type": "code",
   "execution_count": 99,
   "id": "1ad82215",
   "metadata": {},
   "outputs": [],
   "source": [
    "numbers = [1, 2, 3, 4, 5, 6]"
   ]
  },
  {
   "cell_type": "code",
   "execution_count": 100,
   "id": "aabd997e",
   "metadata": {
    "scrolled": true
   },
   "outputs": [
    {
     "data": {
      "text/plain": [
       "1"
      ]
     },
     "execution_count": 100,
     "metadata": {},
     "output_type": "execute_result"
    }
   ],
   "source": [
    "# pop 메서드로 가장 앞에 있는 숫자를 삭제해봅시다.\n",
    "# 삭제후 numbers를 출력해봅시다.\n",
    "\n",
    "numbers.pop(0)"
   ]
  },
  {
   "cell_type": "code",
   "execution_count": 102,
   "id": "e2ebecce",
   "metadata": {},
   "outputs": [
    {
     "data": {
      "text/plain": [
       "[2, 3, 4, 5, 6]"
      ]
     },
     "execution_count": 102,
     "metadata": {},
     "output_type": "execute_result"
    }
   ],
   "source": [
    "numbers"
   ]
  },
  {
   "cell_type": "code",
   "execution_count": 103,
   "id": "e804ab2b",
   "metadata": {},
   "outputs": [
    {
     "name": "stdout",
     "output_type": "stream",
     "text": [
      "6 [2, 3, 4, 5]\n"
     ]
    }
   ],
   "source": [
    "# pop 메서드로 가장 마지막에 있는 숫자를 삭제하고 결과를 a에 저장합니다.\n",
    "# 삭제된 숫자와 결과를 모두 출력해봅시다.\n",
    "\n",
    "last = numbers.pop()\n",
    "print(last, numbers)"
   ]
  },
  {
   "cell_type": "markdown",
   "id": "5c79f0e2",
   "metadata": {},
   "source": [
    "### `.clear()`\n",
    "\n",
    "리스트의 모든 항목을 삭제합니다."
   ]
  },
  {
   "cell_type": "code",
   "execution_count": 104,
   "id": "59cfce7d",
   "metadata": {},
   "outputs": [],
   "source": [
    "numbers = [1, 2, 3, 4, 5, 6]"
   ]
  },
  {
   "cell_type": "code",
   "execution_count": 105,
   "id": "ca04d663",
   "metadata": {},
   "outputs": [],
   "source": [
    "# clear 메서드로 리스트의 모든 항목을 삭제합니다.\n",
    "\n",
    "numbers.clear()"
   ]
  },
  {
   "cell_type": "code",
   "execution_count": 106,
   "id": "474c5466",
   "metadata": {},
   "outputs": [
    {
     "data": {
      "text/plain": [
       "[]"
      ]
     },
     "execution_count": 106,
     "metadata": {},
     "output_type": "execute_result"
    }
   ],
   "source": [
    "numbers"
   ]
  },
  {
   "cell_type": "code",
   "execution_count": null,
   "id": "bd9cc1fa",
   "metadata": {},
   "outputs": [
    {
     "name": "stdout",
     "output_type": "stream",
     "text": [
      "2147155206720 2147155192768\n",
      "2147155206720 2147162819520\n"
     ]
    }
   ],
   "source": [
    "# numbers = [] 로 하면 되는 거 아닌가 ?\n",
    "# id가 바뀜.\n",
    "\n",
    "l1 = [1, 2, 3]\n",
    "l2 = [1, 2, 3]\n",
    "print(id(l1), id(l2))\n",
    "\n",
    "l1.clear()  # clear는 기존 리스트(같은 id)\n",
    "l2 = []  # 신규 할당은 새로운 리스트(다른 id)\n",
    "print(id(l1), id(l2))"
   ]
  },
  {
   "cell_type": "markdown",
   "id": "0f01d700",
   "metadata": {},
   "source": [
    "## 탐색 및 정렬"
   ]
  },
  {
   "cell_type": "markdown",
   "id": "a1c42e0a",
   "metadata": {},
   "source": [
    "### `.index(x)`\n",
    "\n",
    "x 값을 찾아 해당 index 값을 반환합니다."
   ]
  },
  {
   "cell_type": "code",
   "execution_count": 108,
   "id": "e70f1cec",
   "metadata": {},
   "outputs": [],
   "source": [
    "a = [1, 2, 3, 4, 5]"
   ]
  },
  {
   "cell_type": "code",
   "execution_count": 112,
   "id": "79e0b810",
   "metadata": {},
   "outputs": [
    {
     "data": {
      "text/plain": [
       "2"
      ]
     },
     "execution_count": 112,
     "metadata": {},
     "output_type": "execute_result"
    }
   ],
   "source": [
    "# index 메서드로 숫자 3이 있는 위치를 반환합니다.\n",
    "\n",
    "a.index(3)"
   ]
  },
  {
   "cell_type": "code",
   "execution_count": 110,
   "id": "05bcab7b",
   "metadata": {},
   "outputs": [
    {
     "ename": "ValueError",
     "evalue": "100 is not in list",
     "output_type": "error",
     "traceback": [
      "\u001b[31m---------------------------------------------------------------------------\u001b[39m",
      "\u001b[31mValueError\u001b[39m                                Traceback (most recent call last)",
      "\u001b[36mCell\u001b[39m\u001b[36m \u001b[39m\u001b[32mIn[110]\u001b[39m\u001b[32m, line 4\u001b[39m\n\u001b[32m      1\u001b[39m \u001b[38;5;66;03m# index는 찾는 값이 없으면 오류가 발생합니다.\u001b[39;00m\n\u001b[32m      2\u001b[39m \u001b[38;5;66;03m# index 메서드로 숫자 100이 있는 위치를 확인해봅시다.\u001b[39;00m\n\u001b[32m----> \u001b[39m\u001b[32m4\u001b[39m \u001b[43ma\u001b[49m\u001b[43m.\u001b[49m\u001b[43mindex\u001b[49m\u001b[43m(\u001b[49m\u001b[32;43m100\u001b[39;49m\u001b[43m)\u001b[49m\n",
      "\u001b[31mValueError\u001b[39m: 100 is not in list"
     ]
    }
   ],
   "source": [
    "# index는 찾는 값이 없으면 오류가 발생합니다.\n",
    "# index 메서드로 숫자 100이 있는 위치를 확인해봅시다.\n",
    "\n",
    "a.index(100)"
   ]
  },
  {
   "cell_type": "markdown",
   "id": "f8129cf3",
   "metadata": {},
   "source": [
    "### * `.count(x)`\n",
    "\n",
    "원하는 값의 개수를 반환합니다."
   ]
  },
  {
   "cell_type": "code",
   "execution_count": 138,
   "id": "ed13702a",
   "metadata": {},
   "outputs": [],
   "source": [
    "a = [1, 2, 5, 1, 5, 1]"
   ]
  },
  {
   "cell_type": "code",
   "execution_count": 128,
   "id": "f7323051",
   "metadata": {},
   "outputs": [
    {
     "data": {
      "text/plain": [
       "3"
      ]
     },
     "execution_count": 128,
     "metadata": {},
     "output_type": "execute_result"
    }
   ],
   "source": [
    "# count 메서드로 1의 개수를 확인해봅시다.\n",
    "\n",
    "a.count(1)"
   ]
  },
  {
   "cell_type": "code",
   "execution_count": 136,
   "id": "4261e536",
   "metadata": {},
   "outputs": [
    {
     "name": "stdout",
     "output_type": "stream",
     "text": [
      "[1, 2, 1, 1]\n"
     ]
    }
   ],
   "source": [
    "# 원하는 값을 모두 삭제하려면 다음과 같이 할 수 있습니다.\n",
    "\n",
    "for _ in range(a.count(5)):\n",
    "    a.remove(5)\n",
    "\n",
    "print(a)"
   ]
  },
  {
   "cell_type": "code",
   "execution_count": null,
   "id": "533bf817",
   "metadata": {},
   "outputs": [
    {
     "name": "stdout",
     "output_type": "stream",
     "text": [
      "['1', '2', '5', '1', '5', '1']\n",
      "125151\n",
      "255\n",
      "['2', '5', '5']\n",
      "[2, 5, 5]\n"
     ]
    }
   ],
   "source": [
    "# 모든 1 지우기는 이렇게도 할 수 있다..\n",
    "\n",
    "str_num = [str(i) for i in a]\n",
    "print(str_num)\n",
    "s = ''.join(str_num)\n",
    "print(s)\n",
    "new_s = s.replace('1', '')\n",
    "print(new_s)\n",
    "\n",
    "# for t in '12345':\n",
    "#   new_t = t.replace(t, '')  # 원하는 숫자를 다 바꿀 수도 있다.\n",
    "\n",
    "new_l = list(new_s)\n",
    "print(new_l)\n",
    "answer = [int(c) for c in new_l]\n",
    "print(answer)"
   ]
  },
  {
   "cell_type": "markdown",
   "id": "87ef7b6f",
   "metadata": {},
   "source": [
    "### `.sort()`\n",
    "\n",
    "리스트를 정렬합니다.\n",
    "\n",
    "내장함수 `sorted()` 와는 다르게 **원본 list를 변형**시키고, **`None`**을 리턴합니다.\n",
    "\n",
    "파라미터로는 `key`와 `reverse`가 있습니다."
   ]
  },
  {
   "cell_type": "code",
   "execution_count": 147,
   "id": "1bacfd92",
   "metadata": {},
   "outputs": [],
   "source": [
    "# lotto에 1부터 45 까지의 숫자가 들어있는 리스트를 저장합니다.\n",
    "# 6개의 숫자를 랜덤으로 저장합니다.\n",
    "\n",
    "import random\n",
    "\n",
    "lucky = random.sample(range(1, 46), 6)  # sample은 겹치지 않게 뽑는다."
   ]
  },
  {
   "cell_type": "code",
   "execution_count": null,
   "id": "fffadbf3",
   "metadata": {
    "scrolled": true
   },
   "outputs": [],
   "source": [
    "# sort 메서드로 리스트를 정렬합니다.\n",
    "# sort 메서드를 실행한 결과와 원본을 각각 출력해봅니다.\n",
    "\n",
    "lucky.sort()  # 원본을 바꾸는 것 / sorted()는 새롭게 만들어 내는 것"
   ]
  },
  {
   "cell_type": "code",
   "execution_count": 153,
   "id": "bbe4ea4b",
   "metadata": {},
   "outputs": [
    {
     "name": "stdout",
     "output_type": "stream",
     "text": [
      "[44, 42, 40, 22, 8, 5]\n"
     ]
    }
   ],
   "source": [
    "# sort 메서드의 reverse옵션을 이용하여 역순 정렬합니다.\n",
    "\n",
    "lucky.sort(reverse=True)\n",
    "print(lucky)"
   ]
  },
  {
   "cell_type": "code",
   "execution_count": null,
   "id": "769d1cc4",
   "metadata": {},
   "outputs": [],
   "source": [
    "# sorted 함수를 사용한 결과와 비교해봅시다."
   ]
  },
  {
   "cell_type": "code",
   "execution_count": 154,
   "id": "cfb71422",
   "metadata": {},
   "outputs": [
    {
     "data": {
      "text/plain": [
       "([1, 2, 3, 4, 5], [5, 3, 4, 2, 1])"
      ]
     },
     "execution_count": 154,
     "metadata": {},
     "output_type": "execute_result"
    }
   ],
   "source": [
    "nums = [5, 3, 4, 2, 1]\n",
    "sorted(nums), nums"
   ]
  },
  {
   "cell_type": "code",
   "execution_count": 156,
   "id": "c31d3600",
   "metadata": {},
   "outputs": [
    {
     "data": {
      "text/plain": [
       "[{'id': 4, 'name': 'lee', 'balance': 500},\n",
       " {'id': 2, 'name': 'ashley', 'balance': 400},\n",
       " {'id': 3, 'name': 'david', 'balance': 300},\n",
       " {'id': 1, 'name': 'john', 'balance': 200}]"
      ]
     },
     "execution_count": 156,
     "metadata": {},
     "output_type": "execute_result"
    }
   ],
   "source": [
    "students = [\n",
    "    { 'id': 1, 'name': 'john', 'balance': 200 },\n",
    "    { 'id': 2, 'name': 'ashley', 'balance': 400 },\n",
    "    { 'id': 3, 'name': 'david', 'balance': 300 },\n",
    "    { 'id': 4, 'name': 'lee', 'balance': 500 },\n",
    "]\n",
    "\n",
    "students.sort(key = lambda s: s['balance'], reverse = True)\n",
    "students\n"
   ]
  },
  {
   "cell_type": "markdown",
   "id": "937609ec",
   "metadata": {},
   "source": [
    "### `.reverse()`\n",
    "\n",
    "리스트의 element들을 제자리에서 반대로 뒤집습니다.\n",
    "정렬하는 것이 아닌 원본 순서를 뒤집고 수정합니다.\n",
    "\n",
    "내장함수 `reversed()` 와는 다르게 **원본 list를 변형**시키고, **`None`**을 리턴합니다.\n",
    "\n",
    "sort와 마찬가지로, 파라미터 `key`와 `reverse`가 있습니다."
   ]
  },
  {
   "cell_type": "code",
   "execution_count": 157,
   "id": "762ef4fb",
   "metadata": {},
   "outputs": [
    {
     "name": "stdout",
     "output_type": "stream",
     "text": [
      "['Tom', 'David', 'Justin']\n"
     ]
    }
   ],
   "source": [
    "classroom = ['Tom', 'David', 'Justin']\n",
    "print(classroom)"
   ]
  },
  {
   "cell_type": "code",
   "execution_count": null,
   "id": "93fd5c24",
   "metadata": {},
   "outputs": [],
   "source": [
    "# reverse 메서드로 리스트를 역순으로 만들어줍니다."
   ]
  },
  {
   "cell_type": "code",
   "execution_count": 158,
   "id": "6e588282",
   "metadata": {},
   "outputs": [],
   "source": [
    "classroom.reverse()"
   ]
  },
  {
   "cell_type": "code",
   "execution_count": 159,
   "id": "8418ffeb",
   "metadata": {},
   "outputs": [
    {
     "data": {
      "text/plain": [
       "['Justin', 'David', 'Tom']"
      ]
     },
     "execution_count": 159,
     "metadata": {},
     "output_type": "execute_result"
    }
   ],
   "source": [
    "classroom"
   ]
  },
  {
   "cell_type": "markdown",
   "id": "e88c6b7d",
   "metadata": {},
   "source": [
    "## 리스트 메서드 모두 확인하기\n",
    "파이썬 내장함수 dir을 통해 컨테이너가 가지고 있는 메서드를 확인할 수 있습니다."
   ]
  },
  {
   "cell_type": "code",
   "execution_count": 161,
   "id": "dafdc8d6",
   "metadata": {
    "scrolled": true
   },
   "outputs": [
    {
     "name": "stdout",
     "output_type": "stream",
     "text": [
      "Help on class list in module builtins:\n",
      "\n",
      "class list(object)\n",
      " |  list(iterable=(), /)\n",
      " |\n",
      " |  Built-in mutable sequence.\n",
      " |\n",
      " |  If no argument is given, the constructor creates a new empty list.\n",
      " |  The argument must be an iterable if specified.\n",
      " |\n",
      " |  Methods defined here:\n",
      " |\n",
      " |  __add__(self, value, /)\n",
      " |      Return self+value.\n",
      " |\n",
      " |  __contains__(self, key, /)\n",
      " |      Return bool(key in self).\n",
      " |\n",
      " |  __delitem__(self, key, /)\n",
      " |      Delete self[key].\n",
      " |\n",
      " |  __eq__(self, value, /)\n",
      " |      Return self==value.\n",
      " |\n",
      " |  __ge__(self, value, /)\n",
      " |      Return self>=value.\n",
      " |\n",
      " |  __getattribute__(self, name, /)\n",
      " |      Return getattr(self, name).\n",
      " |\n",
      " |  __getitem__(self, index, /)\n",
      " |      Return self[index].\n",
      " |\n",
      " |  __gt__(self, value, /)\n",
      " |      Return self>value.\n",
      " |\n",
      " |  __iadd__(self, value, /)\n",
      " |      Implement self+=value.\n",
      " |\n",
      " |  __imul__(self, value, /)\n",
      " |      Implement self*=value.\n",
      " |\n",
      " |  __init__(self, /, *args, **kwargs)\n",
      " |      Initialize self.  See help(type(self)) for accurate signature.\n",
      " |\n",
      " |  __iter__(self, /)\n",
      " |      Implement iter(self).\n",
      " |\n",
      " |  __le__(self, value, /)\n",
      " |      Return self<=value.\n",
      " |\n",
      " |  __len__(self, /)\n",
      " |      Return len(self).\n",
      " |\n",
      " |  __lt__(self, value, /)\n",
      " |      Return self<value.\n",
      " |\n",
      " |  __mul__(self, value, /)\n",
      " |      Return self*value.\n",
      " |\n",
      " |  __ne__(self, value, /)\n",
      " |      Return self!=value.\n",
      " |\n",
      " |  __repr__(self, /)\n",
      " |      Return repr(self).\n",
      " |\n",
      " |  __reversed__(self, /)\n",
      " |      Return a reverse iterator over the list.\n",
      " |\n",
      " |  __rmul__(self, value, /)\n",
      " |      Return value*self.\n",
      " |\n",
      " |  __setitem__(self, key, value, /)\n",
      " |      Set self[key] to value.\n",
      " |\n",
      " |  __sizeof__(self, /)\n",
      " |      Return the size of the list in memory, in bytes.\n",
      " |\n",
      " |  append(self, object, /)\n",
      " |      Append object to the end of the list.\n",
      " |\n",
      " |  clear(self, /)\n",
      " |      Remove all items from list.\n",
      " |\n",
      " |  copy(self, /)\n",
      " |      Return a shallow copy of the list.\n",
      " |\n",
      " |  count(self, value, /)\n",
      " |      Return number of occurrences of value.\n",
      " |\n",
      " |  extend(self, iterable, /)\n",
      " |      Extend list by appending elements from the iterable.\n",
      " |\n",
      " |  index(self, value, start=0, stop=9223372036854775807, /)\n",
      " |      Return first index of value.\n",
      " |\n",
      " |      Raises ValueError if the value is not present.\n",
      " |\n",
      " |  insert(self, index, object, /)\n",
      " |      Insert object before index.\n",
      " |\n",
      " |  pop(self, index=-1, /)\n",
      " |      Remove and return item at index (default last).\n",
      " |\n",
      " |      Raises IndexError if list is empty or index is out of range.\n",
      " |\n",
      " |  remove(self, value, /)\n",
      " |      Remove first occurrence of value.\n",
      " |\n",
      " |      Raises ValueError if the value is not present.\n",
      " |\n",
      " |  reverse(self, /)\n",
      " |      Reverse *IN PLACE*.\n",
      " |\n",
      " |  sort(self, /, *, key=None, reverse=False)\n",
      " |      Sort the list in ascending order and return None.\n",
      " |\n",
      " |      The sort is in-place (i.e. the list itself is modified) and stable (i.e. the\n",
      " |      order of two equal elements is maintained).\n",
      " |\n",
      " |      If a key function is given, apply it once to each list item and sort them,\n",
      " |      ascending or descending, according to their function values.\n",
      " |\n",
      " |      The reverse flag can be set to sort in descending order.\n",
      " |\n",
      " |  ----------------------------------------------------------------------\n",
      " |  Class methods defined here:\n",
      " |\n",
      " |  __class_getitem__(object, /)\n",
      " |      See PEP 585\n",
      " |\n",
      " |  ----------------------------------------------------------------------\n",
      " |  Static methods defined here:\n",
      " |\n",
      " |  __new__(*args, **kwargs)\n",
      " |      Create and return a new object.  See help(type) for accurate signature.\n",
      " |\n",
      " |  ----------------------------------------------------------------------\n",
      " |  Data and other attributes defined here:\n",
      " |\n",
      " |  __hash__ = None\n",
      "\n"
     ]
    }
   ],
   "source": [
    "# dir 함수로 리스트가 가지고 있는 메서드를 확인할 수 있습니다.\n",
    "help(list) # dir([])"
   ]
  },
  {
   "cell_type": "markdown",
   "id": "ba66ecc6",
   "metadata": {},
   "source": [
    "---"
   ]
  },
  {
   "cell_type": "markdown",
   "id": "0d76905a",
   "metadata": {},
   "source": [
    "# 튜플(tuple)\n",
    "\n",
    "> 변경할 수 없는 불변(Immutable) 자료형\n",
    "\n",
    "![image](https://user-images.githubusercontent.com/90173310/148331867-25aba08c-d76b-4bf0-a7d3-106db29d2db2.png)\n",
    "\n",
    "- 값을 변경할 수 없기 때문에 값에 영향을 미치지 않는 메서드만을 지원합니다."
   ]
  },
  {
   "cell_type": "code",
   "execution_count": 162,
   "id": "291158cd",
   "metadata": {
    "scrolled": true
   },
   "outputs": [],
   "source": [
    "# 튜플은 불변자료형이기 때문에 값을 변경하는 메서드가 없습니다.\n",
    "# append를 통해 'tuple'을 추가하여 어떤 오류가 나타나는지 확인해봅시다.\n",
    "\n",
    "t = ()\n"
   ]
  },
  {
   "cell_type": "markdown",
   "id": "2d4fe7be",
   "metadata": {},
   "source": [
    "## 탐색\n",
    "### `.index(x[, start[, end]])`\n",
    "\n",
    "튜플에 있는 항목 중 값이 x 와 같은 첫 번째 인덱스를 돌려줍니다.\n",
    "\n",
    "해당하는 값이 없으면, ValueError를 발생합니다."
   ]
  },
  {
   "cell_type": "code",
   "execution_count": 163,
   "id": "6a1041e4",
   "metadata": {},
   "outputs": [],
   "source": [
    "a = ('hello','python','python','django','web')"
   ]
  },
  {
   "cell_type": "code",
   "execution_count": 164,
   "id": "bdb0b8f2",
   "metadata": {},
   "outputs": [
    {
     "data": {
      "text/plain": [
       "1"
      ]
     },
     "execution_count": 164,
     "metadata": {},
     "output_type": "execute_result"
    }
   ],
   "source": [
    "# python이 가장 처음 나타난 위치를 확인하세요.\n",
    "\n",
    "a.index('python')"
   ]
  },
  {
   "cell_type": "code",
   "execution_count": 166,
   "id": "4d61fff6",
   "metadata": {},
   "outputs": [
    {
     "ename": "ValueError",
     "evalue": "tuple.index(x): x not in tuple",
     "output_type": "error",
     "traceback": [
      "\u001b[31m---------------------------------------------------------------------------\u001b[39m",
      "\u001b[31mValueError\u001b[39m                                Traceback (most recent call last)",
      "\u001b[36mCell\u001b[39m\u001b[36m \u001b[39m\u001b[32mIn[166]\u001b[39m\u001b[32m, line 4\u001b[39m\n\u001b[32m      1\u001b[39m \u001b[38;5;66;03m# index는 찾는 값이 없으면 오류가 발생합니다.\u001b[39;00m\n\u001b[32m      2\u001b[39m \u001b[38;5;66;03m# index 메서드로 algorithm의 위치를 확인하세요.\u001b[39;00m\n\u001b[32m----> \u001b[39m\u001b[32m4\u001b[39m \u001b[43ma\u001b[49m\u001b[43m.\u001b[49m\u001b[43mindex\u001b[49m\u001b[43m(\u001b[49m\u001b[33;43m'\u001b[39;49m\u001b[33;43malgorithm\u001b[39;49m\u001b[33;43m'\u001b[39;49m\u001b[43m)\u001b[49m\n",
      "\u001b[31mValueError\u001b[39m: tuple.index(x): x not in tuple"
     ]
    }
   ],
   "source": [
    "# index는 찾는 값이 없으면 오류가 발생합니다.\n",
    "# index 메서드로 algorithm의 위치를 확인하세요.\n",
    "\n",
    "a.index('algorithm')"
   ]
  },
  {
   "cell_type": "markdown",
   "id": "6ccc8219",
   "metadata": {},
   "source": [
    "### `.count(x)`\n",
    "튜플에서 x 가 등장하는 횟수를 돌려줍니다."
   ]
  },
  {
   "cell_type": "code",
   "execution_count": 167,
   "id": "e444cb5d",
   "metadata": {
    "scrolled": false
   },
   "outputs": [
    {
     "data": {
      "text/plain": [
       "2"
      ]
     },
     "execution_count": 167,
     "metadata": {},
     "output_type": "execute_result"
    }
   ],
   "source": [
    "# count 메서드를 통해 a의 요소들 중 python의 갯수를 확인하세요.\n",
    "\n",
    "a.count('python')"
   ]
  },
  {
   "cell_type": "code",
   "execution_count": null,
   "id": "4fb3a639",
   "metadata": {},
   "outputs": [],
   "source": [
    "# tuple은 안 바뀌니까(immutable) append, remove ...등등 없음."
   ]
  },
  {
   "cell_type": "markdown",
   "id": "7cc6a835",
   "metadata": {},
   "source": [
    "---"
   ]
  },
  {
   "cell_type": "markdown",
   "id": "8683de5c",
   "metadata": {},
   "source": [
    "<p style=\"font-size: 30px; font-weight: 700; margin-bottom: 3rem; color:#2889CC\">순서가 없는 데이터 구조</p>\n",
    "\n",
    "- 알고리즘에 빈번히 활용되는 순서가 없는(unordered) 데이터 구조\n",
    "    - 셋(Set)\n",
    "    - 딕셔너리(Dictionary)"
   ]
  },
  {
   "cell_type": "markdown",
   "id": "b4742bd5",
   "metadata": {},
   "source": [
    "# 셋(Set)\n",
    "\n",
    "> 변경 가능하고(mutable), 순서가 없고(unordered), 순회 가능한(iterable)\n",
    "\n",
    "![image](https://user-images.githubusercontent.com/90173310/148152940-d5feff4f-f950-4e58-87ab-fcdedba7e825.png)"
   ]
  },
  {
   "cell_type": "markdown",
   "id": "e01b0120",
   "metadata": {},
   "source": [
    "## 추가 및 삭제\n",
    "\n",
    "### `.add(elem)`\n",
    "elem을 셋(set)에 추가합니다."
   ]
  },
  {
   "cell_type": "code",
   "execution_count": 168,
   "id": "e89b7686",
   "metadata": {},
   "outputs": [],
   "source": [
    "a = {'사과', '바나나', '수박'}"
   ]
  },
  {
   "cell_type": "code",
   "execution_count": null,
   "id": "e6b0163e",
   "metadata": {},
   "outputs": [
    {
     "data": {
      "text/plain": [
       "{'바나나', '사과', '삼겹살', '수박'}"
      ]
     },
     "execution_count": 172,
     "metadata": {},
     "output_type": "execute_result"
    }
   ],
   "source": [
    "# add 메서드로 셋(set) a에 '포도'를 각각 2번 작성한 이후 셋(set) a를 출력해봅시다.\n",
    "\n",
    "a.add('삼겹살')\n",
    "a\n",
    "\n",
    "# 여러 번 실행해도 더 추가 안 됨. 중복이 안 되니까."
   ]
  },
  {
   "cell_type": "markdown",
   "id": "6de2a869",
   "metadata": {},
   "source": [
    "### `.update(*others)`\n",
    "\n",
    "여러 값을 추가합니다.\n",
    "\n",
    "반드시 iterable 데이터 구조를 전달해야합니다."
   ]
  },
  {
   "cell_type": "code",
   "execution_count": 173,
   "id": "c82987e8",
   "metadata": {},
   "outputs": [],
   "source": [
    "a = {'사과', '바나나', '수박'}"
   ]
  },
  {
   "cell_type": "code",
   "execution_count": null,
   "id": "7edc88ee",
   "metadata": {},
   "outputs": [
    {
     "data": {
      "text/plain": [
       "{'꽃등심', '바나나', '사과', '삼겹살', '수박'}"
      ]
     },
     "execution_count": 175,
     "metadata": {},
     "output_type": "execute_result"
    }
   ],
   "source": [
    "# update 메서드로 셋(set) a에\n",
    "# {'토마토', '토마토', '딸기'}와 {'포도', '레몬'}을 동시에 update후, a를 출력해봅시다.\n",
    "\n",
    "a.update({'꽃등심', '삼겹살', '사과'})\n",
    "a\n",
    "\n",
    "# '사과'는 추가해도 이미 존재하기 때문에 더 추가되지 않음."
   ]
  },
  {
   "cell_type": "markdown",
   "id": "02554c24",
   "metadata": {},
   "source": [
    "### `.remove(elem)`\n",
    "\n",
    "elem을 셋(set)에서 삭제하고, 셋(set) 내에 elem이 존재하지 않으면 KeyError가 발생합니다."
   ]
  },
  {
   "cell_type": "code",
   "execution_count": 179,
   "id": "7d4fb638",
   "metadata": {},
   "outputs": [],
   "source": [
    "a = {'사과', '바나나', '수박'}"
   ]
  },
  {
   "cell_type": "code",
   "execution_count": 181,
   "id": "ba980000",
   "metadata": {},
   "outputs": [
    {
     "ename": "KeyError",
     "evalue": "'사과'",
     "output_type": "error",
     "traceback": [
      "\u001b[31m---------------------------------------------------------------------------\u001b[39m",
      "\u001b[31mKeyError\u001b[39m                                  Traceback (most recent call last)",
      "\u001b[36mCell\u001b[39m\u001b[36m \u001b[39m\u001b[32mIn[181]\u001b[39m\u001b[32m, line 4\u001b[39m\n\u001b[32m      1\u001b[39m \u001b[38;5;66;03m# remove 메서드는 셋(set) 내에 elem 없는 경우, 오류를 발생시킵니다.\u001b[39;00m\n\u001b[32m      2\u001b[39m \u001b[38;5;66;03m# a에서 '애플'을 remove하여 오류를 확인해봅시다.\u001b[39;00m\n\u001b[32m----> \u001b[39m\u001b[32m4\u001b[39m \u001b[43ma\u001b[49m\u001b[43m.\u001b[49m\u001b[43mremove\u001b[49m\u001b[43m(\u001b[49m\u001b[33;43m'\u001b[39;49m\u001b[33;43m사과\u001b[39;49m\u001b[33;43m'\u001b[39;49m\u001b[43m)\u001b[49m\n\u001b[32m      5\u001b[39m a.remove(\u001b[33m'\u001b[39m\u001b[33mapple\u001b[39m\u001b[33m'\u001b[39m)\n",
      "\u001b[31mKeyError\u001b[39m: '사과'"
     ]
    }
   ],
   "source": [
    "# remove 메서드는 셋(set) 내에 elem 없는 경우, 오류를 발생시킵니다.\n",
    "# a에서 '애플'을 remove하여 오류를 확인해봅시다.\n",
    "\n",
    "a.remove('사과')\n",
    "a.remove('apple')"
   ]
  },
  {
   "cell_type": "markdown",
   "id": "c286589b",
   "metadata": {},
   "source": [
    "### `.discard(elem)`\n",
    "`elem`을 셋(set)에서 삭제합니다.\n",
    "\n",
    "remove와 다른 점은 elem이 셋(set) 내에 존재하지 않아도, 에러가 발생하지 않는다는 점입니다."
   ]
  },
  {
   "cell_type": "code",
   "execution_count": 182,
   "id": "88ed4bff",
   "metadata": {},
   "outputs": [],
   "source": [
    "a = {'사과', '바나나', '수박'}"
   ]
  },
  {
   "cell_type": "code",
   "execution_count": 184,
   "id": "8737250b",
   "metadata": {},
   "outputs": [
    {
     "data": {
      "text/plain": [
       "{'바나나', '사과'}"
      ]
     },
     "execution_count": 184,
     "metadata": {},
     "output_type": "execute_result"
    }
   ],
   "source": [
    "# a에 '포도'와 '수박'을 각각 discard한 이후 셋(set) a를 출력해봅시다.\n",
    "\n",
    "a.discard('포도')\n",
    "a.discard('수박')\n",
    "a"
   ]
  },
  {
   "cell_type": "markdown",
   "id": "e6a83e4d",
   "metadata": {},
   "source": [
    "## 셋(set) 메서드 모두 확인하기\n",
    "파이썬 내장함수 dir을 통해 컨테이너가 가지고 있는 메서드를 확인할 수 있습니다."
   ]
  },
  {
   "cell_type": "code",
   "execution_count": 185,
   "id": "c12268c8",
   "metadata": {
    "scrolled": true
   },
   "outputs": [
    {
     "data": {
      "text/plain": [
       "['__and__',\n",
       " '__class__',\n",
       " '__class_getitem__',\n",
       " '__contains__',\n",
       " '__delattr__',\n",
       " '__dir__',\n",
       " '__doc__',\n",
       " '__eq__',\n",
       " '__format__',\n",
       " '__ge__',\n",
       " '__getattribute__',\n",
       " '__getstate__',\n",
       " '__gt__',\n",
       " '__hash__',\n",
       " '__iand__',\n",
       " '__init__',\n",
       " '__init_subclass__',\n",
       " '__ior__',\n",
       " '__isub__',\n",
       " '__iter__',\n",
       " '__ixor__',\n",
       " '__le__',\n",
       " '__len__',\n",
       " '__lt__',\n",
       " '__ne__',\n",
       " '__new__',\n",
       " '__or__',\n",
       " '__rand__',\n",
       " '__reduce__',\n",
       " '__reduce_ex__',\n",
       " '__repr__',\n",
       " '__ror__',\n",
       " '__rsub__',\n",
       " '__rxor__',\n",
       " '__setattr__',\n",
       " '__sizeof__',\n",
       " '__str__',\n",
       " '__sub__',\n",
       " '__subclasshook__',\n",
       " '__xor__',\n",
       " 'add',\n",
       " 'clear',\n",
       " 'copy',\n",
       " 'difference',\n",
       " 'difference_update',\n",
       " 'discard',\n",
       " 'intersection',\n",
       " 'intersection_update',\n",
       " 'isdisjoint',\n",
       " 'issubset',\n",
       " 'issuperset',\n",
       " 'pop',\n",
       " 'remove',\n",
       " 'symmetric_difference',\n",
       " 'symmetric_difference_update',\n",
       " 'union',\n",
       " 'update']"
      ]
     },
     "execution_count": 185,
     "metadata": {},
     "output_type": "execute_result"
    }
   ],
   "source": [
    "# dir 함수로 셋(set)이 가지고 있는 메서드를 확인할 수 있습니다.\n",
    "dir(set)"
   ]
  },
  {
   "cell_type": "markdown",
   "id": "31b134b4",
   "metadata": {},
   "source": [
    "---"
   ]
  },
  {
   "cell_type": "markdown",
   "id": "8413850d",
   "metadata": {},
   "source": [
    "# 딕셔너리(Dictionary)\n",
    "\n",
    "> 변경 가능하고(mutable), 순서가 없고(unordered), 순회 가능한(iterable)\n",
    ">\n",
    "> `Key: Value` 페어(pair)의 자료구조\n",
    "\n",
    "![image](https://user-images.githubusercontent.com/90173310/148152976-8565e877-2343-4364-97b5-7ad4efd73992.png)"
   ]
  },
  {
   "cell_type": "markdown",
   "id": "e89281e7",
   "metadata": {},
   "source": [
    "## 조회"
   ]
  },
  {
   "cell_type": "markdown",
   "id": "9eaf66c9",
   "metadata": {},
   "source": [
    "### `.get(key[, default])`\n",
    "\n",
    "key를 통해 value를 가져옵니다.\n",
    "\n",
    "key가 존재하지 않을 경우 None을 반환합니다.\n",
    "<u>KeyError가 발생하지 않습니다.</u>"
   ]
  },
  {
   "cell_type": "code",
   "execution_count": 186,
   "id": "e82d6d07",
   "metadata": {},
   "outputs": [],
   "source": [
    "my_dict = {'apple': '사과', 'banana': '바나나', 'melon': '멜론'}"
   ]
  },
  {
   "cell_type": "code",
   "execution_count": 187,
   "id": "886d6ef8",
   "metadata": {},
   "outputs": [
    {
     "ename": "KeyError",
     "evalue": "'pineapple'",
     "output_type": "error",
     "traceback": [
      "\u001b[31m---------------------------------------------------------------------------\u001b[39m",
      "\u001b[31mKeyError\u001b[39m                                  Traceback (most recent call last)",
      "\u001b[36mCell\u001b[39m\u001b[36m \u001b[39m\u001b[32mIn[187]\u001b[39m\u001b[32m, line 2\u001b[39m\n\u001b[32m      1\u001b[39m \u001b[38;5;66;03m# get 메서드 없이 딕셔너리 my_dict의 key 'pineapple'의 value를 출력하는 코드를 실행시켜 오류를 확인해봅시다.\u001b[39;00m\n\u001b[32m----> \u001b[39m\u001b[32m2\u001b[39m \u001b[43mmy_dict\u001b[49m\u001b[43m[\u001b[49m\u001b[33;43m'\u001b[39;49m\u001b[33;43mpineapple\u001b[39;49m\u001b[33;43m'\u001b[39;49m\u001b[43m]\u001b[49m\n",
      "\u001b[31mKeyError\u001b[39m: 'pineapple'"
     ]
    }
   ],
   "source": [
    "# get 메서드 없이 딕셔너리 my_dict의 key 'pineapple'의 value를 출력하는 코드를 실행시켜 오류를 확인해봅시다.\n",
    "my_dict['pineapple']"
   ]
  },
  {
   "cell_type": "code",
   "execution_count": 189,
   "id": "b4b7c60e",
   "metadata": {},
   "outputs": [
    {
     "name": "stdout",
     "output_type": "stream",
     "text": [
      "None\n"
     ]
    }
   ],
   "source": [
    "# get 메서드로 딕셔너리 my_dict의 key 'pineapple'의 value를 출력해봅시다.\n",
    "\n",
    "my_dict.get('pineapple')\n",
    "print(my_dict.get('pineapple'))"
   ]
  },
  {
   "cell_type": "code",
   "execution_count": 190,
   "id": "1c934e76",
   "metadata": {},
   "outputs": [
    {
     "data": {
      "text/plain": [
       "'사과'"
      ]
     },
     "execution_count": 190,
     "metadata": {},
     "output_type": "execute_result"
    }
   ],
   "source": [
    "# get 메서드로 딕셔너리 my_dict의 key 'apple'의 value를 출력해봅시다.\n",
    "\n",
    "my_dict.get('apple')"
   ]
  },
  {
   "cell_type": "code",
   "execution_count": 198,
   "id": "95ee7580",
   "metadata": {},
   "outputs": [
    {
     "data": {
      "text/plain": [
       "(0, '사과')"
      ]
     },
     "execution_count": 198,
     "metadata": {},
     "output_type": "execute_result"
    }
   ],
   "source": [
    "# get 메서드로 딕셔너리 my_dict의 key 'pineapple'의 value를 출력해봅시다.\n",
    "# 단, key가 없다면 0을 반환하도록 해봅시다.\n",
    "\n",
    "my_dict.get('pineapple', 0), my_dict.get('apple', 0)"
   ]
  },
  {
   "cell_type": "markdown",
   "id": "5861ceaa",
   "metadata": {},
   "source": [
    "### `.setdefault(key[, default])`\n",
    "`dict.get()` 메서드와 비슷한 동작을 하는 메서드로, key가 딕셔너리에 있으면 value를 돌려줍니다.\n",
    "\n",
    "get과 다른 점은 key가 딕셔너리에 없을 경우, default 값을 갖는 key 를 삽입한 후 default 를 반환한다는 점입니다. 만일 default가 주어지지 않을 경우, None 을 돌려줍니다."
   ]
  },
  {
   "cell_type": "code",
   "execution_count": null,
   "id": "c04bf309",
   "metadata": {},
   "outputs": [
    {
     "name": "stdout",
     "output_type": "stream",
     "text": [
      "None\n",
      "사과 포도\n"
     ]
    }
   ],
   "source": [
    "# setdefault 메서드로 딕셔너리 my_dict의 key 'apple'의 value를 가져와서 출력해봅시다.\n",
    "\n",
    "# 키접근은 없으면 에러\n",
    "# my_dict['podo']\n",
    "# get은 없으면 None -- (에러는 안 남)\n",
    "print(my_dict.get('podo'))\n",
    "\n",
    "# setdefault(k, v)일 때, k가 있으면 해당 v를 줌 | k가 없으면 k: v를 등록\n",
    "print(my_dict.setdefault('apple', '포도'), my_dict.setdefault('podo', '포도'))"
   ]
  },
  {
   "cell_type": "code",
   "execution_count": null,
   "id": "b8b3e721",
   "metadata": {
    "scrolled": true
   },
   "outputs": [
    {
     "name": "stdout",
     "output_type": "stream",
     "text": [
      "{'apple': '사과', 'banana': '바나나', 'melon': '멜론', 'podo': '포도', 'pineapple': '파인애플'}\n"
     ]
    }
   ],
   "source": [
    "# setdefault 메서드를 통해 딕셔너리 my_dict의 key 'pineapple'의 value를 가져와서 출력해봅시다.\n",
    "# 만일 pineapple이 없을 경우, '파인애플'을 출력하도록 합니다.\n",
    "\n",
    "my_dict.setdefault('pineapple', '파인애플')  # 최초 한 번만 등록함. \n",
    "print(my_dict)"
   ]
  },
  {
   "cell_type": "code",
   "execution_count": 266,
   "id": "5a67554f",
   "metadata": {},
   "outputs": [
    {
     "name": "stdout",
     "output_type": "stream",
     "text": [
      "{'apple': '사과', 'banana': '바나나', 'melon': '멜론', 'podo': '포도', 'pineapple': '파인애플'}\n"
     ]
    }
   ],
   "source": [
    "# my_dict를 출력해봅시다.\n",
    "print(my_dict)"
   ]
  },
  {
   "cell_type": "code",
   "execution_count": null,
   "id": "31dd1653",
   "metadata": {},
   "outputs": [
    {
     "name": "stdout",
     "output_type": "stream",
     "text": [
      "0\n",
      "0\n",
      "0\n",
      "300\n",
      "200\n",
      "400\n"
     ]
    },
    {
     "data": {
      "text/plain": [
       "{'yu': 300, 'jack': 200, 'justin': 400, 'john': 0, 'lee': 0, 'jun': 0}"
      ]
     },
     "execution_count": 271,
     "metadata": {},
     "output_type": "execute_result"
    }
   ],
   "source": [
    "bank_db = {\n",
    "    'yu': 300,\n",
    "    'jack': 200,\n",
    "    'justin': 400,\n",
    "}\n",
    "\n",
    "newbies = ['john', 'lee', 'jun', 'yu', 'jack', 'justin']\n",
    "\n",
    "for newbie in newbies:\n",
    "    print(bank_db[newbie])  # 키 에러\n",
    "    print(bank_db.get(newbie))\n",
    "    print(bank_db.setdefault(newbie, 0))\n",
    "\n",
    "bank_db"
   ]
  },
  {
   "cell_type": "markdown",
   "id": "d5876a00",
   "metadata": {},
   "source": [
    "## 추가 및 삭제\n",
    "\n",
    "### `.pop(key[, default])`\n",
    "\n",
    "key가 딕셔너리에 있으면 제거하고 그 값을 돌려줍니다. 그렇지 않으면 default를 반환합니다.\n",
    "\n",
    "default가 없는 상태에서 해당 key가 딕셔너리에 경우, KeyError가 발생합니다."
   ]
  },
  {
   "cell_type": "code",
   "execution_count": 272,
   "id": "4aa8eb21",
   "metadata": {},
   "outputs": [],
   "source": [
    "my_dict = {'apple': '사과', 'banana': '바나나'}"
   ]
  },
  {
   "cell_type": "code",
   "execution_count": 273,
   "id": "5115f511",
   "metadata": {},
   "outputs": [
    {
     "data": {
      "text/plain": [
       "'사과'"
      ]
     },
     "execution_count": 273,
     "metadata": {},
     "output_type": "execute_result"
    }
   ],
   "source": [
    "# pop 메서드로 딕셔너리 my_dict의 key 'apple'을 제거해봅시다.\n",
    "# 제거 후, 딕셔너리 my_dict를 출력해봅시다.\n",
    "\n",
    "my_dict.pop('apple')"
   ]
  },
  {
   "cell_type": "code",
   "execution_count": 274,
   "id": "a4b1a724",
   "metadata": {},
   "outputs": [
    {
     "data": {
      "text/plain": [
       "{'banana': '바나나'}"
      ]
     },
     "execution_count": 274,
     "metadata": {},
     "output_type": "execute_result"
    }
   ],
   "source": [
    "my_dict"
   ]
  },
  {
   "cell_type": "code",
   "execution_count": 275,
   "id": "13b84231",
   "metadata": {},
   "outputs": [
    {
     "ename": "TypeError",
     "evalue": "'dict' object is not callable",
     "output_type": "error",
     "traceback": [
      "\u001b[31m---------------------------------------------------------------------------\u001b[39m",
      "\u001b[31mTypeError\u001b[39m                                 Traceback (most recent call last)",
      "\u001b[36mCell\u001b[39m\u001b[36m \u001b[39m\u001b[32mIn[275]\u001b[39m\u001b[32m, line 4\u001b[39m\n\u001b[32m      1\u001b[39m \u001b[38;5;66;03m# 제거하고자 하는 key가 딕셔너리에 없으면 KeyError가 발생합니다.\u001b[39;00m\n\u001b[32m      2\u001b[39m \u001b[38;5;66;03m# 실행시켜 오류를 확인해봅시다.\u001b[39;00m\n\u001b[32m----> \u001b[39m\u001b[32m4\u001b[39m \u001b[43mmy_dict\u001b[49m\u001b[43m(\u001b[49m\u001b[33;43m'\u001b[39;49m\u001b[33;43mpineapple\u001b[39;49m\u001b[33;43m'\u001b[39;49m\u001b[43m)\u001b[49m\n",
      "\u001b[31mTypeError\u001b[39m: 'dict' object is not callable"
     ]
    }
   ],
   "source": [
    "# 제거하고자 하는 key가 딕셔너리에 없으면 KeyError가 발생합니다.\n",
    "# 실행시켜 오류를 확인해봅시다.\n",
    "\n",
    "my_dict('pineapple')"
   ]
  },
  {
   "cell_type": "code",
   "execution_count": 276,
   "id": "08c9151e",
   "metadata": {},
   "outputs": [
    {
     "data": {
      "text/plain": [
       "'없음'"
      ]
     },
     "execution_count": 276,
     "metadata": {},
     "output_type": "execute_result"
    }
   ],
   "source": [
    "# pop 메서드의 두번째 인자로 default 값을 설정 해 KeyError가 발생하지 않도록 할 수 있습니다.\n",
    "# pop 메서드로 딕셔너리 my_dict의 key 'melon'을 제거하고 해당 key가 없다면 0을 반환하도록 해봅시다.\n",
    "\n",
    "my_dict.pop('pineapple', '없음')"
   ]
  },
  {
   "cell_type": "markdown",
   "id": "d25704ef",
   "metadata": {},
   "source": [
    "### `.update([other])`\n",
    "other 가 제공하는 key,value 쌍으로 딕셔너리를 덮어씁니다.\n",
    "`other` 는 다른 딕셔너리나 key/value 쌍으로 되어있는 모든 iterable을 사용 가능합니다.\n",
    "\n",
    "- `keyword argument`로 업데이트 하는 방법\n",
    "    - 키워드 인자가 지정되면, 딕셔너리는 그 key/value 쌍으로 갱신됩니다."
   ]
  },
  {
   "cell_type": "code",
   "execution_count": 280,
   "id": "acb6cf47",
   "metadata": {},
   "outputs": [],
   "source": [
    "my_dict = {'apple': '사과', 'banana': '바나나', 'melon': '멜론'}"
   ]
  },
  {
   "cell_type": "code",
   "execution_count": 281,
   "id": "24862ab6",
   "metadata": {},
   "outputs": [],
   "source": [
    "# 딕셔너리 my_dict의 key가 'apple'일 때, value를 '사과아'로 업데이트해봅시다.\n",
    "# update 메서드와 keyword argument를 이용하여 작성하세요.\n",
    "\n",
    "my_dict.update({'apple': '사과아아아'})"
   ]
  },
  {
   "cell_type": "code",
   "execution_count": 282,
   "id": "e0cdc90d",
   "metadata": {
    "scrolled": true
   },
   "outputs": [
    {
     "data": {
      "text/plain": [
       "{'apple': '사과아아아', 'banana': '바나나', 'melon': '멜론'}"
      ]
     },
     "execution_count": 282,
     "metadata": {},
     "output_type": "execute_result"
    }
   ],
   "source": [
    "# my_dict를 출력해봅시다.\n",
    "my_dict"
   ]
  },
  {
   "cell_type": "code",
   "execution_count": 283,
   "id": "b0d54099",
   "metadata": {},
   "outputs": [],
   "source": [
    "# 딕셔너리를 사용하여 여러 key/value를 my_dict를 업데이트할 수 있습니다.\n",
    "# key 'mango'와 value '망고'의 쌍과 key 'watermelon'과 '수박'의 쌍을 가지는 딕셔너리 d를 만들고,\n",
    "# update 메서드를 사용하여 my_dict에 d 값을 업데이트해봅시다.\n",
    "\n",
    "my_dict.update({'apple': '사과', 'mango': '망고', 'watermelon': '수박'})"
   ]
  },
  {
   "cell_type": "code",
   "execution_count": 284,
   "id": "5332528d",
   "metadata": {},
   "outputs": [
    {
     "data": {
      "text/plain": [
       "{'apple': '사과',\n",
       " 'banana': '바나나',\n",
       " 'melon': '멜론',\n",
       " 'mango': '망고',\n",
       " 'watermelon': '수박'}"
      ]
     },
     "execution_count": 284,
     "metadata": {},
     "output_type": "execute_result"
    }
   ],
   "source": [
    "# 딕셔너리 my_dict를 출력해봅시다.\n",
    "my_dict"
   ]
  },
  {
   "cell_type": "code",
   "execution_count": 286,
   "id": "1c4c055d",
   "metadata": {},
   "outputs": [
    {
     "name": "stdout",
     "output_type": "stream",
     "text": [
      "apple 사과\n",
      "banana 바나나\n",
      "melon 멜론\n",
      "mango 망고\n",
      "watermelon 수박\n"
     ]
    }
   ],
   "source": [
    "for k, v in my_dict.items():\n",
    "    print(k, v)"
   ]
  },
  {
   "cell_type": "markdown",
   "id": "0338ce03",
   "metadata": {},
   "source": [
    "## 딕셔너리 메서드 모두 확인하기\n",
    "파이썬 내장함수 dir을 통해 컨테이너가 가지고 있는 메서드를 확인할 수 있습니다."
   ]
  },
  {
   "cell_type": "code",
   "execution_count": 285,
   "id": "a757deb8",
   "metadata": {
    "scrolled": true
   },
   "outputs": [
    {
     "data": {
      "text/plain": [
       "['__class__',\n",
       " '__class_getitem__',\n",
       " '__contains__',\n",
       " '__delattr__',\n",
       " '__delitem__',\n",
       " '__dir__',\n",
       " '__doc__',\n",
       " '__eq__',\n",
       " '__format__',\n",
       " '__ge__',\n",
       " '__getattribute__',\n",
       " '__getitem__',\n",
       " '__getstate__',\n",
       " '__gt__',\n",
       " '__hash__',\n",
       " '__init__',\n",
       " '__init_subclass__',\n",
       " '__ior__',\n",
       " '__iter__',\n",
       " '__le__',\n",
       " '__len__',\n",
       " '__lt__',\n",
       " '__ne__',\n",
       " '__new__',\n",
       " '__or__',\n",
       " '__reduce__',\n",
       " '__reduce_ex__',\n",
       " '__repr__',\n",
       " '__reversed__',\n",
       " '__ror__',\n",
       " '__setattr__',\n",
       " '__setitem__',\n",
       " '__sizeof__',\n",
       " '__str__',\n",
       " '__subclasshook__',\n",
       " 'clear',\n",
       " 'copy',\n",
       " 'fromkeys',\n",
       " 'get',\n",
       " 'items',\n",
       " 'keys',\n",
       " 'pop',\n",
       " 'popitem',\n",
       " 'setdefault',\n",
       " 'update',\n",
       " 'values']"
      ]
     },
     "execution_count": 285,
     "metadata": {},
     "output_type": "execute_result"
    }
   ],
   "source": [
    "# dir 함수로 딕셔너리가 가지고 있는 메서드를 확인할 수 있습니다.\n",
    "dir(dict)"
   ]
  },
  {
   "cell_type": "markdown",
   "id": "639ac315",
   "metadata": {},
   "source": [
    "---"
   ]
  },
  {
   "cell_type": "markdown",
   "id": "c146c1f8",
   "metadata": {},
   "source": [
    "# 얕은 복사와 깊은 복사\n"
   ]
  },
  {
   "cell_type": "markdown",
   "id": "c1db0b20",
   "metadata": {},
   "source": [
    "## 데이터 분류\n",
    "**데이터의 분류**에 따라 복사가 달라집니다.\n",
    "데이터는 크게 변경 가능한 것(`mutable`)들과 변경 불가능한 것(`immutable`)으로 나뉘며, python은 각각을 다르게 다룹니다. 먼저 변경 불가능한 데이터를 살펴보겠습니다."
   ]
  },
  {
   "cell_type": "markdown",
   "id": "1d8ce575",
   "metadata": {},
   "source": [
    "### 변경 불가능한(`immutable`) 데이터\n",
    "* 리터럴(literal)\n",
    "\n",
    "    - 숫자(Number)\n",
    "    - 글자(String)\n",
    "    - 참/거짓(Bool)\n",
    "\n",
    "* `range()`\n",
    "\n",
    "* `tuple()`\n",
    "\n",
    "* ~~`frozenset()`~~"
   ]
  },
  {
   "cell_type": "code",
   "execution_count": 287,
   "id": "f292539d",
   "metadata": {},
   "outputs": [
    {
     "name": "stdout",
     "output_type": "stream",
     "text": [
      "20\n",
      "10\n"
     ]
    }
   ],
   "source": [
    "# value type 데이터의 복사는 어떻게 이루어지는지 확인해봅시다.\n",
    "a = 20\n",
    "b = a\n",
    "b = 10\n",
    "\n",
    "print(a)\n",
    "print(b)"
   ]
  },
  {
   "cell_type": "markdown",
   "id": "b10ac5a2",
   "metadata": {
    "scrolled": true
   },
   "source": [
    "<iframe width=\"800\" height=\"500\" frameborder=\"0\" src=\"http://pythontutor.com/iframe-embed.html#code=a%20%3D%2020%0Ab%20%3D%20a%0Ab%20%3D%2010%0A%0Aprint%28a%29%0Aprint%28b%29&codeDivHeight=400&codeDivWidth=350&cumulative=false&curInstr=0&heapPrimitives=nevernest&origin=opt-frontend.js&py=3&rawInputLstJSON=%5B%5D&textReferences=false\"> </iframe>"
   ]
  },
  {
   "cell_type": "markdown",
   "id": "f7a28b7b",
   "metadata": {},
   "source": [
    "### 변경 가능한(`mutable`) 데이터\n",
    "\n",
    "- `list`\n",
    "- `dict`\n",
    "- `set`"
   ]
  },
  {
   "cell_type": "code",
   "execution_count": 289,
   "id": "26992f40",
   "metadata": {
    "scrolled": true
   },
   "outputs": [
    {
     "name": "stdout",
     "output_type": "stream",
     "text": [
      "[100, 2, 3, 4] [100, 2, 3, 4]\n"
     ]
    }
   ],
   "source": [
    "# mutable 데이터의 복사는 어떻게 이루어지는지 확인해봅시다.\n",
    "\n",
    "a = [1, 2, 3, 4]\n",
    "b = a\n",
    "b[0] = 100\n",
    "\n",
    "print(a, b)"
   ]
  },
  {
   "cell_type": "markdown",
   "id": "f5d0b12e",
   "metadata": {
    "scrolled": true
   },
   "source": [
    "<iframe width=\"800\" height=\"500\" frameborder=\"0\" src=\"http://pythontutor.com/iframe-embed.html#code=a%20%3D%20%5B1,%202,%203,%204%5D%0Ab%20%3D%20a%0Ab%5B0%5D%20%3D%20100%0A%0Aprint%28a%29%0Aprint%28b%29&codeDivHeight=400&codeDivWidth=350&cumulative=false&curInstr=0&heapPrimitives=nevernest&origin=opt-frontend.js&py=3&rawInputLstJSON=%5B%5D&textReferences=false\"> </iframe>"
   ]
  },
  {
   "cell_type": "markdown",
   "id": "7258514a",
   "metadata": {},
   "source": [
    "**복사 방법**\n",
    "\n",
    "파이썬에서 데이터를 복사하는 방법은 크게, 세 가지로 나뉩니다.\n",
    "> - 할당 (Assignment)\n",
    "> - 얕은 복사 (Shallow copy)\n",
    "> - 깊은 복사 (Deep copy)\n",
    "\n",
    "## 할당\n",
    "먼저 할당을 확인해 보겠습니다."
   ]
  },
  {
   "cell_type": "code",
   "execution_count": null,
   "id": "72fe8cb7",
   "metadata": {},
   "outputs": [],
   "source": [
    "# original_list에 [1, 2, 3]을 저장합니다.\n",
    "\n",
    "ol = [1, 2, 3]"
   ]
  },
  {
   "cell_type": "code",
   "execution_count": 291,
   "id": "070618e9",
   "metadata": {},
   "outputs": [],
   "source": [
    "# 할당연산자(=)를 사용하여,\n",
    "# copy_list에 original_list를 저장하고 출력합니다.\n",
    "\n",
    "cl = ol "
   ]
  },
  {
   "cell_type": "code",
   "execution_count": 292,
   "id": "22d831e1",
   "metadata": {},
   "outputs": [
    {
     "name": "stdout",
     "output_type": "stream",
     "text": [
      "[5, 2, 3] [5, 2, 3]\n"
     ]
    }
   ],
   "source": [
    "# copy_list의 첫 번째 값을 5로 바꾸고 original_list를 출력해봅시다.\n",
    "\n",
    "ol[0] = 5\n",
    "print(ol, cl)"
   ]
  },
  {
   "cell_type": "code",
   "execution_count": null,
   "id": "7f33e600",
   "metadata": {},
   "outputs": [
    {
     "data": {
      "text/plain": [
       "True"
      ]
     },
     "execution_count": 295,
     "metadata": {},
     "output_type": "execute_result"
    }
   ],
   "source": [
    "# copy_list, original_list 각각의 id 값을\n",
    "# == 연산자로 비교해봅시다.\n",
    "\n",
    "ol == cl, ol is cl"
   ]
  },
  {
   "cell_type": "markdown",
   "id": "3c72a1c4",
   "metadata": {},
   "source": [
    "변수만 복사하다 보니 바라보는 객체(=값)는 당연히 동일합니다.\n",
    "<img src=\"https://user-images.githubusercontent.com/90173310/148327067-47a35f83-51a4-4c49-be1d-d5b40ece54df.png\n",
    "\" alt=\"drawing\" width=\"400\"/>\n",
    "\n",
    "즉, 두개의 중 하나만 변경되어도 나머지 하나도 동일하게 수정되는 현상이 발생하게 됩니다."
   ]
  },
  {
   "cell_type": "markdown",
   "id": "7df67993",
   "metadata": {},
   "source": [
    "## 얕은 복사(Shallow copy)"
   ]
  },
  {
   "cell_type": "markdown",
   "id": "75da9fbe",
   "metadata": {},
   "source": [
    "### slice 연산자 사용 `[:]`\n",
    "\n",
    "mutable 데이터 중 하나인 리스트를 예로 들어봅시다.\n",
    "리스트를 슬라이싱하여 할당 시, 새로운 id가 부여되며, 서로 영향을 받지 않습니다."
   ]
  },
  {
   "cell_type": "code",
   "execution_count": 296,
   "id": "5fe09622",
   "metadata": {},
   "outputs": [],
   "source": [
    "a = [1, 2, 3]"
   ]
  },
  {
   "cell_type": "code",
   "execution_count": 297,
   "id": "9962a003",
   "metadata": {},
   "outputs": [
    {
     "name": "stdout",
     "output_type": "stream",
     "text": [
      "[1, 2, 3] [5, 2, 3] False\n"
     ]
    }
   ],
   "source": [
    "# slice 연산자로 리스트 a의 모든 요소를 b에 저장합니다.\n",
    "# 리스트 b의 첫 번째 값을 5로 바꾸고 리스트 a를 출력합니다.\n",
    "# slice 연산자를 활용하면 새로운 리스트를 저장할 수 있습니다.\n",
    "\n",
    "# b = a  # 얘는 사실상 이름을 하나 더 지어주는 거나 마찬가지\n",
    "b = a[:]\n",
    "b[0] = 5\n",
    "print(a, b, a is b)"
   ]
  },
  {
   "cell_type": "markdown",
   "id": "dcdc168e",
   "metadata": {},
   "source": [
    "### `list()` 활용"
   ]
  },
  {
   "cell_type": "code",
   "execution_count": 298,
   "id": "47197247",
   "metadata": {},
   "outputs": [],
   "source": [
    "a = [1, 2, 3]"
   ]
  },
  {
   "cell_type": "code",
   "execution_count": 299,
   "id": "aec19a94",
   "metadata": {},
   "outputs": [
    {
     "data": {
      "text/plain": [
       "False"
      ]
     },
     "execution_count": 299,
     "metadata": {},
     "output_type": "execute_result"
    }
   ],
   "source": [
    "# list 함수로 리스트 a를 복사하여 b에 저장합니다.\n",
    "# 리스트 b의 첫 번째 값을 5로 바꾸고 리스트 a를 출력합니다.\n",
    "\n",
    "b = list(a)\n",
    "a is b"
   ]
  },
  {
   "cell_type": "markdown",
   "id": "d2938e56",
   "metadata": {},
   "source": [
    "* 하지만, 이렇게 하는 것도 일부 상황에만 서로 다른 `얕은 복사(shallow copy)`입니다.\n",
    "\n",
    "2차원 리스트와 같이 mutable 객체 안에 mutable 객체가 있는 경우 문제가 됩니다. 아래 예시를 통해 확인해봅시다."
   ]
  },
  {
   "cell_type": "code",
   "execution_count": 300,
   "id": "1e93ae7f",
   "metadata": {},
   "outputs": [],
   "source": [
    "a = [1, 2, [1, 2]]"
   ]
  },
  {
   "cell_type": "code",
   "execution_count": null,
   "id": "0bc10a7b",
   "metadata": {
    "scrolled": true
   },
   "outputs": [],
   "source": [
    "# slice 연산자로 리스트 a의 모든 요소를 b에 저장합니다.\n",
    "# 리스트 b의 index 2의 첫 번째 값을 5로 바꾸고 리스트 a와 b의 id와 그 값을 출력해봅시다.\n",
    "\n",
    "b = a[:]"
   ]
  },
  {
   "cell_type": "markdown",
   "id": "5f7e97da",
   "metadata": {},
   "source": [
    "a와 b의 id는 다르다는 것을 확인하였지만, 내부 값은 영향을 받게 되었습니다.\n",
    "<img src=\"https://user-images.githubusercontent.com/90173310/148327165-e695ed56-d0c0-4916-94e5-a0564aebf0a6.png\" alt=\"drawing\" width=\"400\"/>\n",
    "\n",
    "내부의 객체 `id(a[2])`과 `id(b[2])`은 같은 주소를 바라보고 있기 때문입니다."
   ]
  },
  {
   "cell_type": "code",
   "execution_count": 304,
   "id": "97288d24",
   "metadata": {},
   "outputs": [
    {
     "data": {
      "text/plain": [
       "(False, True)"
      ]
     },
     "execution_count": 304,
     "metadata": {},
     "output_type": "execute_result"
    }
   ],
   "source": [
    "# id 함수를 통해 a[2]와 b[2]가 서로 같은 주소를 바라보고 있는지 확인하고 이를 출력해봅시다.\n",
    "\n",
    "id(a) is id(b), a[2] is b[2]"
   ]
  },
  {
   "cell_type": "markdown",
   "id": "d3afafed",
   "metadata": {},
   "source": [
    "## 깊은 복사(Deep copy)\n",
    "\n",
    "* 만일 중첩된 상황에서 복사를 하고 싶다면, `깊은 복사(deep copy)`를 해야 합니다. \n",
    "* 깊은 복사는 새로운 객체를 만들고 원본 객체 내에 있는 객체에 대한 복사를 재귀적으로 삽입합니다.\n",
    "* 즉, 내부에 있는 모든 객체까지 새롭게 값이 변경되게 됩니다."
   ]
  },
  {
   "cell_type": "code",
   "execution_count": null,
   "id": "4e7a2d4d",
   "metadata": {},
   "outputs": [],
   "source": [
    "# 내부에 있는 리스트까지 복사를 하기 위해서 copy 모듈을 활용합니다.\n",
    "\n",
    "import copy  # 얘는 내장함수 꾸러미 안에 있는 것을 꺼내기\n",
    "\n",
    "c = copy.deepcopy(a)"
   ]
  },
  {
   "cell_type": "code",
   "execution_count": null,
   "id": "48a04553",
   "metadata": {},
   "outputs": [],
   "source": [
    "from copy import deepcopy  # 얘는 내장함수 꾸러미 자체를 꺼내기\n",
    "d= deepcopy(a)"
   ]
  },
  {
   "cell_type": "code",
   "execution_count": 310,
   "id": "96cfa419",
   "metadata": {},
   "outputs": [
    {
     "data": {
      "text/plain": [
       "4"
      ]
     },
     "execution_count": 310,
     "metadata": {},
     "output_type": "execute_result"
    }
   ],
   "source": [
    "import random\n",
    "random.sample(range(1, 46), 6)\n",
    "random.choice([1, 2, 3, 4])"
   ]
  },
  {
   "cell_type": "code",
   "execution_count": 309,
   "id": "84e472f2",
   "metadata": {},
   "outputs": [
    {
     "data": {
      "text/plain": [
       "[31, 45, 18, 11, 10, 24]"
      ]
     },
     "execution_count": 309,
     "metadata": {},
     "output_type": "execute_result"
    }
   ],
   "source": [
    "from random import sample\n",
    "sample(range(1, 46), 6)"
   ]
  }
 ],
 "metadata": {
  "kernelspec": {
   "display_name": "Python 3",
   "language": "python",
   "name": "python3"
  },
  "language_info": {
   "codemirror_mode": {
    "name": "ipython",
    "version": 3
   },
   "file_extension": ".py",
   "mimetype": "text/x-python",
   "name": "python",
   "nbconvert_exporter": "python",
   "pygments_lexer": "ipython3",
   "version": "3.13.2"
  },
  "toc": {
   "base_numbering": 1,
   "nav_menu": {},
   "number_sections": true,
   "sideBar": true,
   "skip_h1_title": false,
   "title_cell": "Table of Contents",
   "title_sidebar": "데이터 구조(Data Structure",
   "toc_cell": false,
   "toc_position": {
    "height": "calc(100% - 180px)",
    "left": "10px",
    "top": "150px",
    "width": "306.554px"
   },
   "toc_section_display": true,
   "toc_window_display": false
  }
 },
 "nbformat": 4,
 "nbformat_minor": 5
}
