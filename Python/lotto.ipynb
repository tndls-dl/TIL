{
 "cells": [
  {
   "cell_type": "markdown",
   "id": "5cd75db8",
   "metadata": {},
   "source": [
    "# `lotto 🎰💰🍀`"
   ]
  },
  {
   "cell_type": "code",
   "execution_count": 161,
   "id": "5e5681e0",
   "metadata": {},
   "outputs": [],
   "source": [
    "# URL URI -> 요청을 보낸다. -> 응답\n",
    "\n",
    "import random\n",
    "my_numbers = random.sample(range(1, 46), 6)"
   ]
  },
  {
   "cell_type": "code",
   "execution_count": 8,
   "id": "a3437a99",
   "metadata": {},
   "outputs": [
    {
     "data": {
      "text/plain": [
       "<Response [200]>"
      ]
     },
     "execution_count": 8,
     "metadata": {},
     "output_type": "execute_result"
    }
   ],
   "source": [
    "import requests\n",
    "URL = 'https://www.dhlottery.co.kr/common.do?method=getLottoNumber&drwNo=1181'\n",
    "\n",
    "res = requests.get(URL)\n",
    "res\n",
    "\n",
    "# {\n",
    "#     \"totSellamnt\":3681782000,  # total sell amount -> 총판매액\n",
    "#     \"returnValue\":\"success\",\n",
    "#     \"drwNoDate\":\"2002-12-07\",  # 추첨한 날\n",
    "#     \"firstWinamnt\":0,  # 당첨자 수\n",
    "#     \"firstPrzwnerCo\":0,\n",
    "#     \"firstAccumamnt\":863604600,\n",
    "#     \"drwNo\":1,  # 회차\n",
    "\n",
    "#     # 번호 6개\n",
    "#     \"bnusNo\":16,\n",
    "#     \"drwtNo6\":40,\n",
    "#     \"drwtNo5\":37,\n",
    "#     \"drwtNo4\":33,\n",
    "#     \"drwtNo2\":23,\n",
    "#     \"drwtNo3\":29,\n",
    "#     \"drwtNo1\":10}"
   ]
  },
  {
   "cell_type": "code",
   "execution_count": 45,
   "id": "65df2197",
   "metadata": {},
   "outputs": [],
   "source": [
    "data = res.json()"
   ]
  },
  {
   "cell_type": "code",
   "execution_count": 868,
   "id": "51844826",
   "metadata": {},
   "outputs": [
    {
     "name": "stdout",
     "output_type": "stream",
     "text": [
      "나만의 행운의 번호: [34, 10, 14, 35, 18, 20]\n",
      "당첨 번호: [41, 20, 33, 10, 14, 8]\n",
      "보너스 번호: 28\n",
      "[10, 14, 20]\n",
      "[34, 35, 18]\n",
      "5등 !!\n"
     ]
    }
   ],
   "source": [
    "import random\n",
    "my_numbers = random.sample(range(1, 46), 6)\n",
    "print(f'나만의 행운의 번호: {my_numbers}')\n",
    "\n",
    "# 1. data 에서 real_numbers 를 뽑는다.\n",
    "real_numbers = []\n",
    "bonus = data['bnusNo']\n",
    "\n",
    "for key in data:\n",
    "    if key.startswith('drwtNo'):\n",
    "        real_numbers.append(data[key])\n",
    "print(f'당첨 번호: {real_numbers}') \n",
    "print(f'보너스 번호: {bonus}')\n",
    "# 2. real_numbers + 보너스와  my_numbers를 비교해서 등수 확인\n",
    "# 1등 6개 같음\n",
    "# 2등 5개 같고, 나머지 한개가 보너스번호\n",
    "# 3등 5개 같음\n",
    "# 4등 4개 같음\n",
    "# 5등 3개 같음\n",
    "# 꽝\n",
    "same_numbers = []\n",
    "for num in my_numbers:\n",
    "    if num in real_numbers:\n",
    "        same_numbers.append(num)\n",
    "print(same_numbers)\n",
    "\n",
    "not_same_numbers = []\n",
    "for num in my_numbers:\n",
    "    if num not in real_numbers:\n",
    "        not_same_numbers.append(num)\n",
    "print(not_same_numbers)\n",
    "\n",
    "if len(same_numbers) == 6:\n",
    "    print('1등 !!!!!!!!!')\n",
    "elif len(same_numbers) == 5 and len(not_same_numbers) == 1 and not_same_numbers == bonus:\n",
    "    print('2등 !!!!!!')\n",
    "elif len(same_numbers) == 5:\n",
    "    print('3등 !!!!')\n",
    "elif len(same_numbers) == 4:\n",
    "    print('4등 !!!')\n",
    "elif len(same_numbers) == 3:\n",
    "    print('5등 !!') \n",
    "else:\n",
    "    print('꽝 ㅜㅜ')"
   ]
  }
 ],
 "metadata": {
  "kernelspec": {
   "display_name": "Python 3",
   "language": "python",
   "name": "python3"
  },
  "language_info": {
   "codemirror_mode": {
    "name": "ipython",
    "version": 3
   },
   "file_extension": ".py",
   "mimetype": "text/x-python",
   "name": "python",
   "nbconvert_exporter": "python",
   "pygments_lexer": "ipython3",
   "version": "3.13.2"
  }
 },
 "nbformat": 4,
 "nbformat_minor": 5
}
