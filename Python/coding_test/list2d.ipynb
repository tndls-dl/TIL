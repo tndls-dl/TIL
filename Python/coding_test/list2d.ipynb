{
 "cells": [
  {
   "cell_type": "markdown",
   "id": "c82e59cd",
   "metadata": {},
   "source": [
    "# 2d list"
   ]
  },
  {
   "cell_type": "code",
   "execution_count": null,
   "id": "3d0ea818",
   "metadata": {},
   "outputs": [],
   "source": [
    "N, M = 5, 2\n",
    "\n",
    "board = [list(map(int, input().split())) for _ in range(N)]"
   ]
  },
  {
   "cell_type": "code",
   "execution_count": null,
   "id": "bd0e6c1f",
   "metadata": {},
   "outputs": [
    {
     "name": "stdout",
     "output_type": "stream",
     "text": [
      "49\n"
     ]
    }
   ],
   "source": [
    "N, M = 5, 2\n",
    "\n",
    "# 5 * 5 판에서 2 * 2 부분사각형의 요소 총합 최대값을 구하시오. (49가 나와야함)\n",
    "# 무식하게 모두 비교한다.\n",
    "\n",
    "board = [\n",
    "    [1, 3, 3, 6, 7],\n",
    "    [8, 13, 9, 12, 8],\n",
    "    [4, 16, 11, 12, 6],\n",
    "    [2, 4, 1, 23, 2],\n",
    "    [9, 13, 4, 7, 3]\n",
    "]\n",
    "\n",
    "max_sum = 0\n",
    "\n",
    "for r in range(N - M + 1):\n",
    "    for c in range(N - M + 1):\n",
    "        board_sum = 0\n",
    "        for row in range(r, r + M):\n",
    "            for col in range(c, c + M):\n",
    "                board_sum += board[row][col]\n",
    "                \n",
    "        if board_sum > max_sum:\n",
    "            max_sum = board_sum\n",
    "\n",
    "print(max_sum)        \n"
   ]
  },
  {
   "cell_type": "code",
   "execution_count": null,
   "id": "18557100",
   "metadata": {},
   "outputs": [
    {
     "data": {
      "text/plain": [
       "35"
      ]
     },
     "execution_count": 4,
     "metadata": {},
     "output_type": "execute_result"
    }
   ],
   "source": [
    "def sum_flies(r, c):\n",
    "    # 시작 idx 기분으로 M*M의 총합\n",
    "    total = 0\n",
    "    for i in range(M):\n",
    "        for j in range(M):\n",
    "            total += board[r+i][c+j]\n",
    "    return total\n",
    "\n",
    "sum_flies(3, 3)"
   ]
  },
  {
   "cell_type": "code",
   "execution_count": 7,
   "id": "4340d485",
   "metadata": {},
   "outputs": [
    {
     "name": "stdout",
     "output_type": "stream",
     "text": [
      "49\n"
     ]
    }
   ],
   "source": [
    "# 파리채의 시작(좌-상) index만 골라줌\n",
    "maximum = 0\n",
    "\n",
    "for row in range(N-M+1):\n",
    "    for col in range(N-M+1):\n",
    "        total = sum_flies(row, col)\n",
    "        if maximum < total:\n",
    "            maximum = total\n",
    "\n",
    "print(maximum)"
   ]
  }
 ],
 "metadata": {
  "kernelspec": {
   "display_name": "Python 3",
   "language": "python",
   "name": "python3"
  },
  "language_info": {
   "codemirror_mode": {
    "name": "ipython",
    "version": 3
   },
   "file_extension": ".py",
   "mimetype": "text/x-python",
   "name": "python",
   "nbconvert_exporter": "python",
   "pygments_lexer": "ipython3",
   "version": "3.13.2"
  }
 },
 "nbformat": 4,
 "nbformat_minor": 5
}
