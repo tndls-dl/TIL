{
 "cells": [
  {
   "cell_type": "markdown",
   "id": "a03ff3ec",
   "metadata": {},
   "source": [
    "# **telegram** 💬"
   ]
  },
  {
   "cell_type": "markdown",
   "id": "becb9fc0",
   "metadata": {},
   "source": [
    "#### **lucky_bot --- lucky_12_bot** 🍀"
   ]
  },
  {
   "cell_type": "code",
   "execution_count": null,
   "id": "eb7415d8",
   "metadata": {},
   "outputs": [],
   "source": [
    "from dotenv import load_dotenv\n",
    "import os\n",
    "\n",
    "load_dotenv()\n",
    "\n",
    "# Bot의 주민번호. 이게 있어야 어떤 봇을 컨트롤 하는지 알 수 있다.\n",
    "bot_token = os.getenv('TELEGRAM_BOT_TOKEN')"
   ]
  },
  {
   "cell_type": "code",
   "execution_count": null,
   "id": "b16f18be",
   "metadata": {},
   "outputs": [],
   "source": [
    "# 고정된 URL. 뒤에 붙는 말에 따라 다른 요청이 됨\n",
    "URL = f'https://api.telegram.org/bot{bot_token}'"
   ]
  },
  {
   "cell_type": "code",
   "execution_count": 7,
   "id": "082a1ee6",
   "metadata": {},
   "outputs": [
    {
     "data": {
      "text/plain": [
       "'https://api.telegram.org/bot8227883080:AAFShjBE9ToiUcARo0ch8fzQEx5NzRbkYes/getMe'"
      ]
     },
     "execution_count": 7,
     "metadata": {},
     "output_type": "execute_result"
    }
   ],
   "source": [
    "# Bot에 대한 정보\n",
    "URL + '/getMe'"
   ]
  },
  {
   "cell_type": "code",
   "execution_count": null,
   "id": "d2eceb49",
   "metadata": {},
   "outputs": [
    {
     "data": {
      "text/plain": [
       "'https://api.telegram.org/bot8227883080:AAFShjBE9ToiUcARo0ch8fzQEx5NzRbkYes/getUpdates'"
      ]
     },
     "execution_count": 4,
     "metadata": {},
     "output_type": "execute_result"
    }
   ],
   "source": [
    "# Bot의 모든 업데이트\n",
    "URL + '/getUpdates'"
   ]
  },
  {
   "cell_type": "code",
   "execution_count": 14,
   "id": "35a37e22",
   "metadata": {},
   "outputs": [
    {
     "name": "stdout",
     "output_type": "stream",
     "text": [
      "https://api.telegram.org/bot8227883080:AAFShjBE9ToiUcARo0ch8fzQEx5NzRbkYes/sendMessage\n"
     ]
    }
   ],
   "source": [
    "# 답장을 위한 상대방 id\n",
    "my_id = '7525914368'\n",
    "# 메세지\n",
    "message = 'so_lucky'\n",
    "\n",
    "print(URL + '/sendMessage')"
   ]
  },
  {
   "cell_type": "code",
   "execution_count": 59,
   "id": "2b5e269a",
   "metadata": {},
   "outputs": [
    {
     "name": "stdout",
     "output_type": "stream",
     "text": [
      "망정이는 바보야 7525914368\n"
     ]
    }
   ],
   "source": [
    "import requests\n",
    "# /getUpdates로 요청 보내고 -> 응답 JSON 받아서 저장 (실행할 때마다 갱신)\n",
    "data = requests.get(URL + '/getUpdates').json()\n",
    "\n",
    "# 데이터 안에 마지막 메세지의 text(내용)을 뽑아라.\n",
    "input_msg = data['result'][-1]['message']['text']\n",
    "\n",
    "# 마지막 메시지의 보낸사람 id 뽑기\n",
    "sender_id = data['result'][-1]['message']['from']['id']\n",
    "\n",
    "print(input_msg, sender_id)\n",
    "\n"
   ]
  },
  {
   "cell_type": "code",
   "execution_count": 62,
   "id": "c87e0c57",
   "metadata": {},
   "outputs": [],
   "source": [
    "# 메세지가 로또면, 로또번호 6개 만들어서 보내기\n",
    "import random\n",
    "\n",
    "if input_msg in ('로또', 'lotto'):\n",
    "    output_msg = str(random.sample(range(1, 46), 6))\n",
    "elif input_msg == '안녕':\n",
    "    output_msg = '하잉'\n",
    "else:\n",
    "    output_msg = '바부'"
   ]
  },
  {
   "cell_type": "code",
   "execution_count": null,
   "id": "701b03ff",
   "metadata": {},
   "outputs": [
    {
     "data": {
      "text/plain": [
       "{'ok': True,\n",
       " 'result': {'message_id': 35,\n",
       "  'from': {'id': 8227883080,\n",
       "   'is_bot': True,\n",
       "   'first_name': 'lucky_bot',\n",
       "   'username': 'lucky_12_bot'},\n",
       "  'chat': {'id': 7525914368,\n",
       "   'first_name': 'SOOIN',\n",
       "   'username': 'cuteisthebest',\n",
       "   'type': 'private'},\n",
       "  'date': 1753336993,\n",
       "  'text': '바부'}}"
      ]
     },
     "execution_count": 63,
     "metadata": {},
     "output_type": "execute_result"
    }
   ],
   "source": [
    "# 메세지 만들어서 전송\n",
    "body = {\n",
    "    # 누구한테 ?\n",
    "    'chat_id': sender_id,\n",
    "    # 답변메시지\n",
    "    'text': output_msg,\n",
    "}\n",
    "\n",
    "requests.get(URL + '/sendMessage', body).json()"
   ]
  },
  {
   "cell_type": "code",
   "execution_count": null,
   "id": "16746deb",
   "metadata": {},
   "outputs": [],
   "source": []
  }
 ],
 "metadata": {
  "kernelspec": {
   "display_name": "Python 3",
   "language": "python",
   "name": "python3"
  },
  "language_info": {
   "codemirror_mode": {
    "name": "ipython",
    "version": 3
   },
   "file_extension": ".py",
   "mimetype": "text/x-python",
   "name": "python",
   "nbconvert_exporter": "python",
   "pygments_lexer": "ipython3",
   "version": "3.13.2"
  }
 },
 "nbformat": 4,
 "nbformat_minor": 5
}
