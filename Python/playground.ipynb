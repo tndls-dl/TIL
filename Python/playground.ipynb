{
 "cells": [
  {
   "cell_type": "markdown",
   "id": "644bd652",
   "metadata": {},
   "source": [
    "# 🤸Playground"
   ]
  },
  {
   "cell_type": "code",
   "execution_count": 1,
   "id": "60ae6959",
   "metadata": {},
   "outputs": [
    {
     "data": {
      "text/plain": [
       "['피자']"
      ]
     },
     "execution_count": 1,
     "metadata": {},
     "output_type": "execute_result"
    }
   ],
   "source": [
    "menus = ['피자', '짜장면', '백반']\n",
    "menus[0:1]"
   ]
  },
  {
   "cell_type": "code",
   "execution_count": 7,
   "id": "03d16a22",
   "metadata": {},
   "outputs": [
    {
     "data": {
      "text/plain": [
       "['피자', '단식', '짜장면', '마라탕', '샐러드', '햄버거']"
      ]
     },
     "execution_count": 7,
     "metadata": {},
     "output_type": "execute_result"
    }
   ],
   "source": [
    "menus = ['피자', '짜장면']\n",
    "menus.append('샐러드')  # append함수는 무조건 맨 뒤에 추가됨.\n",
    "menus.append('햄버거')\n",
    "menus.insert(1, '단식')  # insert함수는 원하는 자리에 넣을 수 있음.\n",
    "menus.insert(3, '마라탕')\n",
    "menus"
   ]
  },
  {
   "cell_type": "code",
   "execution_count": null,
   "id": "3937c01c",
   "metadata": {},
   "outputs": [],
   "source": [
    "얕은 복사가 뭔데\n",
    "깊은 복사는 또 뭐고.\n",
    "mutable이면 가능하대."
   ]
  }
 ],
 "metadata": {
  "kernelspec": {
   "display_name": "Python 3",
   "language": "python",
   "name": "python3"
  },
  "language_info": {
   "codemirror_mode": {
    "name": "ipython",
    "version": 3
   },
   "file_extension": ".py",
   "mimetype": "text/x-python",
   "name": "python",
   "nbconvert_exporter": "python",
   "pygments_lexer": "ipython3",
   "version": "3.13.2"
  }
 },
 "nbformat": 4,
 "nbformat_minor": 5
}
