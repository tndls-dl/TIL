{
 "cells": [
  {
   "cell_type": "markdown",
   "id": "7113d7dd",
   "metadata": {},
   "source": [
    "# `Numpy 🔢`\n",
    "\n",
    "- 통계 vs 데이터분석 vs 머신러닝\n",
    "    - 데이터분석 : **문제를 정의하고 인사이트 도출** (고객 구매 패턴 분석)\n",
    "    - 통계 : 데이터를 **요약, 해석하는 수학** (평균, 분산)\n",
    "    - 머신러닝 : 데이터를 학습하여 **예측** (스팸함 분류, 추천)\n",
    "- 데이터분석 : 데이터를 분석하여 의사결정에 도움을 준다.\n",
    "    - 의사결정 데이터 기반의 근거 \n",
    "    - 패턴 발견, 예측 (머신 러닝)\n",
    "\n",
    "- DA flow (흐름)\n",
    "    1. 문제 정의\n",
    "    1. 데이터 수집\n",
    "    1. 데이터 정제 (결측치, 이상치 처리)\n",
    "    1. 탐색 - 시각화 - 통계분석 및 해석\n",
    "    1. 결론 도출\n",
    "\n",
    "- 시트 vs DB vs Python\n",
    "    - 시트는 편함.\n",
    "    - DB는 대용량 CRUD (억단위)\n",
    "    - Python은 시각화, 분석, 머신러닝\n",
    "\n",
    "- 라이브러리\n",
    "    - `numpy` : 빠름(배열 연산) `파이썬 리스트 vs Numpy 배열 차이점`\n",
    "    - `pandas`: 표(DataFrame) -> `numpy` 기반으로 만들어 짐\n",
    "    - `matplotlib` : 시각화 기본(그래프)\n",
    "    - `seaborn` : 시각화 심화\n",
    "    - `scipy` : 고급 통계, 수학 연산\n",
    "    - `scikit-learn` : 머신러닝"
   ]
  },
  {
   "cell_type": "code",
   "execution_count": 2,
   "id": "c3e11105",
   "metadata": {},
   "outputs": [
    {
     "name": "stdout",
     "output_type": "stream",
     "text": [
      "[2, 4, 6, 8, 10]\n"
     ]
    }
   ],
   "source": [
    "python_list = [1, 2, 3, 4, 5]\n",
    "\n",
    "# [2, 4, 6, 8, 10]\n",
    "result = [x*2 for x in python_list]\n",
    "print(result)"
   ]
  },
  {
   "cell_type": "code",
   "execution_count": 3,
   "id": "24d2f34e",
   "metadata": {},
   "outputs": [
    {
     "name": "stdout",
     "output_type": "stream",
     "text": [
      "[ 2  4  6  8 10]\n"
     ]
    }
   ],
   "source": [
    "import numpy as np\n",
    "\n",
    "array = np.array([1, 2, 3, 4, 5])\n",
    "result = array * 2\n",
    "print(result)"
   ]
  },
  {
   "cell_type": "code",
   "execution_count": 4,
   "id": "ef129a14",
   "metadata": {},
   "outputs": [
    {
     "name": "stdout",
     "output_type": "stream",
     "text": [
      "[1 2 3 4 5] <class 'numpy.ndarray'>\n",
      "차원 1\n",
      "형태 (5,)\n",
      "크기 5\n"
     ]
    }
   ],
   "source": [
    "arr = np.array([1, 2, 3, 4, 5])\n",
    "print(arr, type(arr))\n",
    "print('차원', arr.ndim)\n",
    "print('형태', arr.shape)\n",
    "print('크기', arr.size)"
   ]
  },
  {
   "cell_type": "code",
   "execution_count": 153,
   "id": "c65f2c38",
   "metadata": {},
   "outputs": [
    {
     "data": {
      "text/plain": [
       "array([1, 2, 3, 4, 5])"
      ]
     },
     "execution_count": 153,
     "metadata": {},
     "output_type": "execute_result"
    }
   ],
   "source": [
    "arr1d = np.array([1, 2, 3, 4, 5])\n",
    "arr1d"
   ]
  },
  {
   "cell_type": "code",
   "execution_count": 6,
   "id": "d1429a57",
   "metadata": {},
   "outputs": [
    {
     "data": {
      "text/plain": [
       "(2, (2, 3), 6, dtype('int64'))"
      ]
     },
     "execution_count": 6,
     "metadata": {},
     "output_type": "execute_result"
    }
   ],
   "source": [
    "l2d = [\n",
    "    [1, 2, 3],\n",
    "    [4, 5, 6]\n",
    "]\n",
    "arr2d = np.array(l2d)\n",
    "\n",
    "arr2d.ndim, arr2d.shape, arr2d.size, arr2d.dtype"
   ]
  },
  {
   "cell_type": "code",
   "execution_count": 7,
   "id": "19524849",
   "metadata": {},
   "outputs": [
    {
     "data": {
      "text/plain": [
       "array([1., 2., 3.])"
      ]
     },
     "execution_count": 7,
     "metadata": {},
     "output_type": "execute_result"
    }
   ],
   "source": [
    "# 실수형 arr\n",
    "np.array([1, 2, 3], dtype=float)"
   ]
  },
  {
   "cell_type": "code",
   "execution_count": 8,
   "id": "02208eaa",
   "metadata": {},
   "outputs": [
    {
     "name": "stdout",
     "output_type": "stream",
     "text": [
      "[0. 0. 0. 0. 0.]\n",
      "[[0. 0. 0.]\n",
      " [0. 0. 0.]]\n",
      "[1. 1. 1. 1. 1.]\n",
      "[[1. 1. 1.]\n",
      " [1. 1. 1.]]\n",
      "[7 7 7 7 7]\n",
      "[[7 7 7]\n",
      " [7 7 7]]\n",
      "[1. 2. 3.]\n"
     ]
    }
   ],
   "source": [
    "# 0으로 채워짐\n",
    "z1d = np.zeros(5)\n",
    "z2d = np.zeros((2, 3))\n",
    "print(z1d)\n",
    "print(z2d)\n",
    "\n",
    "# 1로 채워짐\n",
    "o1d = np.ones(5)\n",
    "o2d = np.ones((2, 3))\n",
    "print(o1d)\n",
    "print(o2d)\n",
    "\n",
    "# n으로 채움\n",
    "n1d = np.full(5, 7)  # 7로 채워진 5칸\n",
    "n2d = np.full((2, 3), 7)\n",
    "print(n1d)\n",
    "print(n2d)\n",
    "\n",
    "# 빈칸이지만 먼저 만듦\n",
    "empty = np.empty(3)  # 3칸 짜리를 뭔가 만들었다\n",
    "print(empty)"
   ]
  },
  {
   "cell_type": "code",
   "execution_count": 9,
   "id": "1ce7c38b",
   "metadata": {},
   "outputs": [
    {
     "name": "stdout",
     "output_type": "stream",
     "text": [
      "[0 2 4 6 8]\n",
      "[0.   0.25 0.5  0.75 1.  ]\n",
      "[  1.           3.16227766  10.          31.6227766  100.        ]\n"
     ]
    }
   ],
   "source": [
    "# 시퀀스 데이터\n",
    "\n",
    "# range\n",
    "range_arr = np.arange(0, 10, 2)\n",
    "print(range_arr)\n",
    "\n",
    "# 등간격 실수 배열\n",
    "lin_space = np.linspace(0, 1, 5)\n",
    "print(lin_space)\n",
    "\n",
    "# 로그스케일\n",
    "log_space = np.logspace(0, 2, 5)  # 10 ^0 ~ 10^2의 범위에서 5개 요소\n",
    "print(log_space)"
   ]
  },
  {
   "cell_type": "code",
   "execution_count": 10,
   "id": "2f5f1102",
   "metadata": {},
   "outputs": [
    {
     "name": "stdout",
     "output_type": "stream",
     "text": [
      "[[0.68974559 0.85156343 0.28582183]\n",
      " [0.73663908 0.14757777 0.31941662]\n",
      " [0.35390929 0.9652732  0.14253059]]\n",
      "[[ 0.87789431  1.02626926 -0.0751546 ]\n",
      " [ 0.48720899  0.27529592 -2.56905655]\n",
      " [ 0.40995986 -0.44554786 -0.2358006 ]]\n",
      "[[1 0 5]\n",
      " [4 0 9]\n",
      " [4 3 3]]\n"
     ]
    },
    {
     "data": {
      "text/plain": [
       "array([0.37454012, 0.95071431, 0.73199394])"
      ]
     },
     "execution_count": 10,
     "metadata": {},
     "output_type": "execute_result"
    }
   ],
   "source": [
    "# 난수 배열\n",
    "\n",
    "# 균등 분포 난수 (0~1 사이를 균등확률 분포)\n",
    "random = np.random.rand(3, 3)  # 0 ~ 1 실수\n",
    "print(random)\n",
    "\n",
    "# 정규 분포 난수\n",
    "normal = np.random.randn(3, 3)\n",
    "print(normal)\n",
    "\n",
    "# 정수 난수 (0 ~ 9, 3*3)\n",
    "int_random = np.random.randint(0, 10, (3, 3))\n",
    "print(int_random)\n",
    "\n",
    "# 시드 설정(랜덤 재현 가능)\n",
    "np.random.seed(42)  # 랜덤 상황 42 고정\n",
    "np.random.rand(3)"
   ]
  },
  {
   "cell_type": "code",
   "execution_count": 11,
   "id": "7750c47f",
   "metadata": {},
   "outputs": [
    {
     "name": "stdout",
     "output_type": "stream",
     "text": [
      "int64\n",
      "float64\n",
      "float32\n",
      "[1.2 2.3 3.4] float64\n"
     ]
    }
   ],
   "source": [
    "# 배열의 데이터 타입\n",
    "# 데이터 타입 확인\n",
    "arr = np.array([1, 2, 3])\n",
    "print(arr.dtype)\n",
    "\n",
    "# 데이터 타입 지정 생성\n",
    "f_arr = np.array([1, 2, 3], dtype=np.float64)\n",
    "print(f_arr.dtype)\n",
    "\n",
    "# 데이터 타입 변경 (int -> float)\n",
    "converted = arr.astype(np.float32)\n",
    "print(converted.dtype)\n",
    "\n",
    "# 문자열 -> 숫자\n",
    "str_arr = np.array(['1.2', '2.3', '3.4'])\n",
    "num_arr = str_arr.astype(float)  # np.floatxx 라고 지정 안 하고 float 쓰면 -> float64\n",
    "print(num_arr, num_arr.dtype)"
   ]
  },
  {
   "cell_type": "code",
   "execution_count": 12,
   "id": "7ab0ac3b",
   "metadata": {},
   "outputs": [
    {
     "name": "stdout",
     "output_type": "stream",
     "text": [
      "8\n",
      "4\n",
      "24\n",
      "12\n"
     ]
    }
   ],
   "source": [
    "# 1칸의 메모리 사용량\n",
    "print(arr.itemsize)  # int64 -> 8byte\n",
    "print(converted.itemsize)  # float32 -> 4byte\n",
    "\n",
    "# 총 메모리 사용량\n",
    "print(arr.nbytes)\n",
    "print(converted.nbytes)"
   ]
  },
  {
   "cell_type": "code",
   "execution_count": 13,
   "id": "4822054c",
   "metadata": {},
   "outputs": [
    {
     "name": "stdout",
     "output_type": "stream",
     "text": [
      "[ 0  1  2  3  4  5  6  7  8  9 10 11]\n",
      "[[ 0  1  2  3]\n",
      " [ 4  5  6  7]\n",
      " [ 8  9 10 11]]\n",
      "[[[ 0  1  2]\n",
      "  [ 3  4  5]]\n",
      "\n",
      " [[ 6  7  8]\n",
      "  [ 9 10 11]]]\n",
      "[[ 0  1  2  3]\n",
      " [ 4  5  6  7]\n",
      " [ 8  9 10 11]]\n",
      "[[ 0  1  2  3  4  5]\n",
      " [ 6  7  8  9 10 11]]\n"
     ]
    }
   ],
   "source": [
    "# 배열 재구성\n",
    "arr = np.arange(12)\n",
    "print(arr)\n",
    "\n",
    "reshaped2d  = arr.reshape(3, 4)  # 3row * 4col\n",
    "print(reshaped2d)\n",
    "\n",
    "reshaped3d = arr.reshape(2, 2, 3)  # 2페이지, 2row * 3col\n",
    "print(reshaped3d)\n",
    "\n",
    "# 자동 계산\n",
    "auto1 = arr.reshape(3, -1)  # row 3개, col 알아서\n",
    "auto2 = arr.reshape(-1, 6)  # row 알아서, col 6개\n",
    "\n",
    "print(auto1)\n",
    "print(auto2)"
   ]
  },
  {
   "cell_type": "code",
   "execution_count": 14,
   "id": "9f681bdd",
   "metadata": {},
   "outputs": [
    {
     "name": "stdout",
     "output_type": "stream",
     "text": [
      "[[ 0  1  2  3]\n",
      " [ 4  5  6  7]\n",
      " [ 8  9 10 11]]\n",
      "[ 0  1  2  3  4  5  6  7  8  9 10 11]\n",
      "[[ 0  1  2  3]\n",
      " [ 4  5  6  7]\n",
      " [ 8  9 10 11]]\n"
     ]
    }
   ],
   "source": [
    "# 1차원을 -> N차원\n",
    "# reshape -> 원본 그대로, 새로운 배열 만듦\n",
    "# resize  -> 원본을 바꿈\n",
    "\n",
    "arr = np.arange(12)\n",
    "reshaped = arr.reshape(3, 4)  # 새로운 배열 리턴\n",
    "print(reshaped)\n",
    "print(arr)\n",
    "\n",
    "arr.resize(3, 4)  # arr이 바뀜\n",
    "print(arr)"
   ]
  },
  {
   "cell_type": "code",
   "execution_count": 15,
   "id": "60376be6",
   "metadata": {},
   "outputs": [
    {
     "name": "stdout",
     "output_type": "stream",
     "text": [
      "[[100   2   3]\n",
      " [  4   5   6]]\n",
      "[100   2   3   4   5   6] [-100    2    3    4    5    6]\n"
     ]
    }
   ],
   "source": [
    "# N차원 -> 1차원\n",
    "arr = np.array([[1, 2, 3], [4, 5, 6]])\n",
    "\n",
    "r = arr.ravel()    # 뷰(원본 연결) -> 빨리 보기\n",
    "f = arr.flatten()  # 복사본       -> 안전하게 새로 만들어서 활용\n",
    "\n",
    "r[0] = 100\n",
    "f[0] = -100\n",
    "\n",
    "print(arr)\n",
    "print(r, f)"
   ]
  },
  {
   "cell_type": "code",
   "execution_count": 16,
   "id": "bc4be28c",
   "metadata": {},
   "outputs": [
    {
     "name": "stdout",
     "output_type": "stream",
     "text": [
      "[[1 2 3]\n",
      " [4 5 6]]\n"
     ]
    },
    {
     "data": {
      "text/plain": [
       "(array([[1, 4],\n",
       "        [2, 5],\n",
       "        [3, 6]]),\n",
       " array([[1, 4],\n",
       "        [2, 5],\n",
       "        [3, 6]]))"
      ]
     },
     "execution_count": 16,
     "metadata": {},
     "output_type": "execute_result"
    }
   ],
   "source": [
    "# 전치 -> 행과 열을 교환\n",
    "arr_2d = np.array([[1, 2, 3], [4, 5, 6]])\n",
    "print(arr_2d)\n",
    "\n",
    "arr_2d.transpose(), arr_2d.T"
   ]
  },
  {
   "cell_type": "code",
   "execution_count": 17,
   "id": "71ce7483",
   "metadata": {},
   "outputs": [
    {
     "name": "stdout",
     "output_type": "stream",
     "text": [
      "[ 1  2  3  4  5  6  7  8  9 10 11 12 13 14 15] [ 1  2  3  4  5  6  7  8  9 10 11 12 13 14 15]\n",
      "[1 3 5 7 9]\n",
      "[0.  0.6 1.2 1.8 2.4 3. ]\n"
     ]
    }
   ],
   "source": [
    "# 1 ~ 15 정수 배열 ( arange vs array(range) )\n",
    "print(np.arange(1, 16), np.array(range(1, 16)))\n",
    "\n",
    "# 0 ~ 9까지 홀수\n",
    "print(np.arange(1, 10, 2))\n",
    "\n",
    "# 0 ~ 3까지 균등 6등분(5구간) 배열\n",
    "print(np.linspace(0, 3, 6))"
   ]
  },
  {
   "cell_type": "code",
   "execution_count": 18,
   "id": "7cbedd7c",
   "metadata": {},
   "outputs": [
    {
     "name": "stdout",
     "output_type": "stream",
     "text": [
      "[[1. 0. 0. 0.]\n",
      " [0. 1. 0. 0.]\n",
      " [0. 0. 1. 0.]\n",
      " [0. 0. 0. 1.]]\n",
      "[[1 1 1 1]\n",
      " [1 1 1 1]\n",
      " [1 1 1 1]]\n",
      "[[[0.59865848 0.15601864 0.15599452 0.05808361]\n",
      "  [0.86617615 0.60111501 0.70807258 0.02058449]\n",
      "  [0.96990985 0.83244264 0.21233911 0.18182497]]\n",
      "\n",
      " [[0.18340451 0.30424224 0.52475643 0.43194502]\n",
      "  [0.29122914 0.61185289 0.13949386 0.29214465]\n",
      "  [0.36636184 0.45606998 0.78517596 0.19967378]]]\n",
      "[[[0.51423444 0.59241457 0.04645041 0.60754485]\n",
      "  [0.17052412 0.06505159 0.94888554 0.96563203]\n",
      "  [0.80839735 0.30461377 0.09767211 0.68423303]]\n",
      "\n",
      " [[0.44015249 0.12203823 0.49517691 0.03438852]\n",
      "  [0.9093204  0.25877998 0.66252228 0.31171108]\n",
      "  [0.52006802 0.54671028 0.18485446 0.96958463]]]\n"
     ]
    }
   ],
   "source": [
    "# 4 * 4 단위 행렬(identity matrix) -> 대각선 1, 나머지 0\n",
    "print(np.eye(4))\n",
    "\n",
    "# 3 * 4 사이즈의 1로 가득찬 int 배열\n",
    "print(np.ones((3, 4), dtype=int))\n",
    "\n",
    "# 2 * 3 * 4 사이즈 (3*4가 2페이지 있다) 0 ~ 1 난수 배열\n",
    "print(np.random.rand(2, 3, 4)) # 인자로 차원 지정 -> 오래된 버전에서 주로 씀\n",
    "print(np.random.random((2, 3, 4)))  # 튜플로 차원 지정 -> 최신 버전에서 주로 씀"
   ]
  },
  {
   "cell_type": "markdown",
   "id": "f6ed6287",
   "metadata": {},
   "source": [
    "## 배열의 인덱싱/슬라이싱"
   ]
  },
  {
   "cell_type": "code",
   "execution_count": 19,
   "id": "fe2a75af",
   "metadata": {},
   "outputs": [
    {
     "name": "stdout",
     "output_type": "stream",
     "text": [
      "10 30 50 40\n",
      "[100  20  30  40  50]\n"
     ]
    }
   ],
   "source": [
    "arr = np.array([10, 20, 30, 40, 50])\n",
    "# 접근\n",
    "print(arr[0], arr[2], arr[-1], arr[-2])\n",
    "\n",
    "# 변경\n",
    "arr[0] = 100\n",
    "print(arr)"
   ]
  },
  {
   "cell_type": "code",
   "execution_count": 20,
   "id": "1b3fcee9",
   "metadata": {},
   "outputs": [
    {
     "data": {
      "text/plain": [
       "array([[100,   2,   3],\n",
       "       [  4,   5,   6],\n",
       "       [  7,   8,   9]])"
      ]
     },
     "execution_count": 20,
     "metadata": {},
     "output_type": "execute_result"
    }
   ],
   "source": [
    "# arr_2d = np.array(range(1, 10)).reshape(3, 3)\n",
    "\n",
    "arr_2d = np.array(\n",
    "    [\n",
    "        [1, 2, 3],\n",
    "        [4, 5, 6],\n",
    "        [7, 8, 9]\n",
    "    ]\n",
    ")\n",
    "\n",
    "# Numpy 에서만 지원\n",
    "arr_2d[0, 0]  # arr_2d[0][0] -> r 0, c 0\n",
    "arr_2d[1, 1]\n",
    "\n",
    "arr_2d[1]  # 행 접근\n",
    "\n",
    "# 변경\n",
    "arr_2d[0, 0] = 100\n",
    "arr_2d"
   ]
  },
  {
   "cell_type": "code",
   "execution_count": 21,
   "id": "4e2ce940",
   "metadata": {},
   "outputs": [
    {
     "name": "stdout",
     "output_type": "stream",
     "text": [
      "[2 3 4] [0 1 2 3 4] [5 6 7 8 9]\n",
      "[1 3 5 7] [0 2 4 6 8]\n",
      "[9 8 7 6 5 4 3 2 1 0] [7 6 5 4 3]\n",
      "[  0   1   2 100 100 100   6   7   8   9]\n"
     ]
    }
   ],
   "source": [
    "# 슬라이싱\n",
    "arr = np.arange(10)\n",
    "print(\n",
    "    arr[2:5],\n",
    "    arr[:5],\n",
    "    arr[5:]\n",
    ")\n",
    "\n",
    "print(\n",
    "    arr[1:8:2],\n",
    "    arr[::2]\n",
    ")\n",
    "\n",
    "print(\n",
    "    arr[::-1],\n",
    "    arr[7:2:-1]\n",
    ")\n",
    "\n",
    "# 슬라이싱으로 일괄 변경 (파이썬에는 없음)\n",
    "arr[3:6] = 100\n",
    "print(arr)"
   ]
  },
  {
   "cell_type": "code",
   "execution_count": 22,
   "id": "a1ec29df",
   "metadata": {},
   "outputs": [
    {
     "name": "stdout",
     "output_type": "stream",
     "text": [
      "[[ 1  2  3  4]\n",
      " [ 5  6  7  8]\n",
      " [ 9 10 11 12]]\n",
      "[[1 2 3 4]\n",
      " [5 6 7 8]]\n",
      "[[ 2  3]\n",
      " [ 6  7]\n",
      " [10 11]]\n",
      "[[ 5  6]\n",
      " [ 9 10]]\n",
      "[[ 1  3]\n",
      " [ 9 11]]\n"
     ]
    }
   ],
   "source": [
    "arr_2d = np.arange(1, 13).reshape(3, -1)\n",
    "print(arr_2d)\n",
    "\n",
    "# row(행) 슬라이싱 -> 0, 1 idx의 행\n",
    "print(arr_2d[0:2])\n",
    "\n",
    "# col(열) 슬라이싱 -> 모든 행의 idx 1, 2열\n",
    "print(arr_2d[:, 1:3])\n",
    "\n",
    "# row / col 동시 슬라이싱 -> 1, 2행 / 0, 1열\n",
    "print(arr_2d[1:3, 0:2])\n",
    "\n",
    "# 간격 지정 -> 행/열 모두 2간격\n",
    "print(arr_2d[::2, ::2])"
   ]
  },
  {
   "cell_type": "code",
   "execution_count": 23,
   "id": "5d7feefe",
   "metadata": {},
   "outputs": [
    {
     "name": "stdout",
     "output_type": "stream",
     "text": [
      "[[ 1  2  3  4]\n",
      " [ 5  6  7  8]\n",
      " [ 9 10 11 12]]\n",
      "[[ 0  0  3  4]\n",
      " [ 0  0  7  8]\n",
      " [ 9 10 11 12]]\n",
      "[[  0   0   3 100]\n",
      " [  0   0   7 200]\n",
      " [  9  10  11 300]]\n"
     ]
    }
   ],
   "source": [
    "# 다차원 배열 슬라이싱으로 변경\n",
    "print(arr_2d)\n",
    "\n",
    "# 부분 배열 일괄 변경\n",
    "arr_2d[0:2, 0:2] = 0\n",
    "print(arr_2d)\n",
    "\n",
    "# 열 교체 (모든 행 , idx 3열) -> 벡터 -> 교체 -> 원본 matrix의 열이 바뀜\n",
    "arr_2d[:, 3] = [100, 200, 300]\n",
    "\n",
    "print(arr_2d)"
   ]
  },
  {
   "cell_type": "code",
   "execution_count": 24,
   "id": "46414df3",
   "metadata": {},
   "outputs": [
    {
     "name": "stdout",
     "output_type": "stream",
     "text": [
      "[False False False  True  True] [1 2 3 4 5]\n",
      "[4 5]\n",
      "[4 5]\n",
      "[3 4]\n",
      "[1 4 5]\n"
     ]
    }
   ],
   "source": [
    "# boolean 인덱싱\n",
    "# 조건에 따라 배열 요소 선택\n",
    "\n",
    "arr = np.arange(1, 6)  # [1, 2, 3, 4, 5]\n",
    "\n",
    "# 마스킹 -> T/F로 바꿈\n",
    "mask = arr > 3\n",
    "print(mask, arr)\n",
    "\n",
    "# 마스킹 배열로 필터링\n",
    "print(arr[mask])\n",
    "\n",
    "# 직접 조건\n",
    "print(arr[arr > 3])\n",
    "\n",
    "# 다중 조건\n",
    "print(arr[(arr > 2) & (arr < 5)])  # and\n",
    "print(arr[(arr == 1) | (arr > 3)])  # or\n"
   ]
  },
  {
   "cell_type": "code",
   "execution_count": 25,
   "id": "598be1d1",
   "metadata": {},
   "outputs": [
    {
     "name": "stdout",
     "output_type": "stream",
     "text": [
      "[6 7 8 9]\n",
      "[1 2 3 4 5]\n",
      "[[1 2 3]\n",
      " [4 5 6]\n",
      " [7 8 9]]\n",
      "[[1 2 3]\n",
      " [7 8 9]]\n"
     ]
    }
   ],
   "source": [
    "# 2차원 배열 불리언 인덱싱\n",
    "arr_2d = np.arange(1, 10).reshape(3, 3)\n",
    "\n",
    "mask = arr_2d > 5\n",
    "\n",
    "print(arr_2d[mask])  # 원본 matrix 형태 없음. True로 필터된 애들만 Vector로 나옴\n",
    "print(arr_2d[arr_2d < 6])\n",
    "\n",
    "# 조건에 맞는 행만 선택\n",
    "row_mask = np.array([True, False, True])\n",
    "print(arr_2d)\n",
    "print(arr_2d[row_mask])  # row T, F, T -> 0, 2 row만 뽑음"
   ]
  },
  {
   "cell_type": "code",
   "execution_count": 26,
   "id": "1ca2c046",
   "metadata": {},
   "outputs": [
    {
     "name": "stdout",
     "output_type": "stream",
     "text": [
      "[10 20 30 40 50]\n",
      "[20 30]\n",
      "[10 30 40]\n",
      "[10 10 20 20 30]\n",
      "[50 30 40 20 10]\n"
     ]
    }
   ],
   "source": [
    "# Fancy 인덱싱\n",
    "arr = np.arange(10, 60, 10)\n",
    "print(arr)\n",
    "\n",
    "# arr[1, 2] -> arr[1][2]\n",
    "print(arr[[1, 2]]) # -> arr[1], arr[2]를 뽑아라\n",
    "print(arr[[0, 2, 3]])  # -> arr[0], arr[2], arr[3]만 가져와라\n",
    "\n",
    "print(arr[[0, 0, 1, 1, 2]])\n",
    "print(arr[[4, 2, 3, 1, 0]])"
   ]
  },
  {
   "cell_type": "code",
   "execution_count": 27,
   "id": "b8737343",
   "metadata": {},
   "outputs": [
    {
     "name": "stdout",
     "output_type": "stream",
     "text": [
      "[[1 2 3]\n",
      " [4 5 6]\n",
      " [7 8 9]]\n",
      "[1 2 3]\n",
      "[[1 2 3]\n",
      " [7 8 9]]\n",
      "[1 6 8]\n",
      "[[3 1 2]\n",
      " [6 4 5]\n",
      " [9 7 8]]\n"
     ]
    }
   ],
   "source": [
    "arr_2d = np.arange(1, 10).reshape(3, 3)\n",
    "print(arr_2d)\n",
    "\n",
    "print(arr_2d[0])  # row 0\n",
    "\n",
    "# 특정 행만 선택\n",
    "print(arr_2d[[0, 2]])  # row 0, 2\n",
    "\n",
    "# 행과 열 동시에 선택\n",
    "print(\n",
    "    arr_2d[  #(0, 0), (1, 2), (2, 1) 순서로 벡터 만듦\n",
    "        [0, 1, 2],\n",
    "        [0, 2, 1]\n",
    "    ]\n",
    ")\n",
    "\n",
    "# 행렬의 열을 순서 바꾸기\n",
    "print(\n",
    "    arr_2d[\n",
    "        :,  # 모든 행\n",
    "        [2, 0, 1]  # 열 idx를 이렇게 바꿔라\n",
    "    ]\n",
    ")"
   ]
  },
  {
   "cell_type": "code",
   "execution_count": 28,
   "id": "b998557f",
   "metadata": {},
   "outputs": [
    {
     "name": "stdout",
     "output_type": "stream",
     "text": [
      "원본 [10 11 12 13 14 15 16 17 18 19 20]\n",
      "10 12 20\n",
      "[12 13 14 15]\n",
      "[10 12 14]\n",
      "[20 19 18 17 16 15 14 13 12 11 10]\n"
     ]
    }
   ],
   "source": [
    "# 10부터 20까지의 정수 배열 생성\n",
    "arr = np.arange(10, 21)\n",
    "print('원본', arr)\n",
    "\n",
    "# 문제1: 배열의 첫 번째, 세 번째, 마지막 요소 출력\n",
    "print(arr[0], arr[2], arr[-1])\n",
    "\n",
    "# 문제2: 인덱스 2부터 5까지 요소 출력\n",
    "print(arr[2:6])\n",
    "\n",
    "# 문제3: 처음부터 5번째 요소까지 모든 짝수 인덱스 요소 출력\n",
    "print(arr[0:6:2])\n",
    "\n",
    "# 문제4: 배열의 요소를 역순으로 출력\n",
    "print(arr[::-1])"
   ]
  },
  {
   "cell_type": "code",
   "execution_count": 29,
   "id": "386511fc",
   "metadata": {},
   "outputs": [
    {
     "name": "stdout",
     "output_type": "stream",
     "text": [
      "원본 [[ 0  1  2  3]\n",
      " [ 4  5  6  7]\n",
      " [ 8  9 10 11]]\n",
      "6\n",
      "[4 5 6 7]\n",
      "[ 3  7 11]\n",
      "[[ 1  3]\n",
      " [ 9 11]]\n",
      "[[ 1  3]\n",
      " [ 9 11]]\n",
      "[[ 1  3]\n",
      " [ 9 11]]\n"
     ]
    }
   ],
   "source": [
    "# 3 * 4 matrix\n",
    "matrix = np.arange(12).reshape(3, 4)\n",
    "print('원본', matrix)\n",
    "\n",
    "# 문제1: (1,2) 위치의 요소 출력\n",
    "print(matrix[1, 2])\n",
    "\n",
    "# 문제2: 두 번째 행 전체 출력\n",
    "print(matrix[1])\n",
    "\n",
    "# 문제3: 마지막 열 전체 출력\n",
    "print(matrix[:, -1])\n",
    "\n",
    "# 문제4: 첫 번째와 세 번째 행의 두 번째와 네 번째 열 요소만 추출\n",
    "print(matrix[::2, 1::2])\n",
    "print(matrix[[0, 2], :] [:, [1, 3]])\n",
    "print(matrix[np.ix_([0, 2], [1, 3])])"
   ]
  },
  {
   "cell_type": "code",
   "execution_count": 30,
   "id": "1c189e96",
   "metadata": {},
   "outputs": [
    {
     "name": "stdout",
     "output_type": "stream",
     "text": [
      "원본 [ 1  2  3  4  5  6  7  8  9 10 11 12 13 14 15 16 17 18 19 20]\n",
      "[ 5 10 15 20]\n",
      "[ 4  5  6  7  8  9 10 11 12 13 14]\n",
      "[ 1  3  5  7  9 11 13 14 15 17 19]\n"
     ]
    }
   ],
   "source": [
    "arr = np.arange(1, 21)\n",
    "print('원본', arr)\n",
    "\n",
    "# 문제1: 5의 배수만 선택하여 출력\n",
    "print(arr[arr % 5 == 0])\n",
    "\n",
    "# 문제2: 3보다 크고 15보다 작은 요소 선택\n",
    "print(arr[(arr > 3) & (arr < 15)])\n",
    "\n",
    "# 문제3: 7의 배수이거나 홀수인 요소 선택\n",
    "print(arr[(arr % 7 == 0) | (arr % 2 != 0)])"
   ]
  },
  {
   "cell_type": "code",
   "execution_count": 31,
   "id": "9d0b4590",
   "metadata": {},
   "outputs": [
    {
     "name": "stdout",
     "output_type": "stream",
     "text": [
      "원본 [[ 1  2  3  4]\n",
      " [ 5  6  7  8]\n",
      " [ 9 10 11 12]\n",
      " [13 14 15 16]\n",
      " [17 18 19 20]]\n",
      "[[  1   2   3   4]\n",
      " [  5   6   7   8]\n",
      " [  9  10 100 100]\n",
      " [100 100 100 100]\n",
      " [100 100 100 100]]\n"
     ]
    }
   ],
   "source": [
    "matrix = np.arange(1, 21).reshape(5, 4)\n",
    "print('원본', matrix)\n",
    "\n",
    "# 문제4: 10보다 큰 요소만 100으로 변경 (슬라이싱 / 불리언인덱싱 -> 뷰 생성 (원본데이터 연결))\n",
    "matrix[matrix > 10] = 100\n",
    "print(matrix)"
   ]
  },
  {
   "cell_type": "markdown",
   "id": "93984021",
   "metadata": {},
   "source": [
    "## 선형대수 연산\n"
   ]
  },
  {
   "cell_type": "code",
   "execution_count": 32,
   "id": "67099005",
   "metadata": {},
   "outputs": [
    {
     "name": "stdout",
     "output_type": "stream",
     "text": [
      "[ 6  8 10 12]\n",
      "[-4 -4 -4 -4]\n",
      "[ 5 12 21 32]\n",
      "[0.2        0.33333333 0.42857143 0.5       ]\n",
      "[ 1  4  9 16]\n",
      "[    1    64  2187 65536]\n"
     ]
    }
   ],
   "source": [
    "a = np.array([1, 2, 3, 4])\n",
    "b = np.array([5, 6, 7, 8])\n",
    "\n",
    "print(a + b)\n",
    "print(a - b)\n",
    "print(a * b)\n",
    "print(a / b)\n",
    "\n",
    "print(a ** 2)\n",
    "print(a ** b)"
   ]
  },
  {
   "cell_type": "code",
   "execution_count": 33,
   "id": "40113edd",
   "metadata": {},
   "outputs": [
    {
     "name": "stdout",
     "output_type": "stream",
     "text": [
      "[False False  True False]\n",
      "[ True  True  True False]\n",
      "[False  True False  True]\n"
     ]
    }
   ],
   "source": [
    "a = np.array([True, False, True, False])\n",
    "b = np.array([False, True, True, False])\n",
    "\n",
    "# 논리연산\n",
    "# AND\n",
    "print(a & b)\n",
    "\n",
    "# OR\n",
    "print(a | b)\n",
    "\n",
    "# NOT\n",
    "print(~a)"
   ]
  },
  {
   "cell_type": "markdown",
   "id": "a95bd40f",
   "metadata": {},
   "source": [
    "## 배열(1줄) <-> 스칼라(단일값) 연산\n",
    "> Broadcasting (스칼라가 배열 크기에 맞게 확장)"
   ]
  },
  {
   "cell_type": "code",
   "execution_count": 34,
   "id": "b477d597",
   "metadata": {},
   "outputs": [
    {
     "name": "stdout",
     "output_type": "stream",
     "text": [
      "[11 12 13 14 15]\n",
      "[0 1 2 3 4]\n",
      "[ 2  4  6  8 10]\n",
      "[0.5 1.  1.5 2.  2.5]\n",
      "[ 1  4  9 16 25]\n",
      "[False False False  True  True]\n",
      "[False  True False False False]\n"
     ]
    }
   ],
   "source": [
    "# 배열 생성\n",
    "arr = np.array([1, 2, 3, 4, 5])\n",
    "\n",
    "# 스칼라 덧셈\n",
    "print(arr + 10)     # [11 12 13 14 15]\n",
    "\n",
    "# 스칼라 뺄셈\n",
    "print(arr - 1)      # [0 1 2 3 4]\n",
    "\n",
    "# 스칼라 곱셈\n",
    "print(arr * 2)      # [2 4 6 8 10]\n",
    "\n",
    "# 스칼라 나눗셈\n",
    "print(arr / 2)      # [0.5 1.  1.5 2.  2.5]\n",
    "\n",
    "# 스칼라 거듭제곱\n",
    "print(arr ** 2)     # [ 1  4  9 16 25]\n",
    "\n",
    "# 스칼라 비교 (불리언 배열)\n",
    "print(arr > 3)      # [False False False  True  True]\n",
    "print(arr == 2)     # [False  True False False False]"
   ]
  },
  {
   "cell_type": "markdown",
   "id": "9a1b34c0",
   "metadata": {},
   "source": [
    "## 매트릭스(행렬) <-> 스칼라(단일값) 연산"
   ]
  },
  {
   "cell_type": "code",
   "execution_count": 35,
   "id": "77a6d60e",
   "metadata": {},
   "outputs": [
    {
     "name": "stdout",
     "output_type": "stream",
     "text": [
      "[[11 12 13]\n",
      " [14 15 16]]\n",
      "[[ 3  6  9]\n",
      " [12 15 18]]\n"
     ]
    }
   ],
   "source": [
    "# 2차원 배열\n",
    "arr_2d = np.array([[1, 2, 3], [4, 5, 6]])\n",
    "\n",
    "# 스칼라 연산\n",
    "print(arr_2d + 10)\n",
    "\n",
    "print(arr_2d * 3)"
   ]
  },
  {
   "cell_type": "markdown",
   "id": "bce9fa3b",
   "metadata": {},
   "source": [
    "## 매트릭스(행렬) <-> 벡터(1줄) 연산"
   ]
  },
  {
   "cell_type": "code",
   "execution_count": 36,
   "id": "37b4f5e7",
   "metadata": {},
   "outputs": [
    {
     "name": "stdout",
     "output_type": "stream",
     "text": [
      "[[11 22 33]\n",
      " [14 25 36]]\n",
      "[[101 102 103]\n",
      " [204 205 206]]\n"
     ]
    }
   ],
   "source": [
    "matrix = np.array([[1, 2, 3], [4, 5, 6]])\n",
    "vector = np.array([10, 20, 30])\n",
    "\n",
    "# 행렬 + 행 벡터\n",
    "print(matrix + vector)\n",
    "\n",
    "# 열 벡터 브로드캐스팅\n",
    "col_vec = np.array(\n",
    "    [\n",
    "        [100],\n",
    "        [200]\n",
    "    ]\n",
    ")\n",
    "print(matrix + col_vec)"
   ]
  },
  {
   "cell_type": "code",
   "execution_count": 37,
   "id": "5b823333",
   "metadata": {},
   "outputs": [
    {
     "name": "stdout",
     "output_type": "stream",
     "text": [
      "Matrix shape (2, 3)\n",
      "Vector shape (3,)\n",
      "Matrix + Vector\n",
      "[[11 22 33]\n",
      " [14 25 36]]\n"
     ]
    }
   ],
   "source": [
    "matrix = np.array([[1, 2, 3], [4, 5, 6]])\n",
    "vector = np.array([10, 20, 30])\n",
    "\n",
    "print('Matrix shape', matrix.shape)\n",
    "print('Vector shape', vector.shape)\n",
    "\n",
    "# 1. Vector(3, )가 앞에 1이 추가됨. -> Matrix(1, 3)으로 변함\n",
    "# 2. 더해야하는 matrix (2, 3)이랑 줄 수가 같을 때까지 row 복사함.\n",
    "print('Matrix + Vector')\n",
    "print(matrix + vector)"
   ]
  },
  {
   "cell_type": "code",
   "execution_count": 38,
   "id": "b9855bdf",
   "metadata": {},
   "outputs": [
    {
     "name": "stdout",
     "output_type": "stream",
     "text": [
      "A + B 형태: (3, 2)\n",
      "[[2. 2.]\n",
      " [2. 2.]\n",
      " [2. 2.]]\n",
      "A + C 형태: (3, 2)\n",
      "[[2. 2.]\n",
      " [2. 2.]\n",
      " [2. 2.]]\n"
     ]
    }
   ],
   "source": [
    "# 브로드 캐스팅 가능한 경우 (Shape 확인을 하자 ! - Shape이 맞을 때만 가능하다!)\n",
    "\n",
    "A = np.ones((3, 2))       # 3x2 배열\n",
    "B = np.ones((2,))         # 길이 2인 1차원 배열 (1x2로 해석) (행벡터)\n",
    "C = np.ones((3, 1))       # 3x1 배열 (사실상 열벡터)\n",
    "\n",
    "print(\"A + B 형태:\", (A + B).shape)  # (3, 2) - B는 각 행에 브로드캐스팅\n",
    "print(A + B)\n",
    "\n",
    "\n",
    "print(\"A + C 형태:\", (A + C).shape)  # (3, 2) - C는 각 열에 브로드캐스팅\n",
    "print(A + C)"
   ]
  },
  {
   "cell_type": "code",
   "execution_count": 39,
   "id": "3f499a84",
   "metadata": {},
   "outputs": [
    {
     "name": "stdout",
     "output_type": "stream",
     "text": [
      "[1 2 3 4 5]\n",
      "[2 3 4]\n",
      "[ 1 20  3  4  5]\n",
      "[ 1 20  3  4  5] [100  20   3   4   5]\n"
     ]
    }
   ],
   "source": [
    "# 뷰(원본 데이터와 링크)와 복사본(완전 별도) 차이\n",
    "arr = np.arange(1, 6)\n",
    "print(arr)\n",
    "\n",
    "# 슬라이싱 -> 뷰 생성\n",
    "view = arr[1:4]\n",
    "print(view)\n",
    "\n",
    "view[0] = 20\n",
    "print(arr)\n",
    "\n",
    "# 복사본..?\n",
    "copy = arr.copy()\n",
    "copy[0] = 100\n",
    "print(arr, copy)"
   ]
  },
  {
   "cell_type": "code",
   "execution_count": 40,
   "id": "9eab2ddc",
   "metadata": {},
   "outputs": [
    {
     "name": "stdout",
     "output_type": "stream",
     "text": [
      "[2.5 4.5 6.5]\n",
      "[0.5 1.  1.5]\n",
      "[0 1 1]\n"
     ]
    }
   ],
   "source": [
    "# 연산 중 데이터 자동 변환\n",
    "int_arr = np.array([1, 2, 3])\n",
    "float_arr = np.array([1.5, 2.5, 3.5])\n",
    "\n",
    "# int + float = float\n",
    "print(int_arr + float_arr)\n",
    "\n",
    "# int / int = float\n",
    "print(int_arr / 2)\n",
    "\n",
    "# int // int = int\n",
    "print(int_arr // 2)"
   ]
  },
  {
   "cell_type": "code",
   "execution_count": 41,
   "id": "af6e85f7",
   "metadata": {},
   "outputs": [
    {
     "name": "stdout",
     "output_type": "stream",
     "text": [
      "[ 64 144  36 100]\n",
      "[2.82842712 3.46410162 2.44948974 3.16227766] [2.82842712 3.46410162 2.44948974 3.16227766]\n",
      "[ 8 12  6 20]\n",
      "64\n"
     ]
    }
   ],
   "source": [
    "arr1 = np.array([8, 12, 6, 10])\n",
    "arr2 = np.array([3, 4, 1, 20])\n",
    "\n",
    "print(arr1 ** 2)\n",
    "print(arr1 ** 0.5, np.sqrt(arr1))  # 루트. 같은 결과\n",
    "\n",
    "# 각 자리마다 최댓값만 모음\n",
    "print(np.maximum(arr1, arr2))\n",
    "\n",
    "# arr1 + arr2 의 모든 자릿수를 더한 총합\n",
    "print(np.sum(arr1 + arr2))"
   ]
  },
  {
   "cell_type": "code",
   "execution_count": 42,
   "id": "03179c80",
   "metadata": {},
   "outputs": [
    {
     "name": "stdout",
     "output_type": "stream",
     "text": [
      "sin(x) = [0.00000000e+00 7.07106781e-01 1.00000000e+00 1.22464680e-16]\n",
      "cos(x) = [ 1.00000000e+00  7.07106781e-01  6.12323400e-17 -1.00000000e+00]\n",
      "tan(x) = [ 0.00000000e+00  1.00000000e+00  1.63312394e+16 -1.22464680e-16]\n",
      "arcsin(sin(x)) = [0.00000000e+00 7.85398163e-01 1.57079633e+00 1.22464680e-16]\n",
      "exp(y) = [ 2.71828183  7.3890561  20.08553692 54.59815003]\n",
      "log(y) = [0.         0.69314718 1.09861229 1.38629436]\n",
      "log10(y) = [0.         0.30103    0.47712125 0.60205999]\n",
      "log2(y) = [0.        1.        1.5849625 2.       ]\n",
      "sqrt(y) = [1.         1.41421356 1.73205081 2.        ]\n",
      "power(y, 2) = [ 1  4  9 16]\n",
      "power(y, 3) = [ 1  8 27 64]\n",
      "abs(z) = [2 1 0 1 2]\n",
      "sign(z) = [-1 -1  0  1  1]\n",
      "floor(w) = [1. 2. 3. 4.]\n",
      "ceil(w) = [2. 3. 4. 5.]\n",
      "round(w) = [1. 3. 4. 5.]\n",
      "trunc(w) = [1. 2. 3. 4.]\n"
     ]
    }
   ],
   "source": [
    "# 테스트 배열\n",
    "x = np.array([0, np.pi/4, np.pi/2, np.pi])\n",
    "y = np.array([1, 2, 3, 4])\n",
    "\n",
    "# 삼각함수\n",
    "print(\"sin(x) =\", np.sin(x))  # [0., 0.70710678, 1., 0.]\n",
    "print(\"cos(x) =\", np.cos(x))  # [1., 0.70710678, 0., -1.]\n",
    "print(\"tan(x) =\", np.tan(x))  # [0., 1., 16331239353195370., 0.]\n",
    "\n",
    "# 역삼각함수\n",
    "print(\"arcsin(sin(x)) =\", np.arcsin(np.sin(x)))\n",
    "\n",
    "# 지수와 로그\n",
    "\n",
    "# 자연상수 e^x -> e^1, e^2 ...\n",
    "print(\"exp(y) =\", np.exp(y))  # [2.71828183, 7.3890561, 20.08553692, 54.59815003]\n",
    "# 자연상수 log e\n",
    "print(\"log(y) =\", np.log(y))  # [0., 0.69314718, 1.09861229, 1.38629436]\n",
    "print(\"log10(y) =\", np.log10(y))  # [0., 0.30103, 0.47712125, 0.60205999]\n",
    "print(\"log2(y) =\", np.log2(y))  # [0., 1., 1.58496250, 2.]\n",
    "\n",
    "# 제곱근과 거듭제곱\n",
    "print(\"sqrt(y) =\", np.sqrt(y))  # [1., 1.41421356, 1.73205081, 2.]\n",
    "print(\"power(y, 2) =\", np.power(y, 2))  # [1, 4, 9, 16]\n",
    "print(\"power(y, 3) =\", np.power(y, 3))  # [1, 8, 27, 64]\n",
    "\n",
    "\n",
    "# 절대값과 부호\n",
    "z = np.array([-2, -1, 0, 1, 2])\n",
    "print(\"abs(z) =\", np.abs(z))  # [2 1 0 1 2]\n",
    "print(\"sign(z) =\", np.sign(z))  # [-1 -1  0  1  1]\n",
    "\n",
    "# 소수점 처리\n",
    "w = np.array([1.2, 2.7, 3.5, 4.9])\n",
    "print(\"floor(w) =\", np.floor(w))  # [1. 2. 3. 4.] (내림)\n",
    "print(\"ceil(w) =\", np.ceil(w))   # [2. 3. 4. 5.] (올림)\n",
    "print(\"round(w) =\", np.round(w))  # [1. 3. 4. 5.] (반올림)\n",
    "print(\"trunc(w) =\", np.trunc(w))  # [1. 2. 3. 4.] (소수점 버림)"
   ]
  },
  {
   "cell_type": "code",
   "execution_count": 43,
   "id": "0fac67be",
   "metadata": {},
   "outputs": [
    {
     "name": "stdout",
     "output_type": "stream",
     "text": [
      "합계: 45\n",
      "평균: 5.0\n",
      "최소값: 1\n",
      "최대값: 9\n",
      "표준편차: 2.581988897471611\n",
      "분산: 6.666666666666667\n",
      "행별 합계: [ 6 15 24]\n",
      "열별 합계: [12 15 18]\n",
      "행별 평균: [2. 5. 8.]\n",
      "열별 평균: [4. 5. 6.]\n",
      "행별 최소값: [1 4 7]\n",
      "열별 최소값: [1 2 3]\n"
     ]
    }
   ],
   "source": [
    "arr = np.array([[1, 2, 3], [4, 5, 6], [7, 8, 9]])\n",
    "\n",
    "# 기본 집계\n",
    "print(\"합계:\", np.sum(arr))          # 45\n",
    "print(\"평균:\", np.mean(arr))         # 5.0\n",
    "print(\"최소값:\", np.min(arr))        # 1\n",
    "print(\"최대값:\", np.max(arr))        # 9\n",
    "print(\"표준편차:\", np.std(arr))      # 2.581988897471611\n",
    "print(\"분산:\", np.var(arr))          # 6.666666666666667\n",
    "\n",
    "# 축을 따라 집계\n",
    "print(\"행별 합계:\", np.sum(arr, axis=1))  # [ 6 15 24]\n",
    "print(\"열별 합계:\", np.sum(arr, axis=0))  # [12 15 18]\n",
    "print(\"행별 평균:\", np.mean(arr, axis=1))  # [2. 5. 8.]\n",
    "print(\"열별 평균:\", np.mean(arr, axis=0))  # [4. 5. 6.]\n",
    "print(\"행별 최소값:\", np.min(arr, axis=1))  # [1 4 7]\n",
    "print(\"열별 최소값:\", np.min(arr, axis=0))  # [1 2 3]"
   ]
  },
  {
   "cell_type": "code",
   "execution_count": 44,
   "id": "cf0feee1",
   "metadata": {},
   "outputs": [
    {
     "name": "stdout",
     "output_type": "stream",
     "text": [
      "누적 합계: [ 1  3  6 10 15 21 28 36 45]\n",
      "행별 누적 합계:\n",
      "[[ 1  3  6]\n",
      " [ 4  9 15]\n",
      " [ 7 15 24]]\n",
      "누적 곱: [     1      2      6     24    120    720   5040  40320 362880]\n",
      "중앙값: 5.0\n",
      "행별 중앙값: [2. 5. 8.]\n",
      "열별 중앙값: [4. 5. 6.]\n",
      "25% 백분위수: 3.0\n",
      "50% 백분위수: 5.0\n",
      "75% 백분위수: 7.0\n",
      "가중 평균: 6.5\n"
     ]
    }
   ],
   "source": [
    "# 누적 합계 (cumulative sum)\n",
    "print(\"누적 합계:\", np.cumsum(arr))  # [ 1  3  6 10 15 21 28 36 45]\n",
    "print(\"행별 누적 합계:\")\n",
    "print(np.cumsum(arr, axis=1))\n",
    "# [[ 1  3  6]\n",
    "#  [ 4  9 15]\n",
    "#  [ 7 15 24]]\n",
    "\n",
    "# 누적 곱 (cumulative product)\n",
    "print(\"누적 곱:\", np.cumprod(arr))  # [1 2 6 24 120 720 5040 40320 362880]\n",
    "\n",
    "# 중앙값 (median)\n",
    "print(\"중앙값:\", np.median(arr))        # 5.0\n",
    "print(\"행별 중앙값:\", np.median(arr, axis=1))  # [2. 5. 8.]\n",
    "print(\"열별 중앙값:\", np.median(arr, axis=0))  # [4. 5. 6.]\n",
    "\n",
    "# 백분위수 (percentile)\n",
    "print(\"25% 백분위수:\", np.percentile(arr, 25))  # 3.0\n",
    "print(\"50% 백분위수:\", np.percentile(arr, 50))  # 5.0 (중앙값과 동일)\n",
    "print(\"75% 백분위수:\", np.percentile(arr, 75))  # 7.0\n",
    "\n",
    "# 가중 평균 (weighted average)\n",
    "weights = np.array([0.1, 0.3, 0.6])  # 가중치\n",
    "data = np.array([2, 5, 8])\n",
    "print(\"가중 평균:\", np.average(data, weights=weights))  # 6.5"
   ]
  },
  {
   "cell_type": "code",
   "execution_count": 45,
   "id": "73c0c0db",
   "metadata": {},
   "outputs": [
    {
     "name": "stdout",
     "output_type": "stream",
     "text": [
      "3개로 균등 분할:\n",
      "[array([0, 1, 2, 3]), array([4, 5, 6, 7]), array([ 8,  9, 10, 11])]\n",
      "위치 지정 분할 (인덱스 3, 8 기준):\n",
      "[array([0, 1, 2]), array([3, 4, 5, 6, 7]), array([ 8,  9, 10, 11])]\n",
      "2차원 배열:\n",
      "[[ 0  1  2  3]\n",
      " [ 4  5  6  7]\n",
      " [ 8  9 10 11]\n",
      " [12 13 14 15]]\n",
      "행 방향 분할:\n",
      "[array([[0, 1, 2, 3],\n",
      "       [4, 5, 6, 7]]), array([[ 8,  9, 10, 11],\n",
      "       [12, 13, 14, 15]])]\n",
      "[array([[0, 1, 2, 3],\n",
      "       [4, 5, 6, 7]]), array([[ 8,  9, 10, 11],\n",
      "       [12, 13, 14, 15]])]\n",
      "열 방향 분할:\n",
      "[array([[ 0,  1],\n",
      "       [ 4,  5],\n",
      "       [ 8,  9],\n",
      "       [12, 13]]), array([[ 2,  3],\n",
      "       [ 6,  7],\n",
      "       [10, 11],\n",
      "       [14, 15]])]\n",
      "[array([[ 0,  1],\n",
      "       [ 4,  5],\n",
      "       [ 8,  9],\n",
      "       [12, 13]]), array([[ 2,  3],\n",
      "       [ 6,  7],\n",
      "       [10, 11],\n",
      "       [14, 15]])]\n"
     ]
    }
   ],
   "source": [
    "# 샘플 배열\n",
    "arr = np.arange(12)  # [ 0  1  2  3  4  5  6  7  8  9 10 11]\n",
    "\n",
    "# 균등 분할\n",
    "print(\"3개로 균등 분할:\")\n",
    "print(np.split(arr, 3))  # [array([0, 1, 2, 3]), array([4, 5, 6, 7]), array([ 8,  9, 10, 11])]\n",
    "\n",
    "# 위치 지정 분할\n",
    "print(\"위치 지정 분할 (인덱스 3, 8 기준):\")\n",
    "print(np.split(arr, [3, 8]))  # [array([0, 1, 2]), array([3, 4, 5, 6, 7]), array([ 8,  9, 10, 11])]\n",
    "\n",
    "# 2차원 배열 분할\n",
    "arr_2d = np.arange(16).reshape(4, 4)\n",
    "print(\"2차원 배열:\")\n",
    "print(arr_2d)\n",
    "\n",
    "# 행 방향 분할\n",
    "print(\"행 방향 분할:\")\n",
    "print(np.split(arr_2d, 2, axis=0))  # 2개 배열로 (각 2x4)\n",
    "print(np.vsplit(arr_2d, 2))  # 동일한 결과\n",
    "\n",
    "# 열 방향 분할\n",
    "print(\"열 방향 분할:\")\n",
    "print(np.split(arr_2d, 2, axis=1))  # 2개 배열로 (각 4x2)\n",
    "print(np.hsplit(arr_2d, 2))  # 동일한 결과"
   ]
  },
  {
   "cell_type": "code",
   "execution_count": null,
   "id": "c4d51a30",
   "metadata": {},
   "outputs": [
    {
     "name": "stdout",
     "output_type": "stream",
     "text": [
      "[1 2 3 4 5 6]\n",
      "[[1 2]\n",
      " [3 4]\n",
      " [5 6]\n",
      " [7 8]]\n",
      "[[1 2]\n",
      " [3 4]\n",
      " [5 6]\n",
      " [7 8]]\n",
      "[[1 2 5 6]\n",
      " [3 4 7 8]]\n",
      "[[1 2 5 6]\n",
      " [3 4 7 8]]\n",
      "[[[1 5]\n",
      "  [2 6]]\n",
      "\n",
      " [[3 7]\n",
      "  [4 8]]]\n"
     ]
    }
   ],
   "source": [
    "# 1차원 배열 결합\n",
    "arr1 = np.array([1, 2, 3])\n",
    "arr2 = np.array([4, 5, 6])\n",
    "result = np.concat((arr1, arr2))  # np.concatenate도 같음.\n",
    "print(result)\n",
    "\n",
    "# 2차원 배열 결합\n",
    "arr2d1 = np.array([[1, 2], [3, 4]])\n",
    "arr2d2 = np.array([[5, 6], [7, 8]])\n",
    "\n",
    "# concat, axis=0 == vstack\n",
    "result2 = np.concat((arr2d1, arr2d2), axis=0)\n",
    "result22 = np.vstack((arr2d1, arr2d2))\n",
    "print(result2)\n",
    "print(result22)\n",
    "\n",
    "# concat, axis=1 == hstack\n",
    "result3 = np.concat((arr2d1, arr2d2), axis=1)\n",
    "result33 = np.hstack((arr2d1, arr2d2))\n",
    "print(result3)\n",
    "print(result33)\n",
    "\n",
    "# matrix 두 개를 겹친다 -> Tensor\n",
    "result4 = np.dstack((arr2d1, arr2d2))\n",
    "print(result4)"
   ]
  },
  {
   "cell_type": "code",
   "execution_count": 47,
   "id": "bbccf855",
   "metadata": {},
   "outputs": [
    {
     "name": "stdout",
     "output_type": "stream",
     "text": [
      "[1 2 3 4]\n",
      "[[1 2 3 4]]\n",
      "[[1 2 3 4]]\n",
      "[[1]\n",
      " [2]\n",
      " [3]\n",
      " [4]]\n",
      "[[1]\n",
      " [2]\n",
      " [3]\n",
      " [4]]\n"
     ]
    }
   ],
   "source": [
    "# 벡터를 차원 확장 (행이냐 열이냐)\n",
    "arr = np.array([1, 2, 3, 4])\n",
    "print(arr)\n",
    "\n",
    "# row vector -> [[1 2 3 4]]\n",
    "row_vector = np.expand_dims(arr, axis=0)\n",
    "print(row_vector)\n",
    "row_vector2 = arr[np.newaxis, :]\n",
    "print(row_vector2)\n",
    "\n",
    "# col vector -> [[1] [2] [3] [4]]\n",
    "col_vector = np.expand_dims(arr, axis=1)\n",
    "print(col_vector)\n",
    "col_vector2 = arr[:, np.newaxis]\n",
    "print(col_vector2)"
   ]
  },
  {
   "cell_type": "code",
   "execution_count": 48,
   "id": "a55ec9f0",
   "metadata": {},
   "outputs": [
    {
     "name": "stdout",
     "output_type": "stream",
     "text": [
      "[[[1]\n",
      "  [2]\n",
      "  [3]]] (1, 3, 1)\n",
      "[1 2 3]\n",
      "[[[1 2 3]]] (1, 1, 3)\n",
      "[[1 2 3]]\n"
     ]
    }
   ],
   "source": [
    "# 차원 축소\n",
    "arr = np.array([[[1], [2], [3]]])\n",
    "print(arr, arr.shape)\n",
    "\n",
    "# 모든 단일 차원(shape에서 1 나온 것들) 제거\n",
    "print(np.squeeze(arr))\n",
    "\n",
    "# 특정 축만 제거\n",
    "arr2 = np.array([[[1, 2, 3]]])\n",
    "print(arr2, arr2.shape)\n",
    "\n",
    "print(np.squeeze(arr2, axis=1))  # shape이 1 3 (1 1 3 에서 가운데 1만 지운 거)"
   ]
  },
  {
   "cell_type": "code",
   "execution_count": 49,
   "id": "e0e66c58",
   "metadata": {},
   "outputs": [
    {
     "name": "stdout",
     "output_type": "stream",
     "text": [
      "학급별 점수:\n",
      "[[ 75  93  83  59  85  63  80  97  64  57]\n",
      " [ 63  72  89  70  65  94  67  96  73  75]\n",
      " [ 74  94  90  78  64  94  50  74  56  58]\n",
      " [ 73  50  93  57  73  60 100  66  57  84]\n",
      " [ 84  82  54  91  88  90  77  56  58  57]]\n",
      "전체 평균: 74.04 표준편차: 14.359610022559805\n",
      "학급별 최고점: [ 97  96  94 100  91] 학급별 최저점: [57 63 50 50 54]\n",
      "상위 25% 컷오프 점수: 87.25 하위 25% 컷오프 점수: 60.75\n",
      "학급별 평균: [75.6 76.4 73.2 71.3 73.7] 가장 높은 평균: 76.4 가장 낮은 평균: 71.3\n",
      "최고 평균 학급: 2\n",
      "최저 평균 학급: 4\n"
     ]
    }
   ],
   "source": [
    "# 학급별 시험 점수 (5개 학급, 각 10명의 학생)\n",
    "scores = np.random.randint(50, 101, size=(5, 10))  # 50~100 사이 점수\n",
    "print(\"학급별 점수:\")\n",
    "print(scores)\n",
    "\n",
    "# 문제1: 전체 평균과 표준편차\n",
    "print('전체 평균:', np.mean(scores), '표준편차:', np.std(scores))\n",
    "\n",
    "# 문제2: 학급별 최고점과 최저점\n",
    "print('학급별 최고점:', np.max(scores, axis=1), '학급별 최저점:', np.min(scores, axis=1))\n",
    "\n",
    "# 문제3: 전체 학생 중 상위 25%와 하위 25% 컷오프 점수\n",
    "print('상위 25% 컷오프 점수:', np.percentile(scores, 75), '하위 25% 컷오프 점수:', np.percentile(scores, 25))\n",
    "\n",
    "# 문제4: 학급별 평균이 가장 높은/낮은 학급 찾기\n",
    "print('학급별 평균:', np.mean(scores, axis=1), '가장 높은 평균:', np.max(np.mean(scores, axis=1)), '가장 낮은 평균:', np.min(np.mean(scores, axis=1)))\n",
    "print(\"최고 평균 학급:\", np.argmax(np.mean(scores, axis=1)) + 1)  # +1은 학급 번호 조정\n",
    "print(\"최저 평균 학급:\", np.argmin(np.mean(scores, axis=1)) + 1)  # +1은 학급 번호 조정"
   ]
  },
  {
   "cell_type": "markdown",
   "id": "5f39bda8",
   "metadata": {},
   "source": [
    "# 유틸리티 함수"
   ]
  },
  {
   "cell_type": "code",
   "execution_count": null,
   "id": "c5626f01",
   "metadata": {},
   "outputs": [
    {
     "name": "stdout",
     "output_type": "stream",
     "text": [
      "(array([0, 2, 4, 6, 8]),)\n",
      "['짝수' '홀수' '짝수' '홀수' '짝수' '홀수' '짝수' '홀수' '짝수' '홀수']\n",
      "[[8 4 0]\n",
      " [2 9 7]\n",
      " [5 7 8]]\n",
      "(array([0, 1, 1, 2, 2]), array([0, 1, 2, 1, 2]))\n",
      "[[16  4  0]\n",
      " [ 2 18 14]\n",
      " [ 5 14 16]]\n",
      "[8 9 7 7 8]\n"
     ]
    }
   ],
   "source": [
    "# where\n",
    "arr = np.arange(10)\n",
    "\n",
    "# 단순 필터링 (짝수)\n",
    "print(np.where(arr % 2 == 0))\n",
    "# 값을 바꾸기\n",
    "print(np.where(arr % 2 == 0, '짝수', '홀수'))\n",
    "\n",
    "# 0 ~ 10 랜덤으로 3 x 3 size로\n",
    "arr2d = np.random.randint(0, 10, (3, 3))\n",
    "print(arr2d)\n",
    "\n",
    "# 조건만 걸면, 좌표(인덱스)가 나옴\n",
    "print(np.where(arr2d > 5))\n",
    "# [0, 1, 1, 2, 2]\n",
    "# [0, 1, 2, 0, 1]\n",
    "# -> 좌표값\n",
    "\n",
    "# 5보다 큰 값들은 * 2, 아니면 그대로\n",
    "print(np.where(arr2d > 5, arr2d * 2, arr2d))\n",
    "\n",
    "# 그냥 조건에 맞는 값들만 보고 싶으면?\n",
    "print(arr2d[arr2d > 5])"
   ]
  },
  {
   "cell_type": "code",
   "execution_count": null,
   "id": "4dc4679d",
   "metadata": {},
   "outputs": [
    {
     "name": "stdout",
     "output_type": "stream",
     "text": [
      "1 3\n",
      "[[3 6 8]\n",
      " [9 6 8]\n",
      " [7 9 3]]\n",
      "[2 0 1]\n",
      "[0 0 2]\n"
     ]
    }
   ],
   "source": [
    "# argmax, argmin\n",
    "\n",
    "# 벡터에서 최대/최소 위치\n",
    "arr = np.array([3, 5, 1, 0, 4])\n",
    "\n",
    "max_idx = np.argmax(arr)\n",
    "min_idx = np.argmin(arr)\n",
    "\n",
    "print(max_idx, min_idx)\n",
    "\n",
    "# 매트릭스에서 최대/최소\n",
    "np.random.seed(23)\n",
    "arr2d = np.random.randint(0, 10, (3, 3))\n",
    "print(arr2d)\n",
    "\n",
    "# 각 행에서 최댓값의 idx\n",
    "row_max = np.argmax(arr2d, axis=1)\n",
    "print(row_max)\n",
    "# 각 열에서 최솟값의 idx\n",
    "col_min = np.argmin(arr2d, axis=0)\n",
    "print(col_min)"
   ]
  },
  {
   "cell_type": "code",
   "execution_count": 91,
   "id": "d7da7959",
   "metadata": {},
   "outputs": [
    {
     "name": "stdout",
     "output_type": "stream",
     "text": [
      "[1 2 3 4 5 6]\n",
      "valeus: [1 2 3 4 5 6]\n",
      "count: [2 2 3 2 2 1]\n",
      "{np.int64(1): np.int64(2), np.int64(2): np.int64(2), np.int64(3): np.int64(3), np.int64(4): np.int64(2), np.int64(5): np.int64(2), np.int64(6): np.int64(1)}\n",
      "가장 많이 나온 숫자: 3\n"
     ]
    }
   ],
   "source": [
    "# unique 고유값 찾기\n",
    "arr = np.array([1, 2, 3, 2, 3, 4, 3, 1, 5, 5, 6, 4])\n",
    "\n",
    "# 값들만\n",
    "unique_values = np.unique(arr)\n",
    "print(unique_values)\n",
    "\n",
    "# 값들, 개수\n",
    "values, count = np.unique(arr, return_counts=True)\n",
    "print('valeus:', values)\n",
    "print('count:', count)\n",
    "\n",
    "# 값들, 개수 -> dict\n",
    "freq_dict = dict(zip(values, count))\n",
    "print(freq_dict)\n",
    "\n",
    "# 가장 많이 등장하는 숫자 찾기\n",
    "idx = np.argmax(count)\n",
    "print('가장 많이 나온 숫자:', values[idx])"
   ]
  },
  {
   "cell_type": "code",
   "execution_count": 100,
   "id": "377c60f8",
   "metadata": {},
   "outputs": [
    {
     "name": "stdout",
     "output_type": "stream",
     "text": [
      "[3 5 1 0 4 2 7]\n",
      "[0 1 2 3 4 5 7]\n",
      "[7 5 4 3 2 1 0]\n",
      "[3 2 5 0 4 1 6]\n",
      "[0 1 2 3 4 5 7]\n"
     ]
    }
   ],
   "source": [
    "# sort, argsort\n",
    "arr = np.array([3, 5, 1, 0, 4, 2, 7])\n",
    "print(arr)\n",
    "\n",
    "# 오름차순 정렬 ASC\n",
    "print(np.sort(arr))\n",
    "\n",
    "# 내림차순 정렬 DESC\n",
    "print(np.sort(arr)[::-1])\n",
    "\n",
    "# 정렬하기 위한 인덱스 배치\n",
    "idx = np.argsort(arr)\n",
    "print(idx)\n",
    "\n",
    "print(arr[idx])"
   ]
  },
  {
   "cell_type": "code",
   "execution_count": 106,
   "id": "e2bfd30b",
   "metadata": {},
   "outputs": [
    {
     "name": "stdout",
     "output_type": "stream",
     "text": [
      "[[5 8 9 5]\n",
      " [0 0 1 7]\n",
      " [6 9 2 4]]\n",
      "[[5 5 8 9]\n",
      " [0 0 1 7]\n",
      " [2 4 6 9]]\n",
      "[[6 9 9 7]\n",
      " [5 8 2 5]\n",
      " [0 0 1 4]]\n"
     ]
    }
   ],
   "source": [
    "# Matrix 정렬\n",
    "np.random.seed(1)\n",
    "arr2d = np.random.randint(0, 10, (3, 4))\n",
    "print(arr2d)\n",
    "\n",
    "# 행별 ASC 정렬\n",
    "row_sorted = np.sort(arr2d, axis=1)\n",
    "print(row_sorted)\n",
    "\n",
    "# 열별 DESC 정렬\n",
    "col_sorted = np.sort(arr2d, axis=0)[::-1]\n",
    "print(col_sorted)"
   ]
  },
  {
   "cell_type": "markdown",
   "id": "313c7f9f",
   "metadata": {},
   "source": [
    "### 실습"
   ]
  },
  {
   "cell_type": "code",
   "execution_count": 121,
   "id": "8e0b3a1c",
   "metadata": {},
   "outputs": [
    {
     "name": "stdout",
     "output_type": "stream",
     "text": [
      "[[85 90 75 95 70 80 65 75 90 85]\n",
      " [90 85 80 95 70 75 65 80 85 90]\n",
      " [80 85 90 80 75 90 70 75 85 95]]\n"
     ]
    }
   ],
   "source": [
    "# 가상의 학생 시험 점수 데이터\n",
    "math_scores = np.array([85, 90, 75, 95, 70, 80, 65, 75, 90, 85])\n",
    "science_scores = np.array([90, 85, 80, 95, 70, 75, 65, 80, 85, 90])\n",
    "english_scores = np.array([80, 85, 90, 80, 75, 90, 70, 75, 85, 95])\n",
    "\n",
    "subjects = ['수학', '과학', '영어']\n",
    "scores = np.vstack((math_scores, science_scores, english_scores))\n",
    "print(scores)"
   ]
  },
  {
   "cell_type": "code",
   "execution_count": null,
   "id": "d7b3cb27",
   "metadata": {},
   "outputs": [
    {
     "name": "stdout",
     "output_type": "stream",
     "text": [
      "과목별 평균: [81.  81.5 82.5]\n",
      "과목별 중앙값: [82.5 82.5 82.5]\n",
      "수학 표준편차: 9.17\n",
      "과학 표준편차: 8.96\n",
      "영어 표준편차: 7.5\n",
      "과목별 표준편차: [9.16515139 8.95823643 7.5       ]\n",
      "과목별 최소 점수: [65 65 70]\n",
      "과목별 최대 점수: [95 95 95]\n"
     ]
    }
   ],
   "source": [
    "# 기본 통계 (과목별 평균, 중앙값, 표준편차, 최소, 최대)\n",
    "\n",
    "# 평균\n",
    "subjects_average = np.mean(scores, axis=1)\n",
    "print('과목별 평균:', subjects_average)\n",
    "\n",
    "# 중앙값\n",
    "subjects_median = np.median(scores, axis=1)\n",
    "print('과목별 중앙값:', subjects_median)\n",
    "\n",
    "# 표준편차\n",
    "subjects_std = np.std(scores, axis=1)\n",
    "print('과목별 표준편차:', subjects_std)\n",
    "\n",
    "# 최소\n",
    "min_idx = np.argmin(scores, axis=1)\n",
    "scores_row = np.arange(scores.shape[0])\n",
    "scores_min = scores[scores_row, min_idx]\n",
    "print('과목별 최소 점수:', scores_min)\n",
    "\n",
    "# 최대\n",
    "max_idx = np.argmax(scores, axis=1)\n",
    "scores_row = np.arange(scores.shape[0])\n",
    "scores_max = scores[scores_row, max_idx]\n",
    "print('과목별 최대 점수:', scores_max)"
   ]
  },
  {
   "cell_type": "code",
   "execution_count": 165,
   "id": "e493de28",
   "metadata": {},
   "outputs": [
    {
     "name": "stdout",
     "output_type": "stream",
     "text": [
      "수학 평균: 81.0, 중앙값: 82.5, 표준편차: 9.17, 최소: 65, 최대: 95\n",
      "과학 평균: 81.5, 중앙값: 82.5, 표준편차: 8.96, 최소: 65, 최대: 95\n",
      "영어 평균: 82.5, 중앙값: 82.5, 표준편차: 7.50, 최소: 70, 최대: 95\n"
     ]
    }
   ],
   "source": [
    "# 기본 통계 (과목별 평균, 중앙값, 표준편차, 최소, 최대)\n",
    "for idx, subject in enumerate(scores):\n",
    "    # 평균 mean\n",
    "    mean_score = np.mean(scores[idx])  # == np.mean(subject)\n",
    "    # 중앙값 median\n",
    "    median_score = np.median(subject)\n",
    "    # 표준편차 standard dev (std)\n",
    "    std_dev = np.std(subject)\n",
    "    # 최소 min\n",
    "    min_score = np.min(subject)\n",
    "    # 최대 max\n",
    "    max_score = np.max(subject)\n",
    "\n",
    "    print(f'{subjects[idx]} 평균: {mean_score}, 중앙값: {median_score}, 표준편차: {std_dev:.2f}, 최소: {min_score}, 최대: {max_score}')"
   ]
  },
  {
   "cell_type": "code",
   "execution_count": 180,
   "id": "059d9417",
   "metadata": {},
   "outputs": [
    {
     "name": "stdout",
     "output_type": "stream",
     "text": [
      "학생별 총점: [255 260 245 270 215 245 200 230 260 270]\n",
      "학생번호 | 수학 | 과학 | 영어 | 총점\n",
      "  10    | 85  |  90  | 95  | 270\n",
      "   4    | 95  |  95  | 80  | 270\n",
      "   9    | 90  |  85  | 85  | 260\n"
     ]
    }
   ],
   "source": [
    "# 총점 기준 상위 3명 학생 표시 \n",
    "# | 학생번호(idx) | 수학 | 과학 | 영어 | 총점 |\n",
    "\n",
    "# 과목 총점 배열\n",
    "total_scores = np.sum(scores, axis=0)\n",
    "print('학생별 총점:', total_scores)\n",
    "\n",
    "# 총점 desc 정렬 후 3명 잘라서 idx만 내놔\n",
    "top_students = np.argsort(total_scores)[::-1][:3]\n",
    "\n",
    "print('학생번호 | 수학 | 과학 | 영어 | 총점')\n",
    "for idx in top_students:\n",
    "    print(\n",
    "        f'{idx+1:^7} | {math_scores[idx]:^3} | {science_scores[idx]:^4} |',\n",
    "        f'{english_scores[idx]:^3} | {total_scores[idx]}'\n",
    "    )"
   ]
  },
  {
   "cell_type": "code",
   "execution_count": null,
   "id": "4a10903a",
   "metadata": {},
   "outputs": [],
   "source": [
    "# 과목별 상관관계\n",
    "\n",
    "correlation = np.correcoef(scores)\n",
    "print('과목 간 상관관계:')\n"
   ]
  }
 ],
 "metadata": {
  "kernelspec": {
   "display_name": "Python 3",
   "language": "python",
   "name": "python3"
  },
  "language_info": {
   "codemirror_mode": {
    "name": "ipython",
    "version": 3
   },
   "file_extension": ".py",
   "mimetype": "text/x-python",
   "name": "python",
   "nbconvert_exporter": "python",
   "pygments_lexer": "ipython3",
   "version": "3.13.2"
  }
 },
 "nbformat": 4,
 "nbformat_minor": 5
}
