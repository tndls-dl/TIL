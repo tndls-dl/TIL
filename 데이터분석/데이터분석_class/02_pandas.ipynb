{
 "cells": [
  {
   "cell_type": "markdown",
   "id": "4165a7e0",
   "metadata": {},
   "source": [
    "# `Pandas 🐼`\n",
    "\n",
    "## 특징\n",
    "- 표(테이블) 데이터를 다루는 데 특화\n",
    "- 다양한 외부 소스에서 데이터 가져오기 (csv, excel, SQL db)\n",
    "- 데이터 정제, 변환, 분석에 필요한 기능 다수\n",
    "- 결측치, 그룹화, 병합 작업에 효율"
   ]
  },
  {
   "cell_type": "code",
   "execution_count": 2,
   "id": "3045d674",
   "metadata": {},
   "outputs": [
    {
     "name": "stdout",
     "output_type": "stream",
     "text": [
      "Requirement already satisfied: pandas in c:\\users\\sec\\appdata\\local\\programs\\python\\python313\\lib\\site-packages (2.3.1)\n",
      "Requirement already satisfied: numpy>=1.26.0 in c:\\users\\sec\\appdata\\local\\programs\\python\\python313\\lib\\site-packages (from pandas) (2.3.2)\n",
      "Requirement already satisfied: python-dateutil>=2.8.2 in c:\\users\\sec\\appdata\\local\\programs\\python\\python313\\lib\\site-packages (from pandas) (2.9.0.post0)\n",
      "Requirement already satisfied: pytz>=2020.1 in c:\\users\\sec\\appdata\\local\\programs\\python\\python313\\lib\\site-packages (from pandas) (2025.2)\n",
      "Requirement already satisfied: tzdata>=2022.7 in c:\\users\\sec\\appdata\\local\\programs\\python\\python313\\lib\\site-packages (from pandas) (2025.2)\n",
      "Requirement already satisfied: six>=1.5 in c:\\users\\sec\\appdata\\local\\programs\\python\\python313\\lib\\site-packages (from python-dateutil>=2.8.2->pandas) (1.17.0)\n",
      "Note: you may need to restart the kernel to use updated packages.\n"
     ]
    },
    {
     "name": "stderr",
     "output_type": "stream",
     "text": [
      "\n",
      "[notice] A new release of pip is available: 24.3.1 -> 25.1.1\n",
      "[notice] To update, run: python.exe -m pip install --upgrade pip\n"
     ]
    }
   ],
   "source": [
    "%pip install pandas"
   ]
  },
  {
   "cell_type": "code",
   "execution_count": 3,
   "id": "42c9ba4a",
   "metadata": {},
   "outputs": [
    {
     "name": "stdout",
     "output_type": "stream",
     "text": [
      "[[1 2 3]\n",
      " [4 5 6]\n",
      " [7 8 9]]\n",
      "   A  B  C\n",
      "0  1  2  3\n",
      "1  4  5  6\n",
      "2  7  8  9\n"
     ]
    }
   ],
   "source": [
    "import numpy as np\n",
    "import pandas as pd\n",
    "\n",
    "# Numpy 배열\n",
    "np_array = np.arange(1, 10).reshape(3, 3)\n",
    "print(np_array)\n",
    "\n",
    "# Pandas 데이터프레임\n",
    "df = pd.DataFrame(np_array, columns=['A', 'B', 'C'])\n",
    "print(df)\n"
   ]
  },
  {
   "cell_type": "markdown",
   "id": "f83d0b06",
   "metadata": {},
   "source": [
    "## Series\n",
    "- 1차원 배열 (벡터) with 레이블"
   ]
  },
  {
   "cell_type": "code",
   "execution_count": 4,
   "id": "40fce0bc",
   "metadata": {},
   "outputs": [
    {
     "name": "stdout",
     "output_type": "stream",
     "text": [
      "0    1\n",
      "1    3\n",
      "2    5\n",
      "3    7\n",
      "4    9\n",
      "dtype: int64\n",
      "a    1\n",
      "b    3\n",
      "c    5\n",
      "d    7\n",
      "e    9\n",
      "dtype: int64\n",
      "a    1\n",
      "b    2\n",
      "c    3\n",
      "dtype: int64\n",
      "a    5\n",
      "b    5\n",
      "c    5\n",
      "dtype: int64\n"
     ]
    }
   ],
   "source": [
    "import pandas as pd\n",
    "\n",
    "# 기본 Series 생성 (별말 없으면 숫자 index)\n",
    "s1 = pd.Series([1, 3, 5, 7, 9])\n",
    "print(s1)\n",
    "\n",
    "# 인덱스 지정\n",
    "s2 = pd.Series([1, 3, 5, 7, 9], index=['a', 'b', 'c', 'd', 'e'])\n",
    "print(s2)\n",
    "\n",
    "# dict로 생성\n",
    "d = {'a': 1, 'b': 2, 'c': 3}\n",
    "s3 = pd.Series(d)\n",
    "print(s3)\n",
    "\n",
    "# 단일값(스칼라)으로 Series 생성\n",
    "s4 = pd.Series(5, index=['a', 'b', 'c'])\n",
    "print(s4)"
   ]
  },
  {
   "cell_type": "code",
   "execution_count": 5,
   "id": "8d0c557c",
   "metadata": {},
   "outputs": [
    {
     "name": "stdout",
     "output_type": "stream",
     "text": [
      "a    1\n",
      "b    3\n",
      "c    5\n",
      "d    7\n",
      "e    9\n",
      "dtype: int64\n",
      "[1 3 5 7 9]\n",
      "Index(['a', 'b', 'c', 'd', 'e'], dtype='object')\n",
      "int64\n",
      "1\n",
      "5\n",
      "(5,)\n",
      "a    1\n",
      "b    3\n",
      "dtype: int64\n",
      "c    5\n",
      "d    7\n",
      "e    9\n",
      "dtype: int64\n",
      "count    5.000000\n",
      "mean     5.000000\n",
      "std      3.162278\n",
      "min      1.000000\n",
      "25%      3.000000\n",
      "50%      5.000000\n",
      "75%      7.000000\n",
      "max      9.000000\n",
      "dtype: float64\n"
     ]
    }
   ],
   "source": [
    "print(s2)\n",
    "# 값\n",
    "print(s2.values)\n",
    "# 인덱스\n",
    "print(s2.index)\n",
    "# 데이터타입\n",
    "print(s2.dtype)\n",
    "# 차원\n",
    "print(s2.ndim)\n",
    "# 크기\n",
    "print(s2.size)\n",
    "# 모양\n",
    "print(s2.shape)\n",
    "\n",
    "# 앞에 2개\n",
    "print(s2.head(2))\n",
    "# 뒤에 3개\n",
    "print(s2.tail(3))\n",
    "# 통계 요약\n",
    "print(s2.describe())"
   ]
  },
  {
   "cell_type": "markdown",
   "id": "e43b3327",
   "metadata": {},
   "source": [
    "## Dataframe\n",
    "- 2차원(매트릭스) with Label.\n",
    "- 행(row)과 열(col) 모두에 Label 설정."
   ]
  },
  {
   "cell_type": "code",
   "execution_count": 6,
   "id": "23a9d272",
   "metadata": {},
   "outputs": [
    {
     "name": "stdout",
     "output_type": "stream",
     "text": [
      "딕셔너리로부터 DataFrame 생성:\n",
      "    이름  나이 성별  점수\n",
      "0  김철수  25  남  85\n",
      "1  이영희  28  여  92\n",
      "2  박민수  22  남  78\n",
      "3  정지영  30  여  90\n",
      "\n",
      "리스트로부터 DataFrame 생성:\n",
      "    이름  나이 성별  점수\n",
      "0  김철수  25  남  85\n",
      "1  이영희  28  여  92\n",
      "2  박민수  22  남  78\n",
      "3  정지영  30  여  90\n"
     ]
    }
   ],
   "source": [
    "# 딕셔너리로부터 DataFrame 생성\n",
    "data = {\n",
    "    '이름': ['김철수', '이영희', '박민수', '정지영'],\n",
    "    '나이': [25, 28, 22, 30],\n",
    "    '성별': ['남', '여', '남', '여'],\n",
    "    '점수': [85, 92, 78, 90]\n",
    "}\n",
    "df1 = pd.DataFrame(data)\n",
    "print(\"딕셔너리로부터 DataFrame 생성:\")\n",
    "print(df1)\n",
    "\n",
    "# 리스트의 리스트로부터 DataFrame 생성\n",
    "data_list = [\n",
    "    ['김철수', 25, '남', 85],\n",
    "    ['이영희', 28, '여', 92],\n",
    "    ['박민수', 22, '남', 78],\n",
    "    ['정지영', 30, '여', 90]\n",
    "]\n",
    "df2 = pd.DataFrame(data_list, columns=['이름', '나이', '성별', '점수'])\n",
    "print(\"\\n리스트로부터 DataFrame 생성:\")\n",
    "print(df2)"
   ]
  },
  {
   "cell_type": "code",
   "execution_count": 7,
   "id": "aa96d21d",
   "metadata": {},
   "outputs": [
    {
     "name": "stdout",
     "output_type": "stream",
     "text": [
      "Index(['이름', '나이', '성별', '점수'], dtype='object')\n",
      "RangeIndex(start=0, stop=4, step=1)\n",
      "[['김철수' 25 '남' 85]\n",
      " ['이영희' 28 '여' 92]\n",
      " ['박민수' 22 '남' 78]\n",
      " ['정지영' 30 '여' 90]]\n",
      "이름    object\n",
      "나이     int64\n",
      "성별    object\n",
      "점수     int64\n",
      "dtype: object\n",
      "16\n",
      "(4, 4)\n"
     ]
    }
   ],
   "source": [
    "# Column 정보\n",
    "print(df1.columns)\n",
    "# 인덱스 (Row 정보)\n",
    "print(df1.index)\n",
    "# 값\n",
    "print(df1.values)\n",
    "# 데이터 타입\n",
    "print(df1.dtypes)\n",
    "# 크기\n",
    "print(df1.size)\n",
    "# 모양\n",
    "print(df1.shape)"
   ]
  },
  {
   "cell_type": "code",
   "execution_count": 8,
   "id": "e33a8d3d",
   "metadata": {},
   "outputs": [
    {
     "name": "stdout",
     "output_type": "stream",
     "text": [
      "    이름  나이 성별  점수\n",
      "0  김철수  25  남  85\n",
      "1  이영희  28  여  92\n",
      "    이름  나이 성별  점수\n",
      "2  박민수  22  남  78\n",
      "3  정지영  30  여  90\n",
      "          나이         점수\n",
      "count   4.00   4.000000\n",
      "mean   26.25  86.250000\n",
      "std     3.50   6.238322\n",
      "min    22.00  78.000000\n",
      "25%    24.25  83.250000\n",
      "50%    26.50  87.500000\n",
      "75%    28.50  90.500000\n",
      "max    30.00  92.000000\n",
      "<bound method NDFrame.describe of 0    85\n",
      "1    92\n",
      "2    78\n",
      "3    90\n",
      "Name: 점수, dtype: int64>\n"
     ]
    }
   ],
   "source": [
    "print(df1.head(2))\n",
    "\n",
    "print(df1.tail(2))\n",
    "\n",
    "print(df1.describe())\n",
    "\n",
    "print(df1['점수'].describe)"
   ]
  },
  {
   "cell_type": "code",
   "execution_count": 9,
   "id": "38aa43f9",
   "metadata": {},
   "outputs": [
    {
     "name": "stdout",
     "output_type": "stream",
     "text": [
      "   index   이름  나이 성별  점수\n",
      "0      0  김철수  25  남  85\n",
      "1      1  이영희  28  여  92\n",
      "2      2  박민수  22  남  78\n",
      "3      3  정지영  30  여  90\n",
      "     나이 성별  점수\n",
      "이름            \n",
      "김철수  25  남  85\n",
      "이영희  28  여  92\n",
      "박민수  22  남  78\n",
      "정지영  30  여  90\n",
      "        나이  점수\n",
      "성별 이름         \n",
      "남  김철수  25  85\n",
      "여  이영희  28  92\n",
      "남  박민수  22  78\n",
      "여  정지영  30  90\n",
      "     나이 성별  점수\n",
      "학생명           \n",
      "김철수  25  남  85\n",
      "이영희  28  여  92\n",
      "박민수  22  남  78\n",
      "정지영  30  여  90\n"
     ]
    }
   ],
   "source": [
    "# Index(데이터 레코드 별 PK)는 Pandas의 핵심 기능\n",
    "\n",
    "# 인덱스 재설정 (0 ~ N으로 인덱스 설정)\n",
    "df_reset = df1.reset_index()\n",
    "print(df_reset)\n",
    "\n",
    "# 인덱스 설정\n",
    "df_set = df1.set_index('이름')\n",
    "print(df_set)\n",
    "\n",
    "# 다중 인덱스 설정\n",
    "df_multi = df1.set_index(['성별', '이름'])\n",
    "print(df_multi)\n",
    "\n",
    "# 인덱스 이름 변경\n",
    "df_renamed = df_set.rename_axis('학생명')\n",
    "print(df_renamed)"
   ]
  },
  {
   "cell_type": "markdown",
   "id": "dad3513b",
   "metadata": {},
   "source": [
    "## 데이터 접근 및 선택\n",
    "### 열 선택과 인덱스 접근"
   ]
  },
  {
   "cell_type": "code",
   "execution_count": null,
   "id": "8808ff4e",
   "metadata": {},
   "outputs": [
    {
     "name": "stdout",
     "output_type": "stream",
     "text": [
      "0    김철수\n",
      "1    이영희\n",
      "2    박민수\n",
      "3    정지영\n",
      "Name: 이름, dtype: object\n",
      "    이름  점수\n",
      "0  김철수  85\n",
      "1  이영희  92\n",
      "2  박민수  78\n",
      "3  정지영  90\n"
     ]
    },
    {
     "data": {
      "text/plain": [
       "0    25\n",
       "1    28\n",
       "2    22\n",
       "3    30\n",
       "Name: 나이, dtype: int64"
      ]
     },
     "execution_count": 15,
     "metadata": {},
     "output_type": "execute_result"
    }
   ],
   "source": [
    "# DF에서 단일 열(col) 선택\n",
    "\n",
    "name_col = df1['이름']\n",
    "print(name_col)  #Series가 나온다.\n",
    "\n",
    "# 다중 열 선택\n",
    "subset = df1[['이름', '점수']]\n",
    "print(subset)  # Dataframe이 나온다.\n",
    "\n",
    "# key 접근이 아니라 속성(주어.속성) 방식 접근 - 공백/특수문자 없을 경우\n",
    "df1.나이"
   ]
  }
 ],
 "metadata": {
  "kernelspec": {
   "display_name": "Python 3",
   "language": "python",
   "name": "python3"
  },
  "language_info": {
   "codemirror_mode": {
    "name": "ipython",
    "version": 3
   },
   "file_extension": ".py",
   "mimetype": "text/x-python",
   "name": "python",
   "nbconvert_exporter": "python",
   "pygments_lexer": "ipython3",
   "version": "3.13.2"
  }
 },
 "nbformat": 4,
 "nbformat_minor": 5
}
