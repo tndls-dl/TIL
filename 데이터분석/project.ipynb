{
 "cells": [
  {
   "cell_type": "markdown",
   "id": "a42a426c",
   "metadata": {},
   "source": [
    "# MOVIE DATA ANALYSIS 🎥🎬🎞️🍿"
   ]
  },
  {
   "cell_type": "code",
   "execution_count": null,
   "id": "703742cc",
   "metadata": {},
   "outputs": [],
   "source": [
    "import requests\n",
    "import time\n",
    "import os\n",
    "from dotenv import load_dotenv\n",
    "\n",
    "load_dotenv()\n",
    "\n",
    "api_key = os.getenv('MOVIE_API_KEY')\n",
    "all_movie_ids = []\n",
    "\n",
    "\n",
    "for year in range(2005, 2025):\n",
    "    page = 1\n",
    "    total_pages = 1\n",
    "    \n",
    "    while page <= total_pages:\n",
    "        url = f'https://api.themoviedb.org/3/discover/movie?api_key={api_key}&language=ko-KR&sort_by=popularity.desc&primary_release_year={year}&page={page}'\n",
    "        response = requests.get(url)\n",
    "        data = response.json()\n",
    "        \n",
    "        if 'results' not in data:\n",
    "            print(f\"오류 발생: {data}\")\n",
    "            break\n",
    "            \n",
    "        movies = data['results']\n",
    "        for movie in movies:\n",
    "            all_movie_ids.append(movie['id'])\n",
    "            \n",
    "        if 'total_pages' not in data or data['total_pages'] == 0:\n",
    "            break\n",
    "            \n",
    "        # total_pages가 500을 초과할 경우 500으로 제한\n",
    "        total_pages = min(data['total_pages'], 500)\n",
    "        page += 1\n",
    "        \n",
    "        time.sleep(0.5)\n",
    "\n",
    "print(f\"총 {len(all_movie_ids)}개의 영화 ID를 수집했습니다.\")"
   ]
  }
 ],
 "metadata": {
  "kernelspec": {
   "display_name": "Python 3",
   "language": "python",
   "name": "python3"
  },
  "language_info": {
   "codemirror_mode": {
    "name": "ipython",
    "version": 3
   },
   "file_extension": ".py",
   "mimetype": "text/x-python",
   "name": "python",
   "nbconvert_exporter": "python",
   "pygments_lexer": "ipython3",
   "version": "3.13.2"
  }
 },
 "nbformat": 4,
 "nbformat_minor": 5
}
