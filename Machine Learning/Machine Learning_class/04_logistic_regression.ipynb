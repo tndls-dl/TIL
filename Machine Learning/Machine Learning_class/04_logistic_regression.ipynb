{
 "cells": [
  {
   "cell_type": "markdown",
   "id": "180e9b65",
   "metadata": {},
   "source": [
    "`04_logistic_regression.ipynb`"
   ]
  },
  {
   "cell_type": "markdown",
   "id": "365876d1",
   "metadata": {},
   "source": [
    "# 로지스틱 회귀 (Logistic Regression) 🤔"
   ]
  }
 ],
 "metadata": {
  "language_info": {
   "name": "python"
  }
 },
 "nbformat": 4,
 "nbformat_minor": 5
}
