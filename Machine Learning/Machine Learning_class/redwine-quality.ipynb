{
 "cells": [
  {
   "cell_type": "markdown",
   "id": "cc822076",
   "metadata": {},
   "source": [
    "`redwine-quality.ipynb`\n",
    "# Red Wine Quality 🍇🍷"
   ]
  },
  {
   "cell_type": "code",
   "execution_count": 4,
   "id": "b90474ee",
   "metadata": {},
   "outputs": [],
   "source": [
    "import numpy as np\n",
    "import pandas as pd\n",
    "import matplotlib.pyplot as plt\n",
    "import seaborn as sns\n",
    "\n",
    "import warnings\n",
    "warnings.filterwarnings('ignore')\n",
    "\n",
    "df = pd.read_csv('./winequality-red.csv')"
   ]
  },
  {
   "cell_type": "code",
   "execution_count": null,
   "id": "2a52863c",
   "metadata": {},
   "outputs": [],
   "source": [
    "# 특성 살펴보기 (품질 분포, 히스토그램)"
   ]
  },
  {
   "cell_type": "code",
   "execution_count": null,
   "id": "ee90f3d9",
   "metadata": {},
   "outputs": [],
   "source": [
    "# 품질과의 상관관계 (히트맵) / 품질에 영향을 많이 주는 특성들을 시각화"
   ]
  },
  {
   "cell_type": "code",
   "execution_count": null,
   "id": "f3630f9b",
   "metadata": {},
   "outputs": [],
   "source": [
    "# 훈련 테스트 셋 나누기"
   ]
  },
  {
   "cell_type": "code",
   "execution_count": null,
   "id": "90fdc61c",
   "metadata": {},
   "outputs": [],
   "source": [
    "# KNN 회귀로 와인 품질 예측"
   ]
  },
  {
   "cell_type": "code",
   "execution_count": null,
   "id": "07002048",
   "metadata": {},
   "outputs": [],
   "source": [
    "# 선형회귀로 와인 품질 예측 (훈련셋 / 테스트셋의 점수를 높여보자)"
   ]
  },
  {
   "cell_type": "code",
   "execution_count": null,
   "id": "8f553dbf",
   "metadata": {},
   "outputs": [],
   "source": [
    "# Ridge, Lasso로 규제해가며 예측"
   ]
  }
 ],
 "metadata": {
  "kernelspec": {
   "display_name": "Python 3",
   "language": "python",
   "name": "python3"
  },
  "language_info": {
   "codemirror_mode": {
    "name": "ipython",
    "version": 3
   },
   "file_extension": ".py",
   "mimetype": "text/x-python",
   "name": "python",
   "nbconvert_exporter": "python",
   "pygments_lexer": "ipython3",
   "version": "3.13.2"
  }
 },
 "nbformat": 4,
 "nbformat_minor": 5
}
