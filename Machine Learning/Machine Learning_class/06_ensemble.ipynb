{
 "cells": [
  {
   "cell_type": "markdown",
   "id": "0818448e",
   "metadata": {},
   "source": [
    "`06_ensemble.ipynb`\n",
    "\n",
    "# Ensemble 🧩🌈🎨"
   ]
  },
  {
   "cell_type": "code",
   "execution_count": null,
   "id": "740b7bec",
   "metadata": {},
   "outputs": [],
   "source": []
  }
 ],
 "metadata": {
  "language_info": {
   "name": "python"
  }
 },
 "nbformat": 4,
 "nbformat_minor": 5
}
